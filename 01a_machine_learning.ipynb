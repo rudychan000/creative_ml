{
 "cells": [
  {
   "cell_type": "markdown",
   "metadata": {},
   "source": [
    "# Creative machine learning - Machine Learning\n",
    "\n",
    "### Author: Philippe Esling (esling@ircam.fr)\n",
    "\n",
    "In this course we will cover\n",
    "1. A [first definition](#definition) on the concept of machine learning\n",
    "2. An introduction to a simple problem of [linear regression](#regression)\n",
    "4. A detailed implementation of [simple linear regression](#linear)\n",
    "3. An explanation on [model capacity and overfitting](#capacity)\n",
    "4. Two [exercises](#exercises) to explore regression and classification\n",
    "4. An introduction to the [audio datasets](#audio) that we will use"
   ]
  },
  {
   "cell_type": "markdown",
   "metadata": {
    "editable": true,
    "slideshow": {
     "slide_type": ""
    },
    "tags": []
   },
   "source": [
    "<a id=\"definition\"></a>\n",
    "## Defining machine learning\n",
    "\n",
    "In all natural process, there exists complex relations between sets $\\mathcal{X} \\mapsto \\mathcal{Y}$. This can relate some objects with their names, or a cause to a consequence. In most cases, _we do not know the precise relations_ between these sets, all we have is _observations_ such as pairs $(x,y)$, composed of input data $x \\in \\mathcal{X}$, which have a corresponding expected output $y \\in \\mathcal{Y}$. The overarching goal of machine learning is to approximate such _unknown processes_ as a function $\\mathcal{F}_{\\theta}$, which _transforms_ input data $x$ into output data $y$.\n",
    "\n",
    "\n",
    "<center>\n",
    "<img src=\"images/01_machine_learning_basic.png\" align=\"center\"/>\n",
    "</center>\n",
    "\n",
    "Hence, machine learning aims to understand and model the relationship between some (usually complex and high-dimensional) inputs $\\mathbf{x}\\in\\mathcal{X}\\subset\\mathbb{R}^{\\mathcal{X}}$ and outputs $\\mathbf{y}\\in\\mathcal{Y}\\subset\\mathbb{R}^{\\mathcal{Y}}$, given by a set of data examples $\\mathcal{D}=\\left\\{(x_1,y_1),\\cdots,(x_N,y_N)\\right\\}$. This is achieved by defining a parametric model $f_{\\mathbf{\\theta}}\\in\\mathcal{F}$ inside a family of functions $\\mathcal{F}$, which depends on parameters $\\mathbf{\\theta} \\in \\mathbf{\\Theta}$ and that could approximate the underlying relationship. The _learning_ aspect refers to the adjustment of the parameters $\\mathbf{\\theta}$ in order to obtain the best approximation of the given task\n",
    "$$\n",
    "\\begin{equation}\n",
    "f_{\\mathbf{\\theta}}(\\mathbf{x}) = \\bar{\\mathbf{y}}\\approx \\mathbf{y}.\n",
    "\\end{equation}\n",
    "$$\n",
    "\n",
    "Hence, the major elements that we have to define in any machine learning problems are\n",
    "1. **Dataset** : $\\mathcal{D}=\\left\\{(x_1,y_1),\\cdots,(x_N,y_N)\\right\\}$. This dataset has to be representative of the relation $f:\\mathcal{X} \\mapsto \\mathcal{Y}$ that we are looking to model\n",
    "2. **Model** : Our parametric approximation $\\bar{\\mathbf{y}} = f_{\\mathbf{\\theta}}(\\mathbf{x})$, where the choice of family $f_{\\mathbf{\\theta}}\\in\\mathcal{F}$ is critical\n",
    "3. **Loss** : $\\mathcal{L}\\left( \\bar{\\mathbf{y}}, \\mathbf{y} \\mid f_{\\theta}, \\theta \\right)$ allows to measure the amount of errors made by our model\n",
    "4. **Optimization** : Method to find $\\theta^{*}\\in\\Theta$ so that our model minimizes the loss\n",
    "$$\\theta^{*}= \\underset{\\theta}{\\text{argmin }} \\mathcal{L}\\left( \\bar{\\mathbf{y}}, \\mathbf{y} \\mid f_{\\theta}, \\theta \\right)$$\n",
    "\n",
    "\n",
    "To observe this idea in simple setups, we are going to use the `numpy` library and also initialize the homemade course library `cml` and style for future plotting and exercise. We also set the random generator to a fixed point with `rng = np.random.RandomState(1)`, to ensure reproducibility"
   ]
  },
  {
   "cell_type": "code",
   "execution_count": 1,
   "metadata": {},
   "outputs": [
    {
     "name": "stdout",
     "output_type": "stream",
     "text": [
      "WARNING:tensorflow:From C:\\Users\\Yanru\\AppData\\Local\\Programs\\Python\\Python311\\Lib\\site-packages\\tf_keras\\src\\losses.py:2976: The name tf.losses.sparse_softmax_cross_entropy is deprecated. Please use tf.compat.v1.losses.sparse_softmax_cross_entropy instead.\n",
      "\n",
      "WARNING:tensorflow:From C:\\Users\\Yanru\\AppData\\Local\\Programs\\Python\\Python311\\Lib\\site-packages\\tensorflow_probability\\python\\internal\\backend\\numpy\\_utils.py:48: The name tf.logging.TaskLevelStatusMessage is deprecated. Please use tf.compat.v1.logging.TaskLevelStatusMessage instead.\n",
      "\n",
      "WARNING:tensorflow:From C:\\Users\\Yanru\\AppData\\Local\\Programs\\Python\\Python311\\Lib\\site-packages\\tensorflow_probability\\python\\internal\\backend\\numpy\\_utils.py:48: The name tf.control_flow_v2_enabled is deprecated. Please use tf.compat.v1.control_flow_v2_enabled instead.\n",
      "\n"
     ]
    },
    {
     "data": {
      "text/html": [
       "    <style>\n",
       "        .bk-notebook-logo {\n",
       "            display: block;\n",
       "            width: 20px;\n",
       "            height: 20px;\n",
       "            background-image: url(data:image/png;base64,iVBORw0KGgoAAAANSUhEUgAAABQAAAAUCAYAAACNiR0NAAAABHNCSVQICAgIfAhkiAAAAAlwSFlzAAALEgAACxIB0t1+/AAAABx0RVh0U29mdHdhcmUAQWRvYmUgRmlyZXdvcmtzIENTNui8sowAAAOkSURBVDiNjZRtaJVlGMd/1/08zzln5zjP1LWcU9N0NkN8m2CYjpgQYQXqSs0I84OLIC0hkEKoPtiH3gmKoiJDU7QpLgoLjLIQCpEsNJ1vqUOdO7ppbuec5+V+rj4ctwzd8IIbbi6u+8f1539dt3A78eXC7QizUF7gyV1fD1Yqg4JWz84yffhm0qkFqBogB9rM8tZdtwVsPUhWhGcFJngGeWrPzHm5oaMmkfEg1usvLFyc8jLRqDOMru7AyC8saQr7GG7f5fvDeH7Ej8CM66nIF+8yngt6HWaKh7k49Soy9nXurCi1o3qUbS3zWfrYeQDTB/Qj6kX6Ybhw4B+bOYoLKCC9H3Nu/leUTZ1JdRWkkn2ldcCamzrcf47KKXdAJllSlxAOkRgyHsGC/zRday5Qld9DyoM4/q/rUoy/CXh3jzOu3bHUVZeU+DEn8FInkPBFlu3+nW3Nw0mk6vCDiWg8CeJaxEwuHS3+z5RgY+YBR6V1Z1nxSOfoaPa4LASWxxdNp+VWTk7+4vzaou8v8PN+xo+KY2xsw6une2frhw05CTYOmQvsEhjhWjn0bmXPjpE1+kplmmkP3suftwTubK9Vq22qKmrBhpY4jvd5afdRA3wGjFAgcnTK2s4hY0/GPNIb0nErGMCRxWOOX64Z8RAC4oCXdklmEvcL8o0BfkNK4lUg9HTl+oPlQxdNo3Mg4Nv175e/1LDGzZen30MEjRUtmXSfiTVu1kK8W4txyV6BMKlbgk3lMwYCiusNy9fVfvvwMxv8Ynl6vxoByANLTWplvuj/nF9m2+PDtt1eiHPBr1oIfhCChQMBw6Aw0UulqTKZdfVvfG7VcfIqLG9bcldL/+pdWTLxLUy8Qq38heUIjh4XlzZxzQm19lLFlr8vdQ97rjZVOLf8nclzckbcD4wxXMidpX30sFd37Fv/GtwwhzhxGVAprjbg0gCAEeIgwCZyTV2Z1REEW8O4py0wsjeloKoMr6iCY6dP92H6Vw/oTyICIthibxjm/DfN9lVz8IqtqKYLUXfoKVMVQVVJOElGjrnnUt9T9wbgp8AyYKaGlqingHZU/uG2NTZSVqwHQTWkx9hxjkpWDaCg6Ckj5qebgBVbT3V3NNXMSiWSDdGV3hrtzla7J+duwPOToIg42ChPQOQjspnSlp1V+Gjdged7+8UN5CRAV7a5EdFNwCjEaBR27b3W890TE7g24NAP/mMDXRWrGoFPQI9ls/MWO2dWFAar/xcOIImbbpA3zgAAAABJRU5ErkJggg==);\n",
       "        }\n",
       "    </style>\n",
       "    <div>\n",
       "        <a href=\"https://bokeh.org\" target=\"_blank\" class=\"bk-notebook-logo\"></a>\n",
       "        <span id=\"fcf1b083-4d7c-4d2a-a7d8-875763c165db\">Loading BokehJS ...</span>\n",
       "    </div>\n"
      ]
     },
     "metadata": {},
     "output_type": "display_data"
    },
    {
     "data": {
      "application/javascript": [
       "'use strict';\n",
       "(function(root) {\n",
       "  function now() {\n",
       "    return new Date();\n",
       "  }\n",
       "\n",
       "  const force = true;\n",
       "\n",
       "  if (typeof root._bokeh_onload_callbacks === \"undefined\" || force === true) {\n",
       "    root._bokeh_onload_callbacks = [];\n",
       "    root._bokeh_is_loading = undefined;\n",
       "  }\n",
       "\n",
       "const JS_MIME_TYPE = 'application/javascript';\n",
       "  const HTML_MIME_TYPE = 'text/html';\n",
       "  const EXEC_MIME_TYPE = 'application/vnd.bokehjs_exec.v0+json';\n",
       "  const CLASS_NAME = 'output_bokeh rendered_html';\n",
       "\n",
       "  /**\n",
       "   * Render data to the DOM node\n",
       "   */\n",
       "  function render(props, node) {\n",
       "    const script = document.createElement(\"script\");\n",
       "    node.appendChild(script);\n",
       "  }\n",
       "\n",
       "  /**\n",
       "   * Handle when an output is cleared or removed\n",
       "   */\n",
       "  function handleClearOutput(event, handle) {\n",
       "    function drop(id) {\n",
       "      const view = Bokeh.index.get_by_id(id)\n",
       "      if (view != null) {\n",
       "        view.model.document.clear()\n",
       "        Bokeh.index.delete(view)\n",
       "      }\n",
       "    }\n",
       "\n",
       "    const cell = handle.cell;\n",
       "\n",
       "    const id = cell.output_area._bokeh_element_id;\n",
       "    const server_id = cell.output_area._bokeh_server_id;\n",
       "\n",
       "    // Clean up Bokeh references\n",
       "    if (id != null) {\n",
       "      drop(id)\n",
       "    }\n",
       "\n",
       "    if (server_id !== undefined) {\n",
       "      // Clean up Bokeh references\n",
       "      const cmd_clean = \"from bokeh.io.state import curstate; print(curstate().uuid_to_server['\" + server_id + \"'].get_sessions()[0].document.roots[0]._id)\";\n",
       "      cell.notebook.kernel.execute(cmd_clean, {\n",
       "        iopub: {\n",
       "          output: function(msg) {\n",
       "            const id = msg.content.text.trim()\n",
       "            drop(id)\n",
       "          }\n",
       "        }\n",
       "      });\n",
       "      // Destroy server and session\n",
       "      const cmd_destroy = \"import bokeh.io.notebook as ion; ion.destroy_server('\" + server_id + \"')\";\n",
       "      cell.notebook.kernel.execute(cmd_destroy);\n",
       "    }\n",
       "  }\n",
       "\n",
       "  /**\n",
       "   * Handle when a new output is added\n",
       "   */\n",
       "  function handleAddOutput(event, handle) {\n",
       "    const output_area = handle.output_area;\n",
       "    const output = handle.output;\n",
       "\n",
       "    // limit handleAddOutput to display_data with EXEC_MIME_TYPE content only\n",
       "    if ((output.output_type != \"display_data\") || (!Object.prototype.hasOwnProperty.call(output.data, EXEC_MIME_TYPE))) {\n",
       "      return\n",
       "    }\n",
       "\n",
       "    const toinsert = output_area.element.find(\".\" + CLASS_NAME.split(' ')[0]);\n",
       "\n",
       "    if (output.metadata[EXEC_MIME_TYPE][\"id\"] !== undefined) {\n",
       "      toinsert[toinsert.length - 1].firstChild.textContent = output.data[JS_MIME_TYPE];\n",
       "      // store reference to embed id on output_area\n",
       "      output_area._bokeh_element_id = output.metadata[EXEC_MIME_TYPE][\"id\"];\n",
       "    }\n",
       "    if (output.metadata[EXEC_MIME_TYPE][\"server_id\"] !== undefined) {\n",
       "      const bk_div = document.createElement(\"div\");\n",
       "      bk_div.innerHTML = output.data[HTML_MIME_TYPE];\n",
       "      const script_attrs = bk_div.children[0].attributes;\n",
       "      for (let i = 0; i < script_attrs.length; i++) {\n",
       "        toinsert[toinsert.length - 1].firstChild.setAttribute(script_attrs[i].name, script_attrs[i].value);\n",
       "        toinsert[toinsert.length - 1].firstChild.textContent = bk_div.children[0].textContent\n",
       "      }\n",
       "      // store reference to server id on output_area\n",
       "      output_area._bokeh_server_id = output.metadata[EXEC_MIME_TYPE][\"server_id\"];\n",
       "    }\n",
       "  }\n",
       "\n",
       "  function register_renderer(events, OutputArea) {\n",
       "\n",
       "    function append_mime(data, metadata, element) {\n",
       "      // create a DOM node to render to\n",
       "      const toinsert = this.create_output_subarea(\n",
       "        metadata,\n",
       "        CLASS_NAME,\n",
       "        EXEC_MIME_TYPE\n",
       "      );\n",
       "      this.keyboard_manager.register_events(toinsert);\n",
       "      // Render to node\n",
       "      const props = {data: data, metadata: metadata[EXEC_MIME_TYPE]};\n",
       "      render(props, toinsert[toinsert.length - 1]);\n",
       "      element.append(toinsert);\n",
       "      return toinsert\n",
       "    }\n",
       "\n",
       "    /* Handle when an output is cleared or removed */\n",
       "    events.on('clear_output.CodeCell', handleClearOutput);\n",
       "    events.on('delete.Cell', handleClearOutput);\n",
       "\n",
       "    /* Handle when a new output is added */\n",
       "    events.on('output_added.OutputArea', handleAddOutput);\n",
       "\n",
       "    /**\n",
       "     * Register the mime type and append_mime function with output_area\n",
       "     */\n",
       "    OutputArea.prototype.register_mime_type(EXEC_MIME_TYPE, append_mime, {\n",
       "      /* Is output safe? */\n",
       "      safe: true,\n",
       "      /* Index of renderer in `output_area.display_order` */\n",
       "      index: 0\n",
       "    });\n",
       "  }\n",
       "\n",
       "  // register the mime type if in Jupyter Notebook environment and previously unregistered\n",
       "  if (root.Jupyter !== undefined) {\n",
       "    const events = require('base/js/events');\n",
       "    const OutputArea = require('notebook/js/outputarea').OutputArea;\n",
       "\n",
       "    if (OutputArea.prototype.mime_types().indexOf(EXEC_MIME_TYPE) == -1) {\n",
       "      register_renderer(events, OutputArea);\n",
       "    }\n",
       "  }\n",
       "  if (typeof (root._bokeh_timeout) === \"undefined\" || force === true) {\n",
       "    root._bokeh_timeout = Date.now() + 5000;\n",
       "    root._bokeh_failed_load = false;\n",
       "  }\n",
       "\n",
       "  const NB_LOAD_WARNING = {'data': {'text/html':\n",
       "     \"<div style='background-color: #fdd'>\\n\"+\n",
       "     \"<p>\\n\"+\n",
       "     \"BokehJS does not appear to have successfully loaded. If loading BokehJS from CDN, this \\n\"+\n",
       "     \"may be due to a slow or bad network connection. Possible fixes:\\n\"+\n",
       "     \"</p>\\n\"+\n",
       "     \"<ul>\\n\"+\n",
       "     \"<li>re-rerun `output_notebook()` to attempt to load from CDN again, or</li>\\n\"+\n",
       "     \"<li>use INLINE resources instead, as so:</li>\\n\"+\n",
       "     \"</ul>\\n\"+\n",
       "     \"<code>\\n\"+\n",
       "     \"from bokeh.resources import INLINE\\n\"+\n",
       "     \"output_notebook(resources=INLINE)\\n\"+\n",
       "     \"</code>\\n\"+\n",
       "     \"</div>\"}};\n",
       "\n",
       "  function display_loaded(error = null) {\n",
       "    const el = document.getElementById(\"fcf1b083-4d7c-4d2a-a7d8-875763c165db\");\n",
       "    if (el != null) {\n",
       "      const html = (() => {\n",
       "        if (typeof root.Bokeh === \"undefined\") {\n",
       "          if (error == null) {\n",
       "            return \"BokehJS is loading ...\";\n",
       "          } else {\n",
       "            return \"BokehJS failed to load.\";\n",
       "          }\n",
       "        } else {\n",
       "          const prefix = `BokehJS ${root.Bokeh.version}`;\n",
       "          if (error == null) {\n",
       "            return `${prefix} successfully loaded.`;\n",
       "          } else {\n",
       "            return `${prefix} <b>encountered errors</b> while loading and may not function as expected.`;\n",
       "          }\n",
       "        }\n",
       "      })();\n",
       "      el.innerHTML = html;\n",
       "\n",
       "      if (error != null) {\n",
       "        const wrapper = document.createElement(\"div\");\n",
       "        wrapper.style.overflow = \"auto\";\n",
       "        wrapper.style.height = \"5em\";\n",
       "        wrapper.style.resize = \"vertical\";\n",
       "        const content = document.createElement(\"div\");\n",
       "        content.style.fontFamily = \"monospace\";\n",
       "        content.style.whiteSpace = \"pre-wrap\";\n",
       "        content.style.backgroundColor = \"rgb(255, 221, 221)\";\n",
       "        content.textContent = error.stack ?? error.toString();\n",
       "        wrapper.append(content);\n",
       "        el.append(wrapper);\n",
       "      }\n",
       "    } else if (Date.now() < root._bokeh_timeout) {\n",
       "      setTimeout(() => display_loaded(error), 100);\n",
       "    }\n",
       "  }\n",
       "\n",
       "  function run_callbacks() {\n",
       "    try {\n",
       "      root._bokeh_onload_callbacks.forEach(function(callback) {\n",
       "        if (callback != null)\n",
       "          callback();\n",
       "      });\n",
       "    } finally {\n",
       "      delete root._bokeh_onload_callbacks\n",
       "    }\n",
       "    console.debug(\"Bokeh: all callbacks have finished\");\n",
       "  }\n",
       "\n",
       "  function load_libs(css_urls, js_urls, callback) {\n",
       "    if (css_urls == null) css_urls = [];\n",
       "    if (js_urls == null) js_urls = [];\n",
       "\n",
       "    root._bokeh_onload_callbacks.push(callback);\n",
       "    if (root._bokeh_is_loading > 0) {\n",
       "      console.debug(\"Bokeh: BokehJS is being loaded, scheduling callback at\", now());\n",
       "      return null;\n",
       "    }\n",
       "    if (js_urls == null || js_urls.length === 0) {\n",
       "      run_callbacks();\n",
       "      return null;\n",
       "    }\n",
       "    console.debug(\"Bokeh: BokehJS not loaded, scheduling load and callback at\", now());\n",
       "    root._bokeh_is_loading = css_urls.length + js_urls.length;\n",
       "\n",
       "    function on_load() {\n",
       "      root._bokeh_is_loading--;\n",
       "      if (root._bokeh_is_loading === 0) {\n",
       "        console.debug(\"Bokeh: all BokehJS libraries/stylesheets loaded\");\n",
       "        run_callbacks()\n",
       "      }\n",
       "    }\n",
       "\n",
       "    function on_error(url) {\n",
       "      console.error(\"failed to load \" + url);\n",
       "    }\n",
       "\n",
       "    for (let i = 0; i < css_urls.length; i++) {\n",
       "      const url = css_urls[i];\n",
       "      const element = document.createElement(\"link\");\n",
       "      element.onload = on_load;\n",
       "      element.onerror = on_error.bind(null, url);\n",
       "      element.rel = \"stylesheet\";\n",
       "      element.type = \"text/css\";\n",
       "      element.href = url;\n",
       "      console.debug(\"Bokeh: injecting link tag for BokehJS stylesheet: \", url);\n",
       "      document.body.appendChild(element);\n",
       "    }\n",
       "\n",
       "    for (let i = 0; i < js_urls.length; i++) {\n",
       "      const url = js_urls[i];\n",
       "      const element = document.createElement('script');\n",
       "      element.onload = on_load;\n",
       "      element.onerror = on_error.bind(null, url);\n",
       "      element.async = false;\n",
       "      element.src = url;\n",
       "      console.debug(\"Bokeh: injecting script tag for BokehJS library: \", url);\n",
       "      document.head.appendChild(element);\n",
       "    }\n",
       "  };\n",
       "\n",
       "  function inject_raw_css(css) {\n",
       "    const element = document.createElement(\"style\");\n",
       "    element.appendChild(document.createTextNode(css));\n",
       "    document.body.appendChild(element);\n",
       "  }\n",
       "\n",
       "  const js_urls = [\"https://cdn.bokeh.org/bokeh/release/bokeh-3.4.1.min.js\", \"https://cdn.bokeh.org/bokeh/release/bokeh-gl-3.4.1.min.js\", \"https://cdn.bokeh.org/bokeh/release/bokeh-widgets-3.4.1.min.js\", \"https://cdn.bokeh.org/bokeh/release/bokeh-tables-3.4.1.min.js\", \"https://cdn.bokeh.org/bokeh/release/bokeh-mathjax-3.4.1.min.js\", \"https://unpkg.com/@holoviz/panel@1.4.1/dist/panel.min.js\"];\n",
       "  const css_urls = [];\n",
       "\n",
       "  const inline_js = [    function(Bokeh) {\n",
       "      Bokeh.set_log_level(\"info\");\n",
       "    },\n",
       "function(Bokeh) {\n",
       "    }\n",
       "  ];\n",
       "\n",
       "  function run_inline_js() {\n",
       "    if (root.Bokeh !== undefined || force === true) {\n",
       "      try {\n",
       "            for (let i = 0; i < inline_js.length; i++) {\n",
       "      inline_js[i].call(root, root.Bokeh);\n",
       "    }\n",
       "\n",
       "      } catch (error) {display_loaded(error);throw error;\n",
       "      }if (force === true) {\n",
       "        display_loaded();\n",
       "      }} else if (Date.now() < root._bokeh_timeout) {\n",
       "      setTimeout(run_inline_js, 100);\n",
       "    } else if (!root._bokeh_failed_load) {\n",
       "      console.log(\"Bokeh: BokehJS failed to load within specified timeout.\");\n",
       "      root._bokeh_failed_load = true;\n",
       "    } else if (force !== true) {\n",
       "      const cell = $(document.getElementById(\"fcf1b083-4d7c-4d2a-a7d8-875763c165db\")).parents('.cell').data().cell;\n",
       "      cell.output_area.append_execute_result(NB_LOAD_WARNING)\n",
       "    }\n",
       "  }\n",
       "\n",
       "  if (root._bokeh_is_loading === 0) {\n",
       "    console.debug(\"Bokeh: BokehJS loaded, going straight to plotting\");\n",
       "    run_inline_js();\n",
       "  } else {\n",
       "    load_libs(css_urls, js_urls, function() {\n",
       "      console.debug(\"Bokeh: BokehJS plotting callback run at\", now());\n",
       "      run_inline_js();\n",
       "    });\n",
       "  }\n",
       "}(window));"
      ],
      "application/vnd.bokehjs_load.v0+json": "'use strict';\n(function(root) {\n  function now() {\n    return new Date();\n  }\n\n  const force = true;\n\n  if (typeof root._bokeh_onload_callbacks === \"undefined\" || force === true) {\n    root._bokeh_onload_callbacks = [];\n    root._bokeh_is_loading = undefined;\n  }\n\n\n  if (typeof (root._bokeh_timeout) === \"undefined\" || force === true) {\n    root._bokeh_timeout = Date.now() + 5000;\n    root._bokeh_failed_load = false;\n  }\n\n  const NB_LOAD_WARNING = {'data': {'text/html':\n     \"<div style='background-color: #fdd'>\\n\"+\n     \"<p>\\n\"+\n     \"BokehJS does not appear to have successfully loaded. If loading BokehJS from CDN, this \\n\"+\n     \"may be due to a slow or bad network connection. Possible fixes:\\n\"+\n     \"</p>\\n\"+\n     \"<ul>\\n\"+\n     \"<li>re-rerun `output_notebook()` to attempt to load from CDN again, or</li>\\n\"+\n     \"<li>use INLINE resources instead, as so:</li>\\n\"+\n     \"</ul>\\n\"+\n     \"<code>\\n\"+\n     \"from bokeh.resources import INLINE\\n\"+\n     \"output_notebook(resources=INLINE)\\n\"+\n     \"</code>\\n\"+\n     \"</div>\"}};\n\n  function display_loaded(error = null) {\n    const el = document.getElementById(\"fcf1b083-4d7c-4d2a-a7d8-875763c165db\");\n    if (el != null) {\n      const html = (() => {\n        if (typeof root.Bokeh === \"undefined\") {\n          if (error == null) {\n            return \"BokehJS is loading ...\";\n          } else {\n            return \"BokehJS failed to load.\";\n          }\n        } else {\n          const prefix = `BokehJS ${root.Bokeh.version}`;\n          if (error == null) {\n            return `${prefix} successfully loaded.`;\n          } else {\n            return `${prefix} <b>encountered errors</b> while loading and may not function as expected.`;\n          }\n        }\n      })();\n      el.innerHTML = html;\n\n      if (error != null) {\n        const wrapper = document.createElement(\"div\");\n        wrapper.style.overflow = \"auto\";\n        wrapper.style.height = \"5em\";\n        wrapper.style.resize = \"vertical\";\n        const content = document.createElement(\"div\");\n        content.style.fontFamily = \"monospace\";\n        content.style.whiteSpace = \"pre-wrap\";\n        content.style.backgroundColor = \"rgb(255, 221, 221)\";\n        content.textContent = error.stack ?? error.toString();\n        wrapper.append(content);\n        el.append(wrapper);\n      }\n    } else if (Date.now() < root._bokeh_timeout) {\n      setTimeout(() => display_loaded(error), 100);\n    }\n  }\n\n  function run_callbacks() {\n    try {\n      root._bokeh_onload_callbacks.forEach(function(callback) {\n        if (callback != null)\n          callback();\n      });\n    } finally {\n      delete root._bokeh_onload_callbacks\n    }\n    console.debug(\"Bokeh: all callbacks have finished\");\n  }\n\n  function load_libs(css_urls, js_urls, callback) {\n    if (css_urls == null) css_urls = [];\n    if (js_urls == null) js_urls = [];\n\n    root._bokeh_onload_callbacks.push(callback);\n    if (root._bokeh_is_loading > 0) {\n      console.debug(\"Bokeh: BokehJS is being loaded, scheduling callback at\", now());\n      return null;\n    }\n    if (js_urls == null || js_urls.length === 0) {\n      run_callbacks();\n      return null;\n    }\n    console.debug(\"Bokeh: BokehJS not loaded, scheduling load and callback at\", now());\n    root._bokeh_is_loading = css_urls.length + js_urls.length;\n\n    function on_load() {\n      root._bokeh_is_loading--;\n      if (root._bokeh_is_loading === 0) {\n        console.debug(\"Bokeh: all BokehJS libraries/stylesheets loaded\");\n        run_callbacks()\n      }\n    }\n\n    function on_error(url) {\n      console.error(\"failed to load \" + url);\n    }\n\n    for (let i = 0; i < css_urls.length; i++) {\n      const url = css_urls[i];\n      const element = document.createElement(\"link\");\n      element.onload = on_load;\n      element.onerror = on_error.bind(null, url);\n      element.rel = \"stylesheet\";\n      element.type = \"text/css\";\n      element.href = url;\n      console.debug(\"Bokeh: injecting link tag for BokehJS stylesheet: \", url);\n      document.body.appendChild(element);\n    }\n\n    for (let i = 0; i < js_urls.length; i++) {\n      const url = js_urls[i];\n      const element = document.createElement('script');\n      element.onload = on_load;\n      element.onerror = on_error.bind(null, url);\n      element.async = false;\n      element.src = url;\n      console.debug(\"Bokeh: injecting script tag for BokehJS library: \", url);\n      document.head.appendChild(element);\n    }\n  };\n\n  function inject_raw_css(css) {\n    const element = document.createElement(\"style\");\n    element.appendChild(document.createTextNode(css));\n    document.body.appendChild(element);\n  }\n\n  const js_urls = [\"https://cdn.bokeh.org/bokeh/release/bokeh-3.4.1.min.js\", \"https://cdn.bokeh.org/bokeh/release/bokeh-gl-3.4.1.min.js\", \"https://cdn.bokeh.org/bokeh/release/bokeh-widgets-3.4.1.min.js\", \"https://cdn.bokeh.org/bokeh/release/bokeh-tables-3.4.1.min.js\", \"https://cdn.bokeh.org/bokeh/release/bokeh-mathjax-3.4.1.min.js\", \"https://unpkg.com/@holoviz/panel@1.4.1/dist/panel.min.js\"];\n  const css_urls = [];\n\n  const inline_js = [    function(Bokeh) {\n      Bokeh.set_log_level(\"info\");\n    },\nfunction(Bokeh) {\n    }\n  ];\n\n  function run_inline_js() {\n    if (root.Bokeh !== undefined || force === true) {\n      try {\n            for (let i = 0; i < inline_js.length; i++) {\n      inline_js[i].call(root, root.Bokeh);\n    }\n\n      } catch (error) {display_loaded(error);throw error;\n      }if (force === true) {\n        display_loaded();\n      }} else if (Date.now() < root._bokeh_timeout) {\n      setTimeout(run_inline_js, 100);\n    } else if (!root._bokeh_failed_load) {\n      console.log(\"Bokeh: BokehJS failed to load within specified timeout.\");\n      root._bokeh_failed_load = true;\n    } else if (force !== true) {\n      const cell = $(document.getElementById(\"fcf1b083-4d7c-4d2a-a7d8-875763c165db\")).parents('.cell').data().cell;\n      cell.output_area.append_execute_result(NB_LOAD_WARNING)\n    }\n  }\n\n  if (root._bokeh_is_loading === 0) {\n    console.debug(\"Bokeh: BokehJS loaded, going straight to plotting\");\n    run_inline_js();\n  } else {\n    load_libs(css_urls, js_urls, function() {\n      console.debug(\"Bokeh: BokehJS plotting callback run at\", now());\n      run_inline_js();\n    });\n  }\n}(window));"
     },
     "metadata": {},
     "output_type": "display_data"
    },
    {
     "data": {
      "application/javascript": [
       "(function(root) {\n",
       "  function now() {\n",
       "    return new Date();\n",
       "  }\n",
       "\n",
       "  var force = true;\n",
       "  var py_version = '3.4.1'.replace('rc', '-rc.').replace('.dev', '-dev.');\n",
       "  var reloading = false;\n",
       "  var Bokeh = root.Bokeh;\n",
       "\n",
       "  if (typeof (root._bokeh_timeout) === \"undefined\" || force) {\n",
       "    root._bokeh_timeout = Date.now() + 5000;\n",
       "    root._bokeh_failed_load = false;\n",
       "  }\n",
       "\n",
       "  function run_callbacks() {\n",
       "    try {\n",
       "      root._bokeh_onload_callbacks.forEach(function(callback) {\n",
       "        if (callback != null)\n",
       "          callback();\n",
       "      });\n",
       "    } finally {\n",
       "      delete root._bokeh_onload_callbacks;\n",
       "    }\n",
       "    console.debug(\"Bokeh: all callbacks have finished\");\n",
       "  }\n",
       "\n",
       "  function load_libs(css_urls, js_urls, js_modules, js_exports, callback) {\n",
       "    if (css_urls == null) css_urls = [];\n",
       "    if (js_urls == null) js_urls = [];\n",
       "    if (js_modules == null) js_modules = [];\n",
       "    if (js_exports == null) js_exports = {};\n",
       "\n",
       "    root._bokeh_onload_callbacks.push(callback);\n",
       "\n",
       "    if (root._bokeh_is_loading > 0) {\n",
       "      console.debug(\"Bokeh: BokehJS is being loaded, scheduling callback at\", now());\n",
       "      return null;\n",
       "    }\n",
       "    if (js_urls.length === 0 && js_modules.length === 0 && Object.keys(js_exports).length === 0) {\n",
       "      run_callbacks();\n",
       "      return null;\n",
       "    }\n",
       "    if (!reloading) {\n",
       "      console.debug(\"Bokeh: BokehJS not loaded, scheduling load and callback at\", now());\n",
       "    }\n",
       "\n",
       "    function on_load() {\n",
       "      root._bokeh_is_loading--;\n",
       "      if (root._bokeh_is_loading === 0) {\n",
       "        console.debug(\"Bokeh: all BokehJS libraries/stylesheets loaded\");\n",
       "        run_callbacks()\n",
       "      }\n",
       "    }\n",
       "    window._bokeh_on_load = on_load\n",
       "\n",
       "    function on_error() {\n",
       "      console.error(\"failed to load \" + url);\n",
       "    }\n",
       "\n",
       "    var skip = [];\n",
       "    if (window.requirejs) {\n",
       "      window.requirejs.config({'packages': {}, 'paths': {'ace': '//cdnjs.cloudflare.com/ajax/libs/ace/1.4.7'}, 'shim': {'ace/ext-language_tools': {'deps': ['ace/ace']}, 'ace/ext-modelist': {'deps': ['ace/ace']}}});\n",
       "      require([\"ace/ace\"], function(ace) {\n",
       "\twindow.ace = ace\n",
       "\ton_load()\n",
       "      })\n",
       "      require([\"ace/ext-language_tools\"], function() {\n",
       "\ton_load()\n",
       "      })\n",
       "      require([\"ace/ext-modelist\"], function() {\n",
       "\ton_load()\n",
       "      })\n",
       "      root._bokeh_is_loading = css_urls.length + 3;\n",
       "    } else {\n",
       "      root._bokeh_is_loading = css_urls.length + js_urls.length + js_modules.length + Object.keys(js_exports).length;\n",
       "    }\n",
       "\n",
       "    var existing_stylesheets = []\n",
       "    var links = document.getElementsByTagName('link')\n",
       "    for (var i = 0; i < links.length; i++) {\n",
       "      var link = links[i]\n",
       "      if (link.href != null) {\n",
       "\texisting_stylesheets.push(link.href)\n",
       "      }\n",
       "    }\n",
       "    for (var i = 0; i < css_urls.length; i++) {\n",
       "      var url = css_urls[i];\n",
       "      if (existing_stylesheets.indexOf(url) !== -1) {\n",
       "\ton_load()\n",
       "\tcontinue;\n",
       "      }\n",
       "      const element = document.createElement(\"link\");\n",
       "      element.onload = on_load;\n",
       "      element.onerror = on_error;\n",
       "      element.rel = \"stylesheet\";\n",
       "      element.type = \"text/css\";\n",
       "      element.href = url;\n",
       "      console.debug(\"Bokeh: injecting link tag for BokehJS stylesheet: \", url);\n",
       "      document.body.appendChild(element);\n",
       "    }    if (((window.ace !== undefined) && (!(window.ace instanceof HTMLElement))) || window.requirejs) {\n",
       "      var urls = ['https://cdnjs.cloudflare.com/ajax/libs/ace/1.4.11/ace.js', 'https://cdnjs.cloudflare.com/ajax/libs/ace/1.4.11/ext-language_tools.js', 'https://cdnjs.cloudflare.com/ajax/libs/ace/1.4.11/ext-modelist.js'];\n",
       "      for (var i = 0; i < urls.length; i++) {\n",
       "        skip.push(urls[i])\n",
       "      }\n",
       "    }    var existing_scripts = []\n",
       "    var scripts = document.getElementsByTagName('script')\n",
       "    for (var i = 0; i < scripts.length; i++) {\n",
       "      var script = scripts[i]\n",
       "      if (script.src != null) {\n",
       "\texisting_scripts.push(script.src)\n",
       "      }\n",
       "    }\n",
       "    for (var i = 0; i < js_urls.length; i++) {\n",
       "      var url = js_urls[i];\n",
       "      if (skip.indexOf(url) !== -1 || existing_scripts.indexOf(url) !== -1) {\n",
       "\tif (!window.requirejs) {\n",
       "\t  on_load();\n",
       "\t}\n",
       "\tcontinue;\n",
       "      }\n",
       "      var element = document.createElement('script');\n",
       "      element.onload = on_load;\n",
       "      element.onerror = on_error;\n",
       "      element.async = false;\n",
       "      element.src = url;\n",
       "      console.debug(\"Bokeh: injecting script tag for BokehJS library: \", url);\n",
       "      document.head.appendChild(element);\n",
       "    }\n",
       "    for (var i = 0; i < js_modules.length; i++) {\n",
       "      var url = js_modules[i];\n",
       "      if (skip.indexOf(url) !== -1 || existing_scripts.indexOf(url) !== -1) {\n",
       "\tif (!window.requirejs) {\n",
       "\t  on_load();\n",
       "\t}\n",
       "\tcontinue;\n",
       "      }\n",
       "      var element = document.createElement('script');\n",
       "      element.onload = on_load;\n",
       "      element.onerror = on_error;\n",
       "      element.async = false;\n",
       "      element.src = url;\n",
       "      element.type = \"module\";\n",
       "      console.debug(\"Bokeh: injecting script tag for BokehJS library: \", url);\n",
       "      document.head.appendChild(element);\n",
       "    }\n",
       "    for (const name in js_exports) {\n",
       "      var url = js_exports[name];\n",
       "      if (skip.indexOf(url) >= 0 || root[name] != null) {\n",
       "\tif (!window.requirejs) {\n",
       "\t  on_load();\n",
       "\t}\n",
       "\tcontinue;\n",
       "      }\n",
       "      var element = document.createElement('script');\n",
       "      element.onerror = on_error;\n",
       "      element.async = false;\n",
       "      element.type = \"module\";\n",
       "      console.debug(\"Bokeh: injecting script tag for BokehJS library: \", url);\n",
       "      element.textContent = `\n",
       "      import ${name} from \"${url}\"\n",
       "      window.${name} = ${name}\n",
       "      window._bokeh_on_load()\n",
       "      `\n",
       "      document.head.appendChild(element);\n",
       "    }\n",
       "    if (!js_urls.length && !js_modules.length) {\n",
       "      on_load()\n",
       "    }\n",
       "  };\n",
       "\n",
       "  function inject_raw_css(css) {\n",
       "    const element = document.createElement(\"style\");\n",
       "    element.appendChild(document.createTextNode(css));\n",
       "    document.body.appendChild(element);\n",
       "  }\n",
       "\n",
       "  var js_urls = [\"https://cdnjs.cloudflare.com/ajax/libs/ace/1.4.11/ace.js\", \"https://cdnjs.cloudflare.com/ajax/libs/ace/1.4.11/ext-language_tools.js\", \"https://cdnjs.cloudflare.com/ajax/libs/ace/1.4.11/ext-modelist.js\", \"https://cdn.bokeh.org/bokeh/release/bokeh-3.4.1.min.js\", \"https://cdn.bokeh.org/bokeh/release/bokeh-gl-3.4.1.min.js\", \"https://cdn.bokeh.org/bokeh/release/bokeh-widgets-3.4.1.min.js\", \"https://cdn.bokeh.org/bokeh/release/bokeh-tables-3.4.1.min.js\", \"https://cdn.holoviz.org/panel/1.4.1/dist/panel.min.js\"];\n",
       "  var js_modules = [];\n",
       "  var js_exports = {};\n",
       "  var css_urls = [];\n",
       "  var inline_js = [    function(Bokeh) {\n",
       "      inject_raw_css(\"/*\\n ~ CML // Creative Machine Learning ~\\n mml.css : CSS styling information for Panel and Bokeh\\n \\n This file defines the main CSS styling information for the CML course\\n \\n Author               :  Philippe Esling\\n                        <esling@ircam.fr>\\n*/\\n\\nbody {\\n  display: flex;\\n  height: 100vh;\\n  margin: 0px;\\n  overflow-x: hidden;\\n  overflow-y: hidden;\\n}\\n\\n.bk-root .bk, .bk-root .bk:before, .bk-root .bk:after {\\n  font-family: \\\"Josefin Sans\\\";\\n}\\n\\nimg {\\n  max-width: 100%;\\n}\\n\\n#container {\\n  padding:0px;\\n  height:100vh;\\n  width: 100vw;\\n  max-width: 100vw;\\n}\\n\\n#sidebar .mdc-list {\\n  padding-left: 5px;\\n  padding-right: 5px;\\n}\\n\\n.mdc-drawer-app-content {\\n  flex: auto;\\n  position: relative;\\n  overflow: hidden;\\n}\\n\\n.mdc-drawer {\\n  background: #FAFAFA; /* GRAY 50 */\\n}\\n\\n.mdc-drawer-app-content {\\n  margin-left: 0 !important;\\n}\\n\\n.title-bar {\\n  display: contents;\\n  justify-content: center;\\n  align-content: center;\\n  width: 100%;\\n}\\n\\n.mdc-top-app-bar .bk-menu {\\n  color: black\\n}\\n\\n.app-header {\\n  display: contents;\\n  padding-left: 10px;\\n  font-size: 1.25em;\\n}\\n\\nimg.app-logo {\\n  padding-right: 10px;\\n  font-size: 28px;\\n  height: 30px;\\n  max-width: inherit;\\n  padding-top: 12px;\\n  padding-bottom: 6px;\\n}\\n\\n#app-title {\\n  padding-right: 12px;\\n  padding-left: 12px;\\n}\\n\\n.title {\\n  font-family: \\\"Josefin Sans\\\";\\n  color: #fff;\\n  text-decoration: none;\\n  text-decoration-line: none;\\n  text-decoration-style: initial;\\n  text-decoration-color: initial;\\n  font-weight: 400;\\n  font-size: 2em;\\n  line-height: 2em;\\n  white-space: nowrap;\\n}\\n\\n.main-content {\\n  overflow-y: scroll;\\n  overflow-x: auto;\\n}\\n\\n#header {\\n  position: absolute;\\n  z-index: 7;\\n}\\n\\n#header-items {\\n  width: 100%;\\n  margin-left:15px;\\n}\\n\\n.pn-busy-container {\\n  align-items: center;\\n  justify-content: center;\\n  display: flex;\\n}\\n\\n.mdc-drawer__content {\\n  overflow-x: hidden;\\n}\\n.mdc-drawer__content, .main-content {\\n  padding: 12px;\\n}\\n\\n.main-content {\\n  height: calc(100vh - 88px);\\n  max-height: calc(100vh - 88px);\\n  padding-right: 32px;\\n}\\n\\nbutton.mdc-button.mdc-card-button {\\n  color: transparent;\\n  height: 50px;\\n}\\n\\np.mdc-button {\\n  display: none;\\n}\\n\\ndiv.mdc-card {\\n  border-radius: 0px\\n}\\n\\n.mdc-card .card-header {\\n  display: flex;\\n}\\n\\n.mdc-card-title {\\n  font-family: \\\"Josefin Sans\\\";\\n  font-weight: bold;\\n  align-items: center;\\n  display: flex !important;\\n  position: relative !important;\\n}\\n\\n.mdc-card-title:nth-child(2) {\\n  margin-left: -1.4em;\\n}\\n\\n.pn-modal {\\n  overflow-y: scroll;\\n  width: 100%;\\n  display: none;\\n  position: absolute;\\n  top: 0;\\n  left: 0;\\n}\\n\\n.pn-modal-content {\\n  font-family: \\\"Josefin Sans\\\";\\n  background-color: #0e0e0e;\\n  margin: auto;\\n  margin-top: 25px;\\n  margin-bottom: 25px;\\n  padding: 15px 20px 20px 20px;\\n  border: 1px solid #888;\\n  width: 80% !important;\\n}\\n\\n.pn-modal-close {\\n  position: absolute;\\n  right: 25px;\\n  z-index: 100;\\n}\\n\\n.pn-modal-close:hover,\\n.pn-modal-close:focus {\\n  color: #000;\\n  text-decoration: none;\\n  cursor: pointer;\\n}\\n\\n.custom_button_bokeh button.bk-btn.bk-btn-default {\\n    font-size:48pt;\\n    background-color: #05b7ff;\\n    border-color: #05b7ff;\\n}\");\n",
       "    },    function(Bokeh) {\n",
       "      Bokeh.set_log_level(\"info\");\n",
       "    },\n",
       "function(Bokeh) {} // ensure no trailing comma for IE\n",
       "  ];\n",
       "\n",
       "  function run_inline_js() {\n",
       "    if ((root.Bokeh !== undefined) || (force === true)) {\n",
       "      for (var i = 0; i < inline_js.length; i++) {\n",
       "\ttry {\n",
       "          inline_js[i].call(root, root.Bokeh);\n",
       "\t} catch(e) {\n",
       "\t  if (!reloading) {\n",
       "\t    throw e;\n",
       "\t  }\n",
       "\t}\n",
       "      }\n",
       "      // Cache old bokeh versions\n",
       "      if (Bokeh != undefined && !reloading) {\n",
       "\tvar NewBokeh = root.Bokeh;\n",
       "\tif (Bokeh.versions === undefined) {\n",
       "\t  Bokeh.versions = new Map();\n",
       "\t}\n",
       "\tif (NewBokeh.version !== Bokeh.version) {\n",
       "\t  Bokeh.versions.set(NewBokeh.version, NewBokeh)\n",
       "\t}\n",
       "\troot.Bokeh = Bokeh;\n",
       "      }} else if (Date.now() < root._bokeh_timeout) {\n",
       "      setTimeout(run_inline_js, 100);\n",
       "    } else if (!root._bokeh_failed_load) {\n",
       "      console.log(\"Bokeh: BokehJS failed to load within specified timeout.\");\n",
       "      root._bokeh_failed_load = true;\n",
       "    }\n",
       "    root._bokeh_is_initializing = false\n",
       "  }\n",
       "\n",
       "  function load_or_wait() {\n",
       "    // Implement a backoff loop that tries to ensure we do not load multiple\n",
       "    // versions of Bokeh and its dependencies at the same time.\n",
       "    // In recent versions we use the root._bokeh_is_initializing flag\n",
       "    // to determine whether there is an ongoing attempt to initialize\n",
       "    // bokeh, however for backward compatibility we also try to ensure\n",
       "    // that we do not start loading a newer (Panel>=1.0 and Bokeh>3) version\n",
       "    // before older versions are fully initialized.\n",
       "    if (root._bokeh_is_initializing && Date.now() > root._bokeh_timeout) {\n",
       "      root._bokeh_is_initializing = false;\n",
       "      root._bokeh_onload_callbacks = undefined;\n",
       "      console.log(\"Bokeh: BokehJS was loaded multiple times but one version failed to initialize.\");\n",
       "      load_or_wait();\n",
       "    } else if (root._bokeh_is_initializing || (typeof root._bokeh_is_initializing === \"undefined\" && root._bokeh_onload_callbacks !== undefined)) {\n",
       "      setTimeout(load_or_wait, 100);\n",
       "    } else {\n",
       "      root._bokeh_is_initializing = true\n",
       "      root._bokeh_onload_callbacks = []\n",
       "      var bokeh_loaded = Bokeh != null && (Bokeh.version === py_version || (Bokeh.versions !== undefined && Bokeh.versions.has(py_version)));\n",
       "      if (!reloading && !bokeh_loaded) {\n",
       "\troot.Bokeh = undefined;\n",
       "      }\n",
       "      load_libs(css_urls, js_urls, js_modules, js_exports, function() {\n",
       "\tconsole.debug(\"Bokeh: BokehJS plotting callback run at\", now());\n",
       "\trun_inline_js();\n",
       "      });\n",
       "    }\n",
       "  }\n",
       "  // Give older versions of the autoload script a head-start to ensure\n",
       "  // they initialize before we start loading newer version.\n",
       "  setTimeout(load_or_wait, 100)\n",
       "}(window));"
      ],
      "application/vnd.holoviews_load.v0+json": "(function(root) {\n  function now() {\n    return new Date();\n  }\n\n  var force = true;\n  var py_version = '3.4.1'.replace('rc', '-rc.').replace('.dev', '-dev.');\n  var reloading = false;\n  var Bokeh = root.Bokeh;\n\n  if (typeof (root._bokeh_timeout) === \"undefined\" || force) {\n    root._bokeh_timeout = Date.now() + 5000;\n    root._bokeh_failed_load = false;\n  }\n\n  function run_callbacks() {\n    try {\n      root._bokeh_onload_callbacks.forEach(function(callback) {\n        if (callback != null)\n          callback();\n      });\n    } finally {\n      delete root._bokeh_onload_callbacks;\n    }\n    console.debug(\"Bokeh: all callbacks have finished\");\n  }\n\n  function load_libs(css_urls, js_urls, js_modules, js_exports, callback) {\n    if (css_urls == null) css_urls = [];\n    if (js_urls == null) js_urls = [];\n    if (js_modules == null) js_modules = [];\n    if (js_exports == null) js_exports = {};\n\n    root._bokeh_onload_callbacks.push(callback);\n\n    if (root._bokeh_is_loading > 0) {\n      console.debug(\"Bokeh: BokehJS is being loaded, scheduling callback at\", now());\n      return null;\n    }\n    if (js_urls.length === 0 && js_modules.length === 0 && Object.keys(js_exports).length === 0) {\n      run_callbacks();\n      return null;\n    }\n    if (!reloading) {\n      console.debug(\"Bokeh: BokehJS not loaded, scheduling load and callback at\", now());\n    }\n\n    function on_load() {\n      root._bokeh_is_loading--;\n      if (root._bokeh_is_loading === 0) {\n        console.debug(\"Bokeh: all BokehJS libraries/stylesheets loaded\");\n        run_callbacks()\n      }\n    }\n    window._bokeh_on_load = on_load\n\n    function on_error() {\n      console.error(\"failed to load \" + url);\n    }\n\n    var skip = [];\n    if (window.requirejs) {\n      window.requirejs.config({'packages': {}, 'paths': {'ace': '//cdnjs.cloudflare.com/ajax/libs/ace/1.4.7'}, 'shim': {'ace/ext-language_tools': {'deps': ['ace/ace']}, 'ace/ext-modelist': {'deps': ['ace/ace']}}});\n      require([\"ace/ace\"], function(ace) {\n\twindow.ace = ace\n\ton_load()\n      })\n      require([\"ace/ext-language_tools\"], function() {\n\ton_load()\n      })\n      require([\"ace/ext-modelist\"], function() {\n\ton_load()\n      })\n      root._bokeh_is_loading = css_urls.length + 3;\n    } else {\n      root._bokeh_is_loading = css_urls.length + js_urls.length + js_modules.length + Object.keys(js_exports).length;\n    }\n\n    var existing_stylesheets = []\n    var links = document.getElementsByTagName('link')\n    for (var i = 0; i < links.length; i++) {\n      var link = links[i]\n      if (link.href != null) {\n\texisting_stylesheets.push(link.href)\n      }\n    }\n    for (var i = 0; i < css_urls.length; i++) {\n      var url = css_urls[i];\n      if (existing_stylesheets.indexOf(url) !== -1) {\n\ton_load()\n\tcontinue;\n      }\n      const element = document.createElement(\"link\");\n      element.onload = on_load;\n      element.onerror = on_error;\n      element.rel = \"stylesheet\";\n      element.type = \"text/css\";\n      element.href = url;\n      console.debug(\"Bokeh: injecting link tag for BokehJS stylesheet: \", url);\n      document.body.appendChild(element);\n    }    if (((window.ace !== undefined) && (!(window.ace instanceof HTMLElement))) || window.requirejs) {\n      var urls = ['https://cdnjs.cloudflare.com/ajax/libs/ace/1.4.11/ace.js', 'https://cdnjs.cloudflare.com/ajax/libs/ace/1.4.11/ext-language_tools.js', 'https://cdnjs.cloudflare.com/ajax/libs/ace/1.4.11/ext-modelist.js'];\n      for (var i = 0; i < urls.length; i++) {\n        skip.push(urls[i])\n      }\n    }    var existing_scripts = []\n    var scripts = document.getElementsByTagName('script')\n    for (var i = 0; i < scripts.length; i++) {\n      var script = scripts[i]\n      if (script.src != null) {\n\texisting_scripts.push(script.src)\n      }\n    }\n    for (var i = 0; i < js_urls.length; i++) {\n      var url = js_urls[i];\n      if (skip.indexOf(url) !== -1 || existing_scripts.indexOf(url) !== -1) {\n\tif (!window.requirejs) {\n\t  on_load();\n\t}\n\tcontinue;\n      }\n      var element = document.createElement('script');\n      element.onload = on_load;\n      element.onerror = on_error;\n      element.async = false;\n      element.src = url;\n      console.debug(\"Bokeh: injecting script tag for BokehJS library: \", url);\n      document.head.appendChild(element);\n    }\n    for (var i = 0; i < js_modules.length; i++) {\n      var url = js_modules[i];\n      if (skip.indexOf(url) !== -1 || existing_scripts.indexOf(url) !== -1) {\n\tif (!window.requirejs) {\n\t  on_load();\n\t}\n\tcontinue;\n      }\n      var element = document.createElement('script');\n      element.onload = on_load;\n      element.onerror = on_error;\n      element.async = false;\n      element.src = url;\n      element.type = \"module\";\n      console.debug(\"Bokeh: injecting script tag for BokehJS library: \", url);\n      document.head.appendChild(element);\n    }\n    for (const name in js_exports) {\n      var url = js_exports[name];\n      if (skip.indexOf(url) >= 0 || root[name] != null) {\n\tif (!window.requirejs) {\n\t  on_load();\n\t}\n\tcontinue;\n      }\n      var element = document.createElement('script');\n      element.onerror = on_error;\n      element.async = false;\n      element.type = \"module\";\n      console.debug(\"Bokeh: injecting script tag for BokehJS library: \", url);\n      element.textContent = `\n      import ${name} from \"${url}\"\n      window.${name} = ${name}\n      window._bokeh_on_load()\n      `\n      document.head.appendChild(element);\n    }\n    if (!js_urls.length && !js_modules.length) {\n      on_load()\n    }\n  };\n\n  function inject_raw_css(css) {\n    const element = document.createElement(\"style\");\n    element.appendChild(document.createTextNode(css));\n    document.body.appendChild(element);\n  }\n\n  var js_urls = [\"https://cdnjs.cloudflare.com/ajax/libs/ace/1.4.11/ace.js\", \"https://cdnjs.cloudflare.com/ajax/libs/ace/1.4.11/ext-language_tools.js\", \"https://cdnjs.cloudflare.com/ajax/libs/ace/1.4.11/ext-modelist.js\", \"https://cdn.bokeh.org/bokeh/release/bokeh-3.4.1.min.js\", \"https://cdn.bokeh.org/bokeh/release/bokeh-gl-3.4.1.min.js\", \"https://cdn.bokeh.org/bokeh/release/bokeh-widgets-3.4.1.min.js\", \"https://cdn.bokeh.org/bokeh/release/bokeh-tables-3.4.1.min.js\", \"https://cdn.holoviz.org/panel/1.4.1/dist/panel.min.js\"];\n  var js_modules = [];\n  var js_exports = {};\n  var css_urls = [];\n  var inline_js = [    function(Bokeh) {\n      inject_raw_css(\"/*\\n ~ CML // Creative Machine Learning ~\\n mml.css : CSS styling information for Panel and Bokeh\\n \\n This file defines the main CSS styling information for the CML course\\n \\n Author               :  Philippe Esling\\n                        <esling@ircam.fr>\\n*/\\n\\nbody {\\n  display: flex;\\n  height: 100vh;\\n  margin: 0px;\\n  overflow-x: hidden;\\n  overflow-y: hidden;\\n}\\n\\n.bk-root .bk, .bk-root .bk:before, .bk-root .bk:after {\\n  font-family: \\\"Josefin Sans\\\";\\n}\\n\\nimg {\\n  max-width: 100%;\\n}\\n\\n#container {\\n  padding:0px;\\n  height:100vh;\\n  width: 100vw;\\n  max-width: 100vw;\\n}\\n\\n#sidebar .mdc-list {\\n  padding-left: 5px;\\n  padding-right: 5px;\\n}\\n\\n.mdc-drawer-app-content {\\n  flex: auto;\\n  position: relative;\\n  overflow: hidden;\\n}\\n\\n.mdc-drawer {\\n  background: #FAFAFA; /* GRAY 50 */\\n}\\n\\n.mdc-drawer-app-content {\\n  margin-left: 0 !important;\\n}\\n\\n.title-bar {\\n  display: contents;\\n  justify-content: center;\\n  align-content: center;\\n  width: 100%;\\n}\\n\\n.mdc-top-app-bar .bk-menu {\\n  color: black\\n}\\n\\n.app-header {\\n  display: contents;\\n  padding-left: 10px;\\n  font-size: 1.25em;\\n}\\n\\nimg.app-logo {\\n  padding-right: 10px;\\n  font-size: 28px;\\n  height: 30px;\\n  max-width: inherit;\\n  padding-top: 12px;\\n  padding-bottom: 6px;\\n}\\n\\n#app-title {\\n  padding-right: 12px;\\n  padding-left: 12px;\\n}\\n\\n.title {\\n  font-family: \\\"Josefin Sans\\\";\\n  color: #fff;\\n  text-decoration: none;\\n  text-decoration-line: none;\\n  text-decoration-style: initial;\\n  text-decoration-color: initial;\\n  font-weight: 400;\\n  font-size: 2em;\\n  line-height: 2em;\\n  white-space: nowrap;\\n}\\n\\n.main-content {\\n  overflow-y: scroll;\\n  overflow-x: auto;\\n}\\n\\n#header {\\n  position: absolute;\\n  z-index: 7;\\n}\\n\\n#header-items {\\n  width: 100%;\\n  margin-left:15px;\\n}\\n\\n.pn-busy-container {\\n  align-items: center;\\n  justify-content: center;\\n  display: flex;\\n}\\n\\n.mdc-drawer__content {\\n  overflow-x: hidden;\\n}\\n.mdc-drawer__content, .main-content {\\n  padding: 12px;\\n}\\n\\n.main-content {\\n  height: calc(100vh - 88px);\\n  max-height: calc(100vh - 88px);\\n  padding-right: 32px;\\n}\\n\\nbutton.mdc-button.mdc-card-button {\\n  color: transparent;\\n  height: 50px;\\n}\\n\\np.mdc-button {\\n  display: none;\\n}\\n\\ndiv.mdc-card {\\n  border-radius: 0px\\n}\\n\\n.mdc-card .card-header {\\n  display: flex;\\n}\\n\\n.mdc-card-title {\\n  font-family: \\\"Josefin Sans\\\";\\n  font-weight: bold;\\n  align-items: center;\\n  display: flex !important;\\n  position: relative !important;\\n}\\n\\n.mdc-card-title:nth-child(2) {\\n  margin-left: -1.4em;\\n}\\n\\n.pn-modal {\\n  overflow-y: scroll;\\n  width: 100%;\\n  display: none;\\n  position: absolute;\\n  top: 0;\\n  left: 0;\\n}\\n\\n.pn-modal-content {\\n  font-family: \\\"Josefin Sans\\\";\\n  background-color: #0e0e0e;\\n  margin: auto;\\n  margin-top: 25px;\\n  margin-bottom: 25px;\\n  padding: 15px 20px 20px 20px;\\n  border: 1px solid #888;\\n  width: 80% !important;\\n}\\n\\n.pn-modal-close {\\n  position: absolute;\\n  right: 25px;\\n  z-index: 100;\\n}\\n\\n.pn-modal-close:hover,\\n.pn-modal-close:focus {\\n  color: #000;\\n  text-decoration: none;\\n  cursor: pointer;\\n}\\n\\n.custom_button_bokeh button.bk-btn.bk-btn-default {\\n    font-size:48pt;\\n    background-color: #05b7ff;\\n    border-color: #05b7ff;\\n}\");\n    },    function(Bokeh) {\n      Bokeh.set_log_level(\"info\");\n    },\nfunction(Bokeh) {} // ensure no trailing comma for IE\n  ];\n\n  function run_inline_js() {\n    if ((root.Bokeh !== undefined) || (force === true)) {\n      for (var i = 0; i < inline_js.length; i++) {\n\ttry {\n          inline_js[i].call(root, root.Bokeh);\n\t} catch(e) {\n\t  if (!reloading) {\n\t    throw e;\n\t  }\n\t}\n      }\n      // Cache old bokeh versions\n      if (Bokeh != undefined && !reloading) {\n\tvar NewBokeh = root.Bokeh;\n\tif (Bokeh.versions === undefined) {\n\t  Bokeh.versions = new Map();\n\t}\n\tif (NewBokeh.version !== Bokeh.version) {\n\t  Bokeh.versions.set(NewBokeh.version, NewBokeh)\n\t}\n\troot.Bokeh = Bokeh;\n      }} else if (Date.now() < root._bokeh_timeout) {\n      setTimeout(run_inline_js, 100);\n    } else if (!root._bokeh_failed_load) {\n      console.log(\"Bokeh: BokehJS failed to load within specified timeout.\");\n      root._bokeh_failed_load = true;\n    }\n    root._bokeh_is_initializing = false\n  }\n\n  function load_or_wait() {\n    // Implement a backoff loop that tries to ensure we do not load multiple\n    // versions of Bokeh and its dependencies at the same time.\n    // In recent versions we use the root._bokeh_is_initializing flag\n    // to determine whether there is an ongoing attempt to initialize\n    // bokeh, however for backward compatibility we also try to ensure\n    // that we do not start loading a newer (Panel>=1.0 and Bokeh>3) version\n    // before older versions are fully initialized.\n    if (root._bokeh_is_initializing && Date.now() > root._bokeh_timeout) {\n      root._bokeh_is_initializing = false;\n      root._bokeh_onload_callbacks = undefined;\n      console.log(\"Bokeh: BokehJS was loaded multiple times but one version failed to initialize.\");\n      load_or_wait();\n    } else if (root._bokeh_is_initializing || (typeof root._bokeh_is_initializing === \"undefined\" && root._bokeh_onload_callbacks !== undefined)) {\n      setTimeout(load_or_wait, 100);\n    } else {\n      root._bokeh_is_initializing = true\n      root._bokeh_onload_callbacks = []\n      var bokeh_loaded = Bokeh != null && (Bokeh.version === py_version || (Bokeh.versions !== undefined && Bokeh.versions.has(py_version)));\n      if (!reloading && !bokeh_loaded) {\n\troot.Bokeh = undefined;\n      }\n      load_libs(css_urls, js_urls, js_modules, js_exports, function() {\n\tconsole.debug(\"Bokeh: BokehJS plotting callback run at\", now());\n\trun_inline_js();\n      });\n    }\n  }\n  // Give older versions of the autoload script a head-start to ensure\n  // they initialize before we start loading newer version.\n  setTimeout(load_or_wait, 100)\n}(window));"
     },
     "metadata": {},
     "output_type": "display_data"
    },
    {
     "data": {
      "application/javascript": [
       "\n",
       "if ((window.PyViz === undefined) || (window.PyViz instanceof HTMLElement)) {\n",
       "  window.PyViz = {comms: {}, comm_status:{}, kernels:{}, receivers: {}, plot_index: []}\n",
       "}\n",
       "\n",
       "\n",
       "    function JupyterCommManager() {\n",
       "    }\n",
       "\n",
       "    JupyterCommManager.prototype.register_target = function(plot_id, comm_id, msg_handler) {\n",
       "      if (window.comm_manager || ((window.Jupyter !== undefined) && (Jupyter.notebook.kernel != null))) {\n",
       "        var comm_manager = window.comm_manager || Jupyter.notebook.kernel.comm_manager;\n",
       "        comm_manager.register_target(comm_id, function(comm) {\n",
       "          comm.on_msg(msg_handler);\n",
       "        });\n",
       "      } else if ((plot_id in window.PyViz.kernels) && (window.PyViz.kernels[plot_id])) {\n",
       "        window.PyViz.kernels[plot_id].registerCommTarget(comm_id, function(comm) {\n",
       "          comm.onMsg = msg_handler;\n",
       "        });\n",
       "      } else if (typeof google != 'undefined' && google.colab.kernel != null) {\n",
       "        google.colab.kernel.comms.registerTarget(comm_id, (comm) => {\n",
       "          var messages = comm.messages[Symbol.asyncIterator]();\n",
       "          function processIteratorResult(result) {\n",
       "            var message = result.value;\n",
       "            console.log(message)\n",
       "            var content = {data: message.data, comm_id};\n",
       "            var buffers = []\n",
       "            for (var buffer of message.buffers || []) {\n",
       "              buffers.push(new DataView(buffer))\n",
       "            }\n",
       "            var metadata = message.metadata || {};\n",
       "            var msg = {content, buffers, metadata}\n",
       "            msg_handler(msg);\n",
       "            return messages.next().then(processIteratorResult);\n",
       "          }\n",
       "          return messages.next().then(processIteratorResult);\n",
       "        })\n",
       "      }\n",
       "    }\n",
       "\n",
       "    JupyterCommManager.prototype.get_client_comm = function(plot_id, comm_id, msg_handler) {\n",
       "      if (comm_id in window.PyViz.comms) {\n",
       "        return window.PyViz.comms[comm_id];\n",
       "      } else if (window.comm_manager || ((window.Jupyter !== undefined) && (Jupyter.notebook.kernel != null))) {\n",
       "        var comm_manager = window.comm_manager || Jupyter.notebook.kernel.comm_manager;\n",
       "        var comm = comm_manager.new_comm(comm_id, {}, {}, {}, comm_id);\n",
       "        if (msg_handler) {\n",
       "          comm.on_msg(msg_handler);\n",
       "        }\n",
       "      } else if ((plot_id in window.PyViz.kernels) && (window.PyViz.kernels[plot_id])) {\n",
       "        var comm = window.PyViz.kernels[plot_id].connectToComm(comm_id);\n",
       "        comm.open();\n",
       "        if (msg_handler) {\n",
       "          comm.onMsg = msg_handler;\n",
       "        }\n",
       "      } else if (typeof google != 'undefined' && google.colab.kernel != null) {\n",
       "        var comm_promise = google.colab.kernel.comms.open(comm_id)\n",
       "        comm_promise.then((comm) => {\n",
       "          window.PyViz.comms[comm_id] = comm;\n",
       "          if (msg_handler) {\n",
       "            var messages = comm.messages[Symbol.asyncIterator]();\n",
       "            function processIteratorResult(result) {\n",
       "              var message = result.value;\n",
       "              var content = {data: message.data};\n",
       "              var metadata = message.metadata || {comm_id};\n",
       "              var msg = {content, metadata}\n",
       "              msg_handler(msg);\n",
       "              return messages.next().then(processIteratorResult);\n",
       "            }\n",
       "            return messages.next().then(processIteratorResult);\n",
       "          }\n",
       "        }) \n",
       "        var sendClosure = (data, metadata, buffers, disposeOnDone) => {\n",
       "          return comm_promise.then((comm) => {\n",
       "            comm.send(data, metadata, buffers, disposeOnDone);\n",
       "          });\n",
       "        };\n",
       "        var comm = {\n",
       "          send: sendClosure\n",
       "        };\n",
       "      }\n",
       "      window.PyViz.comms[comm_id] = comm;\n",
       "      return comm;\n",
       "    }\n",
       "    window.PyViz.comm_manager = new JupyterCommManager();\n",
       "    \n",
       "\n",
       "\n",
       "var JS_MIME_TYPE = 'application/javascript';\n",
       "var HTML_MIME_TYPE = 'text/html';\n",
       "var EXEC_MIME_TYPE = 'application/vnd.holoviews_exec.v0+json';\n",
       "var CLASS_NAME = 'output';\n",
       "\n",
       "/**\n",
       " * Render data to the DOM node\n",
       " */\n",
       "function render(props, node) {\n",
       "  var div = document.createElement(\"div\");\n",
       "  var script = document.createElement(\"script\");\n",
       "  node.appendChild(div);\n",
       "  node.appendChild(script);\n",
       "}\n",
       "\n",
       "/**\n",
       " * Handle when a new output is added\n",
       " */\n",
       "function handle_add_output(event, handle) {\n",
       "  var output_area = handle.output_area;\n",
       "  var output = handle.output;\n",
       "  if ((output.data == undefined) || (!output.data.hasOwnProperty(EXEC_MIME_TYPE))) {\n",
       "    return\n",
       "  }\n",
       "  var id = output.metadata[EXEC_MIME_TYPE][\"id\"];\n",
       "  var toinsert = output_area.element.find(\".\" + CLASS_NAME.split(' ')[0]);\n",
       "  if (id !== undefined) {\n",
       "    var nchildren = toinsert.length;\n",
       "    var html_node = toinsert[nchildren-1].children[0];\n",
       "    html_node.innerHTML = output.data[HTML_MIME_TYPE];\n",
       "    var scripts = [];\n",
       "    var nodelist = html_node.querySelectorAll(\"script\");\n",
       "    for (var i in nodelist) {\n",
       "      if (nodelist.hasOwnProperty(i)) {\n",
       "        scripts.push(nodelist[i])\n",
       "      }\n",
       "    }\n",
       "\n",
       "    scripts.forEach( function (oldScript) {\n",
       "      var newScript = document.createElement(\"script\");\n",
       "      var attrs = [];\n",
       "      var nodemap = oldScript.attributes;\n",
       "      for (var j in nodemap) {\n",
       "        if (nodemap.hasOwnProperty(j)) {\n",
       "          attrs.push(nodemap[j])\n",
       "        }\n",
       "      }\n",
       "      attrs.forEach(function(attr) { newScript.setAttribute(attr.name, attr.value) });\n",
       "      newScript.appendChild(document.createTextNode(oldScript.innerHTML));\n",
       "      oldScript.parentNode.replaceChild(newScript, oldScript);\n",
       "    });\n",
       "    if (JS_MIME_TYPE in output.data) {\n",
       "      toinsert[nchildren-1].children[1].textContent = output.data[JS_MIME_TYPE];\n",
       "    }\n",
       "    output_area._hv_plot_id = id;\n",
       "    if ((window.Bokeh !== undefined) && (id in Bokeh.index)) {\n",
       "      window.PyViz.plot_index[id] = Bokeh.index[id];\n",
       "    } else {\n",
       "      window.PyViz.plot_index[id] = null;\n",
       "    }\n",
       "  } else if (output.metadata[EXEC_MIME_TYPE][\"server_id\"] !== undefined) {\n",
       "    var bk_div = document.createElement(\"div\");\n",
       "    bk_div.innerHTML = output.data[HTML_MIME_TYPE];\n",
       "    var script_attrs = bk_div.children[0].attributes;\n",
       "    for (var i = 0; i < script_attrs.length; i++) {\n",
       "      toinsert[toinsert.length - 1].childNodes[1].setAttribute(script_attrs[i].name, script_attrs[i].value);\n",
       "    }\n",
       "    // store reference to server id on output_area\n",
       "    output_area._bokeh_server_id = output.metadata[EXEC_MIME_TYPE][\"server_id\"];\n",
       "  }\n",
       "}\n",
       "\n",
       "/**\n",
       " * Handle when an output is cleared or removed\n",
       " */\n",
       "function handle_clear_output(event, handle) {\n",
       "  var id = handle.cell.output_area._hv_plot_id;\n",
       "  var server_id = handle.cell.output_area._bokeh_server_id;\n",
       "  if (((id === undefined) || !(id in PyViz.plot_index)) && (server_id !== undefined)) { return; }\n",
       "  var comm = window.PyViz.comm_manager.get_client_comm(\"hv-extension-comm\", \"hv-extension-comm\", function () {});\n",
       "  if (server_id !== null) {\n",
       "    comm.send({event_type: 'server_delete', 'id': server_id});\n",
       "    return;\n",
       "  } else if (comm !== null) {\n",
       "    comm.send({event_type: 'delete', 'id': id});\n",
       "  }\n",
       "  delete PyViz.plot_index[id];\n",
       "  if ((window.Bokeh !== undefined) & (id in window.Bokeh.index)) {\n",
       "    var doc = window.Bokeh.index[id].model.document\n",
       "    doc.clear();\n",
       "    const i = window.Bokeh.documents.indexOf(doc);\n",
       "    if (i > -1) {\n",
       "      window.Bokeh.documents.splice(i, 1);\n",
       "    }\n",
       "  }\n",
       "}\n",
       "\n",
       "/**\n",
       " * Handle kernel restart event\n",
       " */\n",
       "function handle_kernel_cleanup(event, handle) {\n",
       "  delete PyViz.comms[\"hv-extension-comm\"];\n",
       "  window.PyViz.plot_index = {}\n",
       "}\n",
       "\n",
       "/**\n",
       " * Handle update_display_data messages\n",
       " */\n",
       "function handle_update_output(event, handle) {\n",
       "  handle_clear_output(event, {cell: {output_area: handle.output_area}})\n",
       "  handle_add_output(event, handle)\n",
       "}\n",
       "\n",
       "function register_renderer(events, OutputArea) {\n",
       "  function append_mime(data, metadata, element) {\n",
       "    // create a DOM node to render to\n",
       "    var toinsert = this.create_output_subarea(\n",
       "    metadata,\n",
       "    CLASS_NAME,\n",
       "    EXEC_MIME_TYPE\n",
       "    );\n",
       "    this.keyboard_manager.register_events(toinsert);\n",
       "    // Render to node\n",
       "    var props = {data: data, metadata: metadata[EXEC_MIME_TYPE]};\n",
       "    render(props, toinsert[0]);\n",
       "    element.append(toinsert);\n",
       "    return toinsert\n",
       "  }\n",
       "\n",
       "  events.on('output_added.OutputArea', handle_add_output);\n",
       "  events.on('output_updated.OutputArea', handle_update_output);\n",
       "  events.on('clear_output.CodeCell', handle_clear_output);\n",
       "  events.on('delete.Cell', handle_clear_output);\n",
       "  events.on('kernel_ready.Kernel', handle_kernel_cleanup);\n",
       "\n",
       "  OutputArea.prototype.register_mime_type(EXEC_MIME_TYPE, append_mime, {\n",
       "    safe: true,\n",
       "    index: 0\n",
       "  });\n",
       "}\n",
       "\n",
       "if (window.Jupyter !== undefined) {\n",
       "  try {\n",
       "    var events = require('base/js/events');\n",
       "    var OutputArea = require('notebook/js/outputarea').OutputArea;\n",
       "    if (OutputArea.prototype.mime_types().indexOf(EXEC_MIME_TYPE) == -1) {\n",
       "      register_renderer(events, OutputArea);\n",
       "    }\n",
       "  } catch(err) {\n",
       "  }\n",
       "}\n"
      ],
      "application/vnd.holoviews_load.v0+json": "\nif ((window.PyViz === undefined) || (window.PyViz instanceof HTMLElement)) {\n  window.PyViz = {comms: {}, comm_status:{}, kernels:{}, receivers: {}, plot_index: []}\n}\n\n\n    function JupyterCommManager() {\n    }\n\n    JupyterCommManager.prototype.register_target = function(plot_id, comm_id, msg_handler) {\n      if (window.comm_manager || ((window.Jupyter !== undefined) && (Jupyter.notebook.kernel != null))) {\n        var comm_manager = window.comm_manager || Jupyter.notebook.kernel.comm_manager;\n        comm_manager.register_target(comm_id, function(comm) {\n          comm.on_msg(msg_handler);\n        });\n      } else if ((plot_id in window.PyViz.kernels) && (window.PyViz.kernels[plot_id])) {\n        window.PyViz.kernels[plot_id].registerCommTarget(comm_id, function(comm) {\n          comm.onMsg = msg_handler;\n        });\n      } else if (typeof google != 'undefined' && google.colab.kernel != null) {\n        google.colab.kernel.comms.registerTarget(comm_id, (comm) => {\n          var messages = comm.messages[Symbol.asyncIterator]();\n          function processIteratorResult(result) {\n            var message = result.value;\n            console.log(message)\n            var content = {data: message.data, comm_id};\n            var buffers = []\n            for (var buffer of message.buffers || []) {\n              buffers.push(new DataView(buffer))\n            }\n            var metadata = message.metadata || {};\n            var msg = {content, buffers, metadata}\n            msg_handler(msg);\n            return messages.next().then(processIteratorResult);\n          }\n          return messages.next().then(processIteratorResult);\n        })\n      }\n    }\n\n    JupyterCommManager.prototype.get_client_comm = function(plot_id, comm_id, msg_handler) {\n      if (comm_id in window.PyViz.comms) {\n        return window.PyViz.comms[comm_id];\n      } else if (window.comm_manager || ((window.Jupyter !== undefined) && (Jupyter.notebook.kernel != null))) {\n        var comm_manager = window.comm_manager || Jupyter.notebook.kernel.comm_manager;\n        var comm = comm_manager.new_comm(comm_id, {}, {}, {}, comm_id);\n        if (msg_handler) {\n          comm.on_msg(msg_handler);\n        }\n      } else if ((plot_id in window.PyViz.kernels) && (window.PyViz.kernels[plot_id])) {\n        var comm = window.PyViz.kernels[plot_id].connectToComm(comm_id);\n        comm.open();\n        if (msg_handler) {\n          comm.onMsg = msg_handler;\n        }\n      } else if (typeof google != 'undefined' && google.colab.kernel != null) {\n        var comm_promise = google.colab.kernel.comms.open(comm_id)\n        comm_promise.then((comm) => {\n          window.PyViz.comms[comm_id] = comm;\n          if (msg_handler) {\n            var messages = comm.messages[Symbol.asyncIterator]();\n            function processIteratorResult(result) {\n              var message = result.value;\n              var content = {data: message.data};\n              var metadata = message.metadata || {comm_id};\n              var msg = {content, metadata}\n              msg_handler(msg);\n              return messages.next().then(processIteratorResult);\n            }\n            return messages.next().then(processIteratorResult);\n          }\n        }) \n        var sendClosure = (data, metadata, buffers, disposeOnDone) => {\n          return comm_promise.then((comm) => {\n            comm.send(data, metadata, buffers, disposeOnDone);\n          });\n        };\n        var comm = {\n          send: sendClosure\n        };\n      }\n      window.PyViz.comms[comm_id] = comm;\n      return comm;\n    }\n    window.PyViz.comm_manager = new JupyterCommManager();\n    \n\n\nvar JS_MIME_TYPE = 'application/javascript';\nvar HTML_MIME_TYPE = 'text/html';\nvar EXEC_MIME_TYPE = 'application/vnd.holoviews_exec.v0+json';\nvar CLASS_NAME = 'output';\n\n/**\n * Render data to the DOM node\n */\nfunction render(props, node) {\n  var div = document.createElement(\"div\");\n  var script = document.createElement(\"script\");\n  node.appendChild(div);\n  node.appendChild(script);\n}\n\n/**\n * Handle when a new output is added\n */\nfunction handle_add_output(event, handle) {\n  var output_area = handle.output_area;\n  var output = handle.output;\n  if ((output.data == undefined) || (!output.data.hasOwnProperty(EXEC_MIME_TYPE))) {\n    return\n  }\n  var id = output.metadata[EXEC_MIME_TYPE][\"id\"];\n  var toinsert = output_area.element.find(\".\" + CLASS_NAME.split(' ')[0]);\n  if (id !== undefined) {\n    var nchildren = toinsert.length;\n    var html_node = toinsert[nchildren-1].children[0];\n    html_node.innerHTML = output.data[HTML_MIME_TYPE];\n    var scripts = [];\n    var nodelist = html_node.querySelectorAll(\"script\");\n    for (var i in nodelist) {\n      if (nodelist.hasOwnProperty(i)) {\n        scripts.push(nodelist[i])\n      }\n    }\n\n    scripts.forEach( function (oldScript) {\n      var newScript = document.createElement(\"script\");\n      var attrs = [];\n      var nodemap = oldScript.attributes;\n      for (var j in nodemap) {\n        if (nodemap.hasOwnProperty(j)) {\n          attrs.push(nodemap[j])\n        }\n      }\n      attrs.forEach(function(attr) { newScript.setAttribute(attr.name, attr.value) });\n      newScript.appendChild(document.createTextNode(oldScript.innerHTML));\n      oldScript.parentNode.replaceChild(newScript, oldScript);\n    });\n    if (JS_MIME_TYPE in output.data) {\n      toinsert[nchildren-1].children[1].textContent = output.data[JS_MIME_TYPE];\n    }\n    output_area._hv_plot_id = id;\n    if ((window.Bokeh !== undefined) && (id in Bokeh.index)) {\n      window.PyViz.plot_index[id] = Bokeh.index[id];\n    } else {\n      window.PyViz.plot_index[id] = null;\n    }\n  } else if (output.metadata[EXEC_MIME_TYPE][\"server_id\"] !== undefined) {\n    var bk_div = document.createElement(\"div\");\n    bk_div.innerHTML = output.data[HTML_MIME_TYPE];\n    var script_attrs = bk_div.children[0].attributes;\n    for (var i = 0; i < script_attrs.length; i++) {\n      toinsert[toinsert.length - 1].childNodes[1].setAttribute(script_attrs[i].name, script_attrs[i].value);\n    }\n    // store reference to server id on output_area\n    output_area._bokeh_server_id = output.metadata[EXEC_MIME_TYPE][\"server_id\"];\n  }\n}\n\n/**\n * Handle when an output is cleared or removed\n */\nfunction handle_clear_output(event, handle) {\n  var id = handle.cell.output_area._hv_plot_id;\n  var server_id = handle.cell.output_area._bokeh_server_id;\n  if (((id === undefined) || !(id in PyViz.plot_index)) && (server_id !== undefined)) { return; }\n  var comm = window.PyViz.comm_manager.get_client_comm(\"hv-extension-comm\", \"hv-extension-comm\", function () {});\n  if (server_id !== null) {\n    comm.send({event_type: 'server_delete', 'id': server_id});\n    return;\n  } else if (comm !== null) {\n    comm.send({event_type: 'delete', 'id': id});\n  }\n  delete PyViz.plot_index[id];\n  if ((window.Bokeh !== undefined) & (id in window.Bokeh.index)) {\n    var doc = window.Bokeh.index[id].model.document\n    doc.clear();\n    const i = window.Bokeh.documents.indexOf(doc);\n    if (i > -1) {\n      window.Bokeh.documents.splice(i, 1);\n    }\n  }\n}\n\n/**\n * Handle kernel restart event\n */\nfunction handle_kernel_cleanup(event, handle) {\n  delete PyViz.comms[\"hv-extension-comm\"];\n  window.PyViz.plot_index = {}\n}\n\n/**\n * Handle update_display_data messages\n */\nfunction handle_update_output(event, handle) {\n  handle_clear_output(event, {cell: {output_area: handle.output_area}})\n  handle_add_output(event, handle)\n}\n\nfunction register_renderer(events, OutputArea) {\n  function append_mime(data, metadata, element) {\n    // create a DOM node to render to\n    var toinsert = this.create_output_subarea(\n    metadata,\n    CLASS_NAME,\n    EXEC_MIME_TYPE\n    );\n    this.keyboard_manager.register_events(toinsert);\n    // Render to node\n    var props = {data: data, metadata: metadata[EXEC_MIME_TYPE]};\n    render(props, toinsert[0]);\n    element.append(toinsert);\n    return toinsert\n  }\n\n  events.on('output_added.OutputArea', handle_add_output);\n  events.on('output_updated.OutputArea', handle_update_output);\n  events.on('clear_output.CodeCell', handle_clear_output);\n  events.on('delete.Cell', handle_clear_output);\n  events.on('kernel_ready.Kernel', handle_kernel_cleanup);\n\n  OutputArea.prototype.register_mime_type(EXEC_MIME_TYPE, append_mime, {\n    safe: true,\n    index: 0\n  });\n}\n\nif (window.Jupyter !== undefined) {\n  try {\n    var events = require('base/js/events');\n    var OutputArea = require('notebook/js/outputarea').OutputArea;\n    if (OutputArea.prototype.mime_types().indexOf(EXEC_MIME_TYPE) == -1) {\n      register_renderer(events, OutputArea);\n    }\n  } catch(err) {\n  }\n}\n"
     },
     "metadata": {},
     "output_type": "display_data"
    },
    {
     "data": {
      "text/html": [
       "<style>*[data-root-id],\n",
       "*[data-root-id] > * {\n",
       "  box-sizing: border-box;\n",
       "  font-family: var(--jp-ui-font-family);\n",
       "  font-size: var(--jp-ui-font-size1);\n",
       "  color: var(--vscode-editor-foreground, var(--jp-ui-font-color1));\n",
       "}\n",
       "\n",
       "/* Override VSCode background color */\n",
       ".cell-output-ipywidget-background:has(\n",
       "    > .cell-output-ipywidget-background > .lm-Widget > *[data-root-id]\n",
       "  ),\n",
       ".cell-output-ipywidget-background:has(> .lm-Widget > *[data-root-id]) {\n",
       "  background-color: transparent !important;\n",
       "}\n",
       "</style>"
      ]
     },
     "metadata": {},
     "output_type": "display_data"
    },
    {
     "data": {
      "application/vnd.holoviews_exec.v0+json": "",
      "text/html": [
       "<div id='953f627a-e3fd-4bfa-9816-1125ed171eb5'>\n",
       "  <div id=\"c8433815-dd31-4c31-b1d2-0fc765dc876a\" data-root-id=\"953f627a-e3fd-4bfa-9816-1125ed171eb5\" style=\"display: contents;\"></div>\n",
       "</div>\n",
       "<script type=\"application/javascript\">(function(root) {\n",
       "  var docs_json = {\"338f9223-c14e-4c2f-ace7-eef62d3395da\":{\"version\":\"3.4.1\",\"title\":\"Bokeh Application\",\"roots\":[{\"type\":\"object\",\"name\":\"panel.models.browser.BrowserInfo\",\"id\":\"953f627a-e3fd-4bfa-9816-1125ed171eb5\"},{\"type\":\"object\",\"name\":\"panel.models.comm_manager.CommManager\",\"id\":\"1ba93b8e-9244-4f5b-8439-6313628684ab\",\"attributes\":{\"plot_id\":\"953f627a-e3fd-4bfa-9816-1125ed171eb5\",\"comm_id\":\"b6ad9bbc154140ae97ac114a80931f89\",\"client_comm_id\":\"901ff892f6f64788b449a6e5f198d859\"}}],\"defs\":[{\"type\":\"model\",\"name\":\"ReactiveHTML1\"},{\"type\":\"model\",\"name\":\"FlexBox1\",\"properties\":[{\"name\":\"align_content\",\"kind\":\"Any\",\"default\":\"flex-start\"},{\"name\":\"align_items\",\"kind\":\"Any\",\"default\":\"flex-start\"},{\"name\":\"flex_direction\",\"kind\":\"Any\",\"default\":\"row\"},{\"name\":\"flex_wrap\",\"kind\":\"Any\",\"default\":\"wrap\"},{\"name\":\"gap\",\"kind\":\"Any\",\"default\":\"\"},{\"name\":\"justify_content\",\"kind\":\"Any\",\"default\":\"flex-start\"}]},{\"type\":\"model\",\"name\":\"FloatPanel1\",\"properties\":[{\"name\":\"config\",\"kind\":\"Any\",\"default\":{\"type\":\"map\"}},{\"name\":\"contained\",\"kind\":\"Any\",\"default\":true},{\"name\":\"position\",\"kind\":\"Any\",\"default\":\"right-top\"},{\"name\":\"offsetx\",\"kind\":\"Any\",\"default\":null},{\"name\":\"offsety\",\"kind\":\"Any\",\"default\":null},{\"name\":\"theme\",\"kind\":\"Any\",\"default\":\"primary\"},{\"name\":\"status\",\"kind\":\"Any\",\"default\":\"normalized\"}]},{\"type\":\"model\",\"name\":\"GridStack1\",\"properties\":[{\"name\":\"mode\",\"kind\":\"Any\",\"default\":\"warn\"},{\"name\":\"ncols\",\"kind\":\"Any\",\"default\":null},{\"name\":\"nrows\",\"kind\":\"Any\",\"default\":null},{\"name\":\"allow_resize\",\"kind\":\"Any\",\"default\":true},{\"name\":\"allow_drag\",\"kind\":\"Any\",\"default\":true},{\"name\":\"state\",\"kind\":\"Any\",\"default\":[]}]},{\"type\":\"model\",\"name\":\"drag1\",\"properties\":[{\"name\":\"slider_width\",\"kind\":\"Any\",\"default\":5},{\"name\":\"slider_color\",\"kind\":\"Any\",\"default\":\"black\"},{\"name\":\"value\",\"kind\":\"Any\",\"default\":50}]},{\"type\":\"model\",\"name\":\"click1\",\"properties\":[{\"name\":\"terminal_output\",\"kind\":\"Any\",\"default\":\"\"},{\"name\":\"debug_name\",\"kind\":\"Any\",\"default\":\"\"},{\"name\":\"clears\",\"kind\":\"Any\",\"default\":0}]},{\"type\":\"model\",\"name\":\"FastWrapper1\",\"properties\":[{\"name\":\"object\",\"kind\":\"Any\",\"default\":null},{\"name\":\"style\",\"kind\":\"Any\",\"default\":null}]},{\"type\":\"model\",\"name\":\"NotificationAreaBase1\",\"properties\":[{\"name\":\"js_events\",\"kind\":\"Any\",\"default\":{\"type\":\"map\"}},{\"name\":\"position\",\"kind\":\"Any\",\"default\":\"bottom-right\"},{\"name\":\"_clear\",\"kind\":\"Any\",\"default\":0}]},{\"type\":\"model\",\"name\":\"NotificationArea1\",\"properties\":[{\"name\":\"js_events\",\"kind\":\"Any\",\"default\":{\"type\":\"map\"}},{\"name\":\"notifications\",\"kind\":\"Any\",\"default\":[]},{\"name\":\"position\",\"kind\":\"Any\",\"default\":\"bottom-right\"},{\"name\":\"_clear\",\"kind\":\"Any\",\"default\":0},{\"name\":\"types\",\"kind\":\"Any\",\"default\":[{\"type\":\"map\",\"entries\":[[\"type\",\"warning\"],[\"background\",\"#ffc107\"],[\"icon\",{\"type\":\"map\",\"entries\":[[\"className\",\"fas fa-exclamation-triangle\"],[\"tagName\",\"i\"],[\"color\",\"white\"]]}]]},{\"type\":\"map\",\"entries\":[[\"type\",\"info\"],[\"background\",\"#007bff\"],[\"icon\",{\"type\":\"map\",\"entries\":[[\"className\",\"fas fa-info-circle\"],[\"tagName\",\"i\"],[\"color\",\"white\"]]}]]}]}]},{\"type\":\"model\",\"name\":\"Notification\",\"properties\":[{\"name\":\"background\",\"kind\":\"Any\",\"default\":null},{\"name\":\"duration\",\"kind\":\"Any\",\"default\":3000},{\"name\":\"icon\",\"kind\":\"Any\",\"default\":null},{\"name\":\"message\",\"kind\":\"Any\",\"default\":\"\"},{\"name\":\"notification_type\",\"kind\":\"Any\",\"default\":null},{\"name\":\"_destroyed\",\"kind\":\"Any\",\"default\":false}]},{\"type\":\"model\",\"name\":\"TemplateActions1\",\"properties\":[{\"name\":\"open_modal\",\"kind\":\"Any\",\"default\":0},{\"name\":\"close_modal\",\"kind\":\"Any\",\"default\":0}]},{\"type\":\"model\",\"name\":\"BootstrapTemplateActions1\",\"properties\":[{\"name\":\"open_modal\",\"kind\":\"Any\",\"default\":0},{\"name\":\"close_modal\",\"kind\":\"Any\",\"default\":0}]},{\"type\":\"model\",\"name\":\"TemplateEditor1\",\"properties\":[{\"name\":\"layout\",\"kind\":\"Any\",\"default\":[]}]},{\"type\":\"model\",\"name\":\"MaterialTemplateActions1\",\"properties\":[{\"name\":\"open_modal\",\"kind\":\"Any\",\"default\":0},{\"name\":\"close_modal\",\"kind\":\"Any\",\"default\":0}]},{\"type\":\"model\",\"name\":\"copy_to_clipboard1\",\"properties\":[{\"name\":\"fill\",\"kind\":\"Any\",\"default\":\"none\"},{\"name\":\"value\",\"kind\":\"Any\",\"default\":null}]}]}};\n",
       "  var render_items = [{\"docid\":\"338f9223-c14e-4c2f-ace7-eef62d3395da\",\"roots\":{\"953f627a-e3fd-4bfa-9816-1125ed171eb5\":\"c8433815-dd31-4c31-b1d2-0fc765dc876a\"},\"root_ids\":[\"953f627a-e3fd-4bfa-9816-1125ed171eb5\"]}];\n",
       "  var docs = Object.values(docs_json)\n",
       "  if (!docs) {\n",
       "    return\n",
       "  }\n",
       "  const py_version = docs[0].version.replace('rc', '-rc.').replace('.dev', '-dev.')\n",
       "  function embed_document(root) {\n",
       "    var Bokeh = get_bokeh(root)\n",
       "    Bokeh.embed.embed_items_notebook(docs_json, render_items);\n",
       "    for (const render_item of render_items) {\n",
       "      for (const root_id of render_item.root_ids) {\n",
       "\tconst id_el = document.getElementById(root_id)\n",
       "\tif (id_el.children.length && (id_el.children[0].className === 'bk-root')) {\n",
       "\t  const root_el = id_el.children[0]\n",
       "\t  root_el.id = root_el.id + '-rendered'\n",
       "\t}\n",
       "      }\n",
       "    }\n",
       "  }\n",
       "  function get_bokeh(root) {\n",
       "    if (root.Bokeh === undefined) {\n",
       "      return null\n",
       "    } else if (root.Bokeh.version !== py_version) {\n",
       "      if (root.Bokeh.versions === undefined || !root.Bokeh.versions.has(py_version)) {\n",
       "\treturn null\n",
       "      }\n",
       "      return root.Bokeh.versions.get(py_version);\n",
       "    } else if (root.Bokeh.version === py_version) {\n",
       "      return root.Bokeh\n",
       "    }\n",
       "    return null\n",
       "  }\n",
       "  function is_loaded(root) {\n",
       "    var Bokeh = get_bokeh(root)\n",
       "    return (Bokeh != null && Bokeh.Panel !== undefined)\n",
       "  }\n",
       "  if (is_loaded(root)) {\n",
       "    embed_document(root);\n",
       "  } else {\n",
       "    var attempts = 0;\n",
       "    var timer = setInterval(function(root) {\n",
       "      if (is_loaded(root)) {\n",
       "        clearInterval(timer);\n",
       "        embed_document(root);\n",
       "      } else if (document.readyState == \"complete\") {\n",
       "        attempts++;\n",
       "        if (attempts > 200) {\n",
       "          clearInterval(timer);\n",
       "\t  var Bokeh = get_bokeh(root)\n",
       "\t  if (Bokeh == null || Bokeh.Panel == null) {\n",
       "            console.warn(\"Panel: ERROR: Unable to run Panel code because Bokeh or Panel library is missing\");\n",
       "\t  } else {\n",
       "\t    console.warn(\"Panel: WARNING: Attempting to render but not all required libraries could be resolved.\")\n",
       "\t    embed_document(root)\n",
       "\t  }\n",
       "        }\n",
       "      }\n",
       "    }, 25, root)\n",
       "  }\n",
       "})(window);</script>"
      ]
     },
     "metadata": {
      "application/vnd.holoviews_exec.v0+json": {
       "id": "953f627a-e3fd-4bfa-9816-1125ed171eb5"
      }
     },
     "output_type": "display_data"
    }
   ],
   "source": [
    "# Base imports\n",
    "import numpy as np\n",
    "import matplotlib.pyplot as plt\n",
    "from cml.plot import initialize_bokeh\n",
    "from cml.panel import initialize_panel\n",
    "from jupyterthemes.stylefx import set_nb_theme\n",
    "from bokeh.io import show\n",
    "initialize_bokeh()\n",
    "initialize_panel()\n",
    "set_nb_theme(\"onedork\")\n",
    "rng = np.random.RandomState(1)"
   ]
  },
  {
   "cell_type": "markdown",
   "metadata": {},
   "source": [
    "<a id=\"regression\"></a>\n",
    "## Simple learning problem\n",
    "\n",
    "Imagine that a certain process somewhere follows the form of a quadratic relationship\n",
    "\n",
    "$$\n",
    " y = a x^{2} + bx + c \n",
    "$$\n",
    "\n",
    "In this case, all the **unknown parameters** are that of a polynomial model, therefore we have $\\theta = \\{a, b, c\\}$. However, this is clearly an ideal (clean) case, whereas in natural observations, there might be some noise in our observations\n",
    "$$\n",
    " y = a x^{2} + bx + c +\\epsilon \\quad \\mbox{with} \\quad \\epsilon \\in [-0.1, 0.1]\n",
    "$$\n",
    "\n",
    "An example of such noisy observations for different parameters is given below"
   ]
  },
  {
   "cell_type": "code",
   "execution_count": 2,
   "metadata": {},
   "outputs": [],
   "source": [
    "# Parameters to our function\n",
    "eps = 0.1\n",
    "a, b, c = 5, 2, 0\n",
    "# Generating the corresponding data\n",
    "x = np.linspace(0, 1, 100)\n",
    "poly = np.poly1d([a, b, c])\n",
    "epsilon = np.random.uniform(-eps, eps, x.shape)\n",
    "y = poly(x) + epsilon"
   ]
  },
  {
   "cell_type": "code",
   "execution_count": 3,
   "metadata": {},
   "outputs": [
    {
     "name": "stderr",
     "output_type": "stream",
     "text": [
      "BokehDeprecationWarning: 'circle() method with size value' was deprecated in Bokeh 3.4.0 and will be removed, use 'scatter(size=...) instead' instead.\n"
     ]
    },
    {
     "data": {},
     "metadata": {},
     "output_type": "display_data"
    },
    {
     "data": {
      "application/vnd.holoviews_exec.v0+json": "",
      "text/html": [
       "<div id='82465961-bacf-4aed-832e-ed773d4d189f'>\n",
       "  <div id=\"b6f75956-97cb-407b-8f1f-729921b604d3\" data-root-id=\"82465961-bacf-4aed-832e-ed773d4d189f\" style=\"display: contents;\"></div>\n",
       "</div>\n",
       "<script type=\"application/javascript\">(function(root) {\n",
       "  var docs_json = {\"8e00961a-5092-441d-8f69-e9bfca444d67\":{\"version\":\"3.4.1\",\"title\":\"Bokeh Application\",\"roots\":[{\"type\":\"object\",\"name\":\"Row\",\"id\":\"82465961-bacf-4aed-832e-ed773d4d189f\",\"attributes\":{\"name\":\"Row00121\",\"stylesheets\":[\"\\n:host(.pn-loading):before, .pn-loading:before {\\n  background-color: #c3c3c3;\\n  mask-size: auto calc(min(50%, 400px));\\n  -webkit-mask-size: auto calc(min(50%, 400px));\\n}\",{\"type\":\"object\",\"name\":\"ImportedStyleSheet\",\"id\":\"dfa6dc57-5f4e-4588-864f-992151354ba5\",\"attributes\":{\"url\":\"https://cdn.holoviz.org/panel/1.4.1/dist/css/loading.css\"}},{\"type\":\"object\",\"name\":\"ImportedStyleSheet\",\"id\":\"601e8413-d4d0-4b51-baeb-e0649fffe226\",\"attributes\":{\"url\":\"cml/cml.css\"}},{\"type\":\"object\",\"name\":\"ImportedStyleSheet\",\"id\":\"0a39e1e4-19db-4860-81ee-21579a176b59\",\"attributes\":{\"url\":\"https://cdn.holoviz.org/panel/1.4.1/dist/css/listpanel.css\"}},{\"type\":\"object\",\"name\":\"ImportedStyleSheet\",\"id\":\"1b44f406-c2b6-47a9-a014-fdbb991d6749\",\"attributes\":{\"url\":\"https://cdn.holoviz.org/panel/1.4.1/dist/bundled/theme/default.css\"}},{\"type\":\"object\",\"name\":\"ImportedStyleSheet\",\"id\":\"e8dadd72-06c4-4419-a6d0-4b6ee199a5f6\",\"attributes\":{\"url\":\"https://cdn.holoviz.org/panel/1.4.1/dist/bundled/theme/native.css\"}}],\"min_width\":600,\"margin\":0,\"sizing_mode\":\"stretch_width\",\"align\":\"start\",\"children\":[{\"type\":\"object\",\"name\":\"Spacer\",\"id\":\"d5dae099-a163-4db9-9a5d-2771f244361f\",\"attributes\":{\"name\":\"HSpacer00117\",\"stylesheets\":[\"\\n:host(.pn-loading):before, .pn-loading:before {\\n  background-color: #c3c3c3;\\n  mask-size: auto calc(min(50%, 400px));\\n  -webkit-mask-size: auto calc(min(50%, 400px));\\n}\",{\"id\":\"dfa6dc57-5f4e-4588-864f-992151354ba5\"},{\"id\":\"601e8413-d4d0-4b51-baeb-e0649fffe226\"},{\"id\":\"1b44f406-c2b6-47a9-a014-fdbb991d6749\"},{\"id\":\"e8dadd72-06c4-4419-a6d0-4b6ee199a5f6\"}],\"margin\":0,\"sizing_mode\":\"stretch_width\",\"align\":\"start\"}},{\"type\":\"object\",\"name\":\"Figure\",\"id\":\"1dcf854d-46d6-44fc-9257-ea49d7ac32cd\",\"attributes\":{\"height\":450,\"x_range\":{\"type\":\"object\",\"name\":\"DataRange1d\",\"id\":\"820c1951-8dad-4cfb-8f10-e37804eb5c2d\"},\"y_range\":{\"type\":\"object\",\"name\":\"DataRange1d\",\"id\":\"58693fb3-695d-4d5c-b1cd-8f392fb58f05\"},\"x_scale\":{\"type\":\"object\",\"name\":\"LinearScale\",\"id\":\"b057333a-2d44-4953-bb80-3deb5d72ba94\"},\"y_scale\":{\"type\":\"object\",\"name\":\"LinearScale\",\"id\":\"b46a53a7-dd62-4ba4-aa67-311edecf1670\"},\"title\":{\"type\":\"object\",\"name\":\"Title\",\"id\":\"a8d95a3d-6b96-4876-8565-9c3b95e3b940\",\"attributes\":{\"text\":\"Simple quadratic problem\",\"text_color\":\"#E0E0E0\",\"text_font\":\"Josefin Sans\",\"text_font_size\":\"2.1em\"}},\"outline_line_color\":\"#E0E0E0\",\"outline_line_alpha\":0.25,\"outline_line_width\":3,\"renderers\":[{\"type\":\"object\",\"name\":\"GlyphRenderer\",\"id\":\"dea9dfe0-2e95-4220-9e2e-c744342acda8\",\"attributes\":{\"data_source\":{\"type\":\"object\",\"name\":\"ColumnDataSource\",\"id\":\"6e935240-d46a-4afa-90ba-a37e16347580\",\"attributes\":{\"selected\":{\"type\":\"object\",\"name\":\"Selection\",\"id\":\"d42ccc1a-5c2f-4bab-b6c3-c85b071821d9\",\"attributes\":{\"indices\":[],\"line_indices\":[]}},\"selection_policy\":{\"type\":\"object\",\"name\":\"UnionRenderers\",\"id\":\"651f3f42-c7d6-402d-819d-2406c4c265bc\"},\"data\":{\"type\":\"map\",\"entries\":[[\"x\",{\"type\":\"ndarray\",\"array\":{\"type\":\"bytes\",\"data\":\"AAAAAAAAAABbv1Kg1q+EP1u/UqDWr5Q/CB988MEHnz9bv1Kg1q+kPzJvZ0jM26k/CB988MEHrz9wZ0jM2xmyP1u/UqDWr7Q/RhdddNFFtz8yb2dIzNu5Px3HcRzHcbw/CB988MEHvz96O0Ni3s7AP3BnSMzbGcI/ZZNNNtlkwz9bv1Kg1q/EP1HrVwrU+sU/RhdddNFFxz88Q2LezpDIPzJvZ0jM28k/J5tssskmyz8dx3Ecx3HMPxPzdobEvM0/CB988MEHzz9/pUCtXynQP3o7Q2LeztA/ddFFF1100T9wZ0jM2xnSP2r9SoFav9I/ZZNNNtlk0z9gKVDrVwrUP1u/UqDWr9Q/VlVVVVVV1T9R61cK1PrVP0yBWr9SoNY/RhdddNFF1z9BrV8pUOvXPzxDYt7OkNg/N9lkk0022T8yb2dIzNvZPy0Fav1Kgdo/J5tssskm2z8iMW9nSMzbPx3HcRzHcdw/GF100UUX3T8T83aGxLzdPw6JeTtDYt4/CB988MEH3z8DtX6lQK3fP3+lQK1fKeA/ffDBBx984D96O0Ni3s7gP3eGxLydIeE/ddFFF1104T9yHMdxHMfhP3BnSMzbGeI/bbLJJpts4j9q/UqBWr/iP2hIzNsZEuM/ZZNNNtlk4z9j3s6QmLfjP2ApUOtXCuQ/XnTRRRdd5D9bv1Kg1q/kP1gK1PqVAuU/VlVVVVVV5T9ToNavFKjlP1HrVwrU+uU/TjbZZJNN5j9MgVq/UqDmP0nM2xkS8+Y/RhdddNFF5z9EYt7OkJjnP0GtXylQ6+c/P/jggw8+6D88Q2LezpDoPzmO4ziO4+g/N9lkk0026T80JObtDInpPzJvZ0jM2+k/L7rooosu6j8tBWr9SoHqPypQ61cK1Oo/J5tssskm6z8l5u0MiXnrPyIxb2dIzOs/IHzwwQcf7D8dx3Ecx3HsPxsS83aGxOw/GF100UUX7T8VqPUrBWrtPxPzdobEvO0/ED744IMP7j8OiXk7Q2LuPwvU+pUCte4/CB988MEH7z8Gav1KgVrvPwO1fqVAre8/AAAAAAAA8D8=\"},\"shape\":[100],\"dtype\":\"float64\",\"order\":\"little\"}],[\"y\",{\"type\":\"ndarray\",\"array\":{\"type\":\"bytes\",\"data\":\"4CVmvEz0fz8Qi3Dn3352P1lfEl9/o7U/VJoUcHNLwD8AVSZCo0IwP1SAD2Tv7rw/A7+iB2PwvD/RPmVIkwvEP6CAINsmT8M/LxrqOm/LwD99BBnX/n/OP9pvBfxdotM/dYEf/FEj1z+4diOkiX3TP4h2UrRsBdY/vy/a9UUg1z/FHEvzUovfP5FEkI21VN0/5bPm8W/74j8A02tgzDrlP/GLiV3BM+M/ZwO3COH95j8I7mJMdZvjP91oTEa50eg/sEy1chwa6T/Ka9hNcpbpPzKM8+fFsuk/bbpBd6w78D946DPgkADxP2teOhnyxe8/gBmuwfIy7z9271AKH+nwP7VYkvzJOPM/BsPoq8ce8j/QI9yQGWT1P7KMCrwCc/Q/30j07lPS9T9e2kajR173PziR8MKds/c/16cgRSNv+j8qmc9Xp8r5P371B7divvs/EEydeO+y/D+hPUIwBqL7P71A4YGmZf0/mc1Qv28A/j+Vf+4nyJn/P6CewSQXeABA/vgEFJCyAECn+nB0QxICQPDD44P/2AJAZ1lxo9YhAkAv9UebKcgCQNPWL1RPvwNAR1bf0UE8BEC6Ue1lW4kFQMtycb8+YAZApu1lhOhSBkADb4Knh0YHQCeRUw1PZQhAhg6hwScGCEBfv+PuvFUIQPeHPCKEhwlAlLMzQlUIC0Cq77nsWR0LQHFlRJoIhQxADuFmkedwDEBbZjNo/JsNQEQbfDYeVg5Aq4O/4sEfD0DezlqEY7MOQJitQl2q1w9AzCajQ5mMEEDE/YbkWRIRQF0ifu8mfBFAy0glZ8JVEUB8KSsvXBISQE76+WcbQhJAp8JqLm9xEkB8TtaSE/ESQAs0jB2qWBNAPk8M/eDmE0A7B3GpIWIUQHhXk7madRRAtxo3/DAFFUAlg0lBcfkVQKaZJGU7RhZAGJBMOwypFkC5phvBfJIWQL7wDtbjqxdAa22ogpKOF0AviHCabBIYQJV8bJlHXRhAyRnM/SdCGUC4H9rHrn8ZQOnw8OlG2hlAc8WpVzE2GkCzZfxnd+YaQFVVcJqfNhtATT2jiavBG0A=\"},\"shape\":[100],\"dtype\":\"float64\",\"order\":\"little\"}]]}}},\"view\":{\"type\":\"object\",\"name\":\"CDSView\",\"id\":\"abc43ee4-0d54-4f5f-a855-acff3b8b04e7\",\"attributes\":{\"filter\":{\"type\":\"object\",\"name\":\"AllIndices\",\"id\":\"efe72860-ad5e-4422-9dc7-14399d809906\"}}},\"glyph\":{\"type\":\"object\",\"name\":\"Scatter\",\"id\":\"23491326-b966-4bed-bf0d-07c174a69514\",\"attributes\":{\"x\":{\"type\":\"field\",\"field\":\"x\"},\"y\":{\"type\":\"field\",\"field\":\"y\"},\"size\":{\"type\":\"value\",\"value\":10},\"line_color\":{\"type\":\"value\",\"value\":\"white\"},\"line_alpha\":{\"type\":\"value\",\"value\":0.25},\"fill_color\":{\"type\":\"value\",\"value\":\"midnightblue\"},\"fill_alpha\":{\"type\":\"value\",\"value\":0.25},\"hatch_alpha\":{\"type\":\"value\",\"value\":0.25}}},\"selection_glyph\":{\"type\":\"object\",\"name\":\"Circle\",\"id\":\"c13563d9-3e76-4425-baf5-2361e2ce42b0\",\"attributes\":{\"line_color\":{\"type\":\"value\",\"value\":\"white\"},\"fill_color\":{\"type\":\"value\",\"value\":\"red\"},\"fill_alpha\":{\"type\":\"value\",\"value\":0.8}}},\"nonselection_glyph\":{\"type\":\"object\",\"name\":\"Circle\",\"id\":\"a4551e1c-44ea-4ed1-9919-2f16fd68ca8a\",\"attributes\":{\"line_color\":{\"type\":\"value\",\"value\":\"white\"},\"fill_color\":{\"type\":\"value\",\"value\":\"midnightblue\"},\"fill_alpha\":{\"type\":\"value\",\"value\":0.5}}},\"hover_glyph\":{\"type\":\"object\",\"name\":\"Scatter\",\"id\":\"fe350cab-bd5f-403e-bbf1-d51840018029\",\"attributes\":{\"x\":{\"type\":\"field\",\"field\":\"x\"},\"y\":{\"type\":\"field\",\"field\":\"y\"},\"size\":{\"type\":\"value\",\"value\":10},\"line_color\":{\"type\":\"value\",\"value\":\"white\"},\"line_alpha\":{\"type\":\"value\",\"value\":0.5},\"fill_color\":{\"type\":\"value\",\"value\":\"red\"},\"fill_alpha\":{\"type\":\"value\",\"value\":0.5},\"hatch_alpha\":{\"type\":\"value\",\"value\":0.5}}},\"muted_glyph\":{\"type\":\"object\",\"name\":\"Scatter\",\"id\":\"e0180595-0419-45fb-a5f1-7499c7cd8c28\",\"attributes\":{\"x\":{\"type\":\"field\",\"field\":\"x\"},\"y\":{\"type\":\"field\",\"field\":\"y\"},\"size\":{\"type\":\"value\",\"value\":10},\"line_color\":{\"type\":\"value\",\"value\":\"white\"},\"line_alpha\":{\"type\":\"value\",\"value\":0.2},\"fill_color\":{\"type\":\"value\",\"value\":\"midnightblue\"},\"fill_alpha\":{\"type\":\"value\",\"value\":0.2},\"hatch_alpha\":{\"type\":\"value\",\"value\":0.2}}}}}],\"toolbar\":{\"type\":\"object\",\"name\":\"Toolbar\",\"id\":\"37e1e02e-1d14-45c8-9c12-17eb13c8e18a\",\"attributes\":{\"tools\":[{\"type\":\"object\",\"name\":\"PanTool\",\"id\":\"f6acf49a-bf16-4d99-b6f6-6c0a28393860\"},{\"type\":\"object\",\"name\":\"WheelZoomTool\",\"id\":\"555eaca1-3430-4371-a273-d5f8170fbb6f\",\"attributes\":{\"renderers\":\"auto\"}},{\"type\":\"object\",\"name\":\"BoxZoomTool\",\"id\":\"b8466a29-fc0b-43d7-a8eb-a5c8d41edd84\",\"attributes\":{\"overlay\":{\"type\":\"object\",\"name\":\"BoxAnnotation\",\"id\":\"c543a7c5-d622-42ba-b728-92e93ae04e60\",\"attributes\":{\"syncable\":false,\"level\":\"overlay\",\"visible\":false,\"left\":{\"type\":\"number\",\"value\":\"nan\"},\"right\":{\"type\":\"number\",\"value\":\"nan\"},\"top\":{\"type\":\"number\",\"value\":\"nan\"},\"bottom\":{\"type\":\"number\",\"value\":\"nan\"},\"left_units\":\"canvas\",\"right_units\":\"canvas\",\"top_units\":\"canvas\",\"bottom_units\":\"canvas\",\"line_color\":\"black\",\"line_alpha\":1.0,\"line_width\":2,\"line_dash\":[4,4],\"fill_color\":\"lightgrey\",\"fill_alpha\":0.5}}}},{\"type\":\"object\",\"name\":\"SaveTool\",\"id\":\"4ad2f4f6-afe0-4d63-90f2-4a66dcf91bdd\"},{\"type\":\"object\",\"name\":\"ResetTool\",\"id\":\"4cafbc3b-3938-451c-89fa-d5f63d967c57\"},{\"type\":\"object\",\"name\":\"HelpTool\",\"id\":\"0ff5a209-7e99-4d0b-9b6f-3ec7ef6d9300\"},{\"type\":\"object\",\"name\":\"HoverTool\",\"id\":\"8938efcf-9199-41af-86a0-8216652969fe\",\"attributes\":{\"renderers\":[{\"id\":\"dea9dfe0-2e95-4220-9e2e-c744342acda8\"}],\"tooltips\":null,\"mode\":\"vline\"}},{\"type\":\"object\",\"name\":\"BoxSelectTool\",\"id\":\"0f2b3067-57d9-460c-850a-c14f738d819e\",\"attributes\":{\"renderers\":[{\"id\":\"dea9dfe0-2e95-4220-9e2e-c744342acda8\"}],\"mode\":\"append\",\"overlay\":{\"type\":\"object\",\"name\":\"BoxAnnotation\",\"id\":\"e1a77e64-63cb-4323-a8f0-87c699e6204d\",\"attributes\":{\"syncable\":false,\"level\":\"overlay\",\"visible\":false,\"left\":{\"type\":\"number\",\"value\":\"nan\"},\"right\":{\"type\":\"number\",\"value\":\"nan\"},\"top\":{\"type\":\"number\",\"value\":\"nan\"},\"bottom\":{\"type\":\"number\",\"value\":\"nan\"},\"editable\":true,\"line_color\":\"black\",\"line_alpha\":1.0,\"line_width\":2,\"line_dash\":[4,4],\"fill_color\":\"lightgrey\",\"fill_alpha\":0.5}}}}]}},\"toolbar_location\":\"left\",\"left\":[{\"type\":\"object\",\"name\":\"LinearAxis\",\"id\":\"1eb3442e-05cc-4639-97ee-6690100afc0f\",\"attributes\":{\"ticker\":{\"type\":\"object\",\"name\":\"BasicTicker\",\"id\":\"66395340-02be-4ab8-a150-35b2fc1e2d2b\",\"attributes\":{\"mantissas\":[1,2,5]}},\"formatter\":{\"type\":\"object\",\"name\":\"BasicTickFormatter\",\"id\":\"9894ceb5-eb14-4002-ac89-e894c2967bee\"},\"axis_label\":\"y\",\"axis_label_standoff\":10,\"axis_label_text_color\":\"#FFFFFF\",\"axis_label_text_font\":\"Josefin Sans\",\"axis_label_text_font_size\":\"1.9em\",\"axis_label_text_font_style\":\"bold\",\"major_label_policy\":{\"type\":\"object\",\"name\":\"AllLabels\",\"id\":\"37ee87ec-175b-4c91-a88b-64336a9af029\"},\"major_label_text_color\":\"#E0E0E0\",\"major_label_text_font\":\"Josefin Sans\",\"major_label_text_font_size\":\"1.15em\",\"axis_line_color\":\"#E0E0E0\",\"axis_line_alpha\":0.4,\"major_tick_line_color\":\"#E0E0E0\",\"major_tick_line_alpha\":0.4,\"minor_tick_line_color\":\"#E0E0E0\",\"minor_tick_line_alpha\":0.4}}],\"below\":[{\"type\":\"object\",\"name\":\"LinearAxis\",\"id\":\"42f926e2-839d-4777-9387-83c3cb56ee32\",\"attributes\":{\"ticker\":{\"type\":\"object\",\"name\":\"BasicTicker\",\"id\":\"4d2b4cb5-1452-409c-bac6-24b84dd7563a\",\"attributes\":{\"mantissas\":[1,2,5]}},\"formatter\":{\"type\":\"object\",\"name\":\"BasicTickFormatter\",\"id\":\"81bff087-ee66-4c51-9ab6-800b29585940\"},\"axis_label\":\"x\",\"axis_label_standoff\":10,\"axis_label_text_color\":\"#FFFFFF\",\"axis_label_text_font\":\"Josefin Sans\",\"axis_label_text_font_size\":\"1.9em\",\"axis_label_text_font_style\":\"bold\",\"major_label_policy\":{\"type\":\"object\",\"name\":\"AllLabels\",\"id\":\"1a41e205-6613-4ec3-81a9-7ac795d183d1\"},\"major_label_text_color\":\"#E0E0E0\",\"major_label_text_font\":\"Josefin Sans\",\"major_label_text_font_size\":\"1.15em\",\"axis_line_color\":\"#E0E0E0\",\"axis_line_alpha\":0.4,\"major_tick_line_color\":\"#E0E0E0\",\"major_tick_line_alpha\":0.4,\"minor_tick_line_color\":\"#E0E0E0\",\"minor_tick_line_alpha\":0.4}}],\"center\":[{\"type\":\"object\",\"name\":\"Grid\",\"id\":\"2f990558-0d69-465d-93df-bd605258b647\",\"attributes\":{\"axis\":{\"id\":\"42f926e2-839d-4777-9387-83c3cb56ee32\"},\"grid_line_color\":\"#E0E0E0\",\"grid_line_alpha\":0.15}},{\"type\":\"object\",\"name\":\"Grid\",\"id\":\"263600c1-3777-4730-8fcc-02c94dd23591\",\"attributes\":{\"dimension\":1,\"axis\":{\"id\":\"1eb3442e-05cc-4639-97ee-6690100afc0f\"},\"grid_line_color\":\"#E0E0E0\",\"grid_line_alpha\":0.15}},{\"type\":\"object\",\"name\":\"Legend\",\"id\":\"fa927b7a-dae1-4cee-a6ee-44f0a7f1556b\",\"attributes\":{\"border_line_alpha\":0.25,\"background_fill_color\":\"#505050\",\"background_fill_alpha\":0.25,\"label_text_color\":\"#E0E0E0\",\"label_text_font\":\"Josefin Sans\",\"label_text_font_size\":\"1.15em\",\"label_standoff\":8,\"spacing\":8,\"items\":[{\"type\":\"object\",\"name\":\"LegendItem\",\"id\":\"8960bc9e-24f7-4445-b512-d87d983a7257\",\"attributes\":{\"label\":{\"type\":\"value\",\"value\":\"Observations\"},\"renderers\":[{\"id\":\"dea9dfe0-2e95-4220-9e2e-c744342acda8\"}]}}]}}],\"background_fill_color\":\"#0f0f0f\",\"background_fill_alpha\":0.9,\"border_fill_color\":\"#111111\",\"border_fill_alpha\":0.8}},{\"type\":\"object\",\"name\":\"Spacer\",\"id\":\"c70f57b2-1b03-45a9-a133-37c531821755\",\"attributes\":{\"name\":\"HSpacer00118\",\"stylesheets\":[\"\\n:host(.pn-loading):before, .pn-loading:before {\\n  background-color: #c3c3c3;\\n  mask-size: auto calc(min(50%, 400px));\\n  -webkit-mask-size: auto calc(min(50%, 400px));\\n}\",{\"id\":\"dfa6dc57-5f4e-4588-864f-992151354ba5\"},{\"id\":\"601e8413-d4d0-4b51-baeb-e0649fffe226\"},{\"id\":\"1b44f406-c2b6-47a9-a014-fdbb991d6749\"},{\"id\":\"e8dadd72-06c4-4419-a6d0-4b6ee199a5f6\"}],\"margin\":0,\"sizing_mode\":\"stretch_width\",\"align\":\"start\"}}]}},{\"type\":\"object\",\"name\":\"panel.models.comm_manager.CommManager\",\"id\":\"75bc2efb-6ce8-4368-84b9-748ecd0de9b0\",\"attributes\":{\"plot_id\":\"82465961-bacf-4aed-832e-ed773d4d189f\",\"comm_id\":\"d7b415e799234a9d8689756b8e8311c6\",\"client_comm_id\":\"c52b6072c0304854969ae1116be6db5f\"}}],\"defs\":[{\"type\":\"model\",\"name\":\"ReactiveHTML1\"},{\"type\":\"model\",\"name\":\"FlexBox1\",\"properties\":[{\"name\":\"align_content\",\"kind\":\"Any\",\"default\":\"flex-start\"},{\"name\":\"align_items\",\"kind\":\"Any\",\"default\":\"flex-start\"},{\"name\":\"flex_direction\",\"kind\":\"Any\",\"default\":\"row\"},{\"name\":\"flex_wrap\",\"kind\":\"Any\",\"default\":\"wrap\"},{\"name\":\"gap\",\"kind\":\"Any\",\"default\":\"\"},{\"name\":\"justify_content\",\"kind\":\"Any\",\"default\":\"flex-start\"}]},{\"type\":\"model\",\"name\":\"FloatPanel1\",\"properties\":[{\"name\":\"config\",\"kind\":\"Any\",\"default\":{\"type\":\"map\"}},{\"name\":\"contained\",\"kind\":\"Any\",\"default\":true},{\"name\":\"position\",\"kind\":\"Any\",\"default\":\"right-top\"},{\"name\":\"offsetx\",\"kind\":\"Any\",\"default\":null},{\"name\":\"offsety\",\"kind\":\"Any\",\"default\":null},{\"name\":\"theme\",\"kind\":\"Any\",\"default\":\"primary\"},{\"name\":\"status\",\"kind\":\"Any\",\"default\":\"normalized\"}]},{\"type\":\"model\",\"name\":\"GridStack1\",\"properties\":[{\"name\":\"mode\",\"kind\":\"Any\",\"default\":\"warn\"},{\"name\":\"ncols\",\"kind\":\"Any\",\"default\":null},{\"name\":\"nrows\",\"kind\":\"Any\",\"default\":null},{\"name\":\"allow_resize\",\"kind\":\"Any\",\"default\":true},{\"name\":\"allow_drag\",\"kind\":\"Any\",\"default\":true},{\"name\":\"state\",\"kind\":\"Any\",\"default\":[]}]},{\"type\":\"model\",\"name\":\"drag1\",\"properties\":[{\"name\":\"slider_width\",\"kind\":\"Any\",\"default\":5},{\"name\":\"slider_color\",\"kind\":\"Any\",\"default\":\"black\"},{\"name\":\"value\",\"kind\":\"Any\",\"default\":50}]},{\"type\":\"model\",\"name\":\"click1\",\"properties\":[{\"name\":\"terminal_output\",\"kind\":\"Any\",\"default\":\"\"},{\"name\":\"debug_name\",\"kind\":\"Any\",\"default\":\"\"},{\"name\":\"clears\",\"kind\":\"Any\",\"default\":0}]},{\"type\":\"model\",\"name\":\"FastWrapper1\",\"properties\":[{\"name\":\"object\",\"kind\":\"Any\",\"default\":null},{\"name\":\"style\",\"kind\":\"Any\",\"default\":null}]},{\"type\":\"model\",\"name\":\"NotificationAreaBase1\",\"properties\":[{\"name\":\"js_events\",\"kind\":\"Any\",\"default\":{\"type\":\"map\"}},{\"name\":\"position\",\"kind\":\"Any\",\"default\":\"bottom-right\"},{\"name\":\"_clear\",\"kind\":\"Any\",\"default\":0}]},{\"type\":\"model\",\"name\":\"NotificationArea1\",\"properties\":[{\"name\":\"js_events\",\"kind\":\"Any\",\"default\":{\"type\":\"map\"}},{\"name\":\"notifications\",\"kind\":\"Any\",\"default\":[]},{\"name\":\"position\",\"kind\":\"Any\",\"default\":\"bottom-right\"},{\"name\":\"_clear\",\"kind\":\"Any\",\"default\":0},{\"name\":\"types\",\"kind\":\"Any\",\"default\":[{\"type\":\"map\",\"entries\":[[\"type\",\"warning\"],[\"background\",\"#ffc107\"],[\"icon\",{\"type\":\"map\",\"entries\":[[\"className\",\"fas fa-exclamation-triangle\"],[\"tagName\",\"i\"],[\"color\",\"white\"]]}]]},{\"type\":\"map\",\"entries\":[[\"type\",\"info\"],[\"background\",\"#007bff\"],[\"icon\",{\"type\":\"map\",\"entries\":[[\"className\",\"fas fa-info-circle\"],[\"tagName\",\"i\"],[\"color\",\"white\"]]}]]}]}]},{\"type\":\"model\",\"name\":\"Notification\",\"properties\":[{\"name\":\"background\",\"kind\":\"Any\",\"default\":null},{\"name\":\"duration\",\"kind\":\"Any\",\"default\":3000},{\"name\":\"icon\",\"kind\":\"Any\",\"default\":null},{\"name\":\"message\",\"kind\":\"Any\",\"default\":\"\"},{\"name\":\"notification_type\",\"kind\":\"Any\",\"default\":null},{\"name\":\"_destroyed\",\"kind\":\"Any\",\"default\":false}]},{\"type\":\"model\",\"name\":\"TemplateActions1\",\"properties\":[{\"name\":\"open_modal\",\"kind\":\"Any\",\"default\":0},{\"name\":\"close_modal\",\"kind\":\"Any\",\"default\":0}]},{\"type\":\"model\",\"name\":\"BootstrapTemplateActions1\",\"properties\":[{\"name\":\"open_modal\",\"kind\":\"Any\",\"default\":0},{\"name\":\"close_modal\",\"kind\":\"Any\",\"default\":0}]},{\"type\":\"model\",\"name\":\"TemplateEditor1\",\"properties\":[{\"name\":\"layout\",\"kind\":\"Any\",\"default\":[]}]},{\"type\":\"model\",\"name\":\"MaterialTemplateActions1\",\"properties\":[{\"name\":\"open_modal\",\"kind\":\"Any\",\"default\":0},{\"name\":\"close_modal\",\"kind\":\"Any\",\"default\":0}]},{\"type\":\"model\",\"name\":\"copy_to_clipboard1\",\"properties\":[{\"name\":\"fill\",\"kind\":\"Any\",\"default\":\"none\"},{\"name\":\"value\",\"kind\":\"Any\",\"default\":null}]}]}};\n",
       "  var render_items = [{\"docid\":\"8e00961a-5092-441d-8f69-e9bfca444d67\",\"roots\":{\"82465961-bacf-4aed-832e-ed773d4d189f\":\"b6f75956-97cb-407b-8f1f-729921b604d3\"},\"root_ids\":[\"82465961-bacf-4aed-832e-ed773d4d189f\"]}];\n",
       "  var docs = Object.values(docs_json)\n",
       "  if (!docs) {\n",
       "    return\n",
       "  }\n",
       "  const py_version = docs[0].version.replace('rc', '-rc.').replace('.dev', '-dev.')\n",
       "  function embed_document(root) {\n",
       "    var Bokeh = get_bokeh(root)\n",
       "    Bokeh.embed.embed_items_notebook(docs_json, render_items);\n",
       "    for (const render_item of render_items) {\n",
       "      for (const root_id of render_item.root_ids) {\n",
       "\tconst id_el = document.getElementById(root_id)\n",
       "\tif (id_el.children.length && (id_el.children[0].className === 'bk-root')) {\n",
       "\t  const root_el = id_el.children[0]\n",
       "\t  root_el.id = root_el.id + '-rendered'\n",
       "\t}\n",
       "      }\n",
       "    }\n",
       "  }\n",
       "  function get_bokeh(root) {\n",
       "    if (root.Bokeh === undefined) {\n",
       "      return null\n",
       "    } else if (root.Bokeh.version !== py_version) {\n",
       "      if (root.Bokeh.versions === undefined || !root.Bokeh.versions.has(py_version)) {\n",
       "\treturn null\n",
       "      }\n",
       "      return root.Bokeh.versions.get(py_version);\n",
       "    } else if (root.Bokeh.version === py_version) {\n",
       "      return root.Bokeh\n",
       "    }\n",
       "    return null\n",
       "  }\n",
       "  function is_loaded(root) {\n",
       "    var Bokeh = get_bokeh(root)\n",
       "    return (Bokeh != null && Bokeh.Panel !== undefined)\n",
       "  }\n",
       "  if (is_loaded(root)) {\n",
       "    embed_document(root);\n",
       "  } else {\n",
       "    var attempts = 0;\n",
       "    var timer = setInterval(function(root) {\n",
       "      if (is_loaded(root)) {\n",
       "        clearInterval(timer);\n",
       "        embed_document(root);\n",
       "      } else if (document.readyState == \"complete\") {\n",
       "        attempts++;\n",
       "        if (attempts > 200) {\n",
       "          clearInterval(timer);\n",
       "\t  var Bokeh = get_bokeh(root)\n",
       "\t  if (Bokeh == null || Bokeh.Panel == null) {\n",
       "            console.warn(\"Panel: ERROR: Unable to run Panel code because Bokeh or Panel library is missing\");\n",
       "\t  } else {\n",
       "\t    console.warn(\"Panel: WARNING: Attempting to render but not all required libraries could be resolved.\")\n",
       "\t    embed_document(root)\n",
       "\t  }\n",
       "        }\n",
       "      }\n",
       "    }, 25, root)\n",
       "  }\n",
       "})(window);</script>"
      ],
      "text/plain": [
       "Row\n",
       "    [0] HSpacer()\n",
       "    [1] Bokeh(figure)\n",
       "    [2] HSpacer()"
      ]
     },
     "execution_count": 3,
     "metadata": {
      "application/vnd.holoviews_exec.v0+json": {
       "id": "82465961-bacf-4aed-832e-ed773d4d189f"
      }
     },
     "output_type": "execute_result"
    }
   ],
   "source": [
    "from cml.plot import center_plot, scatter\n",
    "plot = (center_plot(scatter(x, y, title=\"Simple quadratic problem\", toolbar_location=\"left\")))\n",
    "plot"
   ]
  },
  {
   "cell_type": "markdown",
   "metadata": {},
   "source": [
    "Now our main problem is that this function can follow different types of parameters"
   ]
  },
  {
   "cell_type": "code",
   "execution_count": 4,
   "metadata": {},
   "outputs": [
    {
     "name": "stderr",
     "output_type": "stream",
     "text": [
      "BokehDeprecationWarning: 'circle() method with size value' was deprecated in Bokeh 3.4.0 and will be removed, use 'scatter(size=...) instead' instead.\n",
      "BokehDeprecationWarning: 'circle() method with size value' was deprecated in Bokeh 3.4.0 and will be removed, use 'scatter(size=...) instead' instead.\n",
      "BokehDeprecationWarning: 'circle() method with size value' was deprecated in Bokeh 3.4.0 and will be removed, use 'scatter(size=...) instead' instead.\n"
     ]
    }
   ],
   "source": [
    "params = [[5, -5, 4], [-2, 1, 0], [0.1, 1, 1]]\n",
    "# Generating the x axis\n",
    "x = np.linspace(0, 1, 100)\n",
    "plots = []\n",
    "for p in range(len(params)):\n",
    "    poly = np.poly1d(params[p])\n",
    "    epsilon = np.random.uniform(-eps, eps, x.shape)\n",
    "    y = poly(x) + epsilon\n",
    "    plots.append(scatter(x, y, title=\"Problem \"+(str(p+1))))"
   ]
  },
  {
   "cell_type": "code",
   "execution_count": 5,
   "metadata": {},
   "outputs": [
    {
     "data": {},
     "metadata": {},
     "output_type": "display_data"
    },
    {
     "data": {
      "application/vnd.holoviews_exec.v0+json": "",
      "text/html": [
       "<div id='0e895f63-8664-4ea3-839b-6777bc9726e9'>\n",
       "  <div id=\"b9a11edf-df55-4b71-9429-bdd4caed1cee\" data-root-id=\"0e895f63-8664-4ea3-839b-6777bc9726e9\" style=\"display: contents;\"></div>\n",
       "</div>\n",
       "<script type=\"application/javascript\">(function(root) {\n",
       "  var docs_json = {\"262db913-06fe-40a8-998f-3f252d610dc0\":{\"version\":\"3.4.1\",\"title\":\"Bokeh Application\",\"roots\":[{\"type\":\"object\",\"name\":\"Row\",\"id\":\"0e895f63-8664-4ea3-839b-6777bc9726e9\",\"attributes\":{\"name\":\"Row00131\",\"stylesheets\":[\"\\n:host(.pn-loading):before, .pn-loading:before {\\n  background-color: #c3c3c3;\\n  mask-size: auto calc(min(50%, 400px));\\n  -webkit-mask-size: auto calc(min(50%, 400px));\\n}\",{\"type\":\"object\",\"name\":\"ImportedStyleSheet\",\"id\":\"6f6d5db0-81ab-48e0-83c2-fffedc2ed476\",\"attributes\":{\"url\":\"https://cdn.holoviz.org/panel/1.4.1/dist/css/loading.css\"}},{\"type\":\"object\",\"name\":\"ImportedStyleSheet\",\"id\":\"a58b6890-74a3-4402-ad22-302edea72943\",\"attributes\":{\"url\":\"cml/cml.css\"}},{\"type\":\"object\",\"name\":\"ImportedStyleSheet\",\"id\":\"a954a7f3-de2a-4c16-943b-186070b42916\",\"attributes\":{\"url\":\"https://cdn.holoviz.org/panel/1.4.1/dist/css/listpanel.css\"}},{\"type\":\"object\",\"name\":\"ImportedStyleSheet\",\"id\":\"322f7745-d189-4275-81a1-3f92618ca818\",\"attributes\":{\"url\":\"https://cdn.holoviz.org/panel/1.4.1/dist/bundled/theme/default.css\"}},{\"type\":\"object\",\"name\":\"ImportedStyleSheet\",\"id\":\"af1280ae-a4b3-4523-9f66-e91ec74e2dda\",\"attributes\":{\"url\":\"https://cdn.holoviz.org/panel/1.4.1/dist/bundled/theme/native.css\"}}],\"margin\":0,\"sizing_mode\":\"stretch_width\",\"align\":\"start\",\"children\":[{\"type\":\"object\",\"name\":\"Spacer\",\"id\":\"93d51f43-887c-4f7c-9ea3-a177ddb558de\",\"attributes\":{\"name\":\"HSpacer00127\",\"stylesheets\":[\"\\n:host(.pn-loading):before, .pn-loading:before {\\n  background-color: #c3c3c3;\\n  mask-size: auto calc(min(50%, 400px));\\n  -webkit-mask-size: auto calc(min(50%, 400px));\\n}\",{\"id\":\"6f6d5db0-81ab-48e0-83c2-fffedc2ed476\"},{\"id\":\"a58b6890-74a3-4402-ad22-302edea72943\"},{\"id\":\"322f7745-d189-4275-81a1-3f92618ca818\"},{\"id\":\"af1280ae-a4b3-4523-9f66-e91ec74e2dda\"}],\"margin\":0,\"sizing_mode\":\"stretch_width\",\"align\":\"start\"}},{\"type\":\"object\",\"name\":\"Column\",\"id\":\"306fb3cb-961e-4f6d-9b0a-c68159af9d42\",\"attributes\":{\"children\":[{\"type\":\"object\",\"name\":\"Div\",\"id\":\"c5835cdd-6509-417e-97f5-93fb7576f062\",\"attributes\":{\"styles\":{\"type\":\"map\",\"entries\":[[\"font-size\",\"250%\"]]},\"text\":\"Observing different problems\"}},{\"type\":\"object\",\"name\":\"Row\",\"id\":\"3926194d-4847-43eb-b3a4-978a9950dd6c\",\"attributes\":{\"children\":[{\"type\":\"object\",\"name\":\"Figure\",\"id\":\"48cb79f1-7b5c-46fd-a72a-e697e09f58a5\",\"attributes\":{\"height\":450,\"x_range\":{\"type\":\"object\",\"name\":\"DataRange1d\",\"id\":\"c7e88d03-6b33-46ba-b55c-f21b07d4e22f\"},\"y_range\":{\"type\":\"object\",\"name\":\"DataRange1d\",\"id\":\"6c49afe2-06ca-43c5-be4d-67e5a3f80dcf\"},\"x_scale\":{\"type\":\"object\",\"name\":\"LinearScale\",\"id\":\"a48e47ef-d9a3-4c06-be90-6b6d0bcd142e\"},\"y_scale\":{\"type\":\"object\",\"name\":\"LinearScale\",\"id\":\"17350431-02cd-4992-92bd-16a389a42b67\"},\"title\":{\"type\":\"object\",\"name\":\"Title\",\"id\":\"09e78639-fa25-4a60-ab3b-8a61775b4058\",\"attributes\":{\"text\":\"Problem 1\",\"text_color\":\"#E0E0E0\",\"text_font\":\"Josefin Sans\",\"text_font_size\":\"2.1em\"}},\"outline_line_color\":\"#E0E0E0\",\"outline_line_alpha\":0.25,\"outline_line_width\":3,\"renderers\":[{\"type\":\"object\",\"name\":\"GlyphRenderer\",\"id\":\"4d4f43ef-2a64-4efc-95ee-283cd3fe18ce\",\"attributes\":{\"data_source\":{\"type\":\"object\",\"name\":\"ColumnDataSource\",\"id\":\"3e2ed651-696c-4f90-89e1-de1785cd4ae4\",\"attributes\":{\"selected\":{\"type\":\"object\",\"name\":\"Selection\",\"id\":\"e1410ce5-0a2d-4229-9869-68ec6129ba1e\",\"attributes\":{\"indices\":[],\"line_indices\":[]}},\"selection_policy\":{\"type\":\"object\",\"name\":\"UnionRenderers\",\"id\":\"86008e78-bedc-48a9-b223-b9ee0b9298f8\"},\"data\":{\"type\":\"map\",\"entries\":[[\"x\",{\"type\":\"ndarray\",\"array\":{\"type\":\"bytes\",\"data\":\"AAAAAAAAAABbv1Kg1q+EP1u/UqDWr5Q/CB988MEHnz9bv1Kg1q+kPzJvZ0jM26k/CB988MEHrz9wZ0jM2xmyP1u/UqDWr7Q/RhdddNFFtz8yb2dIzNu5Px3HcRzHcbw/CB988MEHvz96O0Ni3s7AP3BnSMzbGcI/ZZNNNtlkwz9bv1Kg1q/EP1HrVwrU+sU/RhdddNFFxz88Q2LezpDIPzJvZ0jM28k/J5tssskmyz8dx3Ecx3HMPxPzdobEvM0/CB988MEHzz9/pUCtXynQP3o7Q2LeztA/ddFFF1100T9wZ0jM2xnSP2r9SoFav9I/ZZNNNtlk0z9gKVDrVwrUP1u/UqDWr9Q/VlVVVVVV1T9R61cK1PrVP0yBWr9SoNY/RhdddNFF1z9BrV8pUOvXPzxDYt7OkNg/N9lkk0022T8yb2dIzNvZPy0Fav1Kgdo/J5tssskm2z8iMW9nSMzbPx3HcRzHcdw/GF100UUX3T8T83aGxLzdPw6JeTtDYt4/CB988MEH3z8DtX6lQK3fP3+lQK1fKeA/ffDBBx984D96O0Ni3s7gP3eGxLydIeE/ddFFF1104T9yHMdxHMfhP3BnSMzbGeI/bbLJJpts4j9q/UqBWr/iP2hIzNsZEuM/ZZNNNtlk4z9j3s6QmLfjP2ApUOtXCuQ/XnTRRRdd5D9bv1Kg1q/kP1gK1PqVAuU/VlVVVVVV5T9ToNavFKjlP1HrVwrU+uU/TjbZZJNN5j9MgVq/UqDmP0nM2xkS8+Y/RhdddNFF5z9EYt7OkJjnP0GtXylQ6+c/P/jggw8+6D88Q2LezpDoPzmO4ziO4+g/N9lkk0026T80JObtDInpPzJvZ0jM2+k/L7rooosu6j8tBWr9SoHqPypQ61cK1Oo/J5tssskm6z8l5u0MiXnrPyIxb2dIzOs/IHzwwQcf7D8dx3Ecx3HsPxsS83aGxOw/GF100UUX7T8VqPUrBWrtPxPzdobEvO0/ED744IMP7j8OiXk7Q2LuPwvU+pUCte4/CB988MEH7z8Gav1KgVrvPwO1fqVAre8/AAAAAAAA8D8=\"},\"shape\":[100],\"dtype\":\"float64\",\"order\":\"little\"}],[\"y\",{\"type\":\"ndarray\",\"array\":{\"type\":\"bytes\",\"data\":\"J28Ja7JQEECAMYk1q9cOQPslVJysNw9AHZ3jSQ+zDkCMfOXlLbwNQI6rf8l+nQ5AYaUDwV3ZDUDhRBuPfdwNQDbF+U8X4AxA9Uf20UxlDEAhcPczvcELQEVSLGE5mwtAx//HPuTvC0AS6willywLQAiW72z91QpAK7JrdZktC0Dvm1ZzDSgLQN0u+1ripwlAvMagZr2pCUARqS4VV68JQPhp9FR/1QlAc1Z7ZBTeCUAwg1W4WbwIQEO1wBtyKwlA2ccAdwVbCUAI6DUj15MIQPsJUDc9eQhAdODe91rPB0CKoi+JkaMHQPDwMzp6aQdAV7l3oa4eB0Cs01ln5vMGQEbw72UyngdASIchogqJBkA/Z6lcUFYGQF535fcUQwZAv9gA86VsBkAR0xPhMOIGQAx+HLUh7wVAd4vQ6kzhBkCzoGKVHQ0HQATj7xJvbAZAPhFY64T8BkA1tCKB0aoFQB6vygZzGQZAhE/lzH9XBUDMmm5+6F4FQNtpYd95UwVA7/4ClQ8ZBkBB2Ydc7LAFQK74bo2RoAZAFhQM/D5jBUA/NZvz1YAFQLbov0xGngVA+5qp1afTBUBaQ8jYPlMGQEL8yuf7NAZAIeqpWCHFBUCb3pqd+pMFQP6dN45U9wVApa2hOes3BkDUp40yNz8HQMvxz1aklwZAS+nxTHobBkC/y679sIUHQCQeLIJpRAZAJa+w+p66BkCNSGKa6+cHQGwxi3rQtAdAzyg0SXFCCECIhccqCBoIQCbfFUxXAghAzO2uMsJ6CEAFRc+bKqQIQK3N0K1ctAdAb8MVdFBvCUCXTh6fsIsJQAa3dG9TgAlAqWnWFtoUCkCvaqvUgk8KQC32SdorWQlAJ9giZFl8CkDb8yaB3IIJQATcUZix9gpAvU+ij7fWCkD1W9ZFeOcLQJ47wyQKqQtAjIKMuxI6C0DigHFRb2gLQB/Rd/7qFQ1AXjp086gmDUB7zHl07egMQIGgMmVq/g1AvndSoveBDUCIgbfKAGoOQC2JLme4xQ5A9OXRzM+3DkC+bl+xyAsPQIHus3w4wg9APaL5sjkLEEA=\"},\"shape\":[100],\"dtype\":\"float64\",\"order\":\"little\"}]]}}},\"view\":{\"type\":\"object\",\"name\":\"CDSView\",\"id\":\"f914666b-6ca2-4883-9973-ca4c52e4ea83\",\"attributes\":{\"filter\":{\"type\":\"object\",\"name\":\"AllIndices\",\"id\":\"ef563a60-1f3c-4ad2-aca1-8be94d756cf3\"}}},\"glyph\":{\"type\":\"object\",\"name\":\"Scatter\",\"id\":\"7a04903a-525d-44a5-b9bf-0444980b343f\",\"attributes\":{\"x\":{\"type\":\"field\",\"field\":\"x\"},\"y\":{\"type\":\"field\",\"field\":\"y\"},\"size\":{\"type\":\"value\",\"value\":10},\"line_color\":{\"type\":\"value\",\"value\":\"white\"},\"line_alpha\":{\"type\":\"value\",\"value\":0.25},\"fill_color\":{\"type\":\"value\",\"value\":\"midnightblue\"},\"fill_alpha\":{\"type\":\"value\",\"value\":0.25},\"hatch_alpha\":{\"type\":\"value\",\"value\":0.25}}},\"selection_glyph\":{\"type\":\"object\",\"name\":\"Circle\",\"id\":\"68effcc4-df34-4e6f-96c6-91f8bd90c5ea\",\"attributes\":{\"line_color\":{\"type\":\"value\",\"value\":\"white\"},\"fill_color\":{\"type\":\"value\",\"value\":\"red\"},\"fill_alpha\":{\"type\":\"value\",\"value\":0.8}}},\"nonselection_glyph\":{\"type\":\"object\",\"name\":\"Circle\",\"id\":\"61905225-4517-43b8-adf8-ccbffd1e2579\",\"attributes\":{\"line_color\":{\"type\":\"value\",\"value\":\"white\"},\"fill_color\":{\"type\":\"value\",\"value\":\"midnightblue\"},\"fill_alpha\":{\"type\":\"value\",\"value\":0.5}}},\"hover_glyph\":{\"type\":\"object\",\"name\":\"Scatter\",\"id\":\"88148b3b-da0e-4b78-bed3-d427cb61aead\",\"attributes\":{\"x\":{\"type\":\"field\",\"field\":\"x\"},\"y\":{\"type\":\"field\",\"field\":\"y\"},\"size\":{\"type\":\"value\",\"value\":10},\"line_color\":{\"type\":\"value\",\"value\":\"white\"},\"line_alpha\":{\"type\":\"value\",\"value\":0.5},\"fill_color\":{\"type\":\"value\",\"value\":\"red\"},\"fill_alpha\":{\"type\":\"value\",\"value\":0.5},\"hatch_alpha\":{\"type\":\"value\",\"value\":0.5}}},\"muted_glyph\":{\"type\":\"object\",\"name\":\"Scatter\",\"id\":\"a3f2f84b-6fb2-4aa4-b450-4d6b7ce796be\",\"attributes\":{\"x\":{\"type\":\"field\",\"field\":\"x\"},\"y\":{\"type\":\"field\",\"field\":\"y\"},\"size\":{\"type\":\"value\",\"value\":10},\"line_color\":{\"type\":\"value\",\"value\":\"white\"},\"line_alpha\":{\"type\":\"value\",\"value\":0.2},\"fill_color\":{\"type\":\"value\",\"value\":\"midnightblue\"},\"fill_alpha\":{\"type\":\"value\",\"value\":0.2},\"hatch_alpha\":{\"type\":\"value\",\"value\":0.2}}}}}],\"toolbar\":{\"type\":\"object\",\"name\":\"Toolbar\",\"id\":\"70dbac32-928e-40ac-8234-9c386ad159f0\",\"attributes\":{\"tools\":[{\"type\":\"object\",\"name\":\"PanTool\",\"id\":\"45432557-4d6d-4d60-919a-dd2c32f5fde5\"},{\"type\":\"object\",\"name\":\"WheelZoomTool\",\"id\":\"ec2f80a2-5814-4372-b655-dd49330959af\",\"attributes\":{\"renderers\":\"auto\"}},{\"type\":\"object\",\"name\":\"BoxZoomTool\",\"id\":\"f4aa0a16-9fac-4176-a83d-3da96b367b34\",\"attributes\":{\"overlay\":{\"type\":\"object\",\"name\":\"BoxAnnotation\",\"id\":\"1dc2950c-1dea-4176-a464-78ff86357143\",\"attributes\":{\"syncable\":false,\"level\":\"overlay\",\"visible\":false,\"left\":{\"type\":\"number\",\"value\":\"nan\"},\"right\":{\"type\":\"number\",\"value\":\"nan\"},\"top\":{\"type\":\"number\",\"value\":\"nan\"},\"bottom\":{\"type\":\"number\",\"value\":\"nan\"},\"left_units\":\"canvas\",\"right_units\":\"canvas\",\"top_units\":\"canvas\",\"bottom_units\":\"canvas\",\"line_color\":\"black\",\"line_alpha\":1.0,\"line_width\":2,\"line_dash\":[4,4],\"fill_color\":\"lightgrey\",\"fill_alpha\":0.5}}}},{\"type\":\"object\",\"name\":\"SaveTool\",\"id\":\"218fcc1a-bae1-4ece-a1b3-24e6aca55367\"},{\"type\":\"object\",\"name\":\"ResetTool\",\"id\":\"45e147a2-bdb3-4d20-9fae-8d5bdfa675f4\"},{\"type\":\"object\",\"name\":\"HelpTool\",\"id\":\"a1c5f119-afb4-41ec-b0ab-e189ef0b32c5\"},{\"type\":\"object\",\"name\":\"HoverTool\",\"id\":\"2bfdd64d-fbbe-43e4-a94d-2f9499ad3ec9\",\"attributes\":{\"renderers\":[{\"id\":\"4d4f43ef-2a64-4efc-95ee-283cd3fe18ce\"}],\"tooltips\":null,\"mode\":\"vline\"}},{\"type\":\"object\",\"name\":\"BoxSelectTool\",\"id\":\"c5632c8b-fb08-473c-ab22-8c61b9183064\",\"attributes\":{\"renderers\":[{\"id\":\"4d4f43ef-2a64-4efc-95ee-283cd3fe18ce\"}],\"mode\":\"append\",\"overlay\":{\"type\":\"object\",\"name\":\"BoxAnnotation\",\"id\":\"a2a1419f-e6eb-4568-9240-e7bf01462e61\",\"attributes\":{\"syncable\":false,\"level\":\"overlay\",\"visible\":false,\"left\":{\"type\":\"number\",\"value\":\"nan\"},\"right\":{\"type\":\"number\",\"value\":\"nan\"},\"top\":{\"type\":\"number\",\"value\":\"nan\"},\"bottom\":{\"type\":\"number\",\"value\":\"nan\"},\"editable\":true,\"line_color\":\"black\",\"line_alpha\":1.0,\"line_width\":2,\"line_dash\":[4,4],\"fill_color\":\"lightgrey\",\"fill_alpha\":0.5}}}}]}},\"toolbar_location\":null,\"left\":[{\"type\":\"object\",\"name\":\"LinearAxis\",\"id\":\"59b71339-3521-4c87-9e5c-9f261c4ec265\",\"attributes\":{\"ticker\":{\"type\":\"object\",\"name\":\"BasicTicker\",\"id\":\"ee52dc03-0f80-46ac-acf7-343a5c44ad14\",\"attributes\":{\"mantissas\":[1,2,5]}},\"formatter\":{\"type\":\"object\",\"name\":\"BasicTickFormatter\",\"id\":\"05a4f567-6585-4317-b33d-82c09f61a627\"},\"axis_label\":\"y\",\"axis_label_standoff\":10,\"axis_label_text_color\":\"#FFFFFF\",\"axis_label_text_font\":\"Josefin Sans\",\"axis_label_text_font_size\":\"1.9em\",\"axis_label_text_font_style\":\"bold\",\"major_label_policy\":{\"type\":\"object\",\"name\":\"AllLabels\",\"id\":\"b47e7e9e-a72a-42aa-ba37-b261fa679281\"},\"major_label_text_color\":\"#E0E0E0\",\"major_label_text_font\":\"Josefin Sans\",\"major_label_text_font_size\":\"1.15em\",\"axis_line_color\":\"#E0E0E0\",\"axis_line_alpha\":0.4,\"major_tick_line_color\":\"#E0E0E0\",\"major_tick_line_alpha\":0.4,\"minor_tick_line_color\":\"#E0E0E0\",\"minor_tick_line_alpha\":0.4}}],\"below\":[{\"type\":\"object\",\"name\":\"LinearAxis\",\"id\":\"bfbda600-287c-409d-a822-365d7f1dde6b\",\"attributes\":{\"ticker\":{\"type\":\"object\",\"name\":\"BasicTicker\",\"id\":\"c5a75a25-626e-4b05-a1c2-9c3179f7e69c\",\"attributes\":{\"mantissas\":[1,2,5]}},\"formatter\":{\"type\":\"object\",\"name\":\"BasicTickFormatter\",\"id\":\"20fe9b07-97a9-4dcc-a5eb-3e5d2d245738\"},\"axis_label\":\"x\",\"axis_label_standoff\":10,\"axis_label_text_color\":\"#FFFFFF\",\"axis_label_text_font\":\"Josefin Sans\",\"axis_label_text_font_size\":\"1.9em\",\"axis_label_text_font_style\":\"bold\",\"major_label_policy\":{\"type\":\"object\",\"name\":\"AllLabels\",\"id\":\"eee458b4-340c-4da0-b42c-1ecd724e94a1\"},\"major_label_text_color\":\"#E0E0E0\",\"major_label_text_font\":\"Josefin Sans\",\"major_label_text_font_size\":\"1.15em\",\"axis_line_color\":\"#E0E0E0\",\"axis_line_alpha\":0.4,\"major_tick_line_color\":\"#E0E0E0\",\"major_tick_line_alpha\":0.4,\"minor_tick_line_color\":\"#E0E0E0\",\"minor_tick_line_alpha\":0.4}}],\"center\":[{\"type\":\"object\",\"name\":\"Grid\",\"id\":\"a79b44e6-31b0-4996-be37-cde2891e5adf\",\"attributes\":{\"axis\":{\"id\":\"bfbda600-287c-409d-a822-365d7f1dde6b\"},\"grid_line_color\":\"#E0E0E0\",\"grid_line_alpha\":0.15}},{\"type\":\"object\",\"name\":\"Grid\",\"id\":\"46613ee9-c7b8-4d94-8786-0cbd15392af1\",\"attributes\":{\"dimension\":1,\"axis\":{\"id\":\"59b71339-3521-4c87-9e5c-9f261c4ec265\"},\"grid_line_color\":\"#E0E0E0\",\"grid_line_alpha\":0.15}},{\"type\":\"object\",\"name\":\"Legend\",\"id\":\"835b077f-c8e7-4cfa-b23d-7d2a189c7539\",\"attributes\":{\"border_line_alpha\":0.25,\"background_fill_color\":\"#505050\",\"background_fill_alpha\":0.25,\"label_text_color\":\"#E0E0E0\",\"label_text_font\":\"Josefin Sans\",\"label_text_font_size\":\"1.15em\",\"label_standoff\":8,\"spacing\":8,\"items\":[{\"type\":\"object\",\"name\":\"LegendItem\",\"id\":\"a142e492-9df4-4688-8059-257e7cf8d62f\",\"attributes\":{\"label\":{\"type\":\"value\",\"value\":\"Observations\"},\"renderers\":[{\"id\":\"4d4f43ef-2a64-4efc-95ee-283cd3fe18ce\"}]}}]}}],\"background_fill_color\":\"#0f0f0f\",\"background_fill_alpha\":0.9,\"border_fill_color\":\"#111111\",\"border_fill_alpha\":0.8}},{\"type\":\"object\",\"name\":\"Figure\",\"id\":\"e5d50443-1bc3-4ecb-9012-b32cb83c245a\",\"attributes\":{\"height\":450,\"x_range\":{\"type\":\"object\",\"name\":\"DataRange1d\",\"id\":\"4bf0f4ee-5d44-47d1-b9f0-36d445150b17\"},\"y_range\":{\"type\":\"object\",\"name\":\"DataRange1d\",\"id\":\"1b3afb5c-0c0d-4a3e-a106-78ccd9a21bd9\"},\"x_scale\":{\"type\":\"object\",\"name\":\"LinearScale\",\"id\":\"50f61241-8396-4fed-8fa6-66f11b981859\"},\"y_scale\":{\"type\":\"object\",\"name\":\"LinearScale\",\"id\":\"dc7e4946-2dea-42f9-a557-fc80f29b0656\"},\"title\":{\"type\":\"object\",\"name\":\"Title\",\"id\":\"15b5dab9-cffc-4604-afcb-cd0198269a32\",\"attributes\":{\"text\":\"Problem 2\",\"text_color\":\"#E0E0E0\",\"text_font\":\"Josefin Sans\",\"text_font_size\":\"2.1em\"}},\"outline_line_color\":\"#E0E0E0\",\"outline_line_alpha\":0.25,\"outline_line_width\":3,\"renderers\":[{\"type\":\"object\",\"name\":\"GlyphRenderer\",\"id\":\"75e66d7f-a47f-48d6-aa6f-169949400412\",\"attributes\":{\"data_source\":{\"type\":\"object\",\"name\":\"ColumnDataSource\",\"id\":\"1e3f14d6-ed23-4e0c-adad-716d8e413b2a\",\"attributes\":{\"selected\":{\"type\":\"object\",\"name\":\"Selection\",\"id\":\"818a5fb7-47ad-47c2-a7c7-5430a5df6eb4\",\"attributes\":{\"indices\":[],\"line_indices\":[]}},\"selection_policy\":{\"type\":\"object\",\"name\":\"UnionRenderers\",\"id\":\"98c7c9ab-b855-48d7-b0f5-2381fa994068\"},\"data\":{\"type\":\"map\",\"entries\":[[\"x\",{\"type\":\"ndarray\",\"array\":{\"type\":\"bytes\",\"data\":\"AAAAAAAAAABbv1Kg1q+EP1u/UqDWr5Q/CB988MEHnz9bv1Kg1q+kPzJvZ0jM26k/CB988MEHrz9wZ0jM2xmyP1u/UqDWr7Q/RhdddNFFtz8yb2dIzNu5Px3HcRzHcbw/CB988MEHvz96O0Ni3s7AP3BnSMzbGcI/ZZNNNtlkwz9bv1Kg1q/EP1HrVwrU+sU/RhdddNFFxz88Q2LezpDIPzJvZ0jM28k/J5tssskmyz8dx3Ecx3HMPxPzdobEvM0/CB988MEHzz9/pUCtXynQP3o7Q2LeztA/ddFFF1100T9wZ0jM2xnSP2r9SoFav9I/ZZNNNtlk0z9gKVDrVwrUP1u/UqDWr9Q/VlVVVVVV1T9R61cK1PrVP0yBWr9SoNY/RhdddNFF1z9BrV8pUOvXPzxDYt7OkNg/N9lkk0022T8yb2dIzNvZPy0Fav1Kgdo/J5tssskm2z8iMW9nSMzbPx3HcRzHcdw/GF100UUX3T8T83aGxLzdPw6JeTtDYt4/CB988MEH3z8DtX6lQK3fP3+lQK1fKeA/ffDBBx984D96O0Ni3s7gP3eGxLydIeE/ddFFF1104T9yHMdxHMfhP3BnSMzbGeI/bbLJJpts4j9q/UqBWr/iP2hIzNsZEuM/ZZNNNtlk4z9j3s6QmLfjP2ApUOtXCuQ/XnTRRRdd5D9bv1Kg1q/kP1gK1PqVAuU/VlVVVVVV5T9ToNavFKjlP1HrVwrU+uU/TjbZZJNN5j9MgVq/UqDmP0nM2xkS8+Y/RhdddNFF5z9EYt7OkJjnP0GtXylQ6+c/P/jggw8+6D88Q2LezpDoPzmO4ziO4+g/N9lkk0026T80JObtDInpPzJvZ0jM2+k/L7rooosu6j8tBWr9SoHqPypQ61cK1Oo/J5tssskm6z8l5u0MiXnrPyIxb2dIzOs/IHzwwQcf7D8dx3Ecx3HsPxsS83aGxOw/GF100UUX7T8VqPUrBWrtPxPzdobEvO0/ED744IMP7j8OiXk7Q2LuPwvU+pUCte4/CB988MEH7z8Gav1KgVrvPwO1fqVAre8/AAAAAAAA8D8=\"},\"shape\":[100],\"dtype\":\"float64\",\"order\":\"little\"}],[\"y\",{\"type\":\"ndarray\",\"array\":{\"type\":\"bytes\",\"data\":\"oBQ7oDYPdL8e4+x9we64P9IifPiUv7Y/ryyhFtgAtT94nWy3sxF0P8JxfIidd7g/omfqvhkftz+KuXK8xVOdPzlaQeR5irY/YIYQkmQpbL/oJlH2VQHAPyAJrSB/+Zc/kFHNxU9ufz/gCdLqeajEP2zf5qQtwMQ/yJ4wR6p7wD9wn2k1SRrHP9i1syMQdMI/JEnZeNuoxz+2hKj4L2ezP+SJDWZmlbk/nDzDpvjPwT/Xdibt7JW+P/2B9ghhe7c/HhGtnjnHwT9rG+EDvajBP5frF/Ywyb4/l3F/hltttj9N+pOJD2zBP25jAQK4QKA/QEDtdCSvsz8LQugQaa67P1CtHawzN8k/mAnBLrYFpz9s+xH66D6+P9AwcFA4VrA/fsxdB7fZpj+UNBOeje6sP4cvXUsxtbs/WghhoLhisj9YA6VwXB2GP/GE1aV3KLU/cLZLWvH/hb+5YE9dntOwP+76gssKn5w/7C9oO9UpjD9BPRkJLpG7P7af/YIEn6M/vjGZRHGxoT9afSFpRm6gP6cXQu084LO/97S8tNEutD9CTMi//4y2v4fG7rUXTqm/RCet/jE/v785Zdk18Qmtv1T27FfMDMO/XNDVHAnxmb8gZwbSw7u5vxPstuYpYbq/sxmiIOZ6xr8R589LNJ3Bv78FT/3mT8C/GOmOKfAVy7/K8iBLXLDGv3N3yiPl9cS/vYBhiZNZ0L8IO34rfFTDvwfzic4qedC/SGUPFZKg07/ttJZ9VyPJv3DIcFAKuM+/xSpraZJo07/wYhqjLYHRvydFuBivINK/jseQrSrq1b+qzgN4SVXdv6qX5uoVlt2/ghG6TUKD3r9bL1068Zjfv+rkGCpbduK/xgD+eZkD4L/1PkjNiTHhvxY3nrUnVOG/rvIYo9PN5L9kdXDG1jfivxKqBqlBh+W/sfsBsthe5b/CkQNp3cTkv13v1vHfeOm/lg3ZW1lz6L//NzY+eZ3pv3Jq2T3Sz+a/UFJnoXB26r+PGZCqfxbqvwf35zASGuu/6egUDbbc7L8ZpCK6VzPtvyTYwY5T/u2/pj97bKRY7r8=\"},\"shape\":[100],\"dtype\":\"float64\",\"order\":\"little\"}]]}}},\"view\":{\"type\":\"object\",\"name\":\"CDSView\",\"id\":\"1a517e3d-ab61-453a-826b-ceaa4075c619\",\"attributes\":{\"filter\":{\"type\":\"object\",\"name\":\"AllIndices\",\"id\":\"9a4ed731-757c-4d26-ab26-636fa0e202d2\"}}},\"glyph\":{\"type\":\"object\",\"name\":\"Scatter\",\"id\":\"7ff63093-ac1a-4a35-8c73-f9db6fab3275\",\"attributes\":{\"x\":{\"type\":\"field\",\"field\":\"x\"},\"y\":{\"type\":\"field\",\"field\":\"y\"},\"size\":{\"type\":\"value\",\"value\":10},\"line_color\":{\"type\":\"value\",\"value\":\"white\"},\"line_alpha\":{\"type\":\"value\",\"value\":0.25},\"fill_color\":{\"type\":\"value\",\"value\":\"midnightblue\"},\"fill_alpha\":{\"type\":\"value\",\"value\":0.25},\"hatch_alpha\":{\"type\":\"value\",\"value\":0.25}}},\"selection_glyph\":{\"type\":\"object\",\"name\":\"Circle\",\"id\":\"92a78f54-c1f9-4f63-b960-cd0793804562\",\"attributes\":{\"line_color\":{\"type\":\"value\",\"value\":\"white\"},\"fill_color\":{\"type\":\"value\",\"value\":\"red\"},\"fill_alpha\":{\"type\":\"value\",\"value\":0.8}}},\"nonselection_glyph\":{\"type\":\"object\",\"name\":\"Circle\",\"id\":\"75fcb6cb-3553-4196-835d-8b2753ba8d2e\",\"attributes\":{\"line_color\":{\"type\":\"value\",\"value\":\"white\"},\"fill_color\":{\"type\":\"value\",\"value\":\"midnightblue\"},\"fill_alpha\":{\"type\":\"value\",\"value\":0.5}}},\"hover_glyph\":{\"type\":\"object\",\"name\":\"Scatter\",\"id\":\"959b7789-5c95-41c9-824c-5ca92f370f76\",\"attributes\":{\"x\":{\"type\":\"field\",\"field\":\"x\"},\"y\":{\"type\":\"field\",\"field\":\"y\"},\"size\":{\"type\":\"value\",\"value\":10},\"line_color\":{\"type\":\"value\",\"value\":\"white\"},\"line_alpha\":{\"type\":\"value\",\"value\":0.5},\"fill_color\":{\"type\":\"value\",\"value\":\"red\"},\"fill_alpha\":{\"type\":\"value\",\"value\":0.5},\"hatch_alpha\":{\"type\":\"value\",\"value\":0.5}}},\"muted_glyph\":{\"type\":\"object\",\"name\":\"Scatter\",\"id\":\"6c3d9687-9121-46f4-b4a9-936af5742950\",\"attributes\":{\"x\":{\"type\":\"field\",\"field\":\"x\"},\"y\":{\"type\":\"field\",\"field\":\"y\"},\"size\":{\"type\":\"value\",\"value\":10},\"line_color\":{\"type\":\"value\",\"value\":\"white\"},\"line_alpha\":{\"type\":\"value\",\"value\":0.2},\"fill_color\":{\"type\":\"value\",\"value\":\"midnightblue\"},\"fill_alpha\":{\"type\":\"value\",\"value\":0.2},\"hatch_alpha\":{\"type\":\"value\",\"value\":0.2}}}}}],\"toolbar\":{\"type\":\"object\",\"name\":\"Toolbar\",\"id\":\"0f968555-dbcc-4f19-b31d-e54eb45e2ebc\",\"attributes\":{\"tools\":[{\"type\":\"object\",\"name\":\"PanTool\",\"id\":\"cd70a572-f6f1-457d-a53b-4a7680e322ef\"},{\"type\":\"object\",\"name\":\"WheelZoomTool\",\"id\":\"d505851f-090c-4538-9c64-be57ae56c8da\",\"attributes\":{\"renderers\":\"auto\"}},{\"type\":\"object\",\"name\":\"BoxZoomTool\",\"id\":\"a968a598-9c32-40b8-bfff-81e838a3b28e\",\"attributes\":{\"overlay\":{\"type\":\"object\",\"name\":\"BoxAnnotation\",\"id\":\"0aa130b8-5a44-457f-b10f-0a8773958eb4\",\"attributes\":{\"syncable\":false,\"level\":\"overlay\",\"visible\":false,\"left\":{\"type\":\"number\",\"value\":\"nan\"},\"right\":{\"type\":\"number\",\"value\":\"nan\"},\"top\":{\"type\":\"number\",\"value\":\"nan\"},\"bottom\":{\"type\":\"number\",\"value\":\"nan\"},\"left_units\":\"canvas\",\"right_units\":\"canvas\",\"top_units\":\"canvas\",\"bottom_units\":\"canvas\",\"line_color\":\"black\",\"line_alpha\":1.0,\"line_width\":2,\"line_dash\":[4,4],\"fill_color\":\"lightgrey\",\"fill_alpha\":0.5}}}},{\"type\":\"object\",\"name\":\"SaveTool\",\"id\":\"7a463a33-a2ba-499e-a7fb-5d523a2372bf\"},{\"type\":\"object\",\"name\":\"ResetTool\",\"id\":\"5374468a-74d9-4ea9-bbcc-fd937789c28f\"},{\"type\":\"object\",\"name\":\"HelpTool\",\"id\":\"9eb6886f-79ec-4a5e-b245-92c1f23ef71d\"},{\"type\":\"object\",\"name\":\"HoverTool\",\"id\":\"9f8060a8-7556-4c49-9922-19b8fca73c7a\",\"attributes\":{\"renderers\":[{\"id\":\"75e66d7f-a47f-48d6-aa6f-169949400412\"}],\"tooltips\":null,\"mode\":\"vline\"}},{\"type\":\"object\",\"name\":\"BoxSelectTool\",\"id\":\"785ad37d-7ec3-4c23-bc39-ff4b9f56b71d\",\"attributes\":{\"renderers\":[{\"id\":\"75e66d7f-a47f-48d6-aa6f-169949400412\"}],\"mode\":\"append\",\"overlay\":{\"type\":\"object\",\"name\":\"BoxAnnotation\",\"id\":\"e37ff616-94a4-4b09-9a96-d09143e68602\",\"attributes\":{\"syncable\":false,\"level\":\"overlay\",\"visible\":false,\"left\":{\"type\":\"number\",\"value\":\"nan\"},\"right\":{\"type\":\"number\",\"value\":\"nan\"},\"top\":{\"type\":\"number\",\"value\":\"nan\"},\"bottom\":{\"type\":\"number\",\"value\":\"nan\"},\"editable\":true,\"line_color\":\"black\",\"line_alpha\":1.0,\"line_width\":2,\"line_dash\":[4,4],\"fill_color\":\"lightgrey\",\"fill_alpha\":0.5}}}}]}},\"toolbar_location\":null,\"left\":[{\"type\":\"object\",\"name\":\"LinearAxis\",\"id\":\"554758f5-7bbf-4abd-a0d9-7570aea3dc39\",\"attributes\":{\"ticker\":{\"type\":\"object\",\"name\":\"BasicTicker\",\"id\":\"a64c4fb8-9e83-438b-bf62-66e84f115639\",\"attributes\":{\"mantissas\":[1,2,5]}},\"formatter\":{\"type\":\"object\",\"name\":\"BasicTickFormatter\",\"id\":\"13d194df-dfb1-469b-b1ec-42fb270ad327\"},\"axis_label\":\"y\",\"axis_label_standoff\":10,\"axis_label_text_color\":\"#FFFFFF\",\"axis_label_text_font\":\"Josefin Sans\",\"axis_label_text_font_size\":\"1.9em\",\"axis_label_text_font_style\":\"bold\",\"major_label_policy\":{\"type\":\"object\",\"name\":\"AllLabels\",\"id\":\"e223fc0b-e008-45b2-9254-997346bfad39\"},\"major_label_text_color\":\"#E0E0E0\",\"major_label_text_font\":\"Josefin Sans\",\"major_label_text_font_size\":\"1.15em\",\"axis_line_color\":\"#E0E0E0\",\"axis_line_alpha\":0.4,\"major_tick_line_color\":\"#E0E0E0\",\"major_tick_line_alpha\":0.4,\"minor_tick_line_color\":\"#E0E0E0\",\"minor_tick_line_alpha\":0.4}}],\"below\":[{\"type\":\"object\",\"name\":\"LinearAxis\",\"id\":\"4e3456c4-f712-49cb-b7d2-27f7c49ad58b\",\"attributes\":{\"ticker\":{\"type\":\"object\",\"name\":\"BasicTicker\",\"id\":\"b6d22ea0-222a-472c-b4c1-96d636e44cb7\",\"attributes\":{\"mantissas\":[1,2,5]}},\"formatter\":{\"type\":\"object\",\"name\":\"BasicTickFormatter\",\"id\":\"cc73e2b4-edfe-4023-90d8-43b63aae73bc\"},\"axis_label\":\"x\",\"axis_label_standoff\":10,\"axis_label_text_color\":\"#FFFFFF\",\"axis_label_text_font\":\"Josefin Sans\",\"axis_label_text_font_size\":\"1.9em\",\"axis_label_text_font_style\":\"bold\",\"major_label_policy\":{\"type\":\"object\",\"name\":\"AllLabels\",\"id\":\"c9cd1af3-5868-4781-ba3b-cbadac8cee05\"},\"major_label_text_color\":\"#E0E0E0\",\"major_label_text_font\":\"Josefin Sans\",\"major_label_text_font_size\":\"1.15em\",\"axis_line_color\":\"#E0E0E0\",\"axis_line_alpha\":0.4,\"major_tick_line_color\":\"#E0E0E0\",\"major_tick_line_alpha\":0.4,\"minor_tick_line_color\":\"#E0E0E0\",\"minor_tick_line_alpha\":0.4}}],\"center\":[{\"type\":\"object\",\"name\":\"Grid\",\"id\":\"2b920222-2f71-44e6-aefe-fc30c3ac9582\",\"attributes\":{\"axis\":{\"id\":\"4e3456c4-f712-49cb-b7d2-27f7c49ad58b\"},\"grid_line_color\":\"#E0E0E0\",\"grid_line_alpha\":0.15}},{\"type\":\"object\",\"name\":\"Grid\",\"id\":\"93c30bd6-f28a-41eb-a19b-f49c07264473\",\"attributes\":{\"dimension\":1,\"axis\":{\"id\":\"554758f5-7bbf-4abd-a0d9-7570aea3dc39\"},\"grid_line_color\":\"#E0E0E0\",\"grid_line_alpha\":0.15}},{\"type\":\"object\",\"name\":\"Legend\",\"id\":\"5a044dba-2bd4-42fd-b766-4bc81bab8d9a\",\"attributes\":{\"border_line_alpha\":0.25,\"background_fill_color\":\"#505050\",\"background_fill_alpha\":0.25,\"label_text_color\":\"#E0E0E0\",\"label_text_font\":\"Josefin Sans\",\"label_text_font_size\":\"1.15em\",\"label_standoff\":8,\"spacing\":8,\"items\":[{\"type\":\"object\",\"name\":\"LegendItem\",\"id\":\"be578f95-5089-4fe9-8550-72be4e48d842\",\"attributes\":{\"label\":{\"type\":\"value\",\"value\":\"Observations\"},\"renderers\":[{\"id\":\"75e66d7f-a47f-48d6-aa6f-169949400412\"}]}}]}}],\"background_fill_color\":\"#0f0f0f\",\"background_fill_alpha\":0.9,\"border_fill_color\":\"#111111\",\"border_fill_alpha\":0.8}},{\"type\":\"object\",\"name\":\"Figure\",\"id\":\"ff687008-fb40-42bd-86a2-f9afb3acbae5\",\"attributes\":{\"height\":450,\"x_range\":{\"type\":\"object\",\"name\":\"DataRange1d\",\"id\":\"25f0c053-387d-4f87-99e3-c1ffc08cd9e6\"},\"y_range\":{\"type\":\"object\",\"name\":\"DataRange1d\",\"id\":\"8c1d8177-7240-49f8-9c28-783028827f7e\"},\"x_scale\":{\"type\":\"object\",\"name\":\"LinearScale\",\"id\":\"cdc8e9f4-512f-4767-a5a3-45af88049abd\"},\"y_scale\":{\"type\":\"object\",\"name\":\"LinearScale\",\"id\":\"7317bd4c-3985-4fa0-9d5f-f4ac0983568c\"},\"title\":{\"type\":\"object\",\"name\":\"Title\",\"id\":\"4f95d607-c176-425b-8d26-c56f7b938cd8\",\"attributes\":{\"text\":\"Problem 3\",\"text_color\":\"#E0E0E0\",\"text_font\":\"Josefin Sans\",\"text_font_size\":\"2.1em\"}},\"outline_line_color\":\"#E0E0E0\",\"outline_line_alpha\":0.25,\"outline_line_width\":3,\"renderers\":[{\"type\":\"object\",\"name\":\"GlyphRenderer\",\"id\":\"1ea085e6-85d9-4642-8e94-e535ebe88767\",\"attributes\":{\"data_source\":{\"type\":\"object\",\"name\":\"ColumnDataSource\",\"id\":\"a9db9f20-cf0e-4789-b6cf-f2517242628f\",\"attributes\":{\"selected\":{\"type\":\"object\",\"name\":\"Selection\",\"id\":\"820b062e-ae7b-409b-8749-59dade4abc14\",\"attributes\":{\"indices\":[],\"line_indices\":[]}},\"selection_policy\":{\"type\":\"object\",\"name\":\"UnionRenderers\",\"id\":\"3ac9a0c2-82fa-4491-ac28-ecfc2dca1acb\"},\"data\":{\"type\":\"map\",\"entries\":[[\"x\",{\"type\":\"ndarray\",\"array\":{\"type\":\"bytes\",\"data\":\"AAAAAAAAAABbv1Kg1q+EP1u/UqDWr5Q/CB988MEHnz9bv1Kg1q+kPzJvZ0jM26k/CB988MEHrz9wZ0jM2xmyP1u/UqDWr7Q/RhdddNFFtz8yb2dIzNu5Px3HcRzHcbw/CB988MEHvz96O0Ni3s7AP3BnSMzbGcI/ZZNNNtlkwz9bv1Kg1q/EP1HrVwrU+sU/RhdddNFFxz88Q2LezpDIPzJvZ0jM28k/J5tssskmyz8dx3Ecx3HMPxPzdobEvM0/CB988MEHzz9/pUCtXynQP3o7Q2LeztA/ddFFF1100T9wZ0jM2xnSP2r9SoFav9I/ZZNNNtlk0z9gKVDrVwrUP1u/UqDWr9Q/VlVVVVVV1T9R61cK1PrVP0yBWr9SoNY/RhdddNFF1z9BrV8pUOvXPzxDYt7OkNg/N9lkk0022T8yb2dIzNvZPy0Fav1Kgdo/J5tssskm2z8iMW9nSMzbPx3HcRzHcdw/GF100UUX3T8T83aGxLzdPw6JeTtDYt4/CB988MEH3z8DtX6lQK3fP3+lQK1fKeA/ffDBBx984D96O0Ni3s7gP3eGxLydIeE/ddFFF1104T9yHMdxHMfhP3BnSMzbGeI/bbLJJpts4j9q/UqBWr/iP2hIzNsZEuM/ZZNNNtlk4z9j3s6QmLfjP2ApUOtXCuQ/XnTRRRdd5D9bv1Kg1q/kP1gK1PqVAuU/VlVVVVVV5T9ToNavFKjlP1HrVwrU+uU/TjbZZJNN5j9MgVq/UqDmP0nM2xkS8+Y/RhdddNFF5z9EYt7OkJjnP0GtXylQ6+c/P/jggw8+6D88Q2LezpDoPzmO4ziO4+g/N9lkk0026T80JObtDInpPzJvZ0jM2+k/L7rooosu6j8tBWr9SoHqPypQ61cK1Oo/J5tssskm6z8l5u0MiXnrPyIxb2dIzOs/IHzwwQcf7D8dx3Ecx3HsPxsS83aGxOw/GF100UUX7T8VqPUrBWrtPxPzdobEvO0/ED744IMP7j8OiXk7Q2LuPwvU+pUCte4/CB988MEH7z8Gav1KgVrvPwO1fqVAre8/AAAAAAAA8D8=\"},\"shape\":[100],\"dtype\":\"float64\",\"order\":\"little\"}],[\"y\",{\"type\":\"ndarray\",\"array\":{\"type\":\"bytes\",\"data\":\"PwiWGqZK7T8Mka1El6XvP+NYAbyRd+8/PaJDvaqS7z/30u35amzwP5vael3pQfA/0s4BBllX7z9W99vwMEnyPzfrcVmK3fI/w+l+lfG38D//NyRNM9/wP/WQ1SbT5/E/EbUJYPY88T9R9FIP/tLxP56hNgeqpfE/WJQqsgYw8j99wS9KNTzxP30khFfkcfE/9CieiIV18z+Le5lG1uHzPy9IY4/QCPQ/jFOUQ/sR8z9odzwDJ9nyPxJF6PtGBPQ/NOaPrEuy8z/4yOilFxv1P3lY2KOaxfU/e2nRycPK9T+iwKeN4LD1P5Is1Kf+3PU/tG7tJa978z/Uzc679pj2Pzq9Oi2bDfY/KC4Fdyag9T/vqeh/8yv0P5bHOmtSlvQ/XOQek25v9D8VcbL40kT3PzheoqbKRPY/IiEguJUG9z+Zmqo0j432P7GCww3rJPg/H8PkXLB9+D+qZjjSgCb4PxKRDCcSSPc/YpD70PsY9j8fJ1XlzQ33P0oesMaXmfc/gSVj4qnX9j8jkL6DAWH4P9LMECbK2Pk/opQy9Oz9+D+t8izWFL33P1Inl2zUhPc/ppGre5Sj+j+ogs8PVNT6P7CqaGak3Po/3kBWaP7s+T+pJTKho276P8PQSbN9Bvs/aMF06End+T+r6PgYLBv5PyaImC1a5/o/7Tx28JTW+z/GNNws+R76P2CoYcuCwPw/m0W6G3Sw+z+GgOgGlQj7P1A7YQU3nvw/+2HFrKnp+j++i9B5wMD8P8fJmMe3S/w/KokwwtRB/T+VDxHKEID7P3QP4uzFAv0/gTUOi9fM/D8KpkadJND7PxqJmBRSsP0/5U+KGLKP/j97sIkh/zX8P782Ox4+3v4/FGyuoI+R/z9coRMeXN7+PyilN07SPP0/rMVW84Xa/j8gdgva4Tj+P2EtPxMs3/8/e3vq5P/k/T+ghCq8V9L/P+Cs2ttF1f4/xg4udYWCAEDI8cMqmikAQJ/i0tRcGgBAJ4jqoxob/z+GV7y+sGUAQAw0lGfIVgBArJkskN3SAEDKDNI3c2EAQEz1T0VwewBAgjv5McZdAUA=\"},\"shape\":[100],\"dtype\":\"float64\",\"order\":\"little\"}]]}}},\"view\":{\"type\":\"object\",\"name\":\"CDSView\",\"id\":\"7f5977e4-680c-480f-a41a-ee3c68076d50\",\"attributes\":{\"filter\":{\"type\":\"object\",\"name\":\"AllIndices\",\"id\":\"a93f10eb-be79-4327-940b-ebd18020802f\"}}},\"glyph\":{\"type\":\"object\",\"name\":\"Scatter\",\"id\":\"c938e390-894a-42a4-a38d-7c4ca2b9f317\",\"attributes\":{\"x\":{\"type\":\"field\",\"field\":\"x\"},\"y\":{\"type\":\"field\",\"field\":\"y\"},\"size\":{\"type\":\"value\",\"value\":10},\"line_color\":{\"type\":\"value\",\"value\":\"white\"},\"line_alpha\":{\"type\":\"value\",\"value\":0.25},\"fill_color\":{\"type\":\"value\",\"value\":\"midnightblue\"},\"fill_alpha\":{\"type\":\"value\",\"value\":0.25},\"hatch_alpha\":{\"type\":\"value\",\"value\":0.25}}},\"selection_glyph\":{\"type\":\"object\",\"name\":\"Circle\",\"id\":\"9d20e817-6c63-4c54-af78-f30ba42b8a8e\",\"attributes\":{\"line_color\":{\"type\":\"value\",\"value\":\"white\"},\"fill_color\":{\"type\":\"value\",\"value\":\"red\"},\"fill_alpha\":{\"type\":\"value\",\"value\":0.8}}},\"nonselection_glyph\":{\"type\":\"object\",\"name\":\"Circle\",\"id\":\"06536c11-1dfa-4d7d-887f-3d57b0109ca9\",\"attributes\":{\"line_color\":{\"type\":\"value\",\"value\":\"white\"},\"fill_color\":{\"type\":\"value\",\"value\":\"midnightblue\"},\"fill_alpha\":{\"type\":\"value\",\"value\":0.5}}},\"hover_glyph\":{\"type\":\"object\",\"name\":\"Scatter\",\"id\":\"5c3d71dd-cc34-4181-8647-5996ce0d5de7\",\"attributes\":{\"x\":{\"type\":\"field\",\"field\":\"x\"},\"y\":{\"type\":\"field\",\"field\":\"y\"},\"size\":{\"type\":\"value\",\"value\":10},\"line_color\":{\"type\":\"value\",\"value\":\"white\"},\"line_alpha\":{\"type\":\"value\",\"value\":0.5},\"fill_color\":{\"type\":\"value\",\"value\":\"red\"},\"fill_alpha\":{\"type\":\"value\",\"value\":0.5},\"hatch_alpha\":{\"type\":\"value\",\"value\":0.5}}},\"muted_glyph\":{\"type\":\"object\",\"name\":\"Scatter\",\"id\":\"d7ce58ed-933d-466d-b766-55ef3e496c4a\",\"attributes\":{\"x\":{\"type\":\"field\",\"field\":\"x\"},\"y\":{\"type\":\"field\",\"field\":\"y\"},\"size\":{\"type\":\"value\",\"value\":10},\"line_color\":{\"type\":\"value\",\"value\":\"white\"},\"line_alpha\":{\"type\":\"value\",\"value\":0.2},\"fill_color\":{\"type\":\"value\",\"value\":\"midnightblue\"},\"fill_alpha\":{\"type\":\"value\",\"value\":0.2},\"hatch_alpha\":{\"type\":\"value\",\"value\":0.2}}}}}],\"toolbar\":{\"type\":\"object\",\"name\":\"Toolbar\",\"id\":\"0c0c59b8-325e-48d5-8fc1-e097014f742b\",\"attributes\":{\"tools\":[{\"type\":\"object\",\"name\":\"PanTool\",\"id\":\"e6e2d201-8fcf-4987-9c3c-cf1e5decd708\"},{\"type\":\"object\",\"name\":\"WheelZoomTool\",\"id\":\"bbc36502-5c33-47f6-96f6-f2b2f957d177\",\"attributes\":{\"renderers\":\"auto\"}},{\"type\":\"object\",\"name\":\"BoxZoomTool\",\"id\":\"9ea25984-08c1-4daa-be84-98618ab76c8a\",\"attributes\":{\"overlay\":{\"type\":\"object\",\"name\":\"BoxAnnotation\",\"id\":\"8bbb3288-701a-40da-a98e-b2d9b3bcdf33\",\"attributes\":{\"syncable\":false,\"level\":\"overlay\",\"visible\":false,\"left\":{\"type\":\"number\",\"value\":\"nan\"},\"right\":{\"type\":\"number\",\"value\":\"nan\"},\"top\":{\"type\":\"number\",\"value\":\"nan\"},\"bottom\":{\"type\":\"number\",\"value\":\"nan\"},\"left_units\":\"canvas\",\"right_units\":\"canvas\",\"top_units\":\"canvas\",\"bottom_units\":\"canvas\",\"line_color\":\"black\",\"line_alpha\":1.0,\"line_width\":2,\"line_dash\":[4,4],\"fill_color\":\"lightgrey\",\"fill_alpha\":0.5}}}},{\"type\":\"object\",\"name\":\"SaveTool\",\"id\":\"48bec38b-3636-4b00-8c70-52e1c55eab6e\"},{\"type\":\"object\",\"name\":\"ResetTool\",\"id\":\"f52941db-cd38-43ea-9982-32e118a0a57a\"},{\"type\":\"object\",\"name\":\"HelpTool\",\"id\":\"3d8fc701-064a-4905-9562-d0f00d091310\"},{\"type\":\"object\",\"name\":\"HoverTool\",\"id\":\"8a0a714f-9507-43cd-abb2-6b729297dbd8\",\"attributes\":{\"renderers\":[{\"id\":\"1ea085e6-85d9-4642-8e94-e535ebe88767\"}],\"tooltips\":null,\"mode\":\"vline\"}},{\"type\":\"object\",\"name\":\"BoxSelectTool\",\"id\":\"9d904e3b-6d1f-45a8-a395-8fb9945be1c4\",\"attributes\":{\"renderers\":[{\"id\":\"1ea085e6-85d9-4642-8e94-e535ebe88767\"}],\"mode\":\"append\",\"overlay\":{\"type\":\"object\",\"name\":\"BoxAnnotation\",\"id\":\"6eb10a1e-ee05-40d2-b835-14e076f3d307\",\"attributes\":{\"syncable\":false,\"level\":\"overlay\",\"visible\":false,\"left\":{\"type\":\"number\",\"value\":\"nan\"},\"right\":{\"type\":\"number\",\"value\":\"nan\"},\"top\":{\"type\":\"number\",\"value\":\"nan\"},\"bottom\":{\"type\":\"number\",\"value\":\"nan\"},\"editable\":true,\"line_color\":\"black\",\"line_alpha\":1.0,\"line_width\":2,\"line_dash\":[4,4],\"fill_color\":\"lightgrey\",\"fill_alpha\":0.5}}}}]}},\"toolbar_location\":null,\"left\":[{\"type\":\"object\",\"name\":\"LinearAxis\",\"id\":\"ef28147a-1a43-47e0-b7bc-5626c0c31969\",\"attributes\":{\"ticker\":{\"type\":\"object\",\"name\":\"BasicTicker\",\"id\":\"9b276691-c998-4620-8723-58705a807d8e\",\"attributes\":{\"mantissas\":[1,2,5]}},\"formatter\":{\"type\":\"object\",\"name\":\"BasicTickFormatter\",\"id\":\"6d472d12-a449-4dfc-b714-2bc3d250e17f\"},\"axis_label\":\"y\",\"axis_label_standoff\":10,\"axis_label_text_color\":\"#FFFFFF\",\"axis_label_text_font\":\"Josefin Sans\",\"axis_label_text_font_size\":\"1.9em\",\"axis_label_text_font_style\":\"bold\",\"major_label_policy\":{\"type\":\"object\",\"name\":\"AllLabels\",\"id\":\"88349fa3-8ccc-48f1-b71a-d9bb649acd56\"},\"major_label_text_color\":\"#E0E0E0\",\"major_label_text_font\":\"Josefin Sans\",\"major_label_text_font_size\":\"1.15em\",\"axis_line_color\":\"#E0E0E0\",\"axis_line_alpha\":0.4,\"major_tick_line_color\":\"#E0E0E0\",\"major_tick_line_alpha\":0.4,\"minor_tick_line_color\":\"#E0E0E0\",\"minor_tick_line_alpha\":0.4}}],\"below\":[{\"type\":\"object\",\"name\":\"LinearAxis\",\"id\":\"861c26d1-1989-4c51-8a19-e4075d27eb4d\",\"attributes\":{\"ticker\":{\"type\":\"object\",\"name\":\"BasicTicker\",\"id\":\"16f67245-765c-41d4-a298-a2cee5407658\",\"attributes\":{\"mantissas\":[1,2,5]}},\"formatter\":{\"type\":\"object\",\"name\":\"BasicTickFormatter\",\"id\":\"b114e026-3bf8-4090-a7b7-20076e06bbe2\"},\"axis_label\":\"x\",\"axis_label_standoff\":10,\"axis_label_text_color\":\"#FFFFFF\",\"axis_label_text_font\":\"Josefin Sans\",\"axis_label_text_font_size\":\"1.9em\",\"axis_label_text_font_style\":\"bold\",\"major_label_policy\":{\"type\":\"object\",\"name\":\"AllLabels\",\"id\":\"cd9c65c9-a108-4833-8b1c-a1479a58cad6\"},\"major_label_text_color\":\"#E0E0E0\",\"major_label_text_font\":\"Josefin Sans\",\"major_label_text_font_size\":\"1.15em\",\"axis_line_color\":\"#E0E0E0\",\"axis_line_alpha\":0.4,\"major_tick_line_color\":\"#E0E0E0\",\"major_tick_line_alpha\":0.4,\"minor_tick_line_color\":\"#E0E0E0\",\"minor_tick_line_alpha\":0.4}}],\"center\":[{\"type\":\"object\",\"name\":\"Grid\",\"id\":\"8eadac39-9626-42a5-a8eb-7753307e9b09\",\"attributes\":{\"axis\":{\"id\":\"861c26d1-1989-4c51-8a19-e4075d27eb4d\"},\"grid_line_color\":\"#E0E0E0\",\"grid_line_alpha\":0.15}},{\"type\":\"object\",\"name\":\"Grid\",\"id\":\"2e4ffe2b-34f6-4ba6-b992-9d9c4c8b167f\",\"attributes\":{\"dimension\":1,\"axis\":{\"id\":\"ef28147a-1a43-47e0-b7bc-5626c0c31969\"},\"grid_line_color\":\"#E0E0E0\",\"grid_line_alpha\":0.15}},{\"type\":\"object\",\"name\":\"Legend\",\"id\":\"ba35c45e-4737-490c-980a-9c2d5bd997ed\",\"attributes\":{\"border_line_alpha\":0.25,\"background_fill_color\":\"#505050\",\"background_fill_alpha\":0.25,\"label_text_color\":\"#E0E0E0\",\"label_text_font\":\"Josefin Sans\",\"label_text_font_size\":\"1.15em\",\"label_standoff\":8,\"spacing\":8,\"items\":[{\"type\":\"object\",\"name\":\"LegendItem\",\"id\":\"1b24bbcc-11fc-4c78-8365-6f2a08306826\",\"attributes\":{\"label\":{\"type\":\"value\",\"value\":\"Observations\"},\"renderers\":[{\"id\":\"1ea085e6-85d9-4642-8e94-e535ebe88767\"}]}}]}}],\"background_fill_color\":\"#0f0f0f\",\"background_fill_alpha\":0.9,\"border_fill_color\":\"#111111\",\"border_fill_alpha\":0.8}}]}}]}},{\"type\":\"object\",\"name\":\"Spacer\",\"id\":\"07149b54-c743-42f9-b1a5-d3ef06f162e2\",\"attributes\":{\"name\":\"HSpacer00128\",\"stylesheets\":[\"\\n:host(.pn-loading):before, .pn-loading:before {\\n  background-color: #c3c3c3;\\n  mask-size: auto calc(min(50%, 400px));\\n  -webkit-mask-size: auto calc(min(50%, 400px));\\n}\",{\"id\":\"6f6d5db0-81ab-48e0-83c2-fffedc2ed476\"},{\"id\":\"a58b6890-74a3-4402-ad22-302edea72943\"},{\"id\":\"322f7745-d189-4275-81a1-3f92618ca818\"},{\"id\":\"af1280ae-a4b3-4523-9f66-e91ec74e2dda\"}],\"margin\":0,\"sizing_mode\":\"stretch_width\",\"align\":\"start\"}}]}},{\"type\":\"object\",\"name\":\"panel.models.comm_manager.CommManager\",\"id\":\"4fc291a4-a998-4fc8-bb59-79649aae9c5e\",\"attributes\":{\"plot_id\":\"0e895f63-8664-4ea3-839b-6777bc9726e9\",\"comm_id\":\"f0de1ec447e2450b81f310d6fa98de20\",\"client_comm_id\":\"4a76677610aa4af89c1fd6d28dfe79e0\"}}],\"defs\":[{\"type\":\"model\",\"name\":\"ReactiveHTML1\"},{\"type\":\"model\",\"name\":\"FlexBox1\",\"properties\":[{\"name\":\"align_content\",\"kind\":\"Any\",\"default\":\"flex-start\"},{\"name\":\"align_items\",\"kind\":\"Any\",\"default\":\"flex-start\"},{\"name\":\"flex_direction\",\"kind\":\"Any\",\"default\":\"row\"},{\"name\":\"flex_wrap\",\"kind\":\"Any\",\"default\":\"wrap\"},{\"name\":\"gap\",\"kind\":\"Any\",\"default\":\"\"},{\"name\":\"justify_content\",\"kind\":\"Any\",\"default\":\"flex-start\"}]},{\"type\":\"model\",\"name\":\"FloatPanel1\",\"properties\":[{\"name\":\"config\",\"kind\":\"Any\",\"default\":{\"type\":\"map\"}},{\"name\":\"contained\",\"kind\":\"Any\",\"default\":true},{\"name\":\"position\",\"kind\":\"Any\",\"default\":\"right-top\"},{\"name\":\"offsetx\",\"kind\":\"Any\",\"default\":null},{\"name\":\"offsety\",\"kind\":\"Any\",\"default\":null},{\"name\":\"theme\",\"kind\":\"Any\",\"default\":\"primary\"},{\"name\":\"status\",\"kind\":\"Any\",\"default\":\"normalized\"}]},{\"type\":\"model\",\"name\":\"GridStack1\",\"properties\":[{\"name\":\"mode\",\"kind\":\"Any\",\"default\":\"warn\"},{\"name\":\"ncols\",\"kind\":\"Any\",\"default\":null},{\"name\":\"nrows\",\"kind\":\"Any\",\"default\":null},{\"name\":\"allow_resize\",\"kind\":\"Any\",\"default\":true},{\"name\":\"allow_drag\",\"kind\":\"Any\",\"default\":true},{\"name\":\"state\",\"kind\":\"Any\",\"default\":[]}]},{\"type\":\"model\",\"name\":\"drag1\",\"properties\":[{\"name\":\"slider_width\",\"kind\":\"Any\",\"default\":5},{\"name\":\"slider_color\",\"kind\":\"Any\",\"default\":\"black\"},{\"name\":\"value\",\"kind\":\"Any\",\"default\":50}]},{\"type\":\"model\",\"name\":\"click1\",\"properties\":[{\"name\":\"terminal_output\",\"kind\":\"Any\",\"default\":\"\"},{\"name\":\"debug_name\",\"kind\":\"Any\",\"default\":\"\"},{\"name\":\"clears\",\"kind\":\"Any\",\"default\":0}]},{\"type\":\"model\",\"name\":\"FastWrapper1\",\"properties\":[{\"name\":\"object\",\"kind\":\"Any\",\"default\":null},{\"name\":\"style\",\"kind\":\"Any\",\"default\":null}]},{\"type\":\"model\",\"name\":\"NotificationAreaBase1\",\"properties\":[{\"name\":\"js_events\",\"kind\":\"Any\",\"default\":{\"type\":\"map\"}},{\"name\":\"position\",\"kind\":\"Any\",\"default\":\"bottom-right\"},{\"name\":\"_clear\",\"kind\":\"Any\",\"default\":0}]},{\"type\":\"model\",\"name\":\"NotificationArea1\",\"properties\":[{\"name\":\"js_events\",\"kind\":\"Any\",\"default\":{\"type\":\"map\"}},{\"name\":\"notifications\",\"kind\":\"Any\",\"default\":[]},{\"name\":\"position\",\"kind\":\"Any\",\"default\":\"bottom-right\"},{\"name\":\"_clear\",\"kind\":\"Any\",\"default\":0},{\"name\":\"types\",\"kind\":\"Any\",\"default\":[{\"type\":\"map\",\"entries\":[[\"type\",\"warning\"],[\"background\",\"#ffc107\"],[\"icon\",{\"type\":\"map\",\"entries\":[[\"className\",\"fas fa-exclamation-triangle\"],[\"tagName\",\"i\"],[\"color\",\"white\"]]}]]},{\"type\":\"map\",\"entries\":[[\"type\",\"info\"],[\"background\",\"#007bff\"],[\"icon\",{\"type\":\"map\",\"entries\":[[\"className\",\"fas fa-info-circle\"],[\"tagName\",\"i\"],[\"color\",\"white\"]]}]]}]}]},{\"type\":\"model\",\"name\":\"Notification\",\"properties\":[{\"name\":\"background\",\"kind\":\"Any\",\"default\":null},{\"name\":\"duration\",\"kind\":\"Any\",\"default\":3000},{\"name\":\"icon\",\"kind\":\"Any\",\"default\":null},{\"name\":\"message\",\"kind\":\"Any\",\"default\":\"\"},{\"name\":\"notification_type\",\"kind\":\"Any\",\"default\":null},{\"name\":\"_destroyed\",\"kind\":\"Any\",\"default\":false}]},{\"type\":\"model\",\"name\":\"TemplateActions1\",\"properties\":[{\"name\":\"open_modal\",\"kind\":\"Any\",\"default\":0},{\"name\":\"close_modal\",\"kind\":\"Any\",\"default\":0}]},{\"type\":\"model\",\"name\":\"BootstrapTemplateActions1\",\"properties\":[{\"name\":\"open_modal\",\"kind\":\"Any\",\"default\":0},{\"name\":\"close_modal\",\"kind\":\"Any\",\"default\":0}]},{\"type\":\"model\",\"name\":\"TemplateEditor1\",\"properties\":[{\"name\":\"layout\",\"kind\":\"Any\",\"default\":[]}]},{\"type\":\"model\",\"name\":\"MaterialTemplateActions1\",\"properties\":[{\"name\":\"open_modal\",\"kind\":\"Any\",\"default\":0},{\"name\":\"close_modal\",\"kind\":\"Any\",\"default\":0}]},{\"type\":\"model\",\"name\":\"copy_to_clipboard1\",\"properties\":[{\"name\":\"fill\",\"kind\":\"Any\",\"default\":\"none\"},{\"name\":\"value\",\"kind\":\"Any\",\"default\":null}]}]}};\n",
       "  var render_items = [{\"docid\":\"262db913-06fe-40a8-998f-3f252d610dc0\",\"roots\":{\"0e895f63-8664-4ea3-839b-6777bc9726e9\":\"b9a11edf-df55-4b71-9429-bdd4caed1cee\"},\"root_ids\":[\"0e895f63-8664-4ea3-839b-6777bc9726e9\"]}];\n",
       "  var docs = Object.values(docs_json)\n",
       "  if (!docs) {\n",
       "    return\n",
       "  }\n",
       "  const py_version = docs[0].version.replace('rc', '-rc.').replace('.dev', '-dev.')\n",
       "  function embed_document(root) {\n",
       "    var Bokeh = get_bokeh(root)\n",
       "    Bokeh.embed.embed_items_notebook(docs_json, render_items);\n",
       "    for (const render_item of render_items) {\n",
       "      for (const root_id of render_item.root_ids) {\n",
       "\tconst id_el = document.getElementById(root_id)\n",
       "\tif (id_el.children.length && (id_el.children[0].className === 'bk-root')) {\n",
       "\t  const root_el = id_el.children[0]\n",
       "\t  root_el.id = root_el.id + '-rendered'\n",
       "\t}\n",
       "      }\n",
       "    }\n",
       "  }\n",
       "  function get_bokeh(root) {\n",
       "    if (root.Bokeh === undefined) {\n",
       "      return null\n",
       "    } else if (root.Bokeh.version !== py_version) {\n",
       "      if (root.Bokeh.versions === undefined || !root.Bokeh.versions.has(py_version)) {\n",
       "\treturn null\n",
       "      }\n",
       "      return root.Bokeh.versions.get(py_version);\n",
       "    } else if (root.Bokeh.version === py_version) {\n",
       "      return root.Bokeh\n",
       "    }\n",
       "    return null\n",
       "  }\n",
       "  function is_loaded(root) {\n",
       "    var Bokeh = get_bokeh(root)\n",
       "    return (Bokeh != null && Bokeh.Panel !== undefined)\n",
       "  }\n",
       "  if (is_loaded(root)) {\n",
       "    embed_document(root);\n",
       "  } else {\n",
       "    var attempts = 0;\n",
       "    var timer = setInterval(function(root) {\n",
       "      if (is_loaded(root)) {\n",
       "        clearInterval(timer);\n",
       "        embed_document(root);\n",
       "      } else if (document.readyState == \"complete\") {\n",
       "        attempts++;\n",
       "        if (attempts > 200) {\n",
       "          clearInterval(timer);\n",
       "\t  var Bokeh = get_bokeh(root)\n",
       "\t  if (Bokeh == null || Bokeh.Panel == null) {\n",
       "            console.warn(\"Panel: ERROR: Unable to run Panel code because Bokeh or Panel library is missing\");\n",
       "\t  } else {\n",
       "\t    console.warn(\"Panel: WARNING: Attempting to render but not all required libraries could be resolved.\")\n",
       "\t    embed_document(root)\n",
       "\t  }\n",
       "        }\n",
       "      }\n",
       "    }, 25, root)\n",
       "  }\n",
       "})(window);</script>"
      ],
      "text/plain": [
       "Row\n",
       "    [0] HSpacer()\n",
       "    [1] Bokeh(Column)\n",
       "    [2] HSpacer()"
      ]
     },
     "execution_count": 5,
     "metadata": {
      "application/vnd.holoviews_exec.v0+json": {
       "id": "0e895f63-8664-4ea3-839b-6777bc9726e9"
      }
     },
     "output_type": "execute_result"
    }
   ],
   "source": [
    "from bokeh.models import Div\n",
    "from bokeh.layouts import column, row\n",
    "plot = center_plot(column(Div(text = \"Observing different problems\", styles={'font-size': '250%'}), row(*plots)))\n",
    "plot"
   ]
  },
  {
   "cell_type": "markdown",
   "metadata": {},
   "source": [
    "In real-life settings, this function can also have different levels of noise, as exemplified in the following code."
   ]
  },
  {
   "cell_type": "code",
   "execution_count": 6,
   "metadata": {},
   "outputs": [
    {
     "name": "stderr",
     "output_type": "stream",
     "text": [
      "BokehDeprecationWarning: 'circle() method with size value' was deprecated in Bokeh 3.4.0 and will be removed, use 'scatter(size=...) instead' instead.\n",
      "BokehDeprecationWarning: 'circle() method with size value' was deprecated in Bokeh 3.4.0 and will be removed, use 'scatter(size=...) instead' instead.\n",
      "BokehDeprecationWarning: 'circle() method with size value' was deprecated in Bokeh 3.4.0 and will be removed, use 'scatter(size=...) instead' instead.\n"
     ]
    }
   ],
   "source": [
    "params = [3, 0, 1]\n",
    "noise_levels = [0.1, 1.0, 8.0]\n",
    "# Generating the x axis\n",
    "x = np.linspace(0, 1, 100)\n",
    "plots = []\n",
    "for p in range(len(noise_levels)):\n",
    "    poly = np.poly1d(params)\n",
    "    epsilon = np.random.uniform(-noise_levels[p],noise_levels[p],x.shape)\n",
    "    y = poly(x) + epsilon\n",
    "    plots.append(scatter(x, y, title=\"Problem \"+(str(p+1))))"
   ]
  },
  {
   "cell_type": "code",
   "execution_count": 7,
   "metadata": {},
   "outputs": [
    {
     "data": {},
     "metadata": {},
     "output_type": "display_data"
    },
    {
     "data": {
      "application/vnd.holoviews_exec.v0+json": "",
      "text/html": [
       "<div id='383631d2-2b05-4ac0-9c1a-f83280bffa63'>\n",
       "  <div id=\"b707e020-9094-48e0-bfd3-95644d899d08\" data-root-id=\"383631d2-2b05-4ac0-9c1a-f83280bffa63\" style=\"display: contents;\"></div>\n",
       "</div>\n",
       "<script type=\"application/javascript\">(function(root) {\n",
       "  var docs_json = {\"8f252142-0f31-4d01-adc4-f78ae6cba041\":{\"version\":\"3.4.1\",\"title\":\"Bokeh Application\",\"roots\":[{\"type\":\"object\",\"name\":\"Row\",\"id\":\"383631d2-2b05-4ac0-9c1a-f83280bffa63\",\"attributes\":{\"name\":\"Row00141\",\"stylesheets\":[\"\\n:host(.pn-loading):before, .pn-loading:before {\\n  background-color: #c3c3c3;\\n  mask-size: auto calc(min(50%, 400px));\\n  -webkit-mask-size: auto calc(min(50%, 400px));\\n}\",{\"type\":\"object\",\"name\":\"ImportedStyleSheet\",\"id\":\"2653af2b-b5cc-44e5-bf38-28fa1123889b\",\"attributes\":{\"url\":\"https://cdn.holoviz.org/panel/1.4.1/dist/css/loading.css\"}},{\"type\":\"object\",\"name\":\"ImportedStyleSheet\",\"id\":\"d6906984-c459-4bd5-8247-59f894f5d1da\",\"attributes\":{\"url\":\"cml/cml.css\"}},{\"type\":\"object\",\"name\":\"ImportedStyleSheet\",\"id\":\"284b2ee9-9f99-4cb5-b728-283872fe7eaa\",\"attributes\":{\"url\":\"https://cdn.holoviz.org/panel/1.4.1/dist/css/listpanel.css\"}},{\"type\":\"object\",\"name\":\"ImportedStyleSheet\",\"id\":\"07bf8bb7-22ac-4304-8ac5-302ae8886f6e\",\"attributes\":{\"url\":\"https://cdn.holoviz.org/panel/1.4.1/dist/bundled/theme/default.css\"}},{\"type\":\"object\",\"name\":\"ImportedStyleSheet\",\"id\":\"74ef0de2-d14c-4a73-8b80-8272f0501eaf\",\"attributes\":{\"url\":\"https://cdn.holoviz.org/panel/1.4.1/dist/bundled/theme/native.css\"}}],\"margin\":0,\"sizing_mode\":\"stretch_width\",\"align\":\"start\",\"children\":[{\"type\":\"object\",\"name\":\"Spacer\",\"id\":\"71427f59-41ba-4dbc-ab45-22636f85592b\",\"attributes\":{\"name\":\"HSpacer00137\",\"stylesheets\":[\"\\n:host(.pn-loading):before, .pn-loading:before {\\n  background-color: #c3c3c3;\\n  mask-size: auto calc(min(50%, 400px));\\n  -webkit-mask-size: auto calc(min(50%, 400px));\\n}\",{\"id\":\"2653af2b-b5cc-44e5-bf38-28fa1123889b\"},{\"id\":\"d6906984-c459-4bd5-8247-59f894f5d1da\"},{\"id\":\"07bf8bb7-22ac-4304-8ac5-302ae8886f6e\"},{\"id\":\"74ef0de2-d14c-4a73-8b80-8272f0501eaf\"}],\"margin\":0,\"sizing_mode\":\"stretch_width\",\"align\":\"start\"}},{\"type\":\"object\",\"name\":\"Column\",\"id\":\"50eb66c2-8252-4b1b-aabf-27ae42662d93\",\"attributes\":{\"children\":[{\"type\":\"object\",\"name\":\"Div\",\"id\":\"b7fdeb57-13e9-4233-b61b-d71cd1b973f5\",\"attributes\":{\"styles\":{\"type\":\"map\",\"entries\":[[\"font-size\",\"250%\"]]},\"text\":\"Different amounts of noise\"}},{\"type\":\"object\",\"name\":\"Row\",\"id\":\"0c959194-ac0f-49d0-a965-89401d03a8b5\",\"attributes\":{\"children\":[{\"type\":\"object\",\"name\":\"Figure\",\"id\":\"4a4eac3d-795f-4bf1-9894-977a7c958381\",\"attributes\":{\"height\":450,\"x_range\":{\"type\":\"object\",\"name\":\"DataRange1d\",\"id\":\"c356b21b-2347-4a88-804a-020b0f106ac4\"},\"y_range\":{\"type\":\"object\",\"name\":\"DataRange1d\",\"id\":\"db242b25-f66e-43e9-9b43-eccd12895723\"},\"x_scale\":{\"type\":\"object\",\"name\":\"LinearScale\",\"id\":\"1aa81f1b-3afd-4613-8304-6b3cb89a87e3\"},\"y_scale\":{\"type\":\"object\",\"name\":\"LinearScale\",\"id\":\"c1e429bc-4db7-4231-80cd-1a18456c1a17\"},\"title\":{\"type\":\"object\",\"name\":\"Title\",\"id\":\"51b77c0d-9a79-4525-943a-10c65c2334e7\",\"attributes\":{\"text\":\"Problem 1\",\"text_color\":\"#E0E0E0\",\"text_font\":\"Josefin Sans\",\"text_font_size\":\"2.1em\"}},\"outline_line_color\":\"#E0E0E0\",\"outline_line_alpha\":0.25,\"outline_line_width\":3,\"renderers\":[{\"type\":\"object\",\"name\":\"GlyphRenderer\",\"id\":\"2fa52c60-0383-4c58-919b-1132fcc36e37\",\"attributes\":{\"data_source\":{\"type\":\"object\",\"name\":\"ColumnDataSource\",\"id\":\"dcaaf87f-2fec-4226-b39b-478c74936a6f\",\"attributes\":{\"selected\":{\"type\":\"object\",\"name\":\"Selection\",\"id\":\"822d189c-b733-416a-9fb5-4f9a5df47788\",\"attributes\":{\"indices\":[],\"line_indices\":[]}},\"selection_policy\":{\"type\":\"object\",\"name\":\"UnionRenderers\",\"id\":\"f561154b-d3ea-447d-9089-602ca2f1fc47\"},\"data\":{\"type\":\"map\",\"entries\":[[\"x\",{\"type\":\"ndarray\",\"array\":{\"type\":\"bytes\",\"data\":\"AAAAAAAAAABbv1Kg1q+EP1u/UqDWr5Q/CB988MEHnz9bv1Kg1q+kPzJvZ0jM26k/CB988MEHrz9wZ0jM2xmyP1u/UqDWr7Q/RhdddNFFtz8yb2dIzNu5Px3HcRzHcbw/CB988MEHvz96O0Ni3s7AP3BnSMzbGcI/ZZNNNtlkwz9bv1Kg1q/EP1HrVwrU+sU/RhdddNFFxz88Q2LezpDIPzJvZ0jM28k/J5tssskmyz8dx3Ecx3HMPxPzdobEvM0/CB988MEHzz9/pUCtXynQP3o7Q2LeztA/ddFFF1100T9wZ0jM2xnSP2r9SoFav9I/ZZNNNtlk0z9gKVDrVwrUP1u/UqDWr9Q/VlVVVVVV1T9R61cK1PrVP0yBWr9SoNY/RhdddNFF1z9BrV8pUOvXPzxDYt7OkNg/N9lkk0022T8yb2dIzNvZPy0Fav1Kgdo/J5tssskm2z8iMW9nSMzbPx3HcRzHcdw/GF100UUX3T8T83aGxLzdPw6JeTtDYt4/CB988MEH3z8DtX6lQK3fP3+lQK1fKeA/ffDBBx984D96O0Ni3s7gP3eGxLydIeE/ddFFF1104T9yHMdxHMfhP3BnSMzbGeI/bbLJJpts4j9q/UqBWr/iP2hIzNsZEuM/ZZNNNtlk4z9j3s6QmLfjP2ApUOtXCuQ/XnTRRRdd5D9bv1Kg1q/kP1gK1PqVAuU/VlVVVVVV5T9ToNavFKjlP1HrVwrU+uU/TjbZZJNN5j9MgVq/UqDmP0nM2xkS8+Y/RhdddNFF5z9EYt7OkJjnP0GtXylQ6+c/P/jggw8+6D88Q2LezpDoPzmO4ziO4+g/N9lkk0026T80JObtDInpPzJvZ0jM2+k/L7rooosu6j8tBWr9SoHqPypQ61cK1Oo/J5tssskm6z8l5u0MiXnrPyIxb2dIzOs/IHzwwQcf7D8dx3Ecx3HsPxsS83aGxOw/GF100UUX7T8VqPUrBWrtPxPzdobEvO0/ED744IMP7j8OiXk7Q2LuPwvU+pUCte4/CB988MEH7z8Gav1KgVrvPwO1fqVAre8/AAAAAAAA8D8=\"},\"shape\":[100],\"dtype\":\"float64\",\"order\":\"little\"}],[\"y\",{\"type\":\"ndarray\",\"array\":{\"type\":\"bytes\",\"data\":\"L1LhXcsb8T+I1sOVbv3uP7/S4nf9lPA/C6d5mOSH8T8IpW3XxSzvP3nwGbrCG+8/ZxAf/a0q8D97blD3kOfwPxB2l83E3fA/lxiXJ1dn7z9UsETAI8nxPzK3ldXygvA/7ZipMT2B7z/4HLp78lnvPx2fR4ssnfA/APnJooEr8T9ZjFsOqM/wP+c0d2X3yu8/QrVsWu+S8D/g8cPJgAzyPz2udlD4+vI/CboiXa6I8z+OfgXzmO7wP0v85UPyFvI/mOZ5Kfby8z8gbBs2LK7zP0LX08JL5vI/T2CNb9x58z9tgtFjgKHyP2VeNaPLWPQ/29GCC6de9D/hJyzYoez0Py701IjyPvQ/aOjnXVy69D/X5slmKIH1P00Xjfihj/Q/ZMv5gntJ9j+QeRMEamv1P6yUBdZiG/g/hwPH41Tm9T+zG7+vJwj3P7WmbkK9w/c/QmOlR1gX9z/igpBu8pn3P5JdygA2l/g/l7SWGBk4+T8vCAgd0lP5P+MSmcOSUPk/vLWs4Tnb+j9GaFQ6t4T7PyJMI9Otbfw/AU7V3qZ3/D+73SZ/h2H8P0tDokAgEP0/aFwCmtDY/D+VCLjfPbf/P/aSNxJaQwBAseNRhnyn/j/FjA1KjyUAQO0ZbNcr2f8/iY/LLujBAECVhFIYWVcAQLvigQuifgFAbYtvmTNXAkB/2Bn4cnIBQAHlQPkQoQJAHR0C0M7/AkDxTdVeDGwDQNH/cVSAiANAjdUshLNXA0AsIZIsonwDQL6AvKLlugRA67SpYxwNBUDpl4zzA1wFQPNiW9lZYAVAHuKw9nRlBUBAE6+Q4/4FQA1Ak2NE6gVA9NMV07goB0BP1nDj+QsHQFr42BHdnQdADmkpZk5cB0A5ZirYzBwJQICqQ1+9JAlAH0d3n0DoCECQPtdOqrAJQLsdKjTXzQlAplay5lT1CUB8D1SsMFgLQOLSeAfyswpA6PLa+/GiC0B9jdm9aYgMQJ5Vftxu9wxA2VMWcM+VDUCdHOJcNbUNQDk1Ab6BVw5A8EMdzFF6DkBPCWcunakOQFNarC56BBBAAYHhccEFEEA=\"},\"shape\":[100],\"dtype\":\"float64\",\"order\":\"little\"}]]}}},\"view\":{\"type\":\"object\",\"name\":\"CDSView\",\"id\":\"71b3c88b-167a-4c54-aab5-4dd4d1af6d72\",\"attributes\":{\"filter\":{\"type\":\"object\",\"name\":\"AllIndices\",\"id\":\"2aaa79b6-4efc-4231-a196-ad4e599172ab\"}}},\"glyph\":{\"type\":\"object\",\"name\":\"Scatter\",\"id\":\"451b724c-003b-405a-9b95-b2da6ef9bd1a\",\"attributes\":{\"x\":{\"type\":\"field\",\"field\":\"x\"},\"y\":{\"type\":\"field\",\"field\":\"y\"},\"size\":{\"type\":\"value\",\"value\":10},\"line_color\":{\"type\":\"value\",\"value\":\"white\"},\"line_alpha\":{\"type\":\"value\",\"value\":0.25},\"fill_color\":{\"type\":\"value\",\"value\":\"midnightblue\"},\"fill_alpha\":{\"type\":\"value\",\"value\":0.25},\"hatch_alpha\":{\"type\":\"value\",\"value\":0.25}}},\"selection_glyph\":{\"type\":\"object\",\"name\":\"Circle\",\"id\":\"fc4f9dcc-4b07-4afe-889e-44e06f984fb5\",\"attributes\":{\"line_color\":{\"type\":\"value\",\"value\":\"white\"},\"fill_color\":{\"type\":\"value\",\"value\":\"red\"},\"fill_alpha\":{\"type\":\"value\",\"value\":0.8}}},\"nonselection_glyph\":{\"type\":\"object\",\"name\":\"Circle\",\"id\":\"27eb6697-755b-4a54-a955-d62164f0fe51\",\"attributes\":{\"line_color\":{\"type\":\"value\",\"value\":\"white\"},\"fill_color\":{\"type\":\"value\",\"value\":\"midnightblue\"},\"fill_alpha\":{\"type\":\"value\",\"value\":0.5}}},\"hover_glyph\":{\"type\":\"object\",\"name\":\"Scatter\",\"id\":\"1a263a29-9a9c-457d-91fa-7a423d175748\",\"attributes\":{\"x\":{\"type\":\"field\",\"field\":\"x\"},\"y\":{\"type\":\"field\",\"field\":\"y\"},\"size\":{\"type\":\"value\",\"value\":10},\"line_color\":{\"type\":\"value\",\"value\":\"white\"},\"line_alpha\":{\"type\":\"value\",\"value\":0.5},\"fill_color\":{\"type\":\"value\",\"value\":\"red\"},\"fill_alpha\":{\"type\":\"value\",\"value\":0.5},\"hatch_alpha\":{\"type\":\"value\",\"value\":0.5}}},\"muted_glyph\":{\"type\":\"object\",\"name\":\"Scatter\",\"id\":\"7cfa2e7c-1dba-48d6-8806-8f24613956c3\",\"attributes\":{\"x\":{\"type\":\"field\",\"field\":\"x\"},\"y\":{\"type\":\"field\",\"field\":\"y\"},\"size\":{\"type\":\"value\",\"value\":10},\"line_color\":{\"type\":\"value\",\"value\":\"white\"},\"line_alpha\":{\"type\":\"value\",\"value\":0.2},\"fill_color\":{\"type\":\"value\",\"value\":\"midnightblue\"},\"fill_alpha\":{\"type\":\"value\",\"value\":0.2},\"hatch_alpha\":{\"type\":\"value\",\"value\":0.2}}}}}],\"toolbar\":{\"type\":\"object\",\"name\":\"Toolbar\",\"id\":\"569519c7-82fe-455a-8123-a8b585aee873\",\"attributes\":{\"tools\":[{\"type\":\"object\",\"name\":\"PanTool\",\"id\":\"a03cfab8-4a90-45b5-ab5b-68aeadadb69f\"},{\"type\":\"object\",\"name\":\"WheelZoomTool\",\"id\":\"ddec4d5e-b2f1-4b85-ac30-2d7f653a9002\",\"attributes\":{\"renderers\":\"auto\"}},{\"type\":\"object\",\"name\":\"BoxZoomTool\",\"id\":\"66c960b9-4264-4ad9-8098-5c12471ca433\",\"attributes\":{\"overlay\":{\"type\":\"object\",\"name\":\"BoxAnnotation\",\"id\":\"0383edb9-0c53-43bd-a96f-6d3d60b4c438\",\"attributes\":{\"syncable\":false,\"level\":\"overlay\",\"visible\":false,\"left\":{\"type\":\"number\",\"value\":\"nan\"},\"right\":{\"type\":\"number\",\"value\":\"nan\"},\"top\":{\"type\":\"number\",\"value\":\"nan\"},\"bottom\":{\"type\":\"number\",\"value\":\"nan\"},\"left_units\":\"canvas\",\"right_units\":\"canvas\",\"top_units\":\"canvas\",\"bottom_units\":\"canvas\",\"line_color\":\"black\",\"line_alpha\":1.0,\"line_width\":2,\"line_dash\":[4,4],\"fill_color\":\"lightgrey\",\"fill_alpha\":0.5}}}},{\"type\":\"object\",\"name\":\"SaveTool\",\"id\":\"7ea141fa-5ff4-4b37-9c10-09467898040a\"},{\"type\":\"object\",\"name\":\"ResetTool\",\"id\":\"3e2bf4b8-b9b7-4677-9af8-52364d7afd8f\"},{\"type\":\"object\",\"name\":\"HelpTool\",\"id\":\"616a6ab2-50ad-4df8-a58c-22bebf47b1e3\"},{\"type\":\"object\",\"name\":\"HoverTool\",\"id\":\"e1c9d3a1-29e2-4117-af69-d8c5fdb70d4c\",\"attributes\":{\"renderers\":[{\"id\":\"2fa52c60-0383-4c58-919b-1132fcc36e37\"}],\"tooltips\":null,\"mode\":\"vline\"}},{\"type\":\"object\",\"name\":\"BoxSelectTool\",\"id\":\"7e902d3f-d513-4141-a198-c8fbfe257c5a\",\"attributes\":{\"renderers\":[{\"id\":\"2fa52c60-0383-4c58-919b-1132fcc36e37\"}],\"mode\":\"append\",\"overlay\":{\"type\":\"object\",\"name\":\"BoxAnnotation\",\"id\":\"59bf8be3-2723-434f-9956-cbcb3ddce2c2\",\"attributes\":{\"syncable\":false,\"level\":\"overlay\",\"visible\":false,\"left\":{\"type\":\"number\",\"value\":\"nan\"},\"right\":{\"type\":\"number\",\"value\":\"nan\"},\"top\":{\"type\":\"number\",\"value\":\"nan\"},\"bottom\":{\"type\":\"number\",\"value\":\"nan\"},\"editable\":true,\"line_color\":\"black\",\"line_alpha\":1.0,\"line_width\":2,\"line_dash\":[4,4],\"fill_color\":\"lightgrey\",\"fill_alpha\":0.5}}}}]}},\"toolbar_location\":null,\"left\":[{\"type\":\"object\",\"name\":\"LinearAxis\",\"id\":\"921599f5-e3a3-4fb2-85f8-c77d2ef0a815\",\"attributes\":{\"ticker\":{\"type\":\"object\",\"name\":\"BasicTicker\",\"id\":\"95983e0a-ac20-4ce1-b0b0-cf0240f52ac2\",\"attributes\":{\"mantissas\":[1,2,5]}},\"formatter\":{\"type\":\"object\",\"name\":\"BasicTickFormatter\",\"id\":\"434bcf3b-9cb1-437d-9ecd-0cf50095fa2c\"},\"axis_label\":\"y\",\"axis_label_standoff\":10,\"axis_label_text_color\":\"#FFFFFF\",\"axis_label_text_font\":\"Josefin Sans\",\"axis_label_text_font_size\":\"1.9em\",\"axis_label_text_font_style\":\"bold\",\"major_label_policy\":{\"type\":\"object\",\"name\":\"AllLabels\",\"id\":\"19a2f09d-3021-44cb-b12b-e41acf5663a9\"},\"major_label_text_color\":\"#E0E0E0\",\"major_label_text_font\":\"Josefin Sans\",\"major_label_text_font_size\":\"1.15em\",\"axis_line_color\":\"#E0E0E0\",\"axis_line_alpha\":0.4,\"major_tick_line_color\":\"#E0E0E0\",\"major_tick_line_alpha\":0.4,\"minor_tick_line_color\":\"#E0E0E0\",\"minor_tick_line_alpha\":0.4}}],\"below\":[{\"type\":\"object\",\"name\":\"LinearAxis\",\"id\":\"bbe67824-c104-455c-94a5-e13bdbebc007\",\"attributes\":{\"ticker\":{\"type\":\"object\",\"name\":\"BasicTicker\",\"id\":\"52e836b0-514a-4706-ac7a-de90feb79c9c\",\"attributes\":{\"mantissas\":[1,2,5]}},\"formatter\":{\"type\":\"object\",\"name\":\"BasicTickFormatter\",\"id\":\"1182e428-4fdf-4d49-bea6-a05e77a11db0\"},\"axis_label\":\"x\",\"axis_label_standoff\":10,\"axis_label_text_color\":\"#FFFFFF\",\"axis_label_text_font\":\"Josefin Sans\",\"axis_label_text_font_size\":\"1.9em\",\"axis_label_text_font_style\":\"bold\",\"major_label_policy\":{\"type\":\"object\",\"name\":\"AllLabels\",\"id\":\"ae9d3748-2e89-44d6-a42b-f650ecce59ea\"},\"major_label_text_color\":\"#E0E0E0\",\"major_label_text_font\":\"Josefin Sans\",\"major_label_text_font_size\":\"1.15em\",\"axis_line_color\":\"#E0E0E0\",\"axis_line_alpha\":0.4,\"major_tick_line_color\":\"#E0E0E0\",\"major_tick_line_alpha\":0.4,\"minor_tick_line_color\":\"#E0E0E0\",\"minor_tick_line_alpha\":0.4}}],\"center\":[{\"type\":\"object\",\"name\":\"Grid\",\"id\":\"2b42d12e-dc00-47d6-957a-8dcfd1d9fad2\",\"attributes\":{\"axis\":{\"id\":\"bbe67824-c104-455c-94a5-e13bdbebc007\"},\"grid_line_color\":\"#E0E0E0\",\"grid_line_alpha\":0.15}},{\"type\":\"object\",\"name\":\"Grid\",\"id\":\"603a8e3d-d18f-4a7f-b075-f9edc3c7fcdf\",\"attributes\":{\"dimension\":1,\"axis\":{\"id\":\"921599f5-e3a3-4fb2-85f8-c77d2ef0a815\"},\"grid_line_color\":\"#E0E0E0\",\"grid_line_alpha\":0.15}},{\"type\":\"object\",\"name\":\"Legend\",\"id\":\"32a7a299-9aa0-43d1-9408-4258c748c1c0\",\"attributes\":{\"border_line_alpha\":0.25,\"background_fill_color\":\"#505050\",\"background_fill_alpha\":0.25,\"label_text_color\":\"#E0E0E0\",\"label_text_font\":\"Josefin Sans\",\"label_text_font_size\":\"1.15em\",\"label_standoff\":8,\"spacing\":8,\"items\":[{\"type\":\"object\",\"name\":\"LegendItem\",\"id\":\"e1cf9c80-6b57-498b-8c70-a42091f1b0c2\",\"attributes\":{\"label\":{\"type\":\"value\",\"value\":\"Observations\"},\"renderers\":[{\"id\":\"2fa52c60-0383-4c58-919b-1132fcc36e37\"}]}}]}}],\"background_fill_color\":\"#0f0f0f\",\"background_fill_alpha\":0.9,\"border_fill_color\":\"#111111\",\"border_fill_alpha\":0.8}},{\"type\":\"object\",\"name\":\"Figure\",\"id\":\"3b176ee2-668b-47dc-b2bd-5c618559ac24\",\"attributes\":{\"height\":450,\"x_range\":{\"type\":\"object\",\"name\":\"DataRange1d\",\"id\":\"42d56fbb-b1a4-4c7e-b523-324a8f04894d\"},\"y_range\":{\"type\":\"object\",\"name\":\"DataRange1d\",\"id\":\"8d6c38b3-6670-4b9c-94e8-4d5667d6a454\"},\"x_scale\":{\"type\":\"object\",\"name\":\"LinearScale\",\"id\":\"70da0c3f-d1df-444f-95a4-32357e2d9f4a\"},\"y_scale\":{\"type\":\"object\",\"name\":\"LinearScale\",\"id\":\"f60d5857-0d43-4b75-9494-9133a8c43d2e\"},\"title\":{\"type\":\"object\",\"name\":\"Title\",\"id\":\"424d5ef3-6ec2-48fb-a058-b705d5291851\",\"attributes\":{\"text\":\"Problem 2\",\"text_color\":\"#E0E0E0\",\"text_font\":\"Josefin Sans\",\"text_font_size\":\"2.1em\"}},\"outline_line_color\":\"#E0E0E0\",\"outline_line_alpha\":0.25,\"outline_line_width\":3,\"renderers\":[{\"type\":\"object\",\"name\":\"GlyphRenderer\",\"id\":\"5f8e1f93-c95b-4307-81a7-39e930d1a791\",\"attributes\":{\"data_source\":{\"type\":\"object\",\"name\":\"ColumnDataSource\",\"id\":\"48750151-e17b-47cd-b619-05f921176a94\",\"attributes\":{\"selected\":{\"type\":\"object\",\"name\":\"Selection\",\"id\":\"a56a0cef-8e16-4d10-9be4-2b335d84ef5c\",\"attributes\":{\"indices\":[],\"line_indices\":[]}},\"selection_policy\":{\"type\":\"object\",\"name\":\"UnionRenderers\",\"id\":\"c918029d-33f7-4afa-870e-2b1136ab8899\"},\"data\":{\"type\":\"map\",\"entries\":[[\"x\",{\"type\":\"ndarray\",\"array\":{\"type\":\"bytes\",\"data\":\"AAAAAAAAAABbv1Kg1q+EP1u/UqDWr5Q/CB988MEHnz9bv1Kg1q+kPzJvZ0jM26k/CB988MEHrz9wZ0jM2xmyP1u/UqDWr7Q/RhdddNFFtz8yb2dIzNu5Px3HcRzHcbw/CB988MEHvz96O0Ni3s7AP3BnSMzbGcI/ZZNNNtlkwz9bv1Kg1q/EP1HrVwrU+sU/RhdddNFFxz88Q2LezpDIPzJvZ0jM28k/J5tssskmyz8dx3Ecx3HMPxPzdobEvM0/CB988MEHzz9/pUCtXynQP3o7Q2LeztA/ddFFF1100T9wZ0jM2xnSP2r9SoFav9I/ZZNNNtlk0z9gKVDrVwrUP1u/UqDWr9Q/VlVVVVVV1T9R61cK1PrVP0yBWr9SoNY/RhdddNFF1z9BrV8pUOvXPzxDYt7OkNg/N9lkk0022T8yb2dIzNvZPy0Fav1Kgdo/J5tssskm2z8iMW9nSMzbPx3HcRzHcdw/GF100UUX3T8T83aGxLzdPw6JeTtDYt4/CB988MEH3z8DtX6lQK3fP3+lQK1fKeA/ffDBBx984D96O0Ni3s7gP3eGxLydIeE/ddFFF1104T9yHMdxHMfhP3BnSMzbGeI/bbLJJpts4j9q/UqBWr/iP2hIzNsZEuM/ZZNNNtlk4z9j3s6QmLfjP2ApUOtXCuQ/XnTRRRdd5D9bv1Kg1q/kP1gK1PqVAuU/VlVVVVVV5T9ToNavFKjlP1HrVwrU+uU/TjbZZJNN5j9MgVq/UqDmP0nM2xkS8+Y/RhdddNFF5z9EYt7OkJjnP0GtXylQ6+c/P/jggw8+6D88Q2LezpDoPzmO4ziO4+g/N9lkk0026T80JObtDInpPzJvZ0jM2+k/L7rooosu6j8tBWr9SoHqPypQ61cK1Oo/J5tssskm6z8l5u0MiXnrPyIxb2dIzOs/IHzwwQcf7D8dx3Ecx3HsPxsS83aGxOw/GF100UUX7T8VqPUrBWrtPxPzdobEvO0/ED744IMP7j8OiXk7Q2LuPwvU+pUCte4/CB988MEH7z8Gav1KgVrvPwO1fqVAre8/AAAAAAAA8D8=\"},\"shape\":[100],\"dtype\":\"float64\",\"order\":\"little\"}],[\"y\",{\"type\":\"ndarray\",\"array\":{\"type\":\"bytes\",\"data\":\"EFEclQiVzj9jOvsOvLv8P8im/fpJPss/PRJEHsHA/T+cSr5WQOHkP5oBeyuq6es/oA90tVpX3D9EbEMaGTvlP1TFTANkgvw/xOYKNEJA2D/AWU/cxBS0Pz4Eyedk5u8/0Cd0UuXL5D+KUdYYrov9Pwx8W1dPtO0/SzWUIRHd9z8EweOIoCLRP77o/iDbGP8/T2fWw8bp/z/oeC41XdLSP5tl3FoKNPE/SrgIeePc4j//2IIJWkX+P5Q/O9REx94/LnJHqidP4z8IHYm+mVzNP9DULXJAx9U/LEXEDNs6/j//KIexd6r5P24DUH0sLPw/Fpnf8hlZ5D8RhtfR4TDwPwhRLw1Xbvk/SxIeCuZL+j/q7jTjUG74P32y4xupdvY/ZE5pjs3q7T+gv78a7KLpP8xhGQ0y+/k/TH/z7YLt7z988AcXjXvnPwapDMXyefs/crFJJED+AUDV4WW5Bf79PxV5xdf7CAFAQ9FqltR69j+WtuCs+bz3Pxmq3xoiN/w/fGUH8861/T9aEaJHBSzxP9petlFMCek/pgELxGz29z/X2DFrZEsDQDHpXgnPzfs/I1vE+pSM8z/G1U1wsjz8PxHp0G7YSfA/FA4Q4p9G9j9YgaY64cXzP0lWqIJVrfk/If04bNZs9z8VKs2f9bPzP6Clbn3c8gZAJavKK8Yu+z8eolvBLJYEQAavBySZHglAAhuYlrLVB0DEOQKg2t0HQODTZLnUVApAjcRF1KySC0CMEob05BcKQLFwts3a+QRAONLMI4wcCkDylO53gsIFQASMmEmg8/w/UkH++3hxC0AscEd08xMDQKx7V2JmKAtA8FuoGVQRC0B0hx42B3sLQCZKAsLSsQtA2LgqsQbQC0D6YaPcO4ACQAxBKdonyApAfmLhgE6JEEA+VXEzG7AFQBLbqAwOrQZA0jmu2bUvC0BN0Ze40iUQQFoGkQDEiAtAxuYu+RmtDEAAjxsKmBsSQFHXgXvpyAtAcHKVNumXEEDWaVNZTwMIQNozIP8Q0RBAmJCZG8oLDEBFGqADQwwLQJPi3JnGrQ1AnnsR/gmpEUA=\"},\"shape\":[100],\"dtype\":\"float64\",\"order\":\"little\"}]]}}},\"view\":{\"type\":\"object\",\"name\":\"CDSView\",\"id\":\"792e4ca7-28cf-47c8-ab19-916670a708ff\",\"attributes\":{\"filter\":{\"type\":\"object\",\"name\":\"AllIndices\",\"id\":\"9e136eb9-058a-4846-b348-88cae1444475\"}}},\"glyph\":{\"type\":\"object\",\"name\":\"Scatter\",\"id\":\"3d327d46-5e2c-4348-9e0e-64149c2e54e8\",\"attributes\":{\"x\":{\"type\":\"field\",\"field\":\"x\"},\"y\":{\"type\":\"field\",\"field\":\"y\"},\"size\":{\"type\":\"value\",\"value\":10},\"line_color\":{\"type\":\"value\",\"value\":\"white\"},\"line_alpha\":{\"type\":\"value\",\"value\":0.25},\"fill_color\":{\"type\":\"value\",\"value\":\"midnightblue\"},\"fill_alpha\":{\"type\":\"value\",\"value\":0.25},\"hatch_alpha\":{\"type\":\"value\",\"value\":0.25}}},\"selection_glyph\":{\"type\":\"object\",\"name\":\"Circle\",\"id\":\"1fb7cb3f-578d-46a3-b99a-323b67e98622\",\"attributes\":{\"line_color\":{\"type\":\"value\",\"value\":\"white\"},\"fill_color\":{\"type\":\"value\",\"value\":\"red\"},\"fill_alpha\":{\"type\":\"value\",\"value\":0.8}}},\"nonselection_glyph\":{\"type\":\"object\",\"name\":\"Circle\",\"id\":\"4a4969be-611d-46a6-8c38-671567a23d8f\",\"attributes\":{\"line_color\":{\"type\":\"value\",\"value\":\"white\"},\"fill_color\":{\"type\":\"value\",\"value\":\"midnightblue\"},\"fill_alpha\":{\"type\":\"value\",\"value\":0.5}}},\"hover_glyph\":{\"type\":\"object\",\"name\":\"Scatter\",\"id\":\"ae934781-21d4-4fa5-8492-b5580cfd1470\",\"attributes\":{\"x\":{\"type\":\"field\",\"field\":\"x\"},\"y\":{\"type\":\"field\",\"field\":\"y\"},\"size\":{\"type\":\"value\",\"value\":10},\"line_color\":{\"type\":\"value\",\"value\":\"white\"},\"line_alpha\":{\"type\":\"value\",\"value\":0.5},\"fill_color\":{\"type\":\"value\",\"value\":\"red\"},\"fill_alpha\":{\"type\":\"value\",\"value\":0.5},\"hatch_alpha\":{\"type\":\"value\",\"value\":0.5}}},\"muted_glyph\":{\"type\":\"object\",\"name\":\"Scatter\",\"id\":\"a9bacb6a-e669-46a2-9223-e0b4ded9414c\",\"attributes\":{\"x\":{\"type\":\"field\",\"field\":\"x\"},\"y\":{\"type\":\"field\",\"field\":\"y\"},\"size\":{\"type\":\"value\",\"value\":10},\"line_color\":{\"type\":\"value\",\"value\":\"white\"},\"line_alpha\":{\"type\":\"value\",\"value\":0.2},\"fill_color\":{\"type\":\"value\",\"value\":\"midnightblue\"},\"fill_alpha\":{\"type\":\"value\",\"value\":0.2},\"hatch_alpha\":{\"type\":\"value\",\"value\":0.2}}}}}],\"toolbar\":{\"type\":\"object\",\"name\":\"Toolbar\",\"id\":\"538f27c8-59b7-4332-a356-81060a20720b\",\"attributes\":{\"tools\":[{\"type\":\"object\",\"name\":\"PanTool\",\"id\":\"8475beb3-06ef-4194-912b-d386fb67a4c1\"},{\"type\":\"object\",\"name\":\"WheelZoomTool\",\"id\":\"3cd26a13-0832-450b-8604-ae3673492b95\",\"attributes\":{\"renderers\":\"auto\"}},{\"type\":\"object\",\"name\":\"BoxZoomTool\",\"id\":\"9a6abe2b-2541-48e9-b0af-b0cec7cc63bc\",\"attributes\":{\"overlay\":{\"type\":\"object\",\"name\":\"BoxAnnotation\",\"id\":\"3d538d91-f394-4dc1-8acc-fc18909ac6ee\",\"attributes\":{\"syncable\":false,\"level\":\"overlay\",\"visible\":false,\"left\":{\"type\":\"number\",\"value\":\"nan\"},\"right\":{\"type\":\"number\",\"value\":\"nan\"},\"top\":{\"type\":\"number\",\"value\":\"nan\"},\"bottom\":{\"type\":\"number\",\"value\":\"nan\"},\"left_units\":\"canvas\",\"right_units\":\"canvas\",\"top_units\":\"canvas\",\"bottom_units\":\"canvas\",\"line_color\":\"black\",\"line_alpha\":1.0,\"line_width\":2,\"line_dash\":[4,4],\"fill_color\":\"lightgrey\",\"fill_alpha\":0.5}}}},{\"type\":\"object\",\"name\":\"SaveTool\",\"id\":\"975fa4f8-35f4-467b-8d67-dcf50ac49005\"},{\"type\":\"object\",\"name\":\"ResetTool\",\"id\":\"13f17a9d-6ef5-45dc-9be9-3e754c6889f8\"},{\"type\":\"object\",\"name\":\"HelpTool\",\"id\":\"1ea378ef-854c-42a8-a751-e14aa1ca01bb\"},{\"type\":\"object\",\"name\":\"HoverTool\",\"id\":\"d572add0-d199-4ca5-808a-18da5ba1ad84\",\"attributes\":{\"renderers\":[{\"id\":\"5f8e1f93-c95b-4307-81a7-39e930d1a791\"}],\"tooltips\":null,\"mode\":\"vline\"}},{\"type\":\"object\",\"name\":\"BoxSelectTool\",\"id\":\"1e774910-99d1-4e59-8433-774f961977a7\",\"attributes\":{\"renderers\":[{\"id\":\"5f8e1f93-c95b-4307-81a7-39e930d1a791\"}],\"mode\":\"append\",\"overlay\":{\"type\":\"object\",\"name\":\"BoxAnnotation\",\"id\":\"2c8ea309-7495-4b13-9ecc-8f16eeba6cf6\",\"attributes\":{\"syncable\":false,\"level\":\"overlay\",\"visible\":false,\"left\":{\"type\":\"number\",\"value\":\"nan\"},\"right\":{\"type\":\"number\",\"value\":\"nan\"},\"top\":{\"type\":\"number\",\"value\":\"nan\"},\"bottom\":{\"type\":\"number\",\"value\":\"nan\"},\"editable\":true,\"line_color\":\"black\",\"line_alpha\":1.0,\"line_width\":2,\"line_dash\":[4,4],\"fill_color\":\"lightgrey\",\"fill_alpha\":0.5}}}}]}},\"toolbar_location\":null,\"left\":[{\"type\":\"object\",\"name\":\"LinearAxis\",\"id\":\"1caeb928-a99c-44eb-beea-1a0453815d50\",\"attributes\":{\"ticker\":{\"type\":\"object\",\"name\":\"BasicTicker\",\"id\":\"39f00a86-b151-4d06-b52f-3de820195478\",\"attributes\":{\"mantissas\":[1,2,5]}},\"formatter\":{\"type\":\"object\",\"name\":\"BasicTickFormatter\",\"id\":\"e49eb503-4516-43c5-988b-1dd5587bf9f7\"},\"axis_label\":\"y\",\"axis_label_standoff\":10,\"axis_label_text_color\":\"#FFFFFF\",\"axis_label_text_font\":\"Josefin Sans\",\"axis_label_text_font_size\":\"1.9em\",\"axis_label_text_font_style\":\"bold\",\"major_label_policy\":{\"type\":\"object\",\"name\":\"AllLabels\",\"id\":\"9fd72801-686f-4718-b897-c0c03fa85f18\"},\"major_label_text_color\":\"#E0E0E0\",\"major_label_text_font\":\"Josefin Sans\",\"major_label_text_font_size\":\"1.15em\",\"axis_line_color\":\"#E0E0E0\",\"axis_line_alpha\":0.4,\"major_tick_line_color\":\"#E0E0E0\",\"major_tick_line_alpha\":0.4,\"minor_tick_line_color\":\"#E0E0E0\",\"minor_tick_line_alpha\":0.4}}],\"below\":[{\"type\":\"object\",\"name\":\"LinearAxis\",\"id\":\"bdbacb94-ea69-462d-b04a-3b3043293a45\",\"attributes\":{\"ticker\":{\"type\":\"object\",\"name\":\"BasicTicker\",\"id\":\"5192f94c-b5d5-42c8-955d-c62b3ea40f71\",\"attributes\":{\"mantissas\":[1,2,5]}},\"formatter\":{\"type\":\"object\",\"name\":\"BasicTickFormatter\",\"id\":\"1450918b-cd04-481e-a8c2-a7b36d39041e\"},\"axis_label\":\"x\",\"axis_label_standoff\":10,\"axis_label_text_color\":\"#FFFFFF\",\"axis_label_text_font\":\"Josefin Sans\",\"axis_label_text_font_size\":\"1.9em\",\"axis_label_text_font_style\":\"bold\",\"major_label_policy\":{\"type\":\"object\",\"name\":\"AllLabels\",\"id\":\"e1490739-da22-475b-97e3-62ea633e34bf\"},\"major_label_text_color\":\"#E0E0E0\",\"major_label_text_font\":\"Josefin Sans\",\"major_label_text_font_size\":\"1.15em\",\"axis_line_color\":\"#E0E0E0\",\"axis_line_alpha\":0.4,\"major_tick_line_color\":\"#E0E0E0\",\"major_tick_line_alpha\":0.4,\"minor_tick_line_color\":\"#E0E0E0\",\"minor_tick_line_alpha\":0.4}}],\"center\":[{\"type\":\"object\",\"name\":\"Grid\",\"id\":\"5caebf28-c34b-4b1a-9f04-bc67b148d93d\",\"attributes\":{\"axis\":{\"id\":\"bdbacb94-ea69-462d-b04a-3b3043293a45\"},\"grid_line_color\":\"#E0E0E0\",\"grid_line_alpha\":0.15}},{\"type\":\"object\",\"name\":\"Grid\",\"id\":\"df34727d-9e14-4440-bf81-8fff9b15ae30\",\"attributes\":{\"dimension\":1,\"axis\":{\"id\":\"1caeb928-a99c-44eb-beea-1a0453815d50\"},\"grid_line_color\":\"#E0E0E0\",\"grid_line_alpha\":0.15}},{\"type\":\"object\",\"name\":\"Legend\",\"id\":\"b376bc57-88ce-484d-acb4-d44bc2b1544d\",\"attributes\":{\"border_line_alpha\":0.25,\"background_fill_color\":\"#505050\",\"background_fill_alpha\":0.25,\"label_text_color\":\"#E0E0E0\",\"label_text_font\":\"Josefin Sans\",\"label_text_font_size\":\"1.15em\",\"label_standoff\":8,\"spacing\":8,\"items\":[{\"type\":\"object\",\"name\":\"LegendItem\",\"id\":\"10430fa2-e7d4-47f5-8c66-e0b48ce0c539\",\"attributes\":{\"label\":{\"type\":\"value\",\"value\":\"Observations\"},\"renderers\":[{\"id\":\"5f8e1f93-c95b-4307-81a7-39e930d1a791\"}]}}]}}],\"background_fill_color\":\"#0f0f0f\",\"background_fill_alpha\":0.9,\"border_fill_color\":\"#111111\",\"border_fill_alpha\":0.8}},{\"type\":\"object\",\"name\":\"Figure\",\"id\":\"102f63fe-4e55-427e-b035-38032b419abb\",\"attributes\":{\"height\":450,\"x_range\":{\"type\":\"object\",\"name\":\"DataRange1d\",\"id\":\"4c40bba4-8524-425a-a60a-82f08f8fb8ff\"},\"y_range\":{\"type\":\"object\",\"name\":\"DataRange1d\",\"id\":\"af72d2b3-c3aa-4498-a048-4012876cc9e8\"},\"x_scale\":{\"type\":\"object\",\"name\":\"LinearScale\",\"id\":\"ac9610bf-68ba-4561-9a5c-8c190a22e3dd\"},\"y_scale\":{\"type\":\"object\",\"name\":\"LinearScale\",\"id\":\"b190d909-6457-4377-8187-27154977b52a\"},\"title\":{\"type\":\"object\",\"name\":\"Title\",\"id\":\"34b44447-66ac-470d-8e43-86926d82ffb4\",\"attributes\":{\"text\":\"Problem 3\",\"text_color\":\"#E0E0E0\",\"text_font\":\"Josefin Sans\",\"text_font_size\":\"2.1em\"}},\"outline_line_color\":\"#E0E0E0\",\"outline_line_alpha\":0.25,\"outline_line_width\":3,\"renderers\":[{\"type\":\"object\",\"name\":\"GlyphRenderer\",\"id\":\"3460dd1b-3ea3-41fd-aab6-1a0e67f3d6b1\",\"attributes\":{\"data_source\":{\"type\":\"object\",\"name\":\"ColumnDataSource\",\"id\":\"bddfad4e-5b7d-4b68-9808-9d6eed088fcc\",\"attributes\":{\"selected\":{\"type\":\"object\",\"name\":\"Selection\",\"id\":\"12a013b9-72c9-4854-9591-81e48c04f4f1\",\"attributes\":{\"indices\":[],\"line_indices\":[]}},\"selection_policy\":{\"type\":\"object\",\"name\":\"UnionRenderers\",\"id\":\"123e6efb-42d7-42de-8020-01161970679e\"},\"data\":{\"type\":\"map\",\"entries\":[[\"x\",{\"type\":\"ndarray\",\"array\":{\"type\":\"bytes\",\"data\":\"AAAAAAAAAABbv1Kg1q+EP1u/UqDWr5Q/CB988MEHnz9bv1Kg1q+kPzJvZ0jM26k/CB988MEHrz9wZ0jM2xmyP1u/UqDWr7Q/RhdddNFFtz8yb2dIzNu5Px3HcRzHcbw/CB988MEHvz96O0Ni3s7AP3BnSMzbGcI/ZZNNNtlkwz9bv1Kg1q/EP1HrVwrU+sU/RhdddNFFxz88Q2LezpDIPzJvZ0jM28k/J5tssskmyz8dx3Ecx3HMPxPzdobEvM0/CB988MEHzz9/pUCtXynQP3o7Q2LeztA/ddFFF1100T9wZ0jM2xnSP2r9SoFav9I/ZZNNNtlk0z9gKVDrVwrUP1u/UqDWr9Q/VlVVVVVV1T9R61cK1PrVP0yBWr9SoNY/RhdddNFF1z9BrV8pUOvXPzxDYt7OkNg/N9lkk0022T8yb2dIzNvZPy0Fav1Kgdo/J5tssskm2z8iMW9nSMzbPx3HcRzHcdw/GF100UUX3T8T83aGxLzdPw6JeTtDYt4/CB988MEH3z8DtX6lQK3fP3+lQK1fKeA/ffDBBx984D96O0Ni3s7gP3eGxLydIeE/ddFFF1104T9yHMdxHMfhP3BnSMzbGeI/bbLJJpts4j9q/UqBWr/iP2hIzNsZEuM/ZZNNNtlk4z9j3s6QmLfjP2ApUOtXCuQ/XnTRRRdd5D9bv1Kg1q/kP1gK1PqVAuU/VlVVVVVV5T9ToNavFKjlP1HrVwrU+uU/TjbZZJNN5j9MgVq/UqDmP0nM2xkS8+Y/RhdddNFF5z9EYt7OkJjnP0GtXylQ6+c/P/jggw8+6D88Q2LezpDoPzmO4ziO4+g/N9lkk0026T80JObtDInpPzJvZ0jM2+k/L7rooosu6j8tBWr9SoHqPypQ61cK1Oo/J5tssskm6z8l5u0MiXnrPyIxb2dIzOs/IHzwwQcf7D8dx3Ecx3HsPxsS83aGxOw/GF100UUX7T8VqPUrBWrtPxPzdobEvO0/ED744IMP7j8OiXk7Q2LuPwvU+pUCte4/CB988MEH7z8Gav1KgVrvPwO1fqVAre8/AAAAAAAA8D8=\"},\"shape\":[100],\"dtype\":\"float64\",\"order\":\"little\"}],[\"y\",{\"type\":\"ndarray\",\"array\":{\"type\":\"bytes\",\"data\":\"OKfqglrO/b/uqcfxJPwHwBPyoO/Zmw1ACDSbmmPf/L9A3tLkbVCvP2TthvEV/+I/y/I7unsODsCyyIem08UUwIyNbqiBRh5A/akRkIsSFUDsQ6WPOtoJQIrntqyzsglASEI9R8YAFcD0tgy/FoobQPYREtyL1x5AnOMkhxEBAECUfWDWsfEVQCB5SFupQNY/IYXfBAnuGMDaQoXfAUQJQHjLAXh0ByBA6Au5P/zFFsCfAKGByZcgQPDFQe5ogALAUA7tiKRA57/A/9yXnzH2P8qQAF7seRbAaJxIY0J/AEC+B+/e/GQAwNw2Pp1hywlAEIBt7rFLHkC+3uKcWMUUwAeJh5iZpRXARno6rekjFcD5xlG1AA71vyBHhl55S6+/9KrzqnM5FECKCD39v0boP3/99n3jZRZAwDOrjQv62T/+Q8unSMohQHQfnTOh6wTAzYLzyQImDUBq1AjMIWALwAL5lCk3nA9ASxCgqaPLH0CmKY8Nc8MgQIpjL6wzPxlA4jRcoElvEUDaaCu4TfPlP1Y5sendLBbABVYNFFx2CsCIvwvPqe4IQNjWGqkkIg9A2iGR89kOEUDnzSi78GYgQEjKwy0pStk/vAQg+wHLA0CVGz7RX9sYQCjA6QX4keK/aJk+l6+n1b8yRWvms3/2P6s2kVUpERLAzLIOPvW7IUAIKtzaOVb5v1Qadp5P7yFAs5wK3zeSDEA0FAnZlA78P+LS2Q5BhAtAzDcK14jB6D/ES//kJvIgQPIG2LIS6SFAwp0vNcH3HUAch39Jo/L/P6aKENMTewlAjwN+FVMgE0CC25Y7AbQjQIBw1HUiGuI/iZwmKRR0IkBgzWmtzCTOv/TgZrW2+SFAfH4chsykEcAH+kV2TfAKQKB4Dvjdl9u/qvOEQrcq/79zcLaqcqkgQPJCPwxiHh9AnZUo4Y63AsC32EijrccDwP2zP6s03SBAtR1wSLZuFEDtQA4nCjUhQBD6BPwwbBRAKK4cawsOE0BeztJDZx37v0A2Ph+jwRNAID2AxLZi679oXGNS8FsAwKpeWjmARw3AEI5G3KjfCkA=\"},\"shape\":[100],\"dtype\":\"float64\",\"order\":\"little\"}]]}}},\"view\":{\"type\":\"object\",\"name\":\"CDSView\",\"id\":\"da47b748-ab88-497e-bf39-911e93d9ee61\",\"attributes\":{\"filter\":{\"type\":\"object\",\"name\":\"AllIndices\",\"id\":\"9ccc3f7a-9bae-4e6f-8694-48f3e874f4d6\"}}},\"glyph\":{\"type\":\"object\",\"name\":\"Scatter\",\"id\":\"5752d5c4-f0c0-4c41-84a1-34edc5de4690\",\"attributes\":{\"x\":{\"type\":\"field\",\"field\":\"x\"},\"y\":{\"type\":\"field\",\"field\":\"y\"},\"size\":{\"type\":\"value\",\"value\":10},\"line_color\":{\"type\":\"value\",\"value\":\"white\"},\"line_alpha\":{\"type\":\"value\",\"value\":0.25},\"fill_color\":{\"type\":\"value\",\"value\":\"midnightblue\"},\"fill_alpha\":{\"type\":\"value\",\"value\":0.25},\"hatch_alpha\":{\"type\":\"value\",\"value\":0.25}}},\"selection_glyph\":{\"type\":\"object\",\"name\":\"Circle\",\"id\":\"b9266ff1-36e2-49e4-b3ee-ee4fced21c0c\",\"attributes\":{\"line_color\":{\"type\":\"value\",\"value\":\"white\"},\"fill_color\":{\"type\":\"value\",\"value\":\"red\"},\"fill_alpha\":{\"type\":\"value\",\"value\":0.8}}},\"nonselection_glyph\":{\"type\":\"object\",\"name\":\"Circle\",\"id\":\"a7793b43-2e23-4e16-9ee3-c2f33ff60488\",\"attributes\":{\"line_color\":{\"type\":\"value\",\"value\":\"white\"},\"fill_color\":{\"type\":\"value\",\"value\":\"midnightblue\"},\"fill_alpha\":{\"type\":\"value\",\"value\":0.5}}},\"hover_glyph\":{\"type\":\"object\",\"name\":\"Scatter\",\"id\":\"502252f1-e98d-476c-80d1-d1df5d5a59fc\",\"attributes\":{\"x\":{\"type\":\"field\",\"field\":\"x\"},\"y\":{\"type\":\"field\",\"field\":\"y\"},\"size\":{\"type\":\"value\",\"value\":10},\"line_color\":{\"type\":\"value\",\"value\":\"white\"},\"line_alpha\":{\"type\":\"value\",\"value\":0.5},\"fill_color\":{\"type\":\"value\",\"value\":\"red\"},\"fill_alpha\":{\"type\":\"value\",\"value\":0.5},\"hatch_alpha\":{\"type\":\"value\",\"value\":0.5}}},\"muted_glyph\":{\"type\":\"object\",\"name\":\"Scatter\",\"id\":\"09eaf19d-f993-42d2-9e60-ca0045a22d75\",\"attributes\":{\"x\":{\"type\":\"field\",\"field\":\"x\"},\"y\":{\"type\":\"field\",\"field\":\"y\"},\"size\":{\"type\":\"value\",\"value\":10},\"line_color\":{\"type\":\"value\",\"value\":\"white\"},\"line_alpha\":{\"type\":\"value\",\"value\":0.2},\"fill_color\":{\"type\":\"value\",\"value\":\"midnightblue\"},\"fill_alpha\":{\"type\":\"value\",\"value\":0.2},\"hatch_alpha\":{\"type\":\"value\",\"value\":0.2}}}}}],\"toolbar\":{\"type\":\"object\",\"name\":\"Toolbar\",\"id\":\"5466965a-71e3-4c40-93e0-0f194d629156\",\"attributes\":{\"tools\":[{\"type\":\"object\",\"name\":\"PanTool\",\"id\":\"00d2abb4-b91c-480f-931e-cae1979137ea\"},{\"type\":\"object\",\"name\":\"WheelZoomTool\",\"id\":\"5b0e3a8b-c3b9-44f1-abf5-65f8ec51a812\",\"attributes\":{\"renderers\":\"auto\"}},{\"type\":\"object\",\"name\":\"BoxZoomTool\",\"id\":\"ef3c8d3e-b276-446f-b346-b5f3239a0821\",\"attributes\":{\"overlay\":{\"type\":\"object\",\"name\":\"BoxAnnotation\",\"id\":\"3ecf73b2-06e5-4626-8592-da69d3273ee8\",\"attributes\":{\"syncable\":false,\"level\":\"overlay\",\"visible\":false,\"left\":{\"type\":\"number\",\"value\":\"nan\"},\"right\":{\"type\":\"number\",\"value\":\"nan\"},\"top\":{\"type\":\"number\",\"value\":\"nan\"},\"bottom\":{\"type\":\"number\",\"value\":\"nan\"},\"left_units\":\"canvas\",\"right_units\":\"canvas\",\"top_units\":\"canvas\",\"bottom_units\":\"canvas\",\"line_color\":\"black\",\"line_alpha\":1.0,\"line_width\":2,\"line_dash\":[4,4],\"fill_color\":\"lightgrey\",\"fill_alpha\":0.5}}}},{\"type\":\"object\",\"name\":\"SaveTool\",\"id\":\"408a6e6b-9e10-4d55-b0f6-9e0a4c4cf429\"},{\"type\":\"object\",\"name\":\"ResetTool\",\"id\":\"f7489483-8498-48aa-83c4-9ae5f199f795\"},{\"type\":\"object\",\"name\":\"HelpTool\",\"id\":\"65fffa31-3b21-4dc6-8668-de02e914bf49\"},{\"type\":\"object\",\"name\":\"HoverTool\",\"id\":\"485a6147-adab-4916-ae43-c5376877751a\",\"attributes\":{\"renderers\":[{\"id\":\"3460dd1b-3ea3-41fd-aab6-1a0e67f3d6b1\"}],\"tooltips\":null,\"mode\":\"vline\"}},{\"type\":\"object\",\"name\":\"BoxSelectTool\",\"id\":\"3247476f-4a9d-4f7d-8b44-6cdca956ff46\",\"attributes\":{\"renderers\":[{\"id\":\"3460dd1b-3ea3-41fd-aab6-1a0e67f3d6b1\"}],\"mode\":\"append\",\"overlay\":{\"type\":\"object\",\"name\":\"BoxAnnotation\",\"id\":\"0ace12d5-7cc5-4c67-9a7f-2c382b83ff37\",\"attributes\":{\"syncable\":false,\"level\":\"overlay\",\"visible\":false,\"left\":{\"type\":\"number\",\"value\":\"nan\"},\"right\":{\"type\":\"number\",\"value\":\"nan\"},\"top\":{\"type\":\"number\",\"value\":\"nan\"},\"bottom\":{\"type\":\"number\",\"value\":\"nan\"},\"editable\":true,\"line_color\":\"black\",\"line_alpha\":1.0,\"line_width\":2,\"line_dash\":[4,4],\"fill_color\":\"lightgrey\",\"fill_alpha\":0.5}}}}]}},\"toolbar_location\":null,\"left\":[{\"type\":\"object\",\"name\":\"LinearAxis\",\"id\":\"72a4f846-01eb-42ea-b102-5a6a82902ac6\",\"attributes\":{\"ticker\":{\"type\":\"object\",\"name\":\"BasicTicker\",\"id\":\"6e2012fb-9127-4e1e-9624-a828987dd231\",\"attributes\":{\"mantissas\":[1,2,5]}},\"formatter\":{\"type\":\"object\",\"name\":\"BasicTickFormatter\",\"id\":\"83f95039-7c61-4c1b-b408-0927adaf94c6\"},\"axis_label\":\"y\",\"axis_label_standoff\":10,\"axis_label_text_color\":\"#FFFFFF\",\"axis_label_text_font\":\"Josefin Sans\",\"axis_label_text_font_size\":\"1.9em\",\"axis_label_text_font_style\":\"bold\",\"major_label_policy\":{\"type\":\"object\",\"name\":\"AllLabels\",\"id\":\"a847597e-73ea-4471-8a57-a261449fc507\"},\"major_label_text_color\":\"#E0E0E0\",\"major_label_text_font\":\"Josefin Sans\",\"major_label_text_font_size\":\"1.15em\",\"axis_line_color\":\"#E0E0E0\",\"axis_line_alpha\":0.4,\"major_tick_line_color\":\"#E0E0E0\",\"major_tick_line_alpha\":0.4,\"minor_tick_line_color\":\"#E0E0E0\",\"minor_tick_line_alpha\":0.4}}],\"below\":[{\"type\":\"object\",\"name\":\"LinearAxis\",\"id\":\"d93b56aa-6383-408b-8e20-326c4667df39\",\"attributes\":{\"ticker\":{\"type\":\"object\",\"name\":\"BasicTicker\",\"id\":\"df5a0517-f022-403e-a3a8-85a7e237c121\",\"attributes\":{\"mantissas\":[1,2,5]}},\"formatter\":{\"type\":\"object\",\"name\":\"BasicTickFormatter\",\"id\":\"71628f56-0034-4750-a455-4ed810d12f40\"},\"axis_label\":\"x\",\"axis_label_standoff\":10,\"axis_label_text_color\":\"#FFFFFF\",\"axis_label_text_font\":\"Josefin Sans\",\"axis_label_text_font_size\":\"1.9em\",\"axis_label_text_font_style\":\"bold\",\"major_label_policy\":{\"type\":\"object\",\"name\":\"AllLabels\",\"id\":\"451f5be8-7aa1-42ef-8c24-c0dda6723a11\"},\"major_label_text_color\":\"#E0E0E0\",\"major_label_text_font\":\"Josefin Sans\",\"major_label_text_font_size\":\"1.15em\",\"axis_line_color\":\"#E0E0E0\",\"axis_line_alpha\":0.4,\"major_tick_line_color\":\"#E0E0E0\",\"major_tick_line_alpha\":0.4,\"minor_tick_line_color\":\"#E0E0E0\",\"minor_tick_line_alpha\":0.4}}],\"center\":[{\"type\":\"object\",\"name\":\"Grid\",\"id\":\"1ea0d123-b1d1-4906-8b4f-c799a80bb8b8\",\"attributes\":{\"axis\":{\"id\":\"d93b56aa-6383-408b-8e20-326c4667df39\"},\"grid_line_color\":\"#E0E0E0\",\"grid_line_alpha\":0.15}},{\"type\":\"object\",\"name\":\"Grid\",\"id\":\"0e3e8d5a-fd7e-448e-ab37-2f97f1a9fbe8\",\"attributes\":{\"dimension\":1,\"axis\":{\"id\":\"72a4f846-01eb-42ea-b102-5a6a82902ac6\"},\"grid_line_color\":\"#E0E0E0\",\"grid_line_alpha\":0.15}},{\"type\":\"object\",\"name\":\"Legend\",\"id\":\"ee49852a-5c96-48f0-a8a8-44d15fc30de5\",\"attributes\":{\"border_line_alpha\":0.25,\"background_fill_color\":\"#505050\",\"background_fill_alpha\":0.25,\"label_text_color\":\"#E0E0E0\",\"label_text_font\":\"Josefin Sans\",\"label_text_font_size\":\"1.15em\",\"label_standoff\":8,\"spacing\":8,\"items\":[{\"type\":\"object\",\"name\":\"LegendItem\",\"id\":\"a6c6f8fb-f702-4ee2-b622-cfc044a24cd5\",\"attributes\":{\"label\":{\"type\":\"value\",\"value\":\"Observations\"},\"renderers\":[{\"id\":\"3460dd1b-3ea3-41fd-aab6-1a0e67f3d6b1\"}]}}]}}],\"background_fill_color\":\"#0f0f0f\",\"background_fill_alpha\":0.9,\"border_fill_color\":\"#111111\",\"border_fill_alpha\":0.8}}]}}]}},{\"type\":\"object\",\"name\":\"Spacer\",\"id\":\"a1ebbf00-93b5-41fc-b2b5-502c3098d8d7\",\"attributes\":{\"name\":\"HSpacer00138\",\"stylesheets\":[\"\\n:host(.pn-loading):before, .pn-loading:before {\\n  background-color: #c3c3c3;\\n  mask-size: auto calc(min(50%, 400px));\\n  -webkit-mask-size: auto calc(min(50%, 400px));\\n}\",{\"id\":\"2653af2b-b5cc-44e5-bf38-28fa1123889b\"},{\"id\":\"d6906984-c459-4bd5-8247-59f894f5d1da\"},{\"id\":\"07bf8bb7-22ac-4304-8ac5-302ae8886f6e\"},{\"id\":\"74ef0de2-d14c-4a73-8b80-8272f0501eaf\"}],\"margin\":0,\"sizing_mode\":\"stretch_width\",\"align\":\"start\"}}]}},{\"type\":\"object\",\"name\":\"panel.models.comm_manager.CommManager\",\"id\":\"0e44748b-a324-4f3d-b732-4bc94b7e5c4f\",\"attributes\":{\"plot_id\":\"383631d2-2b05-4ac0-9c1a-f83280bffa63\",\"comm_id\":\"cb862d9a3bae4553a444408c81ce5dd5\",\"client_comm_id\":\"1064bdd918634e3b8b5ab8a4a3355a91\"}}],\"defs\":[{\"type\":\"model\",\"name\":\"ReactiveHTML1\"},{\"type\":\"model\",\"name\":\"FlexBox1\",\"properties\":[{\"name\":\"align_content\",\"kind\":\"Any\",\"default\":\"flex-start\"},{\"name\":\"align_items\",\"kind\":\"Any\",\"default\":\"flex-start\"},{\"name\":\"flex_direction\",\"kind\":\"Any\",\"default\":\"row\"},{\"name\":\"flex_wrap\",\"kind\":\"Any\",\"default\":\"wrap\"},{\"name\":\"gap\",\"kind\":\"Any\",\"default\":\"\"},{\"name\":\"justify_content\",\"kind\":\"Any\",\"default\":\"flex-start\"}]},{\"type\":\"model\",\"name\":\"FloatPanel1\",\"properties\":[{\"name\":\"config\",\"kind\":\"Any\",\"default\":{\"type\":\"map\"}},{\"name\":\"contained\",\"kind\":\"Any\",\"default\":true},{\"name\":\"position\",\"kind\":\"Any\",\"default\":\"right-top\"},{\"name\":\"offsetx\",\"kind\":\"Any\",\"default\":null},{\"name\":\"offsety\",\"kind\":\"Any\",\"default\":null},{\"name\":\"theme\",\"kind\":\"Any\",\"default\":\"primary\"},{\"name\":\"status\",\"kind\":\"Any\",\"default\":\"normalized\"}]},{\"type\":\"model\",\"name\":\"GridStack1\",\"properties\":[{\"name\":\"mode\",\"kind\":\"Any\",\"default\":\"warn\"},{\"name\":\"ncols\",\"kind\":\"Any\",\"default\":null},{\"name\":\"nrows\",\"kind\":\"Any\",\"default\":null},{\"name\":\"allow_resize\",\"kind\":\"Any\",\"default\":true},{\"name\":\"allow_drag\",\"kind\":\"Any\",\"default\":true},{\"name\":\"state\",\"kind\":\"Any\",\"default\":[]}]},{\"type\":\"model\",\"name\":\"drag1\",\"properties\":[{\"name\":\"slider_width\",\"kind\":\"Any\",\"default\":5},{\"name\":\"slider_color\",\"kind\":\"Any\",\"default\":\"black\"},{\"name\":\"value\",\"kind\":\"Any\",\"default\":50}]},{\"type\":\"model\",\"name\":\"click1\",\"properties\":[{\"name\":\"terminal_output\",\"kind\":\"Any\",\"default\":\"\"},{\"name\":\"debug_name\",\"kind\":\"Any\",\"default\":\"\"},{\"name\":\"clears\",\"kind\":\"Any\",\"default\":0}]},{\"type\":\"model\",\"name\":\"FastWrapper1\",\"properties\":[{\"name\":\"object\",\"kind\":\"Any\",\"default\":null},{\"name\":\"style\",\"kind\":\"Any\",\"default\":null}]},{\"type\":\"model\",\"name\":\"NotificationAreaBase1\",\"properties\":[{\"name\":\"js_events\",\"kind\":\"Any\",\"default\":{\"type\":\"map\"}},{\"name\":\"position\",\"kind\":\"Any\",\"default\":\"bottom-right\"},{\"name\":\"_clear\",\"kind\":\"Any\",\"default\":0}]},{\"type\":\"model\",\"name\":\"NotificationArea1\",\"properties\":[{\"name\":\"js_events\",\"kind\":\"Any\",\"default\":{\"type\":\"map\"}},{\"name\":\"notifications\",\"kind\":\"Any\",\"default\":[]},{\"name\":\"position\",\"kind\":\"Any\",\"default\":\"bottom-right\"},{\"name\":\"_clear\",\"kind\":\"Any\",\"default\":0},{\"name\":\"types\",\"kind\":\"Any\",\"default\":[{\"type\":\"map\",\"entries\":[[\"type\",\"warning\"],[\"background\",\"#ffc107\"],[\"icon\",{\"type\":\"map\",\"entries\":[[\"className\",\"fas fa-exclamation-triangle\"],[\"tagName\",\"i\"],[\"color\",\"white\"]]}]]},{\"type\":\"map\",\"entries\":[[\"type\",\"info\"],[\"background\",\"#007bff\"],[\"icon\",{\"type\":\"map\",\"entries\":[[\"className\",\"fas fa-info-circle\"],[\"tagName\",\"i\"],[\"color\",\"white\"]]}]]}]}]},{\"type\":\"model\",\"name\":\"Notification\",\"properties\":[{\"name\":\"background\",\"kind\":\"Any\",\"default\":null},{\"name\":\"duration\",\"kind\":\"Any\",\"default\":3000},{\"name\":\"icon\",\"kind\":\"Any\",\"default\":null},{\"name\":\"message\",\"kind\":\"Any\",\"default\":\"\"},{\"name\":\"notification_type\",\"kind\":\"Any\",\"default\":null},{\"name\":\"_destroyed\",\"kind\":\"Any\",\"default\":false}]},{\"type\":\"model\",\"name\":\"TemplateActions1\",\"properties\":[{\"name\":\"open_modal\",\"kind\":\"Any\",\"default\":0},{\"name\":\"close_modal\",\"kind\":\"Any\",\"default\":0}]},{\"type\":\"model\",\"name\":\"BootstrapTemplateActions1\",\"properties\":[{\"name\":\"open_modal\",\"kind\":\"Any\",\"default\":0},{\"name\":\"close_modal\",\"kind\":\"Any\",\"default\":0}]},{\"type\":\"model\",\"name\":\"TemplateEditor1\",\"properties\":[{\"name\":\"layout\",\"kind\":\"Any\",\"default\":[]}]},{\"type\":\"model\",\"name\":\"MaterialTemplateActions1\",\"properties\":[{\"name\":\"open_modal\",\"kind\":\"Any\",\"default\":0},{\"name\":\"close_modal\",\"kind\":\"Any\",\"default\":0}]},{\"type\":\"model\",\"name\":\"copy_to_clipboard1\",\"properties\":[{\"name\":\"fill\",\"kind\":\"Any\",\"default\":\"none\"},{\"name\":\"value\",\"kind\":\"Any\",\"default\":null}]}]}};\n",
       "  var render_items = [{\"docid\":\"8f252142-0f31-4d01-adc4-f78ae6cba041\",\"roots\":{\"383631d2-2b05-4ac0-9c1a-f83280bffa63\":\"b707e020-9094-48e0-bfd3-95644d899d08\"},\"root_ids\":[\"383631d2-2b05-4ac0-9c1a-f83280bffa63\"]}];\n",
       "  var docs = Object.values(docs_json)\n",
       "  if (!docs) {\n",
       "    return\n",
       "  }\n",
       "  const py_version = docs[0].version.replace('rc', '-rc.').replace('.dev', '-dev.')\n",
       "  function embed_document(root) {\n",
       "    var Bokeh = get_bokeh(root)\n",
       "    Bokeh.embed.embed_items_notebook(docs_json, render_items);\n",
       "    for (const render_item of render_items) {\n",
       "      for (const root_id of render_item.root_ids) {\n",
       "\tconst id_el = document.getElementById(root_id)\n",
       "\tif (id_el.children.length && (id_el.children[0].className === 'bk-root')) {\n",
       "\t  const root_el = id_el.children[0]\n",
       "\t  root_el.id = root_el.id + '-rendered'\n",
       "\t}\n",
       "      }\n",
       "    }\n",
       "  }\n",
       "  function get_bokeh(root) {\n",
       "    if (root.Bokeh === undefined) {\n",
       "      return null\n",
       "    } else if (root.Bokeh.version !== py_version) {\n",
       "      if (root.Bokeh.versions === undefined || !root.Bokeh.versions.has(py_version)) {\n",
       "\treturn null\n",
       "      }\n",
       "      return root.Bokeh.versions.get(py_version);\n",
       "    } else if (root.Bokeh.version === py_version) {\n",
       "      return root.Bokeh\n",
       "    }\n",
       "    return null\n",
       "  }\n",
       "  function is_loaded(root) {\n",
       "    var Bokeh = get_bokeh(root)\n",
       "    return (Bokeh != null && Bokeh.Panel !== undefined)\n",
       "  }\n",
       "  if (is_loaded(root)) {\n",
       "    embed_document(root);\n",
       "  } else {\n",
       "    var attempts = 0;\n",
       "    var timer = setInterval(function(root) {\n",
       "      if (is_loaded(root)) {\n",
       "        clearInterval(timer);\n",
       "        embed_document(root);\n",
       "      } else if (document.readyState == \"complete\") {\n",
       "        attempts++;\n",
       "        if (attempts > 200) {\n",
       "          clearInterval(timer);\n",
       "\t  var Bokeh = get_bokeh(root)\n",
       "\t  if (Bokeh == null || Bokeh.Panel == null) {\n",
       "            console.warn(\"Panel: ERROR: Unable to run Panel code because Bokeh or Panel library is missing\");\n",
       "\t  } else {\n",
       "\t    console.warn(\"Panel: WARNING: Attempting to render but not all required libraries could be resolved.\")\n",
       "\t    embed_document(root)\n",
       "\t  }\n",
       "        }\n",
       "      }\n",
       "    }, 25, root)\n",
       "  }\n",
       "})(window);</script>"
      ],
      "text/plain": [
       "Row\n",
       "    [0] HSpacer()\n",
       "    [1] Bokeh(Column)\n",
       "    [2] HSpacer()"
      ]
     },
     "execution_count": 7,
     "metadata": {
      "application/vnd.holoviews_exec.v0+json": {
       "id": "383631d2-2b05-4ac0-9c1a-f83280bffa63"
      }
     },
     "output_type": "execute_result"
    }
   ],
   "source": [
    "plot = center_plot(column(Div(text = \"Different amounts of noise\", styles={'font-size': '250%'}), row(*plots)))\n",
    "plot"
   ]
  },
  {
   "cell_type": "markdown",
   "metadata": {},
   "source": [
    "To summarize, we will have some observations of a function, and we would like to optimize a function that gets as close as possible to the real function that generated this data. Here, we plot the real function and also _subsample_ our number of observations (having only a few points to find the corresponding function)"
   ]
  },
  {
   "cell_type": "code",
   "execution_count": 8,
   "metadata": {},
   "outputs": [
    {
     "name": "stderr",
     "output_type": "stream",
     "text": [
      "BokehDeprecationWarning: 'circle() method with size value' was deprecated in Bokeh 3.4.0 and will be removed, use 'scatter(size=...) instead' instead.\n"
     ]
    },
    {
     "data": {},
     "metadata": {},
     "output_type": "display_data"
    },
    {
     "data": {
      "application/vnd.holoviews_exec.v0+json": "",
      "text/html": [
       "<div id='3c4872f5-abf3-4776-8d14-de88c8ffe3e1'>\n",
       "  <div id=\"e34bf1e5-70a8-463b-ae79-3f13ad55b27c\" data-root-id=\"3c4872f5-abf3-4776-8d14-de88c8ffe3e1\" style=\"display: contents;\"></div>\n",
       "</div>\n",
       "<script type=\"application/javascript\">(function(root) {\n",
       "  var docs_json = {\"958288c6-48fc-4378-befb-65a9a6d1ed52\":{\"version\":\"3.4.1\",\"title\":\"Bokeh Application\",\"roots\":[{\"type\":\"object\",\"name\":\"Row\",\"id\":\"3c4872f5-abf3-4776-8d14-de88c8ffe3e1\",\"attributes\":{\"name\":\"Row00151\",\"stylesheets\":[\"\\n:host(.pn-loading):before, .pn-loading:before {\\n  background-color: #c3c3c3;\\n  mask-size: auto calc(min(50%, 400px));\\n  -webkit-mask-size: auto calc(min(50%, 400px));\\n}\",{\"type\":\"object\",\"name\":\"ImportedStyleSheet\",\"id\":\"6534f8a3-a31e-474c-98e2-5142dd969572\",\"attributes\":{\"url\":\"https://cdn.holoviz.org/panel/1.4.1/dist/css/loading.css\"}},{\"type\":\"object\",\"name\":\"ImportedStyleSheet\",\"id\":\"6e8bb055-6dd3-4666-b8e8-0299f66da28c\",\"attributes\":{\"url\":\"cml/cml.css\"}},{\"type\":\"object\",\"name\":\"ImportedStyleSheet\",\"id\":\"5d9e9c39-bb41-4abe-987d-2300450a0885\",\"attributes\":{\"url\":\"https://cdn.holoviz.org/panel/1.4.1/dist/css/listpanel.css\"}},{\"type\":\"object\",\"name\":\"ImportedStyleSheet\",\"id\":\"7f02b4d5-ae33-473c-a9b8-14c7e7641281\",\"attributes\":{\"url\":\"https://cdn.holoviz.org/panel/1.4.1/dist/bundled/theme/default.css\"}},{\"type\":\"object\",\"name\":\"ImportedStyleSheet\",\"id\":\"d68b510a-8439-42fe-97f5-d242e51e89b1\",\"attributes\":{\"url\":\"https://cdn.holoviz.org/panel/1.4.1/dist/bundled/theme/native.css\"}}],\"min_width\":600,\"margin\":0,\"sizing_mode\":\"stretch_width\",\"align\":\"start\",\"children\":[{\"type\":\"object\",\"name\":\"Spacer\",\"id\":\"85853904-ca89-46d6-a1e9-b84de14e11fd\",\"attributes\":{\"name\":\"HSpacer00147\",\"stylesheets\":[\"\\n:host(.pn-loading):before, .pn-loading:before {\\n  background-color: #c3c3c3;\\n  mask-size: auto calc(min(50%, 400px));\\n  -webkit-mask-size: auto calc(min(50%, 400px));\\n}\",{\"id\":\"6534f8a3-a31e-474c-98e2-5142dd969572\"},{\"id\":\"6e8bb055-6dd3-4666-b8e8-0299f66da28c\"},{\"id\":\"7f02b4d5-ae33-473c-a9b8-14c7e7641281\"},{\"id\":\"d68b510a-8439-42fe-97f5-d242e51e89b1\"}],\"margin\":0,\"sizing_mode\":\"stretch_width\",\"align\":\"start\"}},{\"type\":\"object\",\"name\":\"Figure\",\"id\":\"8bb1bdf4-1c91-4ef0-90ee-dd2b19af55f2\",\"attributes\":{\"height\":450,\"x_range\":{\"type\":\"object\",\"name\":\"DataRange1d\",\"id\":\"38bba152-fa69-4a15-bf81-45bd2677124e\"},\"y_range\":{\"type\":\"object\",\"name\":\"DataRange1d\",\"id\":\"d6bf4883-1458-457c-87ca-6a14cbd2278c\"},\"x_scale\":{\"type\":\"object\",\"name\":\"LinearScale\",\"id\":\"a9e3ed3d-be23-4956-816b-7c616693be86\"},\"y_scale\":{\"type\":\"object\",\"name\":\"LinearScale\",\"id\":\"cc9e5042-86ca-48ed-94c5-9ebf0fda69ea\"},\"title\":{\"type\":\"object\",\"name\":\"Title\",\"id\":\"05f3a95a-3838-4f0c-a942-beeeb2b977d0\",\"attributes\":{\"text\":\"Learning problem with groundtruth\",\"text_color\":\"#E0E0E0\",\"text_font\":\"Josefin Sans\",\"text_font_size\":\"2.1em\"}},\"outline_line_color\":\"#E0E0E0\",\"outline_line_alpha\":0.25,\"outline_line_width\":3,\"renderers\":[{\"type\":\"object\",\"name\":\"GlyphRenderer\",\"id\":\"e2d16bc0-b7d8-44d3-9645-0077bf313ef6\",\"attributes\":{\"data_source\":{\"type\":\"object\",\"name\":\"ColumnDataSource\",\"id\":\"759ae282-7035-4edc-b69f-3b94419d6615\",\"attributes\":{\"selected\":{\"type\":\"object\",\"name\":\"Selection\",\"id\":\"decd36b1-09df-441f-9c67-0307d6072d3d\",\"attributes\":{\"indices\":[],\"line_indices\":[]}},\"selection_policy\":{\"type\":\"object\",\"name\":\"UnionRenderers\",\"id\":\"c507e42c-4d13-42b8-88af-0c06133fd87c\"},\"data\":{\"type\":\"map\",\"entries\":[[\"x\",{\"type\":\"ndarray\",\"array\":{\"type\":\"bytes\",\"data\":\"W79SoNavlD8yb2dIzNu5P2WTTTbZZMM/UetXCtT6xT88Q2LezpDIPxPzdobEvM0/ejtDYt7O0D910UUXXXTRP2ApUOtXCtQ/W79SoNav1D9WVVVVVVXVP1HrVwrU+tU/TIFav1Kg1j9GF1100UXXPzxDYt7OkNg/N9lkk0022T8yb2dIzNvZPy0Fav1Kgdo/HcdxHMdx3D8YXXTRRRfdPxPzdobEvN0/CB988MEH3z998MEHH3zgP3o7Q2LezuA/d4bEvJ0h4T910UUXXXThP3BnSMzbGeI/aEjM2xkS4z9gKVDrVwrkP1gK1PqVAuU/U6DWrxSo5T9ONtlkk03mP0Ri3s6QmOc/OY7jOI7j6D832WSTTTbpPzJvZ0jM2+k/L7rooosu6j8tBWr9SoHqPypQ61cK1Oo/J5tssskm6z8iMW9nSMzrPx3HcRzHcew/Faj1KwVq7T8T83aGxLztPxA++OCDD+4/Dol5O0Ni7j8L1PqVArXuPwZq/UqBWu8/A7V+pUCt7z8AAAAAAADwPw==\"},\"shape\":[50],\"dtype\":\"float64\",\"order\":\"little\"}],[\"y\",{\"type\":\"ndarray\",\"array\":{\"type\":\"bytes\",\"data\":\"9htkCveO6z+ma9PV+n3tP/UwPkgPC+8/Fhoo2idx8z+2lImjgdL0P8DYNYw9j/Q/Qz3RCT1s9T+xF6zPzi/xP1kwzqbinPQ/Az+vpAdi9T+dah38ZUTyP4Xw1TexAvQ/wmFZWN/29T8eGJ4HFMT4P2C8mHRsdPQ/rgfvLPAs9j8SKS6Xner6P9NQINpm4vY//3pBn56U+D/YmlvkFsr3P/ECgJ+fX/c/rUavoVSm+D87Bkc2hQb7Pw4yF+GXDv4/mlN+YGTl/T8i5fFtaGL8P5I9uzueg/4/8lL5P9Re/j8WcFNjkvv/P0tbhsu3EQJAopFeG0WPAkD/tY9xZSkEQMxPk/X2DgVA62XnIkzaBUAET7Z2YzoIQL+IeWNObQhAv1DtSZM7CEBzU1IizLMHQHejVGMkRQpAELWm4JDYCECzKrnLoZoJQAgiSC8NRwtAAD0dhD6mC0B5gfq0BPsMQP8sOpSiaQ1AbLWwSaAlDUA1jomPh/QMQNG4KdEZJhBANVM/xRDlD0DSwQ5nyhwQQA==\"},\"shape\":[50],\"dtype\":\"float64\",\"order\":\"little\"}]]}}},\"view\":{\"type\":\"object\",\"name\":\"CDSView\",\"id\":\"16d729f7-dd14-4b80-a8d5-38b8b44ae01c\",\"attributes\":{\"filter\":{\"type\":\"object\",\"name\":\"AllIndices\",\"id\":\"a9437609-8158-481b-8c20-faa5c76c7cf3\"}}},\"glyph\":{\"type\":\"object\",\"name\":\"Scatter\",\"id\":\"f31679dc-7be9-4e56-83b9-ca49c9726961\",\"attributes\":{\"x\":{\"type\":\"field\",\"field\":\"x\"},\"y\":{\"type\":\"field\",\"field\":\"y\"},\"size\":{\"type\":\"value\",\"value\":10},\"line_color\":{\"type\":\"value\",\"value\":\"white\"},\"line_alpha\":{\"type\":\"value\",\"value\":0.25},\"fill_color\":{\"type\":\"value\",\"value\":\"midnightblue\"},\"fill_alpha\":{\"type\":\"value\",\"value\":0.25},\"hatch_alpha\":{\"type\":\"value\",\"value\":0.25}}},\"selection_glyph\":{\"type\":\"object\",\"name\":\"Circle\",\"id\":\"cc7e88bb-2ec0-4878-81b5-22f524bfbbef\",\"attributes\":{\"line_color\":{\"type\":\"value\",\"value\":\"white\"},\"fill_color\":{\"type\":\"value\",\"value\":\"red\"},\"fill_alpha\":{\"type\":\"value\",\"value\":0.8}}},\"nonselection_glyph\":{\"type\":\"object\",\"name\":\"Circle\",\"id\":\"7d799f17-032f-43fa-a4b8-85f4250b4af3\",\"attributes\":{\"line_color\":{\"type\":\"value\",\"value\":\"white\"},\"fill_color\":{\"type\":\"value\",\"value\":\"midnightblue\"},\"fill_alpha\":{\"type\":\"value\",\"value\":0.5}}},\"hover_glyph\":{\"type\":\"object\",\"name\":\"Scatter\",\"id\":\"b9c6f2eb-d70a-4875-9531-5ed155ccd1e5\",\"attributes\":{\"x\":{\"type\":\"field\",\"field\":\"x\"},\"y\":{\"type\":\"field\",\"field\":\"y\"},\"size\":{\"type\":\"value\",\"value\":10},\"line_color\":{\"type\":\"value\",\"value\":\"white\"},\"line_alpha\":{\"type\":\"value\",\"value\":0.5},\"fill_color\":{\"type\":\"value\",\"value\":\"red\"},\"fill_alpha\":{\"type\":\"value\",\"value\":0.5},\"hatch_alpha\":{\"type\":\"value\",\"value\":0.5}}},\"muted_glyph\":{\"type\":\"object\",\"name\":\"Scatter\",\"id\":\"fbc844ce-c1d6-4b46-8149-147c1e6cba84\",\"attributes\":{\"x\":{\"type\":\"field\",\"field\":\"x\"},\"y\":{\"type\":\"field\",\"field\":\"y\"},\"size\":{\"type\":\"value\",\"value\":10},\"line_color\":{\"type\":\"value\",\"value\":\"white\"},\"line_alpha\":{\"type\":\"value\",\"value\":0.2},\"fill_color\":{\"type\":\"value\",\"value\":\"midnightblue\"},\"fill_alpha\":{\"type\":\"value\",\"value\":0.2},\"hatch_alpha\":{\"type\":\"value\",\"value\":0.2}}}}},{\"type\":\"object\",\"name\":\"GlyphRenderer\",\"id\":\"3c80c7a7-224a-4d52-93b3-581b9fb2ae92\",\"attributes\":{\"data_source\":{\"type\":\"object\",\"name\":\"ColumnDataSource\",\"id\":\"abb9fd7e-16be-4f20-aeaa-aeb0ae89816c\",\"attributes\":{\"selected\":{\"type\":\"object\",\"name\":\"Selection\",\"id\":\"ccac3de8-b7b0-40b6-881a-6816e6a6e9ff\",\"attributes\":{\"indices\":[],\"line_indices\":[]}},\"selection_policy\":{\"type\":\"object\",\"name\":\"UnionRenderers\",\"id\":\"8deaf009-3d03-4e46-8cc2-57701ab077f6\"},\"data\":{\"type\":\"map\",\"entries\":[[\"x\",{\"type\":\"ndarray\",\"array\":{\"type\":\"bytes\",\"data\":\"AAAAAAAAAABbv1Kg1q+EP1u/UqDWr5Q/CB988MEHnz9bv1Kg1q+kPzJvZ0jM26k/CB988MEHrz9wZ0jM2xmyP1u/UqDWr7Q/RhdddNFFtz8yb2dIzNu5Px3HcRzHcbw/CB988MEHvz96O0Ni3s7AP3BnSMzbGcI/ZZNNNtlkwz9bv1Kg1q/EP1HrVwrU+sU/RhdddNFFxz88Q2LezpDIPzJvZ0jM28k/J5tssskmyz8dx3Ecx3HMPxPzdobEvM0/CB988MEHzz9/pUCtXynQP3o7Q2LeztA/ddFFF1100T9wZ0jM2xnSP2r9SoFav9I/ZZNNNtlk0z9gKVDrVwrUP1u/UqDWr9Q/VlVVVVVV1T9R61cK1PrVP0yBWr9SoNY/RhdddNFF1z9BrV8pUOvXPzxDYt7OkNg/N9lkk0022T8yb2dIzNvZPy0Fav1Kgdo/J5tssskm2z8iMW9nSMzbPx3HcRzHcdw/GF100UUX3T8T83aGxLzdPw6JeTtDYt4/CB988MEH3z8DtX6lQK3fP3+lQK1fKeA/ffDBBx984D96O0Ni3s7gP3eGxLydIeE/ddFFF1104T9yHMdxHMfhP3BnSMzbGeI/bbLJJpts4j9q/UqBWr/iP2hIzNsZEuM/ZZNNNtlk4z9j3s6QmLfjP2ApUOtXCuQ/XnTRRRdd5D9bv1Kg1q/kP1gK1PqVAuU/VlVVVVVV5T9ToNavFKjlP1HrVwrU+uU/TjbZZJNN5j9MgVq/UqDmP0nM2xkS8+Y/RhdddNFF5z9EYt7OkJjnP0GtXylQ6+c/P/jggw8+6D88Q2LezpDoPzmO4ziO4+g/N9lkk0026T80JObtDInpPzJvZ0jM2+k/L7rooosu6j8tBWr9SoHqPypQ61cK1Oo/J5tssskm6z8l5u0MiXnrPyIxb2dIzOs/IHzwwQcf7D8dx3Ecx3HsPxsS83aGxOw/GF100UUX7T8VqPUrBWrtPxPzdobEvO0/ED744IMP7j8OiXk7Q2LuPwvU+pUCte4/CB988MEH7z8Gav1KgVrvPwO1fqVAre8/AAAAAAAA8D8=\"},\"shape\":[100],\"dtype\":\"float64\",\"order\":\"little\"}],[\"y\",{\"type\":\"ndarray\",\"array\":{\"type\":\"bytes\",\"data\":\"AAAAAAAA8D8MJLz1QAHwPy6Q8NYDBfA/aESdo0gL8D+6QMJbDxTwPyKFX/9XH/A/ohF1jiIt8D845gIJbz3wP+YCCW89UPA/q2eHwI1l8D+IFH79X33wP3sJ7SW0l/A/hkbUOYq08D+oyzM54tPwP+GYCyS89fA/Ma5b+hca8T+ZCyS89UDxPxixZGlVavE/rZ4dAjeW8T9b1E6GmsTxPx9S+PV/9fE/+hcaUeco8j/tJbSX0F7yP/d7xsk7l/I/GBpR5yjS8j9QAFTwlw/zP6Auz+SIT/M/B6XCxPuR8z+EYy6Q8NbzPxlqEkdnHvQ/xrhu6V9o9D+JT0N32rT0P2QukPDWA/U/VlVVVVVV9T9fxJKlVan1P397SOHX//U/tnp2CNxY9j8FwhwbYrT2P2tROxlqEvc/6CjSAvRy9z98SOHX/9X3PyiwaJiNO/g/6l9oRJ2j+D/EV+DbLg75P7SX0F5Ce/k/vR85zdfq+T/c7xkn71z6PxIIc2yI0fo/YGhEnaNI+z/FEI65QML7P0EBUMFfPvw/1jmKtAC9/D+AujyTIz79P0CDZ13Iwf0/GpQKE+9H/j8K7SW0l9D+PxKOuUDCW/8/MHfFuG7p/z8y1CSOzjwAQNoQo7UmhgBAi3Hd0r/QAEBJ9tPlmRwBQBKfhu60aQFA6Gv17BC4AUDIXCDhrQcCQLNxB8uLWAJAq6qqqqqqAkCuBwqACv4CQL6IJUurUgNA1y39C42oA0D+9pDCr/8DQDDk4G4TWARAbPXsELixBEC2KrWonQwFQAqEOTbEaAVAagF6uSvGBUDWonYy1CQGQExoL6G9hAZA0FGkBejlBkBeX9VfU0gHQPiQwq//qwdAneZr9ewQCEBPYNEwG3cIQAz+8mGK3ghA07/QiDpHCUCopWqlK7EJQIevwLddHApAc93Sv9CICkBpL6G9hPYKQGylK7F5ZQtAej9ymq/VC0CT/XR5JkcMQLjfM07euQxA6eWuGNctDUAlEObYEKMNQG1e2Y6LGQ5AwNCIOkeRDkAgZ/TbQwoPQIohHHOBhA9AAAAAAAAAEEA=\"},\"shape\":[100],\"dtype\":\"float64\",\"order\":\"little\"}]]}}},\"view\":{\"type\":\"object\",\"name\":\"CDSView\",\"id\":\"469129ba-3669-4931-81c5-59888cf79813\",\"attributes\":{\"filter\":{\"type\":\"object\",\"name\":\"AllIndices\",\"id\":\"7e10a5a2-c846-46f5-a921-a239c98ffa6b\"}}},\"glyph\":{\"type\":\"object\",\"name\":\"Line\",\"id\":\"679838e8-04b8-4c4f-9909-08da2ec73dc4\",\"attributes\":{\"x\":{\"type\":\"field\",\"field\":\"x\"},\"y\":{\"type\":\"field\",\"field\":\"y\"},\"line_color\":\"green\",\"line_alpha\":0.6,\"line_width\":6}},\"nonselection_glyph\":{\"type\":\"object\",\"name\":\"Line\",\"id\":\"36bbbd97-d0fe-4520-a1c5-63449a062bb1\",\"attributes\":{\"x\":{\"type\":\"field\",\"field\":\"x\"},\"y\":{\"type\":\"field\",\"field\":\"y\"},\"line_color\":\"green\",\"line_alpha\":0.1,\"line_width\":6}},\"muted_glyph\":{\"type\":\"object\",\"name\":\"Line\",\"id\":\"1683aa72-ed32-4867-98e5-1209b8652291\",\"attributes\":{\"x\":{\"type\":\"field\",\"field\":\"x\"},\"y\":{\"type\":\"field\",\"field\":\"y\"},\"line_color\":\"green\",\"line_alpha\":0.2,\"line_width\":6}}}}],\"toolbar\":{\"type\":\"object\",\"name\":\"Toolbar\",\"id\":\"fa433a1a-0375-4672-a05d-80e97df5652f\",\"attributes\":{\"tools\":[{\"type\":\"object\",\"name\":\"PanTool\",\"id\":\"f7c856b5-8daf-4230-95d3-faae623cf1bd\"},{\"type\":\"object\",\"name\":\"WheelZoomTool\",\"id\":\"daaa4c57-ff98-4767-b4b6-d9e584725e5b\",\"attributes\":{\"renderers\":\"auto\"}},{\"type\":\"object\",\"name\":\"BoxZoomTool\",\"id\":\"54b2af88-85d4-4fae-885f-cba644ac7177\",\"attributes\":{\"overlay\":{\"type\":\"object\",\"name\":\"BoxAnnotation\",\"id\":\"0c982239-b2b4-4799-9a7b-ebc720117c44\",\"attributes\":{\"syncable\":false,\"level\":\"overlay\",\"visible\":false,\"left\":{\"type\":\"number\",\"value\":\"nan\"},\"right\":{\"type\":\"number\",\"value\":\"nan\"},\"top\":{\"type\":\"number\",\"value\":\"nan\"},\"bottom\":{\"type\":\"number\",\"value\":\"nan\"},\"left_units\":\"canvas\",\"right_units\":\"canvas\",\"top_units\":\"canvas\",\"bottom_units\":\"canvas\",\"line_color\":\"black\",\"line_alpha\":1.0,\"line_width\":2,\"line_dash\":[4,4],\"fill_color\":\"lightgrey\",\"fill_alpha\":0.5}}}},{\"type\":\"object\",\"name\":\"SaveTool\",\"id\":\"6ab6a830-f8ff-4632-b216-c877cf6ff839\"},{\"type\":\"object\",\"name\":\"ResetTool\",\"id\":\"f806774f-81eb-4d50-aec8-bbe7f7ee2525\"},{\"type\":\"object\",\"name\":\"HelpTool\",\"id\":\"03e8b776-b574-48f5-9896-63247148fe33\"},{\"type\":\"object\",\"name\":\"HoverTool\",\"id\":\"8446b731-cccb-42cf-8912-510460cc2df6\",\"attributes\":{\"renderers\":[{\"id\":\"e2d16bc0-b7d8-44d3-9645-0077bf313ef6\"}],\"tooltips\":null,\"mode\":\"vline\"}},{\"type\":\"object\",\"name\":\"BoxSelectTool\",\"id\":\"4721c13e-62fb-4916-9362-86f547665b1c\",\"attributes\":{\"renderers\":[{\"id\":\"e2d16bc0-b7d8-44d3-9645-0077bf313ef6\"}],\"mode\":\"append\",\"overlay\":{\"type\":\"object\",\"name\":\"BoxAnnotation\",\"id\":\"f0ef0c9b-7d38-4b1b-96fe-e1dad033e552\",\"attributes\":{\"syncable\":false,\"level\":\"overlay\",\"visible\":false,\"left\":{\"type\":\"number\",\"value\":\"nan\"},\"right\":{\"type\":\"number\",\"value\":\"nan\"},\"top\":{\"type\":\"number\",\"value\":\"nan\"},\"bottom\":{\"type\":\"number\",\"value\":\"nan\"},\"editable\":true,\"line_color\":\"black\",\"line_alpha\":1.0,\"line_width\":2,\"line_dash\":[4,4],\"fill_color\":\"lightgrey\",\"fill_alpha\":0.5}}}}]}},\"toolbar_location\":null,\"left\":[{\"type\":\"object\",\"name\":\"LinearAxis\",\"id\":\"61ddf242-2d85-46c7-b2df-e1f78cee1253\",\"attributes\":{\"ticker\":{\"type\":\"object\",\"name\":\"BasicTicker\",\"id\":\"04edc2ab-aad3-4081-9107-88a68d447e5a\",\"attributes\":{\"mantissas\":[1,2,5]}},\"formatter\":{\"type\":\"object\",\"name\":\"BasicTickFormatter\",\"id\":\"2ddc4a0f-bb52-44bf-a4fa-e17810935dfa\"},\"axis_label\":\"y\",\"axis_label_standoff\":10,\"axis_label_text_color\":\"#FFFFFF\",\"axis_label_text_font\":\"Josefin Sans\",\"axis_label_text_font_size\":\"1.9em\",\"axis_label_text_font_style\":\"bold\",\"major_label_policy\":{\"type\":\"object\",\"name\":\"AllLabels\",\"id\":\"38bf7282-52a6-4ab7-8135-6b88e987da71\"},\"major_label_text_color\":\"#E0E0E0\",\"major_label_text_font\":\"Josefin Sans\",\"major_label_text_font_size\":\"1.15em\",\"axis_line_color\":\"#E0E0E0\",\"axis_line_alpha\":0.4,\"major_tick_line_color\":\"#E0E0E0\",\"major_tick_line_alpha\":0.4,\"minor_tick_line_color\":\"#E0E0E0\",\"minor_tick_line_alpha\":0.4}}],\"below\":[{\"type\":\"object\",\"name\":\"LinearAxis\",\"id\":\"a567cc6f-be8a-4e53-8e83-d3966fb54c0a\",\"attributes\":{\"ticker\":{\"type\":\"object\",\"name\":\"BasicTicker\",\"id\":\"7d3e7c4f-4e40-4162-9093-34fdf3b683ed\",\"attributes\":{\"mantissas\":[1,2,5]}},\"formatter\":{\"type\":\"object\",\"name\":\"BasicTickFormatter\",\"id\":\"4fc797f6-3735-42c8-89ee-ffffdab5c120\"},\"axis_label\":\"x\",\"axis_label_standoff\":10,\"axis_label_text_color\":\"#FFFFFF\",\"axis_label_text_font\":\"Josefin Sans\",\"axis_label_text_font_size\":\"1.9em\",\"axis_label_text_font_style\":\"bold\",\"major_label_policy\":{\"type\":\"object\",\"name\":\"AllLabels\",\"id\":\"41e7fbc0-1a11-490c-8d40-84a183a4545a\"},\"major_label_text_color\":\"#E0E0E0\",\"major_label_text_font\":\"Josefin Sans\",\"major_label_text_font_size\":\"1.15em\",\"axis_line_color\":\"#E0E0E0\",\"axis_line_alpha\":0.4,\"major_tick_line_color\":\"#E0E0E0\",\"major_tick_line_alpha\":0.4,\"minor_tick_line_color\":\"#E0E0E0\",\"minor_tick_line_alpha\":0.4}}],\"center\":[{\"type\":\"object\",\"name\":\"Grid\",\"id\":\"181a660f-62ba-4587-9ae9-1e400d484168\",\"attributes\":{\"axis\":{\"id\":\"a567cc6f-be8a-4e53-8e83-d3966fb54c0a\"},\"grid_line_color\":\"#E0E0E0\",\"grid_line_alpha\":0.15}},{\"type\":\"object\",\"name\":\"Grid\",\"id\":\"902946bb-3346-4743-8054-0739a33da9f8\",\"attributes\":{\"dimension\":1,\"axis\":{\"id\":\"61ddf242-2d85-46c7-b2df-e1f78cee1253\"},\"grid_line_color\":\"#E0E0E0\",\"grid_line_alpha\":0.15}},{\"type\":\"object\",\"name\":\"Legend\",\"id\":\"43fb775f-929c-4b31-95db-d9841baa5a00\",\"attributes\":{\"border_line_alpha\":0.25,\"background_fill_color\":\"#505050\",\"background_fill_alpha\":0.25,\"label_text_color\":\"#E0E0E0\",\"label_text_font\":\"Josefin Sans\",\"label_text_font_size\":\"1.15em\",\"label_standoff\":8,\"spacing\":8,\"items\":[{\"type\":\"object\",\"name\":\"LegendItem\",\"id\":\"9b71318c-802f-4f37-a46a-625dfc4511e1\",\"attributes\":{\"label\":{\"type\":\"value\",\"value\":\"Observations\"},\"renderers\":[{\"id\":\"e2d16bc0-b7d8-44d3-9645-0077bf313ef6\"}]}},{\"type\":\"object\",\"name\":\"LegendItem\",\"id\":\"ac30d21f-126c-4577-aa8b-cb4bc8ad97d3\",\"attributes\":{\"label\":{\"type\":\"value\",\"value\":\"True function\"},\"renderers\":[{\"id\":\"3c80c7a7-224a-4d52-93b3-581b9fb2ae92\"}]}}]}}],\"background_fill_color\":\"#0f0f0f\",\"background_fill_alpha\":0.9,\"border_fill_color\":\"#111111\",\"border_fill_alpha\":0.8}},{\"type\":\"object\",\"name\":\"Spacer\",\"id\":\"7790d2a8-c3c4-498d-b157-2ba27ad94de5\",\"attributes\":{\"name\":\"HSpacer00148\",\"stylesheets\":[\"\\n:host(.pn-loading):before, .pn-loading:before {\\n  background-color: #c3c3c3;\\n  mask-size: auto calc(min(50%, 400px));\\n  -webkit-mask-size: auto calc(min(50%, 400px));\\n}\",{\"id\":\"6534f8a3-a31e-474c-98e2-5142dd969572\"},{\"id\":\"6e8bb055-6dd3-4666-b8e8-0299f66da28c\"},{\"id\":\"7f02b4d5-ae33-473c-a9b8-14c7e7641281\"},{\"id\":\"d68b510a-8439-42fe-97f5-d242e51e89b1\"}],\"margin\":0,\"sizing_mode\":\"stretch_width\",\"align\":\"start\"}}]}},{\"type\":\"object\",\"name\":\"panel.models.comm_manager.CommManager\",\"id\":\"22789cef-dc3c-4bc0-95dd-1712bad25d11\",\"attributes\":{\"plot_id\":\"3c4872f5-abf3-4776-8d14-de88c8ffe3e1\",\"comm_id\":\"32cf80c229e34bbaafeb786fece118fe\",\"client_comm_id\":\"037ca07d7d39431cb48621dfca70ef84\"}}],\"defs\":[{\"type\":\"model\",\"name\":\"ReactiveHTML1\"},{\"type\":\"model\",\"name\":\"FlexBox1\",\"properties\":[{\"name\":\"align_content\",\"kind\":\"Any\",\"default\":\"flex-start\"},{\"name\":\"align_items\",\"kind\":\"Any\",\"default\":\"flex-start\"},{\"name\":\"flex_direction\",\"kind\":\"Any\",\"default\":\"row\"},{\"name\":\"flex_wrap\",\"kind\":\"Any\",\"default\":\"wrap\"},{\"name\":\"gap\",\"kind\":\"Any\",\"default\":\"\"},{\"name\":\"justify_content\",\"kind\":\"Any\",\"default\":\"flex-start\"}]},{\"type\":\"model\",\"name\":\"FloatPanel1\",\"properties\":[{\"name\":\"config\",\"kind\":\"Any\",\"default\":{\"type\":\"map\"}},{\"name\":\"contained\",\"kind\":\"Any\",\"default\":true},{\"name\":\"position\",\"kind\":\"Any\",\"default\":\"right-top\"},{\"name\":\"offsetx\",\"kind\":\"Any\",\"default\":null},{\"name\":\"offsety\",\"kind\":\"Any\",\"default\":null},{\"name\":\"theme\",\"kind\":\"Any\",\"default\":\"primary\"},{\"name\":\"status\",\"kind\":\"Any\",\"default\":\"normalized\"}]},{\"type\":\"model\",\"name\":\"GridStack1\",\"properties\":[{\"name\":\"mode\",\"kind\":\"Any\",\"default\":\"warn\"},{\"name\":\"ncols\",\"kind\":\"Any\",\"default\":null},{\"name\":\"nrows\",\"kind\":\"Any\",\"default\":null},{\"name\":\"allow_resize\",\"kind\":\"Any\",\"default\":true},{\"name\":\"allow_drag\",\"kind\":\"Any\",\"default\":true},{\"name\":\"state\",\"kind\":\"Any\",\"default\":[]}]},{\"type\":\"model\",\"name\":\"drag1\",\"properties\":[{\"name\":\"slider_width\",\"kind\":\"Any\",\"default\":5},{\"name\":\"slider_color\",\"kind\":\"Any\",\"default\":\"black\"},{\"name\":\"value\",\"kind\":\"Any\",\"default\":50}]},{\"type\":\"model\",\"name\":\"click1\",\"properties\":[{\"name\":\"terminal_output\",\"kind\":\"Any\",\"default\":\"\"},{\"name\":\"debug_name\",\"kind\":\"Any\",\"default\":\"\"},{\"name\":\"clears\",\"kind\":\"Any\",\"default\":0}]},{\"type\":\"model\",\"name\":\"FastWrapper1\",\"properties\":[{\"name\":\"object\",\"kind\":\"Any\",\"default\":null},{\"name\":\"style\",\"kind\":\"Any\",\"default\":null}]},{\"type\":\"model\",\"name\":\"NotificationAreaBase1\",\"properties\":[{\"name\":\"js_events\",\"kind\":\"Any\",\"default\":{\"type\":\"map\"}},{\"name\":\"position\",\"kind\":\"Any\",\"default\":\"bottom-right\"},{\"name\":\"_clear\",\"kind\":\"Any\",\"default\":0}]},{\"type\":\"model\",\"name\":\"NotificationArea1\",\"properties\":[{\"name\":\"js_events\",\"kind\":\"Any\",\"default\":{\"type\":\"map\"}},{\"name\":\"notifications\",\"kind\":\"Any\",\"default\":[]},{\"name\":\"position\",\"kind\":\"Any\",\"default\":\"bottom-right\"},{\"name\":\"_clear\",\"kind\":\"Any\",\"default\":0},{\"name\":\"types\",\"kind\":\"Any\",\"default\":[{\"type\":\"map\",\"entries\":[[\"type\",\"warning\"],[\"background\",\"#ffc107\"],[\"icon\",{\"type\":\"map\",\"entries\":[[\"className\",\"fas fa-exclamation-triangle\"],[\"tagName\",\"i\"],[\"color\",\"white\"]]}]]},{\"type\":\"map\",\"entries\":[[\"type\",\"info\"],[\"background\",\"#007bff\"],[\"icon\",{\"type\":\"map\",\"entries\":[[\"className\",\"fas fa-info-circle\"],[\"tagName\",\"i\"],[\"color\",\"white\"]]}]]}]}]},{\"type\":\"model\",\"name\":\"Notification\",\"properties\":[{\"name\":\"background\",\"kind\":\"Any\",\"default\":null},{\"name\":\"duration\",\"kind\":\"Any\",\"default\":3000},{\"name\":\"icon\",\"kind\":\"Any\",\"default\":null},{\"name\":\"message\",\"kind\":\"Any\",\"default\":\"\"},{\"name\":\"notification_type\",\"kind\":\"Any\",\"default\":null},{\"name\":\"_destroyed\",\"kind\":\"Any\",\"default\":false}]},{\"type\":\"model\",\"name\":\"TemplateActions1\",\"properties\":[{\"name\":\"open_modal\",\"kind\":\"Any\",\"default\":0},{\"name\":\"close_modal\",\"kind\":\"Any\",\"default\":0}]},{\"type\":\"model\",\"name\":\"BootstrapTemplateActions1\",\"properties\":[{\"name\":\"open_modal\",\"kind\":\"Any\",\"default\":0},{\"name\":\"close_modal\",\"kind\":\"Any\",\"default\":0}]},{\"type\":\"model\",\"name\":\"TemplateEditor1\",\"properties\":[{\"name\":\"layout\",\"kind\":\"Any\",\"default\":[]}]},{\"type\":\"model\",\"name\":\"MaterialTemplateActions1\",\"properties\":[{\"name\":\"open_modal\",\"kind\":\"Any\",\"default\":0},{\"name\":\"close_modal\",\"kind\":\"Any\",\"default\":0}]},{\"type\":\"model\",\"name\":\"copy_to_clipboard1\",\"properties\":[{\"name\":\"fill\",\"kind\":\"Any\",\"default\":\"none\"},{\"name\":\"value\",\"kind\":\"Any\",\"default\":null}]}]}};\n",
       "  var render_items = [{\"docid\":\"958288c6-48fc-4378-befb-65a9a6d1ed52\",\"roots\":{\"3c4872f5-abf3-4776-8d14-de88c8ffe3e1\":\"e34bf1e5-70a8-463b-ae79-3f13ad55b27c\"},\"root_ids\":[\"3c4872f5-abf3-4776-8d14-de88c8ffe3e1\"]}];\n",
       "  var docs = Object.values(docs_json)\n",
       "  if (!docs) {\n",
       "    return\n",
       "  }\n",
       "  const py_version = docs[0].version.replace('rc', '-rc.').replace('.dev', '-dev.')\n",
       "  function embed_document(root) {\n",
       "    var Bokeh = get_bokeh(root)\n",
       "    Bokeh.embed.embed_items_notebook(docs_json, render_items);\n",
       "    for (const render_item of render_items) {\n",
       "      for (const root_id of render_item.root_ids) {\n",
       "\tconst id_el = document.getElementById(root_id)\n",
       "\tif (id_el.children.length && (id_el.children[0].className === 'bk-root')) {\n",
       "\t  const root_el = id_el.children[0]\n",
       "\t  root_el.id = root_el.id + '-rendered'\n",
       "\t}\n",
       "      }\n",
       "    }\n",
       "  }\n",
       "  function get_bokeh(root) {\n",
       "    if (root.Bokeh === undefined) {\n",
       "      return null\n",
       "    } else if (root.Bokeh.version !== py_version) {\n",
       "      if (root.Bokeh.versions === undefined || !root.Bokeh.versions.has(py_version)) {\n",
       "\treturn null\n",
       "      }\n",
       "      return root.Bokeh.versions.get(py_version);\n",
       "    } else if (root.Bokeh.version === py_version) {\n",
       "      return root.Bokeh\n",
       "    }\n",
       "    return null\n",
       "  }\n",
       "  function is_loaded(root) {\n",
       "    var Bokeh = get_bokeh(root)\n",
       "    return (Bokeh != null && Bokeh.Panel !== undefined)\n",
       "  }\n",
       "  if (is_loaded(root)) {\n",
       "    embed_document(root);\n",
       "  } else {\n",
       "    var attempts = 0;\n",
       "    var timer = setInterval(function(root) {\n",
       "      if (is_loaded(root)) {\n",
       "        clearInterval(timer);\n",
       "        embed_document(root);\n",
       "      } else if (document.readyState == \"complete\") {\n",
       "        attempts++;\n",
       "        if (attempts > 200) {\n",
       "          clearInterval(timer);\n",
       "\t  var Bokeh = get_bokeh(root)\n",
       "\t  if (Bokeh == null || Bokeh.Panel == null) {\n",
       "            console.warn(\"Panel: ERROR: Unable to run Panel code because Bokeh or Panel library is missing\");\n",
       "\t  } else {\n",
       "\t    console.warn(\"Panel: WARNING: Attempting to render but not all required libraries could be resolved.\")\n",
       "\t    embed_document(root)\n",
       "\t  }\n",
       "        }\n",
       "      }\n",
       "    }, 25, root)\n",
       "  }\n",
       "})(window);</script>"
      ],
      "text/plain": [
       "Row\n",
       "    [0] HSpacer()\n",
       "    [1] Bokeh(figure)\n",
       "    [2] HSpacer()"
      ]
     },
     "execution_count": 8,
     "metadata": {
      "application/vnd.holoviews_exec.v0+json": {
       "id": "3c4872f5-abf3-4776-8d14-de88c8ffe3e1"
      }
     },
     "output_type": "execute_result"
    }
   ],
   "source": [
    "# Generating the data and subsampling\n",
    "x_all = np.linspace(0, 1, 100); x_plot = np.linspace(0, 1, 100)\n",
    "rng.shuffle(x_all); x = np.sort(x_all[:50])\n",
    "poly = np.poly1d([3,0,1])\n",
    "# Adding some external noise\n",
    "epsilon = np.random.uniform(-0.2,0.2,x.shape)\n",
    "y = poly(x)+ epsilon\n",
    "p = scatter(x, y, title=\"Learning problem with groundtruth\")\n",
    "p.line(x_plot, poly(x_plot), line_width=6, line_alpha=0.6, color=\"green\", legend_label=r\"True function\")\n",
    "plot = (center_plot(p))\n",
    "plot"
   ]
  },
  {
   "cell_type": "markdown",
   "metadata": {},
   "source": [
    "### Summarizing our observations (interactive)\n",
    "\n"
   ]
  },
  {
   "cell_type": "code",
   "execution_count": 10,
   "metadata": {},
   "outputs": [
    {
     "name": "stderr",
     "output_type": "stream",
     "text": [
      "BokehDeprecationWarning: 'circle() method with size value' was deprecated in Bokeh 3.4.0 and will be removed, use 'scatter(size=...) instead' instead.\n"
     ]
    },
    {
     "data": {},
     "metadata": {},
     "output_type": "display_data"
    },
    {
     "data": {
      "application/vnd.holoviews_exec.v0+json": "",
      "text/html": [
       "<div id='9998dd69-310e-4714-b7ae-a7ee744c6723'>\n",
       "  <div id=\"c48e38d2-b829-46fb-b3a5-8fcdaa7cd6ef\" data-root-id=\"9998dd69-310e-4714-b7ae-a7ee744c6723\" style=\"display: contents;\"></div>\n",
       "</div>\n",
       "<script type=\"application/javascript\">(function(root) {\n",
       "  var docs_json = {\"0509b70b-1e5b-4095-8614-527edabca8fe\":{\"version\":\"3.4.1\",\"title\":\"Bokeh Application\",\"roots\":[{\"type\":\"object\",\"name\":\"Row\",\"id\":\"9998dd69-310e-4714-b7ae-a7ee744c6723\",\"attributes\":{\"name\":\"Row00261\",\"stylesheets\":[\"\\n:host(.pn-loading):before, .pn-loading:before {\\n  background-color: #c3c3c3;\\n  mask-size: auto calc(min(50%, 400px));\\n  -webkit-mask-size: auto calc(min(50%, 400px));\\n}\",{\"type\":\"object\",\"name\":\"ImportedStyleSheet\",\"id\":\"4eb8e72a-6248-4c2b-9ade-215f58c8326b\",\"attributes\":{\"url\":\"https://cdn.holoviz.org/panel/1.4.1/dist/css/loading.css\"}},{\"type\":\"object\",\"name\":\"ImportedStyleSheet\",\"id\":\"fde4be0a-d3e8-4eaf-9235-24a5d79df420\",\"attributes\":{\"url\":\"cml/cml.css\"}},{\"type\":\"object\",\"name\":\"ImportedStyleSheet\",\"id\":\"826d16c9-2c86-49ec-a364-2ae1caf65215\",\"attributes\":{\"url\":\"https://cdn.holoviz.org/panel/1.4.1/dist/css/listpanel.css\"}},{\"type\":\"object\",\"name\":\"ImportedStyleSheet\",\"id\":\"4e98e3df-8d40-4922-bd68-4b01dd483eb6\",\"attributes\":{\"url\":\"https://cdn.holoviz.org/panel/1.4.1/dist/bundled/theme/default.css\"}},{\"type\":\"object\",\"name\":\"ImportedStyleSheet\",\"id\":\"1eae3cbb-2228-416b-822c-52fae909ab53\",\"attributes\":{\"url\":\"https://cdn.holoviz.org/panel/1.4.1/dist/bundled/theme/native.css\"}}],\"margin\":0,\"sizing_mode\":\"stretch_width\",\"align\":\"start\",\"children\":[{\"type\":\"object\",\"name\":\"Spacer\",\"id\":\"f9c54bdf-5579-4e58-9ed5-c2d355fe430a\",\"attributes\":{\"name\":\"HSpacer00230\",\"stylesheets\":[\"\\n:host(.pn-loading):before, .pn-loading:before {\\n  background-color: #c3c3c3;\\n  mask-size: auto calc(min(50%, 400px));\\n  -webkit-mask-size: auto calc(min(50%, 400px));\\n}\",{\"id\":\"4eb8e72a-6248-4c2b-9ade-215f58c8326b\"},{\"id\":\"fde4be0a-d3e8-4eaf-9235-24a5d79df420\"},{\"id\":\"4e98e3df-8d40-4922-bd68-4b01dd483eb6\"},{\"id\":\"1eae3cbb-2228-416b-822c-52fae909ab53\"}],\"margin\":0,\"sizing_mode\":\"stretch_width\",\"align\":\"start\"}},{\"type\":\"object\",\"name\":\"panel.models.layout.Column\",\"id\":\"76fd3a83-34fb-422a-804e-e63f7dd89ff6\",\"attributes\":{\"name\":\"Column00259\",\"stylesheets\":[\"\\n:host(.pn-loading):before, .pn-loading:before {\\n  background-color: #c3c3c3;\\n  mask-size: auto calc(min(50%, 400px));\\n  -webkit-mask-size: auto calc(min(50%, 400px));\\n}\",{\"id\":\"4eb8e72a-6248-4c2b-9ade-215f58c8326b\"},{\"id\":\"fde4be0a-d3e8-4eaf-9235-24a5d79df420\"},{\"id\":\"826d16c9-2c86-49ec-a364-2ae1caf65215\"},{\"id\":\"4e98e3df-8d40-4922-bd68-4b01dd483eb6\"},{\"id\":\"1eae3cbb-2228-416b-822c-52fae909ab53\"}],\"margin\":0,\"align\":\"start\",\"children\":[{\"type\":\"object\",\"name\":\"Row\",\"id\":\"a34533c4-ff24-47f0-943f-1029e76da000\",\"attributes\":{\"name\":\"Row00256\",\"stylesheets\":[\"\\n:host(.pn-loading):before, .pn-loading:before {\\n  background-color: #c3c3c3;\\n  mask-size: auto calc(min(50%, 400px));\\n  -webkit-mask-size: auto calc(min(50%, 400px));\\n}\",{\"id\":\"4eb8e72a-6248-4c2b-9ade-215f58c8326b\"},{\"id\":\"fde4be0a-d3e8-4eaf-9235-24a5d79df420\"},{\"id\":\"826d16c9-2c86-49ec-a364-2ae1caf65215\"},{\"id\":\"4e98e3df-8d40-4922-bd68-4b01dd483eb6\"},{\"id\":\"1eae3cbb-2228-416b-822c-52fae909ab53\"}],\"margin\":0,\"align\":\"start\",\"children\":[{\"type\":\"object\",\"name\":\"panel.models.layout.Column\",\"id\":\"b50e74a8-4c65-4837-b1ef-311ba6ad38e6\",\"attributes\":{\"name\":\"Problem parameters\",\"stylesheets\":[\"\\n:host(.pn-loading):before, .pn-loading:before {\\n  background-color: #c3c3c3;\\n  mask-size: auto calc(min(50%, 400px));\\n  -webkit-mask-size: auto calc(min(50%, 400px));\\n}\",{\"id\":\"4eb8e72a-6248-4c2b-9ade-215f58c8326b\"},{\"id\":\"fde4be0a-d3e8-4eaf-9235-24a5d79df420\"},{\"id\":\"826d16c9-2c86-49ec-a364-2ae1caf65215\"},{\"id\":\"4e98e3df-8d40-4922-bd68-4b01dd483eb6\"},{\"id\":\"1eae3cbb-2228-416b-822c-52fae909ab53\"}],\"margin\":[5,10],\"align\":\"start\",\"children\":[{\"type\":\"object\",\"name\":\"Div\",\"id\":\"cc2b50fa-4351-4d2a-841a-72c494d820a2\",\"attributes\":{\"stylesheets\":[\"\\n:host(.pn-loading):before, .pn-loading:before {\\n  background-color: #c3c3c3;\\n  mask-size: auto calc(min(50%, 400px));\\n  -webkit-mask-size: auto calc(min(50%, 400px));\\n}\",{\"id\":\"4eb8e72a-6248-4c2b-9ade-215f58c8326b\"},{\"id\":\"fde4be0a-d3e8-4eaf-9235-24a5d79df420\"},{\"id\":\"4e98e3df-8d40-4922-bd68-4b01dd483eb6\"},{\"id\":\"1eae3cbb-2228-416b-822c-52fae909ab53\"}],\"margin\":[5,10],\"align\":\"start\",\"text\":\"<b>Problem parameters</b>\"}},{\"type\":\"object\",\"name\":\"Slider\",\"id\":\"2509c5fd-0436-4233-8586-dab417aa76ee\",\"attributes\":{\"stylesheets\":[\"\\n:host(.pn-loading):before, .pn-loading:before {\\n  background-color: #c3c3c3;\\n  mask-size: auto calc(min(50%, 400px));\\n  -webkit-mask-size: auto calc(min(50%, 400px));\\n}\",{\"id\":\"4eb8e72a-6248-4c2b-9ade-215f58c8326b\"},{\"id\":\"fde4be0a-d3e8-4eaf-9235-24a5d79df420\"},{\"id\":\"4e98e3df-8d40-4922-bd68-4b01dd483eb6\"},{\"id\":\"1eae3cbb-2228-416b-822c-52fae909ab53\"}],\"margin\":[5,10],\"align\":\"start\",\"title\":\"Number observations\",\"start\":10,\"end\":1000,\"value\":100}},{\"type\":\"object\",\"name\":\"Slider\",\"id\":\"1eaafd92-b78d-42c1-ba3f-ae35b18b10b6\",\"attributes\":{\"stylesheets\":[\"\\n:host(.pn-loading):before, .pn-loading:before {\\n  background-color: #c3c3c3;\\n  mask-size: auto calc(min(50%, 400px));\\n  -webkit-mask-size: auto calc(min(50%, 400px));\\n}\",{\"id\":\"4eb8e72a-6248-4c2b-9ade-215f58c8326b\"},{\"id\":\"fde4be0a-d3e8-4eaf-9235-24a5d79df420\"},{\"id\":\"4e98e3df-8d40-4922-bd68-4b01dd483eb6\"},{\"id\":\"1eae3cbb-2228-416b-822c-52fae909ab53\"}],\"margin\":[5,10],\"align\":\"start\",\"title\":\"Noise level\",\"start\":0.0,\"end\":5.0,\"value\":0.1,\"step\":0.1}},{\"type\":\"object\",\"name\":\"Checkbox\",\"id\":\"318dbdbf-1556-45cd-93c0-c5ff9d858459\",\"attributes\":{\"stylesheets\":[\"\\n:host(.pn-loading):before, .pn-loading:before {\\n  background-color: #c3c3c3;\\n  mask-size: auto calc(min(50%, 400px));\\n  -webkit-mask-size: auto calc(min(50%, 400px));\\n}\",{\"id\":\"4eb8e72a-6248-4c2b-9ade-215f58c8326b\"},{\"id\":\"fde4be0a-d3e8-4eaf-9235-24a5d79df420\"},{\"id\":\"4e98e3df-8d40-4922-bd68-4b01dd483eb6\"},{\"id\":\"1eae3cbb-2228-416b-822c-52fae909ab53\"}],\"margin\":[5,10],\"align\":\"start\",\"label\":\"Ground truth\"}},{\"type\":\"object\",\"name\":\"Checkbox\",\"id\":\"cfb5d7ae-1bb1-47d5-a07b-57fa8891a934\",\"attributes\":{\"stylesheets\":[\"\\n:host(.pn-loading):before, .pn-loading:before {\\n  background-color: #c3c3c3;\\n  mask-size: auto calc(min(50%, 400px));\\n  -webkit-mask-size: auto calc(min(50%, 400px));\\n}\",{\"id\":\"4eb8e72a-6248-4c2b-9ade-215f58c8326b\"},{\"id\":\"fde4be0a-d3e8-4eaf-9235-24a5d79df420\"},{\"id\":\"4e98e3df-8d40-4922-bd68-4b01dd483eb6\"},{\"id\":\"1eae3cbb-2228-416b-822c-52fae909ab53\"}],\"margin\":[5,10],\"align\":\"start\",\"label\":\"Error\"}},{\"type\":\"object\",\"name\":\"Slider\",\"id\":\"8e986f4d-3a92-4e4e-b5c4-21095cb02ab1\",\"attributes\":{\"stylesheets\":[\"\\n:host(.pn-loading):before, .pn-loading:before {\\n  background-color: #c3c3c3;\\n  mask-size: auto calc(min(50%, 400px));\\n  -webkit-mask-size: auto calc(min(50%, 400px));\\n}\",{\"id\":\"4eb8e72a-6248-4c2b-9ade-215f58c8326b\"},{\"id\":\"fde4be0a-d3e8-4eaf-9235-24a5d79df420\"},{\"id\":\"4e98e3df-8d40-4922-bd68-4b01dd483eb6\"},{\"id\":\"1eae3cbb-2228-416b-822c-52fae909ab53\"}],\"margin\":[5,10],\"align\":\"start\",\"title\":\"X 2\",\"start\":-5.0,\"end\":5.0,\"value\":-2.0,\"step\":0.1}},{\"type\":\"object\",\"name\":\"Slider\",\"id\":\"07d855c3-41f8-4cb7-8536-80c8ee5eaa6a\",\"attributes\":{\"stylesheets\":[\"\\n:host(.pn-loading):before, .pn-loading:before {\\n  background-color: #c3c3c3;\\n  mask-size: auto calc(min(50%, 400px));\\n  -webkit-mask-size: auto calc(min(50%, 400px));\\n}\",{\"id\":\"4eb8e72a-6248-4c2b-9ade-215f58c8326b\"},{\"id\":\"fde4be0a-d3e8-4eaf-9235-24a5d79df420\"},{\"id\":\"4e98e3df-8d40-4922-bd68-4b01dd483eb6\"},{\"id\":\"1eae3cbb-2228-416b-822c-52fae909ab53\"}],\"margin\":[5,10],\"align\":\"start\",\"title\":\"X 1\",\"start\":-5.0,\"end\":5.0,\"value\":0.0,\"step\":0.1}},{\"type\":\"object\",\"name\":\"Slider\",\"id\":\"d72b264c-d7c5-438e-bc73-2590ceebed6a\",\"attributes\":{\"stylesheets\":[\"\\n:host(.pn-loading):before, .pn-loading:before {\\n  background-color: #c3c3c3;\\n  mask-size: auto calc(min(50%, 400px));\\n  -webkit-mask-size: auto calc(min(50%, 400px));\\n}\",{\"id\":\"4eb8e72a-6248-4c2b-9ade-215f58c8326b\"},{\"id\":\"fde4be0a-d3e8-4eaf-9235-24a5d79df420\"},{\"id\":\"4e98e3df-8d40-4922-bd68-4b01dd483eb6\"},{\"id\":\"1eae3cbb-2228-416b-822c-52fae909ab53\"}],\"margin\":[5,10],\"align\":\"start\",\"title\":\"X 0\",\"start\":-5.0,\"end\":5.0,\"value\":1.0,\"step\":0.1}}]}},{\"type\":\"object\",\"name\":\"panel.models.layout.Column\",\"id\":\"5142b85d-f7c3-48c0-b619-64d3c2fe531d\",\"attributes\":{\"name\":\"Column00253\",\"stylesheets\":[\"\\n:host(.pn-loading):before, .pn-loading:before {\\n  background-color: #c3c3c3;\\n  mask-size: auto calc(min(50%, 400px));\\n  -webkit-mask-size: auto calc(min(50%, 400px));\\n}\",{\"id\":\"4eb8e72a-6248-4c2b-9ade-215f58c8326b\"},{\"id\":\"fde4be0a-d3e8-4eaf-9235-24a5d79df420\"},{\"id\":\"826d16c9-2c86-49ec-a364-2ae1caf65215\"},{\"id\":\"4e98e3df-8d40-4922-bd68-4b01dd483eb6\"},{\"id\":\"1eae3cbb-2228-416b-822c-52fae909ab53\"}],\"margin\":0,\"align\":\"start\",\"children\":[{\"type\":\"object\",\"name\":\"Figure\",\"id\":\"efd7b3ee-3122-47e8-b166-2f80f0a4a2aa\",\"attributes\":{\"height\":450,\"x_range\":{\"type\":\"object\",\"name\":\"DataRange1d\",\"id\":\"db9dc4b8-6e61-4ea5-baa4-8d28458c9753\"},\"y_range\":{\"type\":\"object\",\"name\":\"DataRange1d\",\"id\":\"cf74f67b-9231-4335-93ba-f9289ffc1f4f\"},\"x_scale\":{\"type\":\"object\",\"name\":\"LinearScale\",\"id\":\"ef8a54fd-1560-407c-bc83-a4f0374ba5db\"},\"y_scale\":{\"type\":\"object\",\"name\":\"LinearScale\",\"id\":\"acf184fd-946c-46c3-9278-98d571049995\"},\"title\":{\"type\":\"object\",\"name\":\"Title\",\"id\":\"071609aa-39c7-4342-9d79-adc6b81dd560\",\"attributes\":{\"text\":\"Polynomial regression problem\",\"text_color\":\"#E0E0E0\",\"text_font\":\"Josefin Sans\",\"text_font_size\":\"2.1em\"}},\"outline_line_color\":\"#E0E0E0\",\"outline_line_alpha\":0.25,\"outline_line_width\":3,\"renderers\":[{\"type\":\"object\",\"name\":\"GlyphRenderer\",\"id\":\"6fea6781-f55e-405c-831b-a97f5163e8e6\",\"attributes\":{\"data_source\":{\"type\":\"object\",\"name\":\"ColumnDataSource\",\"id\":\"1686cdde-16d6-4fe4-8bfa-de25fe15582b\",\"attributes\":{\"selected\":{\"type\":\"object\",\"name\":\"Selection\",\"id\":\"4c8855f0-98ba-406c-8cd9-d5f526ee7f53\",\"attributes\":{\"indices\":[],\"line_indices\":[]}},\"selection_policy\":{\"type\":\"object\",\"name\":\"UnionRenderers\",\"id\":\"bce9a6bf-bbef-4a88-8cfd-5f44f78e9190\"},\"data\":{\"type\":\"map\",\"entries\":[[\"x\",{\"type\":\"ndarray\",\"array\":{\"type\":\"bytes\",\"data\":\"AAAAALV+JTy1fqU8ED74PLV+JT1i3k49ED54Pd7OkD21fqU9jC66PWLezj05juM9ED74PfN2Bj7ezhA+yiYbPrV+JT6g1i8+jC46PneGRD5i3k4+TjZZPjmOYz4k5m0+ED54Pv1KgT7zdoY+6aKLPt7OkD7U+pU+yiabPr9SoD61fqU+q6qqPqDWrz6WArU+jC66PoFavz53hsQ+bbLJPmLezj5YCtQ+TjbZPkNi3j45juM+L7roPiTm7T4aEvM+ED74PgVq/T79SgE/+OADP/N2Bj/uDAk/6aILP+Q4Dj/ezhA/2WQTP9T6FT/PkBg/yiYbP8W8HT+/UiA/uugiP7V+JT+wFCg/q6oqP6VALT+g1i8/m2wyP5YCNT+RmDc/jC46P4bEPD+BWj8/fPBBP3eGRD9yHEc/bbJJP2dITD9i3k4/XXRRP1gKVD9ToFY/TjZZP0jMWz9DYl4/PvhgPzmOYz80JGY/L7poPylQaz8k5m0/H3xwPxoScz8VqHU/ED54PwrUej8Fan0/AACAPw==\"},\"shape\":[100],\"dtype\":\"float32\",\"order\":\"little\"}],[\"y\",{\"type\":\"ndarray\",\"array\":{\"type\":\"bytes\",\"data\":\"9GeKP8hEhD9J8YI/nb+GP5jSgT8rrHc/95RxP7U0ZT9Bj4E/531lP6ZgiT/Er3w/1nptP+L5cD8ukm0/ybiDP3heeT8CR4E/HgV/PzXpWT9QcGg/Y21xP34deT9FUmY/iHdKP+mbVz9E40c/pjRGPzQ7Yj8SZk8/26RgP/6RSj+GuWA/OuE/P9YvVj/Q8Co/kuNCP588OT+hsSo/r5YdP6yPJD/fnBQ/+a0OP3mYHD9sPR0/jaoTP2plCz/fTBU/8Q0HP3UIFz97gBE/zm3PPooK6T6C0cU+GFejPtl20z5WiOs+4Lx1Pr/ewT5k5MY+9KOqPjY+gT7PEYo+Q6njPbOdNj4JCQo+UYotPuEGqT14J9+84khUvd6xW7w4Pji8WKg7vF+oK755pgG+iUsQvirXdr6QzkO+rKhTvj2Gk75qxZS+Lb2+vnck7L76S72+NbfrvkL54760Juu+aZABv16vH78pJg2/hQ8ov1ySGr+dkEO/y14wv3lxNb+7F1W/Z5Rov3RDd7+UqHO/j5uKvw==\"},\"shape\":[100],\"dtype\":\"float32\",\"order\":\"little\"}]]}}},\"view\":{\"type\":\"object\",\"name\":\"CDSView\",\"id\":\"8c5b8bd3-d042-41ff-b149-0c44a8bd2225\",\"attributes\":{\"filter\":{\"type\":\"object\",\"name\":\"AllIndices\",\"id\":\"b156142b-fa1d-4c4f-95f0-b2669ed5f7de\"}}},\"glyph\":{\"type\":\"object\",\"name\":\"Scatter\",\"id\":\"983921c6-9667-406d-98a2-eed837a4ed8b\",\"attributes\":{\"x\":{\"type\":\"field\",\"field\":\"x\"},\"y\":{\"type\":\"field\",\"field\":\"y\"},\"size\":{\"type\":\"value\",\"value\":10},\"line_color\":{\"type\":\"value\",\"value\":\"white\"},\"line_alpha\":{\"type\":\"value\",\"value\":0.25},\"fill_color\":{\"type\":\"value\",\"value\":\"midnightblue\"},\"fill_alpha\":{\"type\":\"value\",\"value\":0.25},\"hatch_alpha\":{\"type\":\"value\",\"value\":0.25}}},\"selection_glyph\":{\"type\":\"object\",\"name\":\"Circle\",\"id\":\"77ede764-7863-4b1f-b670-052f17d0e808\",\"attributes\":{\"line_color\":{\"type\":\"value\",\"value\":\"white\"},\"fill_color\":{\"type\":\"value\",\"value\":\"red\"},\"fill_alpha\":{\"type\":\"value\",\"value\":0.8}}},\"nonselection_glyph\":{\"type\":\"object\",\"name\":\"Circle\",\"id\":\"022c0bda-b5e6-4f4b-bdf3-5500d811379f\",\"attributes\":{\"line_color\":{\"type\":\"value\",\"value\":\"white\"},\"fill_color\":{\"type\":\"value\",\"value\":\"midnightblue\"},\"fill_alpha\":{\"type\":\"value\",\"value\":0.5}}},\"hover_glyph\":{\"type\":\"object\",\"name\":\"Scatter\",\"id\":\"9c3925f0-dd44-4e8d-a59b-84ef66d8beab\",\"attributes\":{\"x\":{\"type\":\"field\",\"field\":\"x\"},\"y\":{\"type\":\"field\",\"field\":\"y\"},\"size\":{\"type\":\"value\",\"value\":10},\"line_color\":{\"type\":\"value\",\"value\":\"white\"},\"line_alpha\":{\"type\":\"value\",\"value\":0.5},\"fill_color\":{\"type\":\"value\",\"value\":\"red\"},\"fill_alpha\":{\"type\":\"value\",\"value\":0.5},\"hatch_alpha\":{\"type\":\"value\",\"value\":0.5}}},\"muted_glyph\":{\"type\":\"object\",\"name\":\"Scatter\",\"id\":\"7f5dd505-83e2-4cbb-830b-782c8118a2d0\",\"attributes\":{\"x\":{\"type\":\"field\",\"field\":\"x\"},\"y\":{\"type\":\"field\",\"field\":\"y\"},\"size\":{\"type\":\"value\",\"value\":10},\"line_color\":{\"type\":\"value\",\"value\":\"white\"},\"line_alpha\":{\"type\":\"value\",\"value\":0.2},\"fill_color\":{\"type\":\"value\",\"value\":\"midnightblue\"},\"fill_alpha\":{\"type\":\"value\",\"value\":0.2},\"hatch_alpha\":{\"type\":\"value\",\"value\":0.2}}}}}],\"toolbar\":{\"type\":\"object\",\"name\":\"Toolbar\",\"id\":\"2f6b6f84-f1b3-4116-a78b-8856b99446ec\",\"attributes\":{\"tools\":[{\"type\":\"object\",\"name\":\"PanTool\",\"id\":\"1d4bc039-e198-4f94-95d3-5249b2bf0b41\"},{\"type\":\"object\",\"name\":\"WheelZoomTool\",\"id\":\"7a9d8bcf-64a5-43a1-9315-89745a2c4f33\",\"attributes\":{\"renderers\":\"auto\"}},{\"type\":\"object\",\"name\":\"BoxZoomTool\",\"id\":\"eef4bca2-71e0-41b7-824e-e69acb84039b\",\"attributes\":{\"overlay\":{\"type\":\"object\",\"name\":\"BoxAnnotation\",\"id\":\"0e89b0be-b3ac-47da-b4d2-efbbcca2198e\",\"attributes\":{\"syncable\":false,\"level\":\"overlay\",\"visible\":false,\"left\":{\"type\":\"number\",\"value\":\"nan\"},\"right\":{\"type\":\"number\",\"value\":\"nan\"},\"top\":{\"type\":\"number\",\"value\":\"nan\"},\"bottom\":{\"type\":\"number\",\"value\":\"nan\"},\"left_units\":\"canvas\",\"right_units\":\"canvas\",\"top_units\":\"canvas\",\"bottom_units\":\"canvas\",\"line_color\":\"black\",\"line_alpha\":1.0,\"line_width\":2,\"line_dash\":[4,4],\"fill_color\":\"lightgrey\",\"fill_alpha\":0.5}}}},{\"type\":\"object\",\"name\":\"SaveTool\",\"id\":\"bb216eee-ca0b-4875-be10-faf41263eae1\"},{\"type\":\"object\",\"name\":\"ResetTool\",\"id\":\"a6d05200-7dd7-4be4-b5bc-9407a06c1ad7\"},{\"type\":\"object\",\"name\":\"HelpTool\",\"id\":\"a2880ac9-4db6-46a2-84a3-18125b339d07\"},{\"type\":\"object\",\"name\":\"HoverTool\",\"id\":\"2166946a-206b-4fa8-86c5-ed51a5f11f12\",\"attributes\":{\"renderers\":[{\"id\":\"6fea6781-f55e-405c-831b-a97f5163e8e6\"}],\"tooltips\":null,\"mode\":\"vline\"}},{\"type\":\"object\",\"name\":\"BoxSelectTool\",\"id\":\"8eb12e25-975a-4aaf-8e93-1d353a8b6bdc\",\"attributes\":{\"renderers\":[{\"id\":\"6fea6781-f55e-405c-831b-a97f5163e8e6\"}],\"mode\":\"append\",\"overlay\":{\"type\":\"object\",\"name\":\"BoxAnnotation\",\"id\":\"852a9223-6b86-4cf3-834e-edd4a55d97f5\",\"attributes\":{\"syncable\":false,\"level\":\"overlay\",\"visible\":false,\"left\":{\"type\":\"number\",\"value\":\"nan\"},\"right\":{\"type\":\"number\",\"value\":\"nan\"},\"top\":{\"type\":\"number\",\"value\":\"nan\"},\"bottom\":{\"type\":\"number\",\"value\":\"nan\"},\"editable\":true,\"line_color\":\"black\",\"line_alpha\":1.0,\"line_width\":2,\"line_dash\":[4,4],\"fill_color\":\"lightgrey\",\"fill_alpha\":0.5}}}}]}},\"toolbar_location\":null,\"left\":[{\"type\":\"object\",\"name\":\"LinearAxis\",\"id\":\"2a971a11-be64-41ac-b568-40483d9b8e4f\",\"attributes\":{\"ticker\":{\"type\":\"object\",\"name\":\"BasicTicker\",\"id\":\"86a02449-e5a7-422a-8e83-1f84b9738ebd\",\"attributes\":{\"mantissas\":[1,2,5]}},\"formatter\":{\"type\":\"object\",\"name\":\"BasicTickFormatter\",\"id\":\"0d08fb7c-0748-4103-a69a-05455c91713f\"},\"axis_label\":\"$$\\\\color{white} -2.0x^2 + 0.0x^1 + 1.0x^0$$\",\"axis_label_standoff\":10,\"axis_label_text_color\":\"#FFFFFF\",\"axis_label_text_font\":\"Josefin Sans\",\"axis_label_text_font_size\":\"1.9em\",\"axis_label_text_font_style\":\"bold\",\"major_label_policy\":{\"type\":\"object\",\"name\":\"AllLabels\",\"id\":\"59882183-cc3e-47c5-ad15-a2c17fac7e68\"},\"major_label_text_color\":\"#E0E0E0\",\"major_label_text_font\":\"Josefin Sans\",\"major_label_text_font_size\":\"1.15em\",\"axis_line_color\":\"#E0E0E0\",\"axis_line_alpha\":0.4,\"major_tick_line_color\":\"#E0E0E0\",\"major_tick_line_alpha\":0.4,\"minor_tick_line_color\":\"#E0E0E0\",\"minor_tick_line_alpha\":0.4}}],\"below\":[{\"type\":\"object\",\"name\":\"LinearAxis\",\"id\":\"3966b105-172a-47ea-8914-47c125a6de74\",\"attributes\":{\"ticker\":{\"type\":\"object\",\"name\":\"BasicTicker\",\"id\":\"fbea8e76-472d-4188-b37f-e70dec5b0de7\",\"attributes\":{\"mantissas\":[1,2,5]}},\"formatter\":{\"type\":\"object\",\"name\":\"BasicTickFormatter\",\"id\":\"234a11ce-2a0f-4ebf-a504-4d9ac65b9a8e\"},\"axis_label\":\"$$\\\\color{white} x$$\",\"axis_label_standoff\":10,\"axis_label_text_color\":\"#FFFFFF\",\"axis_label_text_font\":\"Josefin Sans\",\"axis_label_text_font_size\":\"1.9em\",\"axis_label_text_font_style\":\"bold\",\"major_label_policy\":{\"type\":\"object\",\"name\":\"AllLabels\",\"id\":\"aef5c870-958b-4052-982e-7da418259bc5\"},\"major_label_text_color\":\"#E0E0E0\",\"major_label_text_font\":\"Josefin Sans\",\"major_label_text_font_size\":\"1.15em\",\"axis_line_color\":\"#E0E0E0\",\"axis_line_alpha\":0.4,\"major_tick_line_color\":\"#E0E0E0\",\"major_tick_line_alpha\":0.4,\"minor_tick_line_color\":\"#E0E0E0\",\"minor_tick_line_alpha\":0.4}}],\"center\":[{\"type\":\"object\",\"name\":\"Grid\",\"id\":\"2397439a-780d-499c-8e19-4431d32aaed3\",\"attributes\":{\"axis\":{\"id\":\"3966b105-172a-47ea-8914-47c125a6de74\"},\"grid_line_color\":\"#E0E0E0\",\"grid_line_alpha\":0.15}},{\"type\":\"object\",\"name\":\"Grid\",\"id\":\"efaa3232-843b-48a2-b998-122bd1b62704\",\"attributes\":{\"dimension\":1,\"axis\":{\"id\":\"2a971a11-be64-41ac-b568-40483d9b8e4f\"},\"grid_line_color\":\"#E0E0E0\",\"grid_line_alpha\":0.15}},{\"type\":\"object\",\"name\":\"Legend\",\"id\":\"23a74efe-a9f6-4241-bbe3-d6710cd45dcb\",\"attributes\":{\"border_line_alpha\":0.25,\"background_fill_color\":\"#505050\",\"background_fill_alpha\":0.25,\"label_text_color\":\"#E0E0E0\",\"label_text_font\":\"Josefin Sans\",\"label_text_font_size\":\"1.15em\",\"label_standoff\":8,\"spacing\":8,\"items\":[{\"type\":\"object\",\"name\":\"LegendItem\",\"id\":\"712d9120-7180-4a5e-b7bd-d6f3727fee2b\",\"attributes\":{\"label\":{\"type\":\"value\",\"value\":\"Observations\"},\"renderers\":[{\"id\":\"6fea6781-f55e-405c-831b-a97f5163e8e6\"}]}}]}}],\"background_fill_color\":\"#0f0f0f\",\"background_fill_alpha\":0.9,\"border_fill_color\":\"#111111\",\"border_fill_alpha\":0.8}}]}}]}},{\"type\":\"object\",\"name\":\"panel.models.ace.AcePlot\",\"id\":\"7d1ee22a-94d7-40ff-b1fa-756311d19cc2\",\"attributes\":{\"js_property_callbacks\":{\"type\":\"map\",\"entries\":[[\"change:readonly\",[{\"type\":\"object\",\"name\":\"CustomJS\",\"id\":\"7f6891e2-95d5-4424-9dc6-87f3fe437ca9\",\"attributes\":{\"tags\":[[2021364785872,[null,\"readonly\"],[null,\"disabled\"]]],\"args\":{\"type\":\"map\",\"entries\":[[\"bidirectional\",true],[\"properties\",{\"type\":\"map\",\"entries\":[[\"readonly\",\"disabled\"]]}],[\"source\",{\"id\":\"7d1ee22a-94d7-40ff-b1fa-756311d19cc2\"}],[\"target\",{\"id\":\"7d1ee22a-94d7-40ff-b1fa-756311d19cc2\"}]]},\"code\":\"\\n    var value = source['readonly'];\\n    value = value;\\n    value = value;\\n    try {\\n      var property = target.properties['disabled'];\\n      if (property !== undefined) { property.validate(value); }\\n    } catch(err) {\\n      console.log('WARNING: Could not set disabled on target, raised error: ' + err);\\n      return;\\n    }\\n    try {\\n      target['disabled'] = value;\\n    } catch(err) {\\n      console.log(err)\\n    }\\n    \"}}]],[\"change:disabled\",[{\"type\":\"object\",\"name\":\"CustomJS\",\"id\":\"c413492a-ff25-4434-868d-d073ccc2db56\",\"attributes\":{\"tags\":[[2021364785872,[null,\"readonly\"],[null,\"disabled\"]]],\"args\":{\"type\":\"map\",\"entries\":[[\"bidirectional\",true],[\"properties\",{\"type\":\"map\",\"entries\":[[\"readonly\",\"disabled\"]]}],[\"source\",{\"id\":\"7d1ee22a-94d7-40ff-b1fa-756311d19cc2\"}],[\"target\",{\"id\":\"7d1ee22a-94d7-40ff-b1fa-756311d19cc2\"}]]},\"code\":\"\\n    var value = source['disabled'];\\n    value = value;\\n    value = value;\\n    try {\\n      var property = target.properties['readonly'];\\n      if (property !== undefined) { property.validate(value); }\\n    } catch(err) {\\n      console.log('WARNING: Could not set readonly on target, raised error: ' + err);\\n      return;\\n    }\\n    try {\\n      target['readonly'] = value;\\n    } catch(err) {\\n      console.log(err)\\n    }\\n    \"}}]]]},\"stylesheets\":[\"\\n:host(.pn-loading):before, .pn-loading:before {\\n  background-color: #c3c3c3;\\n  mask-size: auto calc(min(50%, 400px));\\n  -webkit-mask-size: auto calc(min(50%, 400px));\\n}\",{\"id\":\"4eb8e72a-6248-4c2b-9ade-215f58c8326b\"},{\"id\":\"fde4be0a-d3e8-4eaf-9235-24a5d79df420\"},{\"id\":\"4e98e3df-8d40-4922-bd68-4b01dd483eb6\"},{\"id\":\"1eae3cbb-2228-416b-822c-52fae909ab53\"}],\"width\":640,\"height\":150,\"margin\":[5,10],\"sizing_mode\":\"fixed\",\"align\":\"start\",\"code\":\"def polynomial(\\n        coefficients: jnp.ndarray,\\n        n_observations: int = 100) -> [jnp.ndarray, jnp.ndarray]:\\n    x = jnp.linspace(0, 1, n_observations)\\n    y = jnp.polyval(coefficients, x)\\n    return x, \",\"theme\":\"chaos\",\"filename\":\"\",\"language\":\"python\"}}]}},{\"type\":\"object\",\"name\":\"Spacer\",\"id\":\"af12f9fa-9216-4d27-a7c2-c11a4f54e7fe\",\"attributes\":{\"name\":\"HSpacer00260\",\"stylesheets\":[\"\\n:host(.pn-loading):before, .pn-loading:before {\\n  background-color: #c3c3c3;\\n  mask-size: auto calc(min(50%, 400px));\\n  -webkit-mask-size: auto calc(min(50%, 400px));\\n}\",{\"id\":\"4eb8e72a-6248-4c2b-9ade-215f58c8326b\"},{\"id\":\"fde4be0a-d3e8-4eaf-9235-24a5d79df420\"},{\"id\":\"4e98e3df-8d40-4922-bd68-4b01dd483eb6\"},{\"id\":\"1eae3cbb-2228-416b-822c-52fae909ab53\"}],\"margin\":0,\"sizing_mode\":\"stretch_width\",\"align\":\"start\"}}]}},{\"type\":\"object\",\"name\":\"panel.models.comm_manager.CommManager\",\"id\":\"c32cd7e5-e067-4bcd-a3a7-21bdd672960a\",\"attributes\":{\"plot_id\":\"9998dd69-310e-4714-b7ae-a7ee744c6723\",\"comm_id\":\"be15bbad888b452282e3861073aacf1b\",\"client_comm_id\":\"1e92277d53ce4f9abec0dd49e008f727\"}}],\"defs\":[{\"type\":\"model\",\"name\":\"ReactiveHTML1\"},{\"type\":\"model\",\"name\":\"FlexBox1\",\"properties\":[{\"name\":\"align_content\",\"kind\":\"Any\",\"default\":\"flex-start\"},{\"name\":\"align_items\",\"kind\":\"Any\",\"default\":\"flex-start\"},{\"name\":\"flex_direction\",\"kind\":\"Any\",\"default\":\"row\"},{\"name\":\"flex_wrap\",\"kind\":\"Any\",\"default\":\"wrap\"},{\"name\":\"gap\",\"kind\":\"Any\",\"default\":\"\"},{\"name\":\"justify_content\",\"kind\":\"Any\",\"default\":\"flex-start\"}]},{\"type\":\"model\",\"name\":\"FloatPanel1\",\"properties\":[{\"name\":\"config\",\"kind\":\"Any\",\"default\":{\"type\":\"map\"}},{\"name\":\"contained\",\"kind\":\"Any\",\"default\":true},{\"name\":\"position\",\"kind\":\"Any\",\"default\":\"right-top\"},{\"name\":\"offsetx\",\"kind\":\"Any\",\"default\":null},{\"name\":\"offsety\",\"kind\":\"Any\",\"default\":null},{\"name\":\"theme\",\"kind\":\"Any\",\"default\":\"primary\"},{\"name\":\"status\",\"kind\":\"Any\",\"default\":\"normalized\"}]},{\"type\":\"model\",\"name\":\"GridStack1\",\"properties\":[{\"name\":\"mode\",\"kind\":\"Any\",\"default\":\"warn\"},{\"name\":\"ncols\",\"kind\":\"Any\",\"default\":null},{\"name\":\"nrows\",\"kind\":\"Any\",\"default\":null},{\"name\":\"allow_resize\",\"kind\":\"Any\",\"default\":true},{\"name\":\"allow_drag\",\"kind\":\"Any\",\"default\":true},{\"name\":\"state\",\"kind\":\"Any\",\"default\":[]}]},{\"type\":\"model\",\"name\":\"drag1\",\"properties\":[{\"name\":\"slider_width\",\"kind\":\"Any\",\"default\":5},{\"name\":\"slider_color\",\"kind\":\"Any\",\"default\":\"black\"},{\"name\":\"value\",\"kind\":\"Any\",\"default\":50}]},{\"type\":\"model\",\"name\":\"click1\",\"properties\":[{\"name\":\"terminal_output\",\"kind\":\"Any\",\"default\":\"\"},{\"name\":\"debug_name\",\"kind\":\"Any\",\"default\":\"\"},{\"name\":\"clears\",\"kind\":\"Any\",\"default\":0}]},{\"type\":\"model\",\"name\":\"FastWrapper1\",\"properties\":[{\"name\":\"object\",\"kind\":\"Any\",\"default\":null},{\"name\":\"style\",\"kind\":\"Any\",\"default\":null}]},{\"type\":\"model\",\"name\":\"NotificationAreaBase1\",\"properties\":[{\"name\":\"js_events\",\"kind\":\"Any\",\"default\":{\"type\":\"map\"}},{\"name\":\"position\",\"kind\":\"Any\",\"default\":\"bottom-right\"},{\"name\":\"_clear\",\"kind\":\"Any\",\"default\":0}]},{\"type\":\"model\",\"name\":\"NotificationArea1\",\"properties\":[{\"name\":\"js_events\",\"kind\":\"Any\",\"default\":{\"type\":\"map\"}},{\"name\":\"notifications\",\"kind\":\"Any\",\"default\":[]},{\"name\":\"position\",\"kind\":\"Any\",\"default\":\"bottom-right\"},{\"name\":\"_clear\",\"kind\":\"Any\",\"default\":0},{\"name\":\"types\",\"kind\":\"Any\",\"default\":[{\"type\":\"map\",\"entries\":[[\"type\",\"warning\"],[\"background\",\"#ffc107\"],[\"icon\",{\"type\":\"map\",\"entries\":[[\"className\",\"fas fa-exclamation-triangle\"],[\"tagName\",\"i\"],[\"color\",\"white\"]]}]]},{\"type\":\"map\",\"entries\":[[\"type\",\"info\"],[\"background\",\"#007bff\"],[\"icon\",{\"type\":\"map\",\"entries\":[[\"className\",\"fas fa-info-circle\"],[\"tagName\",\"i\"],[\"color\",\"white\"]]}]]}]}]},{\"type\":\"model\",\"name\":\"Notification\",\"properties\":[{\"name\":\"background\",\"kind\":\"Any\",\"default\":null},{\"name\":\"duration\",\"kind\":\"Any\",\"default\":3000},{\"name\":\"icon\",\"kind\":\"Any\",\"default\":null},{\"name\":\"message\",\"kind\":\"Any\",\"default\":\"\"},{\"name\":\"notification_type\",\"kind\":\"Any\",\"default\":null},{\"name\":\"_destroyed\",\"kind\":\"Any\",\"default\":false}]},{\"type\":\"model\",\"name\":\"TemplateActions1\",\"properties\":[{\"name\":\"open_modal\",\"kind\":\"Any\",\"default\":0},{\"name\":\"close_modal\",\"kind\":\"Any\",\"default\":0}]},{\"type\":\"model\",\"name\":\"BootstrapTemplateActions1\",\"properties\":[{\"name\":\"open_modal\",\"kind\":\"Any\",\"default\":0},{\"name\":\"close_modal\",\"kind\":\"Any\",\"default\":0}]},{\"type\":\"model\",\"name\":\"TemplateEditor1\",\"properties\":[{\"name\":\"layout\",\"kind\":\"Any\",\"default\":[]}]},{\"type\":\"model\",\"name\":\"MaterialTemplateActions1\",\"properties\":[{\"name\":\"open_modal\",\"kind\":\"Any\",\"default\":0},{\"name\":\"close_modal\",\"kind\":\"Any\",\"default\":0}]},{\"type\":\"model\",\"name\":\"copy_to_clipboard1\",\"properties\":[{\"name\":\"fill\",\"kind\":\"Any\",\"default\":\"none\"},{\"name\":\"value\",\"kind\":\"Any\",\"default\":null}]}]}};\n",
       "  var render_items = [{\"docid\":\"0509b70b-1e5b-4095-8614-527edabca8fe\",\"roots\":{\"9998dd69-310e-4714-b7ae-a7ee744c6723\":\"c48e38d2-b829-46fb-b3a5-8fcdaa7cd6ef\"},\"root_ids\":[\"9998dd69-310e-4714-b7ae-a7ee744c6723\"]}];\n",
       "  var docs = Object.values(docs_json)\n",
       "  if (!docs) {\n",
       "    return\n",
       "  }\n",
       "  const py_version = docs[0].version.replace('rc', '-rc.').replace('.dev', '-dev.')\n",
       "  function embed_document(root) {\n",
       "    var Bokeh = get_bokeh(root)\n",
       "    Bokeh.embed.embed_items_notebook(docs_json, render_items);\n",
       "    for (const render_item of render_items) {\n",
       "      for (const root_id of render_item.root_ids) {\n",
       "\tconst id_el = document.getElementById(root_id)\n",
       "\tif (id_el.children.length && (id_el.children[0].className === 'bk-root')) {\n",
       "\t  const root_el = id_el.children[0]\n",
       "\t  root_el.id = root_el.id + '-rendered'\n",
       "\t}\n",
       "      }\n",
       "    }\n",
       "  }\n",
       "  function get_bokeh(root) {\n",
       "    if (root.Bokeh === undefined) {\n",
       "      return null\n",
       "    } else if (root.Bokeh.version !== py_version) {\n",
       "      if (root.Bokeh.versions === undefined || !root.Bokeh.versions.has(py_version)) {\n",
       "\treturn null\n",
       "      }\n",
       "      return root.Bokeh.versions.get(py_version);\n",
       "    } else if (root.Bokeh.version === py_version) {\n",
       "      return root.Bokeh\n",
       "    }\n",
       "    return null\n",
       "  }\n",
       "  function is_loaded(root) {\n",
       "    var Bokeh = get_bokeh(root)\n",
       "    return (Bokeh != null && Bokeh.Panel !== undefined)\n",
       "  }\n",
       "  if (is_loaded(root)) {\n",
       "    embed_document(root);\n",
       "  } else {\n",
       "    var attempts = 0;\n",
       "    var timer = setInterval(function(root) {\n",
       "      if (is_loaded(root)) {\n",
       "        clearInterval(timer);\n",
       "        embed_document(root);\n",
       "      } else if (document.readyState == \"complete\") {\n",
       "        attempts++;\n",
       "        if (attempts > 200) {\n",
       "          clearInterval(timer);\n",
       "\t  var Bokeh = get_bokeh(root)\n",
       "\t  if (Bokeh == null || Bokeh.Panel == null) {\n",
       "            console.warn(\"Panel: ERROR: Unable to run Panel code because Bokeh or Panel library is missing\");\n",
       "\t  } else {\n",
       "\t    console.warn(\"Panel: WARNING: Attempting to render but not all required libraries could be resolved.\")\n",
       "\t    embed_document(root)\n",
       "\t  }\n",
       "        }\n",
       "      }\n",
       "    }, 25, root)\n",
       "  }\n",
       "})(window);</script>"
      ],
      "text/plain": [
       "Row\n",
       "    [0] HSpacer()\n",
       "    [1] Column\n",
       "        [0] Row\n",
       "            [0] Param(RegressionPolynomial, name='Problem parameters', widgets={})\n",
       "            [1] ParamMethod(method, _pane=Bokeh, defer_load=False)\n",
       "        [1] CodeEditor(height=150, language='python', sizing_mode='fixed', theme='chaos', value='def polynomial(\\n        ..., width=640)\n",
       "    [2] HSpacer()"
      ]
     },
     "execution_count": 10,
     "metadata": {
      "application/vnd.holoviews_exec.v0+json": {
       "id": "9998dd69-310e-4714-b7ae-a7ee744c6723"
      }
     },
     "output_type": "execute_result"
    }
   ],
   "source": [
    "from cml.tasks import RegressionPolynomial\n",
    "explorer = RegressionPolynomial()\n",
    "explorer.render()"
   ]
  },
  {
   "cell_type": "markdown",
   "metadata": {},
   "source": [
    "## Using learning libraries (`scikit-learn`)"
   ]
  },
  {
   "cell_type": "markdown",
   "metadata": {},
   "source": [
    "To get a first grip on what machine learning does, we will rely on the `scikit-learn` library. This contains already coded models and learning procedure, that will allow us to _learn_ the parameters of this unknown function.\n",
    "\n",
    "Here we already know that we want to use a `PolynomialFeatures` model to perfom `LinearRegression` and that this polynomial should be of degree 2."
   ]
  },
  {
   "cell_type": "code",
   "execution_count": 11,
   "metadata": {},
   "outputs": [],
   "source": [
    "from sklearn.linear_model import LinearRegression\n",
    "from sklearn.preprocessing import PolynomialFeatures\n",
    "from sklearn.pipeline import make_pipeline\n",
    "# Our data to fit\n",
    "X = x[:, np.newaxis]\n",
    "# Degree of our polynomial\n",
    "degree = 30;\n",
    "# Create our polynomial model for regression\n",
    "model = make_pipeline(PolynomialFeatures(degree), LinearRegression())\n",
    "# Fit the parameters of this model\n",
    "model.fit(X, y);"
   ]
  },
  {
   "cell_type": "markdown",
   "metadata": {},
   "source": [
    "Now that we have trained the model, we can perform _predictions_ from it, meaning that we can infer the output of the function at values that we did not observe originally."
   ]
  },
  {
   "cell_type": "code",
   "execution_count": 12,
   "metadata": {},
   "outputs": [
    {
     "name": "stdout",
     "output_type": "stream",
     "text": [
      "Model error : 0.07868871251674843\n"
     ]
    },
    {
     "name": "stderr",
     "output_type": "stream",
     "text": [
      "BokehDeprecationWarning: 'circle() method with size value' was deprecated in Bokeh 3.4.0 and will be removed, use 'scatter(size=...) instead' instead.\n"
     ]
    },
    {
     "data": {},
     "metadata": {},
     "output_type": "display_data"
    },
    {
     "data": {
      "application/vnd.holoviews_exec.v0+json": "",
      "text/html": [
       "<div id='30a8bb9f-5152-4645-8338-8928f1999977'>\n",
       "  <div id=\"bc39a86e-15d8-4abe-a6c7-128a2429f648\" data-root-id=\"30a8bb9f-5152-4645-8338-8928f1999977\" style=\"display: contents;\"></div>\n",
       "</div>\n",
       "<script type=\"application/javascript\">(function(root) {\n",
       "  var docs_json = {\"ed6bcef5-72e1-4c78-8882-befd85098e21\":{\"version\":\"3.4.1\",\"title\":\"Bokeh Application\",\"roots\":[{\"type\":\"object\",\"name\":\"Row\",\"id\":\"30a8bb9f-5152-4645-8338-8928f1999977\",\"attributes\":{\"name\":\"Row00284\",\"stylesheets\":[\"\\n:host(.pn-loading):before, .pn-loading:before {\\n  background-color: #c3c3c3;\\n  mask-size: auto calc(min(50%, 400px));\\n  -webkit-mask-size: auto calc(min(50%, 400px));\\n}\",{\"type\":\"object\",\"name\":\"ImportedStyleSheet\",\"id\":\"0fcf8892-b9d3-41bd-9818-9ac2cc985754\",\"attributes\":{\"url\":\"https://cdn.holoviz.org/panel/1.4.1/dist/css/loading.css\"}},{\"type\":\"object\",\"name\":\"ImportedStyleSheet\",\"id\":\"9c05b2f8-72f7-4500-a702-987a62cfbe28\",\"attributes\":{\"url\":\"cml/cml.css\"}},{\"type\":\"object\",\"name\":\"ImportedStyleSheet\",\"id\":\"cadee2f5-4b65-482f-829e-b2fcd5d96b28\",\"attributes\":{\"url\":\"https://cdn.holoviz.org/panel/1.4.1/dist/css/listpanel.css\"}},{\"type\":\"object\",\"name\":\"ImportedStyleSheet\",\"id\":\"0e455769-5679-4074-98ed-b26869e4272d\",\"attributes\":{\"url\":\"https://cdn.holoviz.org/panel/1.4.1/dist/bundled/theme/default.css\"}},{\"type\":\"object\",\"name\":\"ImportedStyleSheet\",\"id\":\"eea0da4b-a47e-47a5-952d-d0bd29fb1031\",\"attributes\":{\"url\":\"https://cdn.holoviz.org/panel/1.4.1/dist/bundled/theme/native.css\"}}],\"min_width\":600,\"margin\":0,\"sizing_mode\":\"stretch_width\",\"align\":\"start\",\"children\":[{\"type\":\"object\",\"name\":\"Spacer\",\"id\":\"efa40411-473c-46f3-83fa-e5d95cc014ee\",\"attributes\":{\"name\":\"HSpacer00280\",\"stylesheets\":[\"\\n:host(.pn-loading):before, .pn-loading:before {\\n  background-color: #c3c3c3;\\n  mask-size: auto calc(min(50%, 400px));\\n  -webkit-mask-size: auto calc(min(50%, 400px));\\n}\",{\"id\":\"0fcf8892-b9d3-41bd-9818-9ac2cc985754\"},{\"id\":\"9c05b2f8-72f7-4500-a702-987a62cfbe28\"},{\"id\":\"0e455769-5679-4074-98ed-b26869e4272d\"},{\"id\":\"eea0da4b-a47e-47a5-952d-d0bd29fb1031\"}],\"margin\":0,\"sizing_mode\":\"stretch_width\",\"align\":\"start\"}},{\"type\":\"object\",\"name\":\"Figure\",\"id\":\"8a62ef95-bcde-4c08-a3ce-eef872e6c241\",\"attributes\":{\"height\":450,\"x_range\":{\"type\":\"object\",\"name\":\"DataRange1d\",\"id\":\"c8987bc9-77e9-4020-94cb-bf7734914ca5\"},\"y_range\":{\"type\":\"object\",\"name\":\"DataRange1d\",\"id\":\"eeba8555-dbcc-4f2e-a140-984f204ed96c\"},\"x_scale\":{\"type\":\"object\",\"name\":\"LinearScale\",\"id\":\"1aa19674-d9a4-4693-a4b2-a542410b5245\"},\"y_scale\":{\"type\":\"object\",\"name\":\"LinearScale\",\"id\":\"fde3f99c-e5f8-4f24-a2fa-b2419d92ec20\"},\"title\":{\"type\":\"object\",\"name\":\"Title\",\"id\":\"95de1cf0-28ea-4c63-911a-63bae7d5f344\",\"attributes\":{\"text\":\"Training a scikit-learn model\",\"text_color\":\"#E0E0E0\",\"text_font\":\"Josefin Sans\",\"text_font_size\":\"2.1em\"}},\"outline_line_color\":\"#E0E0E0\",\"outline_line_alpha\":0.25,\"outline_line_width\":3,\"renderers\":[{\"type\":\"object\",\"name\":\"GlyphRenderer\",\"id\":\"ed80ee5d-33df-4a82-be1a-d0ef33ee17c4\",\"attributes\":{\"data_source\":{\"type\":\"object\",\"name\":\"ColumnDataSource\",\"id\":\"1be8ffd4-94c1-4e04-99b9-a79592d56dbc\",\"attributes\":{\"selected\":{\"type\":\"object\",\"name\":\"Selection\",\"id\":\"7f60a629-badc-4e16-b8d0-6337a12b4c6c\",\"attributes\":{\"indices\":[],\"line_indices\":[]}},\"selection_policy\":{\"type\":\"object\",\"name\":\"UnionRenderers\",\"id\":\"7d679a16-24c5-4d5c-90e6-d3967a1941b9\"},\"data\":{\"type\":\"map\",\"entries\":[[\"x\",{\"type\":\"ndarray\",\"array\":{\"type\":\"bytes\",\"data\":\"W79SoNavlD8yb2dIzNu5P2WTTTbZZMM/UetXCtT6xT88Q2LezpDIPxPzdobEvM0/ejtDYt7O0D910UUXXXTRP2ApUOtXCtQ/W79SoNav1D9WVVVVVVXVP1HrVwrU+tU/TIFav1Kg1j9GF1100UXXPzxDYt7OkNg/N9lkk0022T8yb2dIzNvZPy0Fav1Kgdo/HcdxHMdx3D8YXXTRRRfdPxPzdobEvN0/CB988MEH3z998MEHH3zgP3o7Q2LezuA/d4bEvJ0h4T910UUXXXThP3BnSMzbGeI/aEjM2xkS4z9gKVDrVwrkP1gK1PqVAuU/U6DWrxSo5T9ONtlkk03mP0Ri3s6QmOc/OY7jOI7j6D832WSTTTbpPzJvZ0jM2+k/L7rooosu6j8tBWr9SoHqPypQ61cK1Oo/J5tssskm6z8iMW9nSMzrPx3HcRzHcew/Faj1KwVq7T8T83aGxLztPxA++OCDD+4/Dol5O0Ni7j8L1PqVArXuPwZq/UqBWu8/A7V+pUCt7z8AAAAAAADwPw==\"},\"shape\":[50],\"dtype\":\"float64\",\"order\":\"little\"}],[\"y\",{\"type\":\"ndarray\",\"array\":{\"type\":\"bytes\",\"data\":\"9htkCveO6z+ma9PV+n3tP/UwPkgPC+8/Fhoo2idx8z+2lImjgdL0P8DYNYw9j/Q/Qz3RCT1s9T+xF6zPzi/xP1kwzqbinPQ/Az+vpAdi9T+dah38ZUTyP4Xw1TexAvQ/wmFZWN/29T8eGJ4HFMT4P2C8mHRsdPQ/rgfvLPAs9j8SKS6Xner6P9NQINpm4vY//3pBn56U+D/YmlvkFsr3P/ECgJ+fX/c/rUavoVSm+D87Bkc2hQb7Pw4yF+GXDv4/mlN+YGTl/T8i5fFtaGL8P5I9uzueg/4/8lL5P9Re/j8WcFNjkvv/P0tbhsu3EQJAopFeG0WPAkD/tY9xZSkEQMxPk/X2DgVA62XnIkzaBUAET7Z2YzoIQL+IeWNObQhAv1DtSZM7CEBzU1IizLMHQHejVGMkRQpAELWm4JDYCECzKrnLoZoJQAgiSC8NRwtAAD0dhD6mC0B5gfq0BPsMQP8sOpSiaQ1AbLWwSaAlDUA1jomPh/QMQNG4KdEZJhBANVM/xRDlD0DSwQ5nyhwQQA==\"},\"shape\":[50],\"dtype\":\"float64\",\"order\":\"little\"}]]}}},\"view\":{\"type\":\"object\",\"name\":\"CDSView\",\"id\":\"33723220-7e68-40f9-9d95-713f4ebb1a46\",\"attributes\":{\"filter\":{\"type\":\"object\",\"name\":\"AllIndices\",\"id\":\"0f193ca9-a4a2-4f9b-9e86-f75958e3bcbe\"}}},\"glyph\":{\"type\":\"object\",\"name\":\"Scatter\",\"id\":\"ac8f2ecd-7a77-4ed7-bfa0-cc555eeeda7d\",\"attributes\":{\"x\":{\"type\":\"field\",\"field\":\"x\"},\"y\":{\"type\":\"field\",\"field\":\"y\"},\"size\":{\"type\":\"value\",\"value\":10},\"line_color\":{\"type\":\"value\",\"value\":\"white\"},\"line_alpha\":{\"type\":\"value\",\"value\":0.25},\"fill_color\":{\"type\":\"value\",\"value\":\"midnightblue\"},\"fill_alpha\":{\"type\":\"value\",\"value\":0.25},\"hatch_alpha\":{\"type\":\"value\",\"value\":0.25}}},\"selection_glyph\":{\"type\":\"object\",\"name\":\"Circle\",\"id\":\"1cd6513b-da91-430c-af67-c88172d3a3e6\",\"attributes\":{\"line_color\":{\"type\":\"value\",\"value\":\"white\"},\"fill_color\":{\"type\":\"value\",\"value\":\"red\"},\"fill_alpha\":{\"type\":\"value\",\"value\":0.8}}},\"nonselection_glyph\":{\"type\":\"object\",\"name\":\"Circle\",\"id\":\"8ee15e41-8cac-4d65-847c-47d4a045b17e\",\"attributes\":{\"line_color\":{\"type\":\"value\",\"value\":\"white\"},\"fill_color\":{\"type\":\"value\",\"value\":\"midnightblue\"},\"fill_alpha\":{\"type\":\"value\",\"value\":0.5}}},\"hover_glyph\":{\"type\":\"object\",\"name\":\"Scatter\",\"id\":\"dbe93222-293f-4ff0-900b-78704d5e7a24\",\"attributes\":{\"x\":{\"type\":\"field\",\"field\":\"x\"},\"y\":{\"type\":\"field\",\"field\":\"y\"},\"size\":{\"type\":\"value\",\"value\":10},\"line_color\":{\"type\":\"value\",\"value\":\"white\"},\"line_alpha\":{\"type\":\"value\",\"value\":0.5},\"fill_color\":{\"type\":\"value\",\"value\":\"red\"},\"fill_alpha\":{\"type\":\"value\",\"value\":0.5},\"hatch_alpha\":{\"type\":\"value\",\"value\":0.5}}},\"muted_glyph\":{\"type\":\"object\",\"name\":\"Scatter\",\"id\":\"a9201714-5470-40b4-908e-1e1a8a4d2032\",\"attributes\":{\"x\":{\"type\":\"field\",\"field\":\"x\"},\"y\":{\"type\":\"field\",\"field\":\"y\"},\"size\":{\"type\":\"value\",\"value\":10},\"line_color\":{\"type\":\"value\",\"value\":\"white\"},\"line_alpha\":{\"type\":\"value\",\"value\":0.2},\"fill_color\":{\"type\":\"value\",\"value\":\"midnightblue\"},\"fill_alpha\":{\"type\":\"value\",\"value\":0.2},\"hatch_alpha\":{\"type\":\"value\",\"value\":0.2}}}}},{\"type\":\"object\",\"name\":\"GlyphRenderer\",\"id\":\"cb9bbadc-83be-4d5a-a4c6-f126d3738b01\",\"attributes\":{\"data_source\":{\"type\":\"object\",\"name\":\"ColumnDataSource\",\"id\":\"2301d301-5f7d-4568-9078-24104dbc62a2\",\"attributes\":{\"selected\":{\"type\":\"object\",\"name\":\"Selection\",\"id\":\"27eb25ce-f5e5-4f04-80db-8abe2e29cc55\",\"attributes\":{\"indices\":[],\"line_indices\":[]}},\"selection_policy\":{\"type\":\"object\",\"name\":\"UnionRenderers\",\"id\":\"0ceeb498-a0c9-4a8f-af39-5e5b21ca8ffa\"},\"data\":{\"type\":\"map\",\"entries\":[[\"x\",{\"type\":\"ndarray\",\"array\":{\"type\":\"bytes\",\"data\":\"AAAAAAAAAABbv1Kg1q+EP1u/UqDWr5Q/CB988MEHnz9bv1Kg1q+kPzJvZ0jM26k/CB988MEHrz9wZ0jM2xmyP1u/UqDWr7Q/RhdddNFFtz8yb2dIzNu5Px3HcRzHcbw/CB988MEHvz96O0Ni3s7AP3BnSMzbGcI/ZZNNNtlkwz9bv1Kg1q/EP1HrVwrU+sU/RhdddNFFxz88Q2LezpDIPzJvZ0jM28k/J5tssskmyz8dx3Ecx3HMPxPzdobEvM0/CB988MEHzz9/pUCtXynQP3o7Q2LeztA/ddFFF1100T9wZ0jM2xnSP2r9SoFav9I/ZZNNNtlk0z9gKVDrVwrUP1u/UqDWr9Q/VlVVVVVV1T9R61cK1PrVP0yBWr9SoNY/RhdddNFF1z9BrV8pUOvXPzxDYt7OkNg/N9lkk0022T8yb2dIzNvZPy0Fav1Kgdo/J5tssskm2z8iMW9nSMzbPx3HcRzHcdw/GF100UUX3T8T83aGxLzdPw6JeTtDYt4/CB988MEH3z8DtX6lQK3fP3+lQK1fKeA/ffDBBx984D96O0Ni3s7gP3eGxLydIeE/ddFFF1104T9yHMdxHMfhP3BnSMzbGeI/bbLJJpts4j9q/UqBWr/iP2hIzNsZEuM/ZZNNNtlk4z9j3s6QmLfjP2ApUOtXCuQ/XnTRRRdd5D9bv1Kg1q/kP1gK1PqVAuU/VlVVVVVV5T9ToNavFKjlP1HrVwrU+uU/TjbZZJNN5j9MgVq/UqDmP0nM2xkS8+Y/RhdddNFF5z9EYt7OkJjnP0GtXylQ6+c/P/jggw8+6D88Q2LezpDoPzmO4ziO4+g/N9lkk0026T80JObtDInpPzJvZ0jM2+k/L7rooosu6j8tBWr9SoHqPypQ61cK1Oo/J5tssskm6z8l5u0MiXnrPyIxb2dIzOs/IHzwwQcf7D8dx3Ecx3HsPxsS83aGxOw/GF100UUX7T8VqPUrBWrtPxPzdobEvO0/ED744IMP7j8OiXk7Q2LuPwvU+pUCte4/CB988MEH7z8Gav1KgVrvPwO1fqVAre8/AAAAAAAA8D8=\"},\"shape\":[100],\"dtype\":\"float64\",\"order\":\"little\"}],[\"y\",{\"type\":\"ndarray\",\"array\":{\"type\":\"bytes\",\"data\":\"AAAAAAAA8D8MJLz1QAHwPy6Q8NYDBfA/aESdo0gL8D+6QMJbDxTwPyKFX/9XH/A/ohF1jiIt8D845gIJbz3wP+YCCW89UPA/q2eHwI1l8D+IFH79X33wP3sJ7SW0l/A/hkbUOYq08D+oyzM54tPwP+GYCyS89fA/Ma5b+hca8T+ZCyS89UDxPxixZGlVavE/rZ4dAjeW8T9b1E6GmsTxPx9S+PV/9fE/+hcaUeco8j/tJbSX0F7yP/d7xsk7l/I/GBpR5yjS8j9QAFTwlw/zP6Auz+SIT/M/B6XCxPuR8z+EYy6Q8NbzPxlqEkdnHvQ/xrhu6V9o9D+JT0N32rT0P2QukPDWA/U/VlVVVVVV9T9fxJKlVan1P397SOHX//U/tnp2CNxY9j8FwhwbYrT2P2tROxlqEvc/6CjSAvRy9z98SOHX/9X3PyiwaJiNO/g/6l9oRJ2j+D/EV+DbLg75P7SX0F5Ce/k/vR85zdfq+T/c7xkn71z6PxIIc2yI0fo/YGhEnaNI+z/FEI65QML7P0EBUMFfPvw/1jmKtAC9/D+AujyTIz79P0CDZ13Iwf0/GpQKE+9H/j8K7SW0l9D+PxKOuUDCW/8/MHfFuG7p/z8y1CSOzjwAQNoQo7UmhgBAi3Hd0r/QAEBJ9tPlmRwBQBKfhu60aQFA6Gv17BC4AUDIXCDhrQcCQLNxB8uLWAJAq6qqqqqqAkCuBwqACv4CQL6IJUurUgNA1y39C42oA0D+9pDCr/8DQDDk4G4TWARAbPXsELixBEC2KrWonQwFQAqEOTbEaAVAagF6uSvGBUDWonYy1CQGQExoL6G9hAZA0FGkBejlBkBeX9VfU0gHQPiQwq//qwdAneZr9ewQCEBPYNEwG3cIQAz+8mGK3ghA07/QiDpHCUCopWqlK7EJQIevwLddHApAc93Sv9CICkBpL6G9hPYKQGylK7F5ZQtAej9ymq/VC0CT/XR5JkcMQLjfM07euQxA6eWuGNctDUAlEObYEKMNQG1e2Y6LGQ5AwNCIOkeRDkAgZ/TbQwoPQIohHHOBhA9AAAAAAAAAEEA=\"},\"shape\":[100],\"dtype\":\"float64\",\"order\":\"little\"}]]}}},\"view\":{\"type\":\"object\",\"name\":\"CDSView\",\"id\":\"14f9c655-79db-448a-b2e8-e872de2941d5\",\"attributes\":{\"filter\":{\"type\":\"object\",\"name\":\"AllIndices\",\"id\":\"2ad51d8f-8263-4851-b74a-e4ce5995d519\"}}},\"glyph\":{\"type\":\"object\",\"name\":\"Line\",\"id\":\"ec53b441-b78e-485a-b487-c94b0831cfad\",\"attributes\":{\"x\":{\"type\":\"field\",\"field\":\"x\"},\"y\":{\"type\":\"field\",\"field\":\"y\"},\"line_color\":\"red\",\"line_alpha\":0.6,\"line_width\":6}},\"nonselection_glyph\":{\"type\":\"object\",\"name\":\"Line\",\"id\":\"9c8b8c8b-adac-4901-81e3-9257e6163dfc\",\"attributes\":{\"x\":{\"type\":\"field\",\"field\":\"x\"},\"y\":{\"type\":\"field\",\"field\":\"y\"},\"line_color\":\"red\",\"line_alpha\":0.1,\"line_width\":6}},\"muted_glyph\":{\"type\":\"object\",\"name\":\"Line\",\"id\":\"1d2fe791-c9de-4876-a02d-9cf8af35f20f\",\"attributes\":{\"x\":{\"type\":\"field\",\"field\":\"x\"},\"y\":{\"type\":\"field\",\"field\":\"y\"},\"line_color\":\"red\",\"line_alpha\":0.2,\"line_width\":6}}}}],\"toolbar\":{\"type\":\"object\",\"name\":\"Toolbar\",\"id\":\"dba8dcfb-eecc-48fc-9e99-15ea8c14cfd9\",\"attributes\":{\"tools\":[{\"type\":\"object\",\"name\":\"PanTool\",\"id\":\"6099425e-6514-4dbb-9eda-375fe329ab7e\"},{\"type\":\"object\",\"name\":\"WheelZoomTool\",\"id\":\"f89410e0-5622-4c90-bdc9-ca5a3c39bb82\",\"attributes\":{\"renderers\":\"auto\"}},{\"type\":\"object\",\"name\":\"BoxZoomTool\",\"id\":\"072f6aad-7a5c-4903-a5da-59b94440960a\",\"attributes\":{\"overlay\":{\"type\":\"object\",\"name\":\"BoxAnnotation\",\"id\":\"c0833343-530d-4fef-a336-d337b775cc76\",\"attributes\":{\"syncable\":false,\"level\":\"overlay\",\"visible\":false,\"left\":{\"type\":\"number\",\"value\":\"nan\"},\"right\":{\"type\":\"number\",\"value\":\"nan\"},\"top\":{\"type\":\"number\",\"value\":\"nan\"},\"bottom\":{\"type\":\"number\",\"value\":\"nan\"},\"left_units\":\"canvas\",\"right_units\":\"canvas\",\"top_units\":\"canvas\",\"bottom_units\":\"canvas\",\"line_color\":\"black\",\"line_alpha\":1.0,\"line_width\":2,\"line_dash\":[4,4],\"fill_color\":\"lightgrey\",\"fill_alpha\":0.5}}}},{\"type\":\"object\",\"name\":\"SaveTool\",\"id\":\"daa80ed0-dc94-47c5-961d-e6717474ebc6\"},{\"type\":\"object\",\"name\":\"ResetTool\",\"id\":\"1e545a81-885e-41bb-8c33-40d3d6c4dcf7\"},{\"type\":\"object\",\"name\":\"HelpTool\",\"id\":\"1ff0017c-ef5f-4532-8f73-13c6866eedd9\"},{\"type\":\"object\",\"name\":\"HoverTool\",\"id\":\"53519b33-c589-4470-b2a1-56e207659da7\",\"attributes\":{\"renderers\":[{\"id\":\"ed80ee5d-33df-4a82-be1a-d0ef33ee17c4\"}],\"tooltips\":null,\"mode\":\"vline\"}},{\"type\":\"object\",\"name\":\"BoxSelectTool\",\"id\":\"594164f8-0bbf-45ef-9147-cc69306dc334\",\"attributes\":{\"renderers\":[{\"id\":\"ed80ee5d-33df-4a82-be1a-d0ef33ee17c4\"}],\"mode\":\"append\",\"overlay\":{\"type\":\"object\",\"name\":\"BoxAnnotation\",\"id\":\"ec8a6518-7acc-4695-9cde-3a9f90160e66\",\"attributes\":{\"syncable\":false,\"level\":\"overlay\",\"visible\":false,\"left\":{\"type\":\"number\",\"value\":\"nan\"},\"right\":{\"type\":\"number\",\"value\":\"nan\"},\"top\":{\"type\":\"number\",\"value\":\"nan\"},\"bottom\":{\"type\":\"number\",\"value\":\"nan\"},\"editable\":true,\"line_color\":\"black\",\"line_alpha\":1.0,\"line_width\":2,\"line_dash\":[4,4],\"fill_color\":\"lightgrey\",\"fill_alpha\":0.5}}}}]}},\"toolbar_location\":null,\"left\":[{\"type\":\"object\",\"name\":\"LinearAxis\",\"id\":\"ae5a930f-a713-4016-bc7f-5bba32cff1e4\",\"attributes\":{\"ticker\":{\"type\":\"object\",\"name\":\"BasicTicker\",\"id\":\"dbb393ed-23ba-4b94-b2b8-d12f5c1f7418\",\"attributes\":{\"mantissas\":[1,2,5]}},\"formatter\":{\"type\":\"object\",\"name\":\"BasicTickFormatter\",\"id\":\"729d88e6-6008-43a6-828c-5e66bc808ea2\"},\"axis_label\":\"y\",\"axis_label_standoff\":10,\"axis_label_text_color\":\"#FFFFFF\",\"axis_label_text_font\":\"Josefin Sans\",\"axis_label_text_font_size\":\"1.9em\",\"axis_label_text_font_style\":\"bold\",\"major_label_policy\":{\"type\":\"object\",\"name\":\"AllLabels\",\"id\":\"b3ef0820-58a5-47f6-970c-cc41a9fc5533\"},\"major_label_text_color\":\"#E0E0E0\",\"major_label_text_font\":\"Josefin Sans\",\"major_label_text_font_size\":\"1.15em\",\"axis_line_color\":\"#E0E0E0\",\"axis_line_alpha\":0.4,\"major_tick_line_color\":\"#E0E0E0\",\"major_tick_line_alpha\":0.4,\"minor_tick_line_color\":\"#E0E0E0\",\"minor_tick_line_alpha\":0.4}}],\"below\":[{\"type\":\"object\",\"name\":\"LinearAxis\",\"id\":\"d58fd417-98f5-4410-a005-ac46d6c83938\",\"attributes\":{\"ticker\":{\"type\":\"object\",\"name\":\"BasicTicker\",\"id\":\"672e6a37-48db-4047-8604-e293bcc93d40\",\"attributes\":{\"mantissas\":[1,2,5]}},\"formatter\":{\"type\":\"object\",\"name\":\"BasicTickFormatter\",\"id\":\"8ae12bcc-88f8-46dc-abe0-0ddb5bea190e\"},\"axis_label\":\"x\",\"axis_label_standoff\":10,\"axis_label_text_color\":\"#FFFFFF\",\"axis_label_text_font\":\"Josefin Sans\",\"axis_label_text_font_size\":\"1.9em\",\"axis_label_text_font_style\":\"bold\",\"major_label_policy\":{\"type\":\"object\",\"name\":\"AllLabels\",\"id\":\"376f957e-abd5-4edb-ad38-2e3718084a5d\"},\"major_label_text_color\":\"#E0E0E0\",\"major_label_text_font\":\"Josefin Sans\",\"major_label_text_font_size\":\"1.15em\",\"axis_line_color\":\"#E0E0E0\",\"axis_line_alpha\":0.4,\"major_tick_line_color\":\"#E0E0E0\",\"major_tick_line_alpha\":0.4,\"minor_tick_line_color\":\"#E0E0E0\",\"minor_tick_line_alpha\":0.4}}],\"center\":[{\"type\":\"object\",\"name\":\"Grid\",\"id\":\"dc528112-b797-4446-9fed-ad8f09103d2d\",\"attributes\":{\"axis\":{\"id\":\"d58fd417-98f5-4410-a005-ac46d6c83938\"},\"grid_line_color\":\"#E0E0E0\",\"grid_line_alpha\":0.15}},{\"type\":\"object\",\"name\":\"Grid\",\"id\":\"cfbbcc77-45e6-40dd-8193-c0030262f569\",\"attributes\":{\"dimension\":1,\"axis\":{\"id\":\"ae5a930f-a713-4016-bc7f-5bba32cff1e4\"},\"grid_line_color\":\"#E0E0E0\",\"grid_line_alpha\":0.15}},{\"type\":\"object\",\"name\":\"Legend\",\"id\":\"94be1481-57ae-4669-8374-73777f7bc3df\",\"attributes\":{\"border_line_alpha\":0.25,\"background_fill_color\":\"#505050\",\"background_fill_alpha\":0.25,\"label_text_color\":\"#E0E0E0\",\"label_text_font\":\"Josefin Sans\",\"label_text_font_size\":\"1.15em\",\"label_standoff\":8,\"spacing\":8,\"items\":[{\"type\":\"object\",\"name\":\"LegendItem\",\"id\":\"0a12bf4f-d74d-4829-856a-5dd038458ba0\",\"attributes\":{\"label\":{\"type\":\"value\",\"value\":\"Observations\"},\"renderers\":[{\"id\":\"ed80ee5d-33df-4a82-be1a-d0ef33ee17c4\"}]}},{\"type\":\"object\",\"name\":\"LegendItem\",\"id\":\"cc2e90ea-4c0d-44bb-b289-0d89f1114d2c\",\"attributes\":{\"label\":{\"type\":\"value\",\"value\":\"Trained model\"},\"renderers\":[{\"id\":\"cb9bbadc-83be-4d5a-a4c6-f126d3738b01\"}]}}]}}],\"background_fill_color\":\"#0f0f0f\",\"background_fill_alpha\":0.9,\"border_fill_color\":\"#111111\",\"border_fill_alpha\":0.8}},{\"type\":\"object\",\"name\":\"Spacer\",\"id\":\"154d5fe4-31e6-417b-8585-867df38492d0\",\"attributes\":{\"name\":\"HSpacer00281\",\"stylesheets\":[\"\\n:host(.pn-loading):before, .pn-loading:before {\\n  background-color: #c3c3c3;\\n  mask-size: auto calc(min(50%, 400px));\\n  -webkit-mask-size: auto calc(min(50%, 400px));\\n}\",{\"id\":\"0fcf8892-b9d3-41bd-9818-9ac2cc985754\"},{\"id\":\"9c05b2f8-72f7-4500-a702-987a62cfbe28\"},{\"id\":\"0e455769-5679-4074-98ed-b26869e4272d\"},{\"id\":\"eea0da4b-a47e-47a5-952d-d0bd29fb1031\"}],\"margin\":0,\"sizing_mode\":\"stretch_width\",\"align\":\"start\"}}]}},{\"type\":\"object\",\"name\":\"panel.models.comm_manager.CommManager\",\"id\":\"bb514fb5-da8c-482b-8173-fb3d86c38e50\",\"attributes\":{\"plot_id\":\"30a8bb9f-5152-4645-8338-8928f1999977\",\"comm_id\":\"bb935cb1084d4739b2512bcacbcbdbbb\",\"client_comm_id\":\"2f19050f424b46d3875bb81c716e7614\"}}],\"defs\":[{\"type\":\"model\",\"name\":\"ReactiveHTML1\"},{\"type\":\"model\",\"name\":\"FlexBox1\",\"properties\":[{\"name\":\"align_content\",\"kind\":\"Any\",\"default\":\"flex-start\"},{\"name\":\"align_items\",\"kind\":\"Any\",\"default\":\"flex-start\"},{\"name\":\"flex_direction\",\"kind\":\"Any\",\"default\":\"row\"},{\"name\":\"flex_wrap\",\"kind\":\"Any\",\"default\":\"wrap\"},{\"name\":\"gap\",\"kind\":\"Any\",\"default\":\"\"},{\"name\":\"justify_content\",\"kind\":\"Any\",\"default\":\"flex-start\"}]},{\"type\":\"model\",\"name\":\"FloatPanel1\",\"properties\":[{\"name\":\"config\",\"kind\":\"Any\",\"default\":{\"type\":\"map\"}},{\"name\":\"contained\",\"kind\":\"Any\",\"default\":true},{\"name\":\"position\",\"kind\":\"Any\",\"default\":\"right-top\"},{\"name\":\"offsetx\",\"kind\":\"Any\",\"default\":null},{\"name\":\"offsety\",\"kind\":\"Any\",\"default\":null},{\"name\":\"theme\",\"kind\":\"Any\",\"default\":\"primary\"},{\"name\":\"status\",\"kind\":\"Any\",\"default\":\"normalized\"}]},{\"type\":\"model\",\"name\":\"GridStack1\",\"properties\":[{\"name\":\"mode\",\"kind\":\"Any\",\"default\":\"warn\"},{\"name\":\"ncols\",\"kind\":\"Any\",\"default\":null},{\"name\":\"nrows\",\"kind\":\"Any\",\"default\":null},{\"name\":\"allow_resize\",\"kind\":\"Any\",\"default\":true},{\"name\":\"allow_drag\",\"kind\":\"Any\",\"default\":true},{\"name\":\"state\",\"kind\":\"Any\",\"default\":[]}]},{\"type\":\"model\",\"name\":\"drag1\",\"properties\":[{\"name\":\"slider_width\",\"kind\":\"Any\",\"default\":5},{\"name\":\"slider_color\",\"kind\":\"Any\",\"default\":\"black\"},{\"name\":\"value\",\"kind\":\"Any\",\"default\":50}]},{\"type\":\"model\",\"name\":\"click1\",\"properties\":[{\"name\":\"terminal_output\",\"kind\":\"Any\",\"default\":\"\"},{\"name\":\"debug_name\",\"kind\":\"Any\",\"default\":\"\"},{\"name\":\"clears\",\"kind\":\"Any\",\"default\":0}]},{\"type\":\"model\",\"name\":\"FastWrapper1\",\"properties\":[{\"name\":\"object\",\"kind\":\"Any\",\"default\":null},{\"name\":\"style\",\"kind\":\"Any\",\"default\":null}]},{\"type\":\"model\",\"name\":\"NotificationAreaBase1\",\"properties\":[{\"name\":\"js_events\",\"kind\":\"Any\",\"default\":{\"type\":\"map\"}},{\"name\":\"position\",\"kind\":\"Any\",\"default\":\"bottom-right\"},{\"name\":\"_clear\",\"kind\":\"Any\",\"default\":0}]},{\"type\":\"model\",\"name\":\"NotificationArea1\",\"properties\":[{\"name\":\"js_events\",\"kind\":\"Any\",\"default\":{\"type\":\"map\"}},{\"name\":\"notifications\",\"kind\":\"Any\",\"default\":[]},{\"name\":\"position\",\"kind\":\"Any\",\"default\":\"bottom-right\"},{\"name\":\"_clear\",\"kind\":\"Any\",\"default\":0},{\"name\":\"types\",\"kind\":\"Any\",\"default\":[{\"type\":\"map\",\"entries\":[[\"type\",\"warning\"],[\"background\",\"#ffc107\"],[\"icon\",{\"type\":\"map\",\"entries\":[[\"className\",\"fas fa-exclamation-triangle\"],[\"tagName\",\"i\"],[\"color\",\"white\"]]}]]},{\"type\":\"map\",\"entries\":[[\"type\",\"info\"],[\"background\",\"#007bff\"],[\"icon\",{\"type\":\"map\",\"entries\":[[\"className\",\"fas fa-info-circle\"],[\"tagName\",\"i\"],[\"color\",\"white\"]]}]]}]}]},{\"type\":\"model\",\"name\":\"Notification\",\"properties\":[{\"name\":\"background\",\"kind\":\"Any\",\"default\":null},{\"name\":\"duration\",\"kind\":\"Any\",\"default\":3000},{\"name\":\"icon\",\"kind\":\"Any\",\"default\":null},{\"name\":\"message\",\"kind\":\"Any\",\"default\":\"\"},{\"name\":\"notification_type\",\"kind\":\"Any\",\"default\":null},{\"name\":\"_destroyed\",\"kind\":\"Any\",\"default\":false}]},{\"type\":\"model\",\"name\":\"TemplateActions1\",\"properties\":[{\"name\":\"open_modal\",\"kind\":\"Any\",\"default\":0},{\"name\":\"close_modal\",\"kind\":\"Any\",\"default\":0}]},{\"type\":\"model\",\"name\":\"BootstrapTemplateActions1\",\"properties\":[{\"name\":\"open_modal\",\"kind\":\"Any\",\"default\":0},{\"name\":\"close_modal\",\"kind\":\"Any\",\"default\":0}]},{\"type\":\"model\",\"name\":\"TemplateEditor1\",\"properties\":[{\"name\":\"layout\",\"kind\":\"Any\",\"default\":[]}]},{\"type\":\"model\",\"name\":\"MaterialTemplateActions1\",\"properties\":[{\"name\":\"open_modal\",\"kind\":\"Any\",\"default\":0},{\"name\":\"close_modal\",\"kind\":\"Any\",\"default\":0}]},{\"type\":\"model\",\"name\":\"copy_to_clipboard1\",\"properties\":[{\"name\":\"fill\",\"kind\":\"Any\",\"default\":\"none\"},{\"name\":\"value\",\"kind\":\"Any\",\"default\":null}]}]}};\n",
       "  var render_items = [{\"docid\":\"ed6bcef5-72e1-4c78-8882-befd85098e21\",\"roots\":{\"30a8bb9f-5152-4645-8338-8928f1999977\":\"bc39a86e-15d8-4abe-a6c7-128a2429f648\"},\"root_ids\":[\"30a8bb9f-5152-4645-8338-8928f1999977\"]}];\n",
       "  var docs = Object.values(docs_json)\n",
       "  if (!docs) {\n",
       "    return\n",
       "  }\n",
       "  const py_version = docs[0].version.replace('rc', '-rc.').replace('.dev', '-dev.')\n",
       "  function embed_document(root) {\n",
       "    var Bokeh = get_bokeh(root)\n",
       "    Bokeh.embed.embed_items_notebook(docs_json, render_items);\n",
       "    for (const render_item of render_items) {\n",
       "      for (const root_id of render_item.root_ids) {\n",
       "\tconst id_el = document.getElementById(root_id)\n",
       "\tif (id_el.children.length && (id_el.children[0].className === 'bk-root')) {\n",
       "\t  const root_el = id_el.children[0]\n",
       "\t  root_el.id = root_el.id + '-rendered'\n",
       "\t}\n",
       "      }\n",
       "    }\n",
       "  }\n",
       "  function get_bokeh(root) {\n",
       "    if (root.Bokeh === undefined) {\n",
       "      return null\n",
       "    } else if (root.Bokeh.version !== py_version) {\n",
       "      if (root.Bokeh.versions === undefined || !root.Bokeh.versions.has(py_version)) {\n",
       "\treturn null\n",
       "      }\n",
       "      return root.Bokeh.versions.get(py_version);\n",
       "    } else if (root.Bokeh.version === py_version) {\n",
       "      return root.Bokeh\n",
       "    }\n",
       "    return null\n",
       "  }\n",
       "  function is_loaded(root) {\n",
       "    var Bokeh = get_bokeh(root)\n",
       "    return (Bokeh != null && Bokeh.Panel !== undefined)\n",
       "  }\n",
       "  if (is_loaded(root)) {\n",
       "    embed_document(root);\n",
       "  } else {\n",
       "    var attempts = 0;\n",
       "    var timer = setInterval(function(root) {\n",
       "      if (is_loaded(root)) {\n",
       "        clearInterval(timer);\n",
       "        embed_document(root);\n",
       "      } else if (document.readyState == \"complete\") {\n",
       "        attempts++;\n",
       "        if (attempts > 200) {\n",
       "          clearInterval(timer);\n",
       "\t  var Bokeh = get_bokeh(root)\n",
       "\t  if (Bokeh == null || Bokeh.Panel == null) {\n",
       "            console.warn(\"Panel: ERROR: Unable to run Panel code because Bokeh or Panel library is missing\");\n",
       "\t  } else {\n",
       "\t    console.warn(\"Panel: WARNING: Attempting to render but not all required libraries could be resolved.\")\n",
       "\t    embed_document(root)\n",
       "\t  }\n",
       "        }\n",
       "      }\n",
       "    }, 25, root)\n",
       "  }\n",
       "})(window);</script>"
      ],
      "text/plain": [
       "Row\n",
       "    [0] HSpacer()\n",
       "    [1] Bokeh(figure)\n",
       "    [2] HSpacer()"
      ]
     },
     "execution_count": 12,
     "metadata": {
      "application/vnd.holoviews_exec.v0+json": {
       "id": "30a8bb9f-5152-4645-8338-8928f1999977"
      }
     },
     "output_type": "execute_result"
    }
   ],
   "source": [
    "# Inference points (not observed)\n",
    "X_plot = x_plot[:, np.newaxis]\n",
    "# Predict the values\n",
    "y_plot = model.predict(X_plot)\n",
    "# Compute the error of our model at observed points\n",
    "Y_model_err = np.sqrt(np.mean(np.square(y-model.predict(X))))\n",
    "print(f'Model error : {Y_model_err}')\n",
    "# Plot the result\n",
    "p = scatter(x, y, title=\"Training a scikit-learn model\")\n",
    "p.line(x_plot, poly(x_plot), line_width=6, line_alpha=0.6, color=\"red\", legend_label=r\"Trained model\")\n",
    "plot = (center_plot(p))\n",
    "plot"
   ]
  },
  {
   "cell_type": "code",
   "execution_count": 13,
   "metadata": {},
   "outputs": [],
   "source": [
    "from cml.tasks import RegressionPolynomialSolver\n",
    "explorer = RegressionPolynomialSolver()"
   ]
  },
  {
   "cell_type": "code",
   "execution_count": 14,
   "metadata": {},
   "outputs": [
    {
     "name": "stderr",
     "output_type": "stream",
     "text": [
      "BokehDeprecationWarning: 'circle() method with size value' was deprecated in Bokeh 3.4.0 and will be removed, use 'scatter(size=...) instead' instead.\n"
     ]
    },
    {
     "data": {},
     "metadata": {},
     "output_type": "display_data"
    },
    {
     "data": {
      "application/vnd.holoviews_exec.v0+json": "",
      "text/html": [
       "<div id='d9f9a070-d059-43c3-a325-c2fbc0da2b28'>\n",
       "  <div id=\"cafda12a-ac42-4244-b9c6-88bb5323d3d5\" data-root-id=\"d9f9a070-d059-43c3-a325-c2fbc0da2b28\" style=\"display: contents;\"></div>\n",
       "</div>\n",
       "<script type=\"application/javascript\">(function(root) {\n",
       "  var docs_json = {\"689c6ad6-4fd1-496a-9be6-c6dee0751eae\":{\"version\":\"3.4.1\",\"title\":\"Bokeh Application\",\"roots\":[{\"type\":\"object\",\"name\":\"Row\",\"id\":\"d9f9a070-d059-43c3-a325-c2fbc0da2b28\",\"attributes\":{\"name\":\"Row00324\",\"stylesheets\":[\"\\n:host(.pn-loading):before, .pn-loading:before {\\n  background-color: #c3c3c3;\\n  mask-size: auto calc(min(50%, 400px));\\n  -webkit-mask-size: auto calc(min(50%, 400px));\\n}\",{\"type\":\"object\",\"name\":\"ImportedStyleSheet\",\"id\":\"2f937fac-644e-46d6-8e1c-62860b19659f\",\"attributes\":{\"url\":\"https://cdn.holoviz.org/panel/1.4.1/dist/css/loading.css\"}},{\"type\":\"object\",\"name\":\"ImportedStyleSheet\",\"id\":\"9abfa858-81d5-4a87-8c61-9d9f2ce4e254\",\"attributes\":{\"url\":\"cml/cml.css\"}},{\"type\":\"object\",\"name\":\"ImportedStyleSheet\",\"id\":\"46a86ca0-eb8d-4019-94f4-7fc7b07234b5\",\"attributes\":{\"url\":\"https://cdn.holoviz.org/panel/1.4.1/dist/css/listpanel.css\"}},{\"type\":\"object\",\"name\":\"ImportedStyleSheet\",\"id\":\"66e05221-0035-4b97-9329-6017eb4bfbd0\",\"attributes\":{\"url\":\"https://cdn.holoviz.org/panel/1.4.1/dist/bundled/theme/default.css\"}},{\"type\":\"object\",\"name\":\"ImportedStyleSheet\",\"id\":\"d98d9a52-e771-4708-b062-d8d8c48d0b5c\",\"attributes\":{\"url\":\"https://cdn.holoviz.org/panel/1.4.1/dist/bundled/theme/native.css\"}}],\"margin\":0,\"sizing_mode\":\"stretch_width\",\"align\":\"start\",\"children\":[{\"type\":\"object\",\"name\":\"Spacer\",\"id\":\"a8ee29b6-ecd0-44b3-b28f-22af01f27abb\",\"attributes\":{\"name\":\"HSpacer00291\",\"stylesheets\":[\"\\n:host(.pn-loading):before, .pn-loading:before {\\n  background-color: #c3c3c3;\\n  mask-size: auto calc(min(50%, 400px));\\n  -webkit-mask-size: auto calc(min(50%, 400px));\\n}\",{\"id\":\"2f937fac-644e-46d6-8e1c-62860b19659f\"},{\"id\":\"9abfa858-81d5-4a87-8c61-9d9f2ce4e254\"},{\"id\":\"66e05221-0035-4b97-9329-6017eb4bfbd0\"},{\"id\":\"d98d9a52-e771-4708-b062-d8d8c48d0b5c\"}],\"margin\":0,\"sizing_mode\":\"stretch_width\",\"align\":\"start\"}},{\"type\":\"object\",\"name\":\"panel.models.layout.Column\",\"id\":\"57ccebb2-9e04-4f2b-b202-52546bf54d0b\",\"attributes\":{\"name\":\"Column00322\",\"stylesheets\":[\"\\n:host(.pn-loading):before, .pn-loading:before {\\n  background-color: #c3c3c3;\\n  mask-size: auto calc(min(50%, 400px));\\n  -webkit-mask-size: auto calc(min(50%, 400px));\\n}\",{\"id\":\"2f937fac-644e-46d6-8e1c-62860b19659f\"},{\"id\":\"9abfa858-81d5-4a87-8c61-9d9f2ce4e254\"},{\"id\":\"46a86ca0-eb8d-4019-94f4-7fc7b07234b5\"},{\"id\":\"66e05221-0035-4b97-9329-6017eb4bfbd0\"},{\"id\":\"d98d9a52-e771-4708-b062-d8d8c48d0b5c\"}],\"margin\":0,\"align\":\"start\",\"children\":[{\"type\":\"object\",\"name\":\"Row\",\"id\":\"6306fdfe-e0c3-41c0-8677-e75792c2a88e\",\"attributes\":{\"name\":\"Row00319\",\"stylesheets\":[\"\\n:host(.pn-loading):before, .pn-loading:before {\\n  background-color: #c3c3c3;\\n  mask-size: auto calc(min(50%, 400px));\\n  -webkit-mask-size: auto calc(min(50%, 400px));\\n}\",{\"id\":\"2f937fac-644e-46d6-8e1c-62860b19659f\"},{\"id\":\"9abfa858-81d5-4a87-8c61-9d9f2ce4e254\"},{\"id\":\"46a86ca0-eb8d-4019-94f4-7fc7b07234b5\"},{\"id\":\"66e05221-0035-4b97-9329-6017eb4bfbd0\"},{\"id\":\"d98d9a52-e771-4708-b062-d8d8c48d0b5c\"}],\"margin\":0,\"align\":\"start\",\"children\":[{\"type\":\"object\",\"name\":\"panel.models.layout.Column\",\"id\":\"77e0ff72-add9-430e-95c2-8111767fbeb9\",\"attributes\":{\"name\":\"Problem parameters\",\"stylesheets\":[\"\\n:host(.pn-loading):before, .pn-loading:before {\\n  background-color: #c3c3c3;\\n  mask-size: auto calc(min(50%, 400px));\\n  -webkit-mask-size: auto calc(min(50%, 400px));\\n}\",{\"id\":\"2f937fac-644e-46d6-8e1c-62860b19659f\"},{\"id\":\"9abfa858-81d5-4a87-8c61-9d9f2ce4e254\"},{\"id\":\"46a86ca0-eb8d-4019-94f4-7fc7b07234b5\"},{\"id\":\"66e05221-0035-4b97-9329-6017eb4bfbd0\"},{\"id\":\"d98d9a52-e771-4708-b062-d8d8c48d0b5c\"}],\"margin\":[5,10],\"align\":\"start\",\"children\":[{\"type\":\"object\",\"name\":\"Div\",\"id\":\"46cb04fe-be9b-4276-bb2d-cc25bc36973c\",\"attributes\":{\"stylesheets\":[\"\\n:host(.pn-loading):before, .pn-loading:before {\\n  background-color: #c3c3c3;\\n  mask-size: auto calc(min(50%, 400px));\\n  -webkit-mask-size: auto calc(min(50%, 400px));\\n}\",{\"id\":\"2f937fac-644e-46d6-8e1c-62860b19659f\"},{\"id\":\"9abfa858-81d5-4a87-8c61-9d9f2ce4e254\"},{\"id\":\"66e05221-0035-4b97-9329-6017eb4bfbd0\"},{\"id\":\"d98d9a52-e771-4708-b062-d8d8c48d0b5c\"}],\"margin\":[5,10],\"align\":\"start\",\"text\":\"<b>Problem parameters</b>\"}},{\"type\":\"object\",\"name\":\"Slider\",\"id\":\"b2414dcb-4368-4cee-89ed-dc57d216d7e0\",\"attributes\":{\"stylesheets\":[\"\\n:host(.pn-loading):before, .pn-loading:before {\\n  background-color: #c3c3c3;\\n  mask-size: auto calc(min(50%, 400px));\\n  -webkit-mask-size: auto calc(min(50%, 400px));\\n}\",{\"id\":\"2f937fac-644e-46d6-8e1c-62860b19659f\"},{\"id\":\"9abfa858-81d5-4a87-8c61-9d9f2ce4e254\"},{\"id\":\"66e05221-0035-4b97-9329-6017eb4bfbd0\"},{\"id\":\"d98d9a52-e771-4708-b062-d8d8c48d0b5c\"}],\"margin\":[5,10],\"align\":\"start\",\"title\":\"Number observations\",\"start\":10,\"end\":1000,\"value\":100}},{\"type\":\"object\",\"name\":\"Slider\",\"id\":\"cacd5cb7-5978-47c8-8052-a2aa38e0faaa\",\"attributes\":{\"stylesheets\":[\"\\n:host(.pn-loading):before, .pn-loading:before {\\n  background-color: #c3c3c3;\\n  mask-size: auto calc(min(50%, 400px));\\n  -webkit-mask-size: auto calc(min(50%, 400px));\\n}\",{\"id\":\"2f937fac-644e-46d6-8e1c-62860b19659f\"},{\"id\":\"9abfa858-81d5-4a87-8c61-9d9f2ce4e254\"},{\"id\":\"66e05221-0035-4b97-9329-6017eb4bfbd0\"},{\"id\":\"d98d9a52-e771-4708-b062-d8d8c48d0b5c\"}],\"margin\":[5,10],\"align\":\"start\",\"title\":\"Noise level\",\"start\":0.0,\"end\":5.0,\"value\":0.1,\"step\":0.1}},{\"type\":\"object\",\"name\":\"Checkbox\",\"id\":\"765c0ebe-8696-4722-8a1a-8273028a858d\",\"attributes\":{\"stylesheets\":[\"\\n:host(.pn-loading):before, .pn-loading:before {\\n  background-color: #c3c3c3;\\n  mask-size: auto calc(min(50%, 400px));\\n  -webkit-mask-size: auto calc(min(50%, 400px));\\n}\",{\"id\":\"2f937fac-644e-46d6-8e1c-62860b19659f\"},{\"id\":\"9abfa858-81d5-4a87-8c61-9d9f2ce4e254\"},{\"id\":\"66e05221-0035-4b97-9329-6017eb4bfbd0\"},{\"id\":\"d98d9a52-e771-4708-b062-d8d8c48d0b5c\"}],\"margin\":[5,10],\"align\":\"start\",\"label\":\"Ground truth\"}},{\"type\":\"object\",\"name\":\"Checkbox\",\"id\":\"613e0f56-4741-471e-a1dc-c26b57c238a7\",\"attributes\":{\"stylesheets\":[\"\\n:host(.pn-loading):before, .pn-loading:before {\\n  background-color: #c3c3c3;\\n  mask-size: auto calc(min(50%, 400px));\\n  -webkit-mask-size: auto calc(min(50%, 400px));\\n}\",{\"id\":\"2f937fac-644e-46d6-8e1c-62860b19659f\"},{\"id\":\"9abfa858-81d5-4a87-8c61-9d9f2ce4e254\"},{\"id\":\"66e05221-0035-4b97-9329-6017eb4bfbd0\"},{\"id\":\"d98d9a52-e771-4708-b062-d8d8c48d0b5c\"}],\"margin\":[5,10],\"align\":\"start\",\"label\":\"Error\"}},{\"type\":\"object\",\"name\":\"Slider\",\"id\":\"541d2646-0715-44d9-8f47-628e1d59518f\",\"attributes\":{\"stylesheets\":[\"\\n:host(.pn-loading):before, .pn-loading:before {\\n  background-color: #c3c3c3;\\n  mask-size: auto calc(min(50%, 400px));\\n  -webkit-mask-size: auto calc(min(50%, 400px));\\n}\",{\"id\":\"2f937fac-644e-46d6-8e1c-62860b19659f\"},{\"id\":\"9abfa858-81d5-4a87-8c61-9d9f2ce4e254\"},{\"id\":\"66e05221-0035-4b97-9329-6017eb4bfbd0\"},{\"id\":\"d98d9a52-e771-4708-b062-d8d8c48d0b5c\"}],\"margin\":[5,10],\"align\":\"start\",\"title\":\"X 2\",\"start\":-5.0,\"end\":5.0,\"value\":-2.0,\"step\":0.1}},{\"type\":\"object\",\"name\":\"Slider\",\"id\":\"1d4f235c-5aba-418f-b608-d18ce5fff37b\",\"attributes\":{\"stylesheets\":[\"\\n:host(.pn-loading):before, .pn-loading:before {\\n  background-color: #c3c3c3;\\n  mask-size: auto calc(min(50%, 400px));\\n  -webkit-mask-size: auto calc(min(50%, 400px));\\n}\",{\"id\":\"2f937fac-644e-46d6-8e1c-62860b19659f\"},{\"id\":\"9abfa858-81d5-4a87-8c61-9d9f2ce4e254\"},{\"id\":\"66e05221-0035-4b97-9329-6017eb4bfbd0\"},{\"id\":\"d98d9a52-e771-4708-b062-d8d8c48d0b5c\"}],\"margin\":[5,10],\"align\":\"start\",\"title\":\"X 1\",\"start\":-5.0,\"end\":5.0,\"value\":0.0,\"step\":0.1}},{\"type\":\"object\",\"name\":\"Slider\",\"id\":\"b5257252-31c4-4d0d-b03c-f77415579ec5\",\"attributes\":{\"stylesheets\":[\"\\n:host(.pn-loading):before, .pn-loading:before {\\n  background-color: #c3c3c3;\\n  mask-size: auto calc(min(50%, 400px));\\n  -webkit-mask-size: auto calc(min(50%, 400px));\\n}\",{\"id\":\"2f937fac-644e-46d6-8e1c-62860b19659f\"},{\"id\":\"9abfa858-81d5-4a87-8c61-9d9f2ce4e254\"},{\"id\":\"66e05221-0035-4b97-9329-6017eb4bfbd0\"},{\"id\":\"d98d9a52-e771-4708-b062-d8d8c48d0b5c\"}],\"margin\":[5,10],\"align\":\"start\",\"title\":\"X 0\",\"start\":-5.0,\"end\":5.0,\"value\":1.0,\"step\":0.1}},{\"type\":\"object\",\"name\":\"Slider\",\"id\":\"97221e0f-3e45-4819-97f4-a0f182dbb13d\",\"attributes\":{\"stylesheets\":[\"\\n:host(.pn-loading):before, .pn-loading:before {\\n  background-color: #c3c3c3;\\n  mask-size: auto calc(min(50%, 400px));\\n  -webkit-mask-size: auto calc(min(50%, 400px));\\n}\",{\"id\":\"2f937fac-644e-46d6-8e1c-62860b19659f\"},{\"id\":\"9abfa858-81d5-4a87-8c61-9d9f2ce4e254\"},{\"id\":\"66e05221-0035-4b97-9329-6017eb4bfbd0\"},{\"id\":\"d98d9a52-e771-4708-b062-d8d8c48d0b5c\"}],\"margin\":[5,10],\"align\":\"start\",\"title\":\"Degree\",\"start\":1,\"end\":30,\"value\":1}}]}},{\"type\":\"object\",\"name\":\"panel.models.layout.Column\",\"id\":\"1a52e447-6ff3-446a-8779-366d96dbbbf0\",\"attributes\":{\"name\":\"Column00316\",\"stylesheets\":[\"\\n:host(.pn-loading):before, .pn-loading:before {\\n  background-color: #c3c3c3;\\n  mask-size: auto calc(min(50%, 400px));\\n  -webkit-mask-size: auto calc(min(50%, 400px));\\n}\",{\"id\":\"2f937fac-644e-46d6-8e1c-62860b19659f\"},{\"id\":\"9abfa858-81d5-4a87-8c61-9d9f2ce4e254\"},{\"id\":\"46a86ca0-eb8d-4019-94f4-7fc7b07234b5\"},{\"id\":\"66e05221-0035-4b97-9329-6017eb4bfbd0\"},{\"id\":\"d98d9a52-e771-4708-b062-d8d8c48d0b5c\"}],\"margin\":0,\"align\":\"start\",\"children\":[{\"type\":\"object\",\"name\":\"Figure\",\"id\":\"128d400e-3d6e-4924-aac8-5f8b5d0201e2\",\"attributes\":{\"height\":450,\"x_range\":{\"type\":\"object\",\"name\":\"DataRange1d\",\"id\":\"abf8a5c2-5000-4622-a4ba-02be4d1457a6\"},\"y_range\":{\"type\":\"object\",\"name\":\"DataRange1d\",\"id\":\"46c7d96d-87e4-4ea4-af75-4e44ee938b88\"},\"x_scale\":{\"type\":\"object\",\"name\":\"LinearScale\",\"id\":\"70fb9e5a-b2d8-434f-b58c-355f5b0c3943\"},\"y_scale\":{\"type\":\"object\",\"name\":\"LinearScale\",\"id\":\"a42c28e0-e00b-413f-a583-9c1af0fedbf0\"},\"title\":{\"type\":\"object\",\"name\":\"Title\",\"id\":\"52f63830-fdad-4b4c-a291-d53ac0c40b55\",\"attributes\":{\"text\":\"Polynomial regression problem\",\"text_color\":\"#E0E0E0\",\"text_font\":\"Josefin Sans\",\"text_font_size\":\"2.1em\"}},\"outline_line_color\":\"#E0E0E0\",\"outline_line_alpha\":0.25,\"outline_line_width\":3,\"renderers\":[{\"type\":\"object\",\"name\":\"GlyphRenderer\",\"id\":\"204ea75a-6930-43ef-b12a-2316a686af97\",\"attributes\":{\"data_source\":{\"type\":\"object\",\"name\":\"ColumnDataSource\",\"id\":\"8742fb43-0358-4a82-8ef2-e9d6b8f15b47\",\"attributes\":{\"selected\":{\"type\":\"object\",\"name\":\"Selection\",\"id\":\"cc9265ef-e0f1-4e36-916b-aa2004e0b3e7\",\"attributes\":{\"indices\":[],\"line_indices\":[]}},\"selection_policy\":{\"type\":\"object\",\"name\":\"UnionRenderers\",\"id\":\"5eb6fa2d-022c-491c-9eca-a4bc94f26662\"},\"data\":{\"type\":\"map\",\"entries\":[[\"x\",{\"type\":\"ndarray\",\"array\":{\"type\":\"bytes\",\"data\":\"AAAAALV+JTy1fqU8ED74PLV+JT1i3k49ED54Pd7OkD21fqU9jC66PWLezj05juM9ED74PfN2Bj7ezhA+yiYbPrV+JT6g1i8+jC46PneGRD5i3k4+TjZZPjmOYz4k5m0+ED54Pv1KgT7zdoY+6aKLPt7OkD7U+pU+yiabPr9SoD61fqU+q6qqPqDWrz6WArU+jC66PoFavz53hsQ+bbLJPmLezj5YCtQ+TjbZPkNi3j45juM+L7roPiTm7T4aEvM+ED74PgVq/T79SgE/+OADP/N2Bj/uDAk/6aILP+Q4Dj/ezhA/2WQTP9T6FT/PkBg/yiYbP8W8HT+/UiA/uugiP7V+JT+wFCg/q6oqP6VALT+g1i8/m2wyP5YCNT+RmDc/jC46P4bEPD+BWj8/fPBBP3eGRD9yHEc/bbJJP2dITD9i3k4/XXRRP1gKVD9ToFY/TjZZP0jMWz9DYl4/PvhgPzmOYz80JGY/L7poPylQaz8k5m0/H3xwPxoScz8VqHU/ED54PwrUej8Fan0/AACAPw==\"},\"shape\":[100],\"dtype\":\"float32\",\"order\":\"little\"}],[\"y\",{\"type\":\"ndarray\",\"array\":{\"type\":\"bytes\",\"data\":\"XQeEP/uLjD/yO4A/WEh0P1MvhT+65Ic/evNqPyLIiD8rSIk/P8lwPzEzcz9j+Xw/bb6GP0okgj/Y23k/1nhlP9uUZD+P0Xk/h514P8IEbj9y+Xs/t+t1P3OxZD8IV30/Fg1YPyuKSj9bZEw/l/ZLP+ERUz8KnGU/zkVRP1PnOz/ullQ/Lu03PxUYWD97t1A/0dJTP3zEPD/Xkjg/HyAmPwbvQT+1aSw/PLY4PxfaJD8ALiI/UIoCP/WEET+FmSI/GlsgPxRh8j4s/RM/z+XXPjIIAT9OuuU+k73APoCm1j63SeU+xEiaProIyz7rH7Q+rSCkPmELMj6yUxk+5ijkPVo/Jj4T2QI+ND1WPkBJdrzs04q8ACtrPdWsp72ror69rHKcvBsjvr0ODtS9n1NzvgRpJr4ubpu+oAeYvlTKh76Wnpq+WwuLvvdP2L7AsfC+iUznvmL59b66KBS/Ydf5vrK6B79E+gu/E2QivxDJRb8AADK/HLs3v2nwX7+MXGW/BvRdv02ad7+20YC/1l9zvw==\"},\"shape\":[100],\"dtype\":\"float32\",\"order\":\"little\"}]]}}},\"view\":{\"type\":\"object\",\"name\":\"CDSView\",\"id\":\"2e9d7b8c-b3b1-4614-8aa9-039ebc5558c0\",\"attributes\":{\"filter\":{\"type\":\"object\",\"name\":\"AllIndices\",\"id\":\"245e3b63-09f0-40c6-b61a-786a25af471f\"}}},\"glyph\":{\"type\":\"object\",\"name\":\"Scatter\",\"id\":\"ca0fcbc7-a380-435a-aab1-3dbd0a319a35\",\"attributes\":{\"x\":{\"type\":\"field\",\"field\":\"x\"},\"y\":{\"type\":\"field\",\"field\":\"y\"},\"size\":{\"type\":\"value\",\"value\":10},\"line_color\":{\"type\":\"value\",\"value\":\"white\"},\"line_alpha\":{\"type\":\"value\",\"value\":0.25},\"fill_color\":{\"type\":\"value\",\"value\":\"midnightblue\"},\"fill_alpha\":{\"type\":\"value\",\"value\":0.25},\"hatch_alpha\":{\"type\":\"value\",\"value\":0.25}}},\"selection_glyph\":{\"type\":\"object\",\"name\":\"Circle\",\"id\":\"d6c34aa5-3e74-474b-a397-3e84592dda20\",\"attributes\":{\"line_color\":{\"type\":\"value\",\"value\":\"white\"},\"fill_color\":{\"type\":\"value\",\"value\":\"red\"},\"fill_alpha\":{\"type\":\"value\",\"value\":0.8}}},\"nonselection_glyph\":{\"type\":\"object\",\"name\":\"Circle\",\"id\":\"4b433aae-7042-49c6-a4a3-5bb8103d3295\",\"attributes\":{\"line_color\":{\"type\":\"value\",\"value\":\"white\"},\"fill_color\":{\"type\":\"value\",\"value\":\"midnightblue\"},\"fill_alpha\":{\"type\":\"value\",\"value\":0.5}}},\"hover_glyph\":{\"type\":\"object\",\"name\":\"Scatter\",\"id\":\"46a92777-c10b-4873-936f-aa53bbda7b42\",\"attributes\":{\"x\":{\"type\":\"field\",\"field\":\"x\"},\"y\":{\"type\":\"field\",\"field\":\"y\"},\"size\":{\"type\":\"value\",\"value\":10},\"line_color\":{\"type\":\"value\",\"value\":\"white\"},\"line_alpha\":{\"type\":\"value\",\"value\":0.5},\"fill_color\":{\"type\":\"value\",\"value\":\"red\"},\"fill_alpha\":{\"type\":\"value\",\"value\":0.5},\"hatch_alpha\":{\"type\":\"value\",\"value\":0.5}}},\"muted_glyph\":{\"type\":\"object\",\"name\":\"Scatter\",\"id\":\"a61eeb8e-2bbb-4ba5-be0b-621e52b536c4\",\"attributes\":{\"x\":{\"type\":\"field\",\"field\":\"x\"},\"y\":{\"type\":\"field\",\"field\":\"y\"},\"size\":{\"type\":\"value\",\"value\":10},\"line_color\":{\"type\":\"value\",\"value\":\"white\"},\"line_alpha\":{\"type\":\"value\",\"value\":0.2},\"fill_color\":{\"type\":\"value\",\"value\":\"midnightblue\"},\"fill_alpha\":{\"type\":\"value\",\"value\":0.2},\"hatch_alpha\":{\"type\":\"value\",\"value\":0.2}}}}},{\"type\":\"object\",\"name\":\"GlyphRenderer\",\"id\":\"63147a82-86d4-46b7-af9b-4759483200e2\",\"attributes\":{\"data_source\":{\"type\":\"object\",\"name\":\"ColumnDataSource\",\"id\":\"3c2e6a50-eecc-4db8-8f83-ce9262206cbb\",\"attributes\":{\"selected\":{\"type\":\"object\",\"name\":\"Selection\",\"id\":\"c8042382-c3a9-4a89-a793-d77f9772bb5d\",\"attributes\":{\"indices\":[],\"line_indices\":[]}},\"selection_policy\":{\"type\":\"object\",\"name\":\"UnionRenderers\",\"id\":\"a2cefff8-52f4-417e-94e0-bf5ce81bd962\"},\"data\":{\"type\":\"map\",\"entries\":[[\"x\",{\"type\":\"ndarray\",\"array\":{\"type\":\"bytes\",\"data\":\"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\"},\"shape\":[200],\"dtype\":\"float64\",\"order\":\"little\"}],[\"y\",{\"type\":\"ndarray\",\"array\":{\"type\":\"bytes\",\"data\":\"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\"},\"shape\":[200],\"dtype\":\"float64\",\"order\":\"little\"}]]}}},\"view\":{\"type\":\"object\",\"name\":\"CDSView\",\"id\":\"f7db30f6-5627-4c89-b801-136a8647f543\",\"attributes\":{\"filter\":{\"type\":\"object\",\"name\":\"AllIndices\",\"id\":\"59b90dac-fc2d-45bf-a3eb-b67563476444\"}}},\"glyph\":{\"type\":\"object\",\"name\":\"Line\",\"id\":\"be1b52d6-2e7f-44be-992f-3eb4570de503\",\"attributes\":{\"x\":{\"type\":\"field\",\"field\":\"x\"},\"y\":{\"type\":\"field\",\"field\":\"y\"},\"line_color\":\"red\",\"line_alpha\":0.7,\"line_width\":4}},\"nonselection_glyph\":{\"type\":\"object\",\"name\":\"Line\",\"id\":\"3e50841c-099c-4c5e-bdfc-86a5433bb559\",\"attributes\":{\"x\":{\"type\":\"field\",\"field\":\"x\"},\"y\":{\"type\":\"field\",\"field\":\"y\"},\"line_color\":\"red\",\"line_alpha\":0.1,\"line_width\":4}},\"muted_glyph\":{\"type\":\"object\",\"name\":\"Line\",\"id\":\"6120b995-de32-4f56-b3e1-93673ad8f322\",\"attributes\":{\"x\":{\"type\":\"field\",\"field\":\"x\"},\"y\":{\"type\":\"field\",\"field\":\"y\"},\"line_color\":\"red\",\"line_alpha\":0.2,\"line_width\":4}}}}],\"toolbar\":{\"type\":\"object\",\"name\":\"Toolbar\",\"id\":\"9358912a-04a2-4968-b111-d356a8b3a3d8\",\"attributes\":{\"tools\":[{\"type\":\"object\",\"name\":\"PanTool\",\"id\":\"fe2221c8-9170-46a4-98cf-d41dd504dc50\"},{\"type\":\"object\",\"name\":\"WheelZoomTool\",\"id\":\"401f647e-1122-4f96-8b5a-28121bed457a\",\"attributes\":{\"renderers\":\"auto\"}},{\"type\":\"object\",\"name\":\"BoxZoomTool\",\"id\":\"bd6391b0-fe77-4b19-8dd0-f10a2990949a\",\"attributes\":{\"overlay\":{\"type\":\"object\",\"name\":\"BoxAnnotation\",\"id\":\"200a8d4b-b950-4730-ae9b-b83492cb4ef9\",\"attributes\":{\"syncable\":false,\"level\":\"overlay\",\"visible\":false,\"left\":{\"type\":\"number\",\"value\":\"nan\"},\"right\":{\"type\":\"number\",\"value\":\"nan\"},\"top\":{\"type\":\"number\",\"value\":\"nan\"},\"bottom\":{\"type\":\"number\",\"value\":\"nan\"},\"left_units\":\"canvas\",\"right_units\":\"canvas\",\"top_units\":\"canvas\",\"bottom_units\":\"canvas\",\"line_color\":\"black\",\"line_alpha\":1.0,\"line_width\":2,\"line_dash\":[4,4],\"fill_color\":\"lightgrey\",\"fill_alpha\":0.5}}}},{\"type\":\"object\",\"name\":\"SaveTool\",\"id\":\"c76b8e4e-d6dc-423d-a155-4b9152d18dcf\"},{\"type\":\"object\",\"name\":\"ResetTool\",\"id\":\"ec933226-53df-4338-9f07-12d8aa25a799\"},{\"type\":\"object\",\"name\":\"HelpTool\",\"id\":\"ced446d9-7074-4f2e-9b9c-2cdd63890f4d\"},{\"type\":\"object\",\"name\":\"HoverTool\",\"id\":\"70f029f2-ea34-4197-a468-b1d6d5f7d24e\",\"attributes\":{\"renderers\":[{\"id\":\"204ea75a-6930-43ef-b12a-2316a686af97\"}],\"tooltips\":null,\"mode\":\"vline\"}},{\"type\":\"object\",\"name\":\"BoxSelectTool\",\"id\":\"7902e639-b170-4cd4-ba1b-e017bd456f97\",\"attributes\":{\"renderers\":[{\"id\":\"204ea75a-6930-43ef-b12a-2316a686af97\"}],\"mode\":\"append\",\"overlay\":{\"type\":\"object\",\"name\":\"BoxAnnotation\",\"id\":\"50a85829-9bed-4119-bc43-f555a965a415\",\"attributes\":{\"syncable\":false,\"level\":\"overlay\",\"visible\":false,\"left\":{\"type\":\"number\",\"value\":\"nan\"},\"right\":{\"type\":\"number\",\"value\":\"nan\"},\"top\":{\"type\":\"number\",\"value\":\"nan\"},\"bottom\":{\"type\":\"number\",\"value\":\"nan\"},\"editable\":true,\"line_color\":\"black\",\"line_alpha\":1.0,\"line_width\":2,\"line_dash\":[4,4],\"fill_color\":\"lightgrey\",\"fill_alpha\":0.5}}}}]}},\"toolbar_location\":null,\"left\":[{\"type\":\"object\",\"name\":\"LinearAxis\",\"id\":\"a162c453-afd1-4748-9f68-7649b1290b93\",\"attributes\":{\"ticker\":{\"type\":\"object\",\"name\":\"BasicTicker\",\"id\":\"1cfd57e4-4ac5-489f-bd75-2372ccc4f996\",\"attributes\":{\"mantissas\":[1,2,5]}},\"formatter\":{\"type\":\"object\",\"name\":\"BasicTickFormatter\",\"id\":\"44ead3da-648f-49bc-a646-2f10921adcc7\"},\"axis_label\":\"$$\\\\color{white} -2.0x^2 + 0.0x^1 + 1.0x^0$$\",\"axis_label_standoff\":10,\"axis_label_text_color\":\"#FFFFFF\",\"axis_label_text_font\":\"Josefin Sans\",\"axis_label_text_font_size\":\"1.9em\",\"axis_label_text_font_style\":\"bold\",\"major_label_policy\":{\"type\":\"object\",\"name\":\"AllLabels\",\"id\":\"1dfbaccc-91c9-4f80-98d7-856c5004b710\"},\"major_label_text_color\":\"#E0E0E0\",\"major_label_text_font\":\"Josefin Sans\",\"major_label_text_font_size\":\"1.15em\",\"axis_line_color\":\"#E0E0E0\",\"axis_line_alpha\":0.4,\"major_tick_line_color\":\"#E0E0E0\",\"major_tick_line_alpha\":0.4,\"minor_tick_line_color\":\"#E0E0E0\",\"minor_tick_line_alpha\":0.4}}],\"below\":[{\"type\":\"object\",\"name\":\"LinearAxis\",\"id\":\"bbbfb601-b1a8-4d76-8d19-7ebebd4eb801\",\"attributes\":{\"ticker\":{\"type\":\"object\",\"name\":\"BasicTicker\",\"id\":\"f259be44-faba-4c4c-b986-e06b7ade9334\",\"attributes\":{\"mantissas\":[1,2,5]}},\"formatter\":{\"type\":\"object\",\"name\":\"BasicTickFormatter\",\"id\":\"24b47523-efe8-45b8-afcd-f54ce8c9ad2b\"},\"axis_label\":\"$$\\\\color{white} x$$\",\"axis_label_standoff\":10,\"axis_label_text_color\":\"#FFFFFF\",\"axis_label_text_font\":\"Josefin Sans\",\"axis_label_text_font_size\":\"1.9em\",\"axis_label_text_font_style\":\"bold\",\"major_label_policy\":{\"type\":\"object\",\"name\":\"AllLabels\",\"id\":\"c3d347ad-9684-4f4c-9f2b-5b7b06d66813\"},\"major_label_text_color\":\"#E0E0E0\",\"major_label_text_font\":\"Josefin Sans\",\"major_label_text_font_size\":\"1.15em\",\"axis_line_color\":\"#E0E0E0\",\"axis_line_alpha\":0.4,\"major_tick_line_color\":\"#E0E0E0\",\"major_tick_line_alpha\":0.4,\"minor_tick_line_color\":\"#E0E0E0\",\"minor_tick_line_alpha\":0.4}}],\"center\":[{\"type\":\"object\",\"name\":\"Grid\",\"id\":\"939e26b8-e817-40b6-b34a-3c5497bdeaa9\",\"attributes\":{\"axis\":{\"id\":\"bbbfb601-b1a8-4d76-8d19-7ebebd4eb801\"},\"grid_line_color\":\"#E0E0E0\",\"grid_line_alpha\":0.15}},{\"type\":\"object\",\"name\":\"Grid\",\"id\":\"1752dcb3-9dfa-490f-b9b5-c9e7f1e238ab\",\"attributes\":{\"dimension\":1,\"axis\":{\"id\":\"a162c453-afd1-4748-9f68-7649b1290b93\"},\"grid_line_color\":\"#E0E0E0\",\"grid_line_alpha\":0.15}},{\"type\":\"object\",\"name\":\"Legend\",\"id\":\"08fd96e4-4db3-4491-ad0c-10e7c2e900b1\",\"attributes\":{\"border_line_alpha\":0.25,\"background_fill_color\":\"#505050\",\"background_fill_alpha\":0.25,\"label_text_color\":\"#E0E0E0\",\"label_text_font\":\"Josefin Sans\",\"label_text_font_size\":\"1.15em\",\"label_standoff\":8,\"spacing\":8,\"items\":[{\"type\":\"object\",\"name\":\"LegendItem\",\"id\":\"e1660bd0-072d-4deb-95fc-ce88e362efa0\",\"attributes\":{\"label\":{\"type\":\"value\",\"value\":\"Observations\"},\"renderers\":[{\"id\":\"204ea75a-6930-43ef-b12a-2316a686af97\"}]}}]}}],\"background_fill_color\":\"#0f0f0f\",\"background_fill_alpha\":0.9,\"border_fill_color\":\"#111111\",\"border_fill_alpha\":0.8}}]}}]}},{\"type\":\"object\",\"name\":\"panel.models.ace.AcePlot\",\"id\":\"724d6458-44a6-4fcb-8651-f80b8d0bfc7a\",\"attributes\":{\"js_property_callbacks\":{\"type\":\"map\",\"entries\":[[\"change:readonly\",[{\"type\":\"object\",\"name\":\"CustomJS\",\"id\":\"86e0713f-fd76-4270-995c-c9f04772ce4d\",\"attributes\":{\"tags\":[[2021417841488,[null,\"readonly\"],[null,\"disabled\"]]],\"args\":{\"type\":\"map\",\"entries\":[[\"bidirectional\",true],[\"properties\",{\"type\":\"map\",\"entries\":[[\"readonly\",\"disabled\"]]}],[\"source\",{\"id\":\"724d6458-44a6-4fcb-8651-f80b8d0bfc7a\"}],[\"target\",{\"id\":\"724d6458-44a6-4fcb-8651-f80b8d0bfc7a\"}]]},\"code\":\"\\n    var value = source['readonly'];\\n    value = value;\\n    value = value;\\n    try {\\n      var property = target.properties['disabled'];\\n      if (property !== undefined) { property.validate(value); }\\n    } catch(err) {\\n      console.log('WARNING: Could not set disabled on target, raised error: ' + err);\\n      return;\\n    }\\n    try {\\n      target['disabled'] = value;\\n    } catch(err) {\\n      console.log(err)\\n    }\\n    \"}}]],[\"change:disabled\",[{\"type\":\"object\",\"name\":\"CustomJS\",\"id\":\"1f8d17fc-50aa-470c-8b70-74d06ef44e27\",\"attributes\":{\"tags\":[[2021417841488,[null,\"readonly\"],[null,\"disabled\"]]],\"args\":{\"type\":\"map\",\"entries\":[[\"bidirectional\",true],[\"properties\",{\"type\":\"map\",\"entries\":[[\"readonly\",\"disabled\"]]}],[\"source\",{\"id\":\"724d6458-44a6-4fcb-8651-f80b8d0bfc7a\"}],[\"target\",{\"id\":\"724d6458-44a6-4fcb-8651-f80b8d0bfc7a\"}]]},\"code\":\"\\n    var value = source['disabled'];\\n    value = value;\\n    value = value;\\n    try {\\n      var property = target.properties['readonly'];\\n      if (property !== undefined) { property.validate(value); }\\n    } catch(err) {\\n      console.log('WARNING: Could not set readonly on target, raised error: ' + err);\\n      return;\\n    }\\n    try {\\n      target['readonly'] = value;\\n    } catch(err) {\\n      console.log(err)\\n    }\\n    \"}}]]]},\"stylesheets\":[\"\\n:host(.pn-loading):before, .pn-loading:before {\\n  background-color: #c3c3c3;\\n  mask-size: auto calc(min(50%, 400px));\\n  -webkit-mask-size: auto calc(min(50%, 400px));\\n}\",{\"id\":\"2f937fac-644e-46d6-8e1c-62860b19659f\"},{\"id\":\"9abfa858-81d5-4a87-8c61-9d9f2ce4e254\"},{\"id\":\"66e05221-0035-4b97-9329-6017eb4bfbd0\"},{\"id\":\"d98d9a52-e771-4708-b062-d8d8c48d0b5c\"}],\"width\":640,\"height\":150,\"margin\":[5,10],\"sizing_mode\":\"fixed\",\"align\":\"start\",\"code\":\"def polynomial(\\n        coefficients: jnp.ndarray,\\n        n_observations: int = 100) -> [jnp.ndarray, jnp.ndarray]:\\n    x = jnp.linspace(0, 1, n_observations)\\n    y = jnp.polyval(coefficients, x)\\n    return x, \",\"theme\":\"chaos\",\"filename\":\"\",\"language\":\"python\"}}]}},{\"type\":\"object\",\"name\":\"Spacer\",\"id\":\"b46cfdef-4638-4ba9-be76-61d0699440f6\",\"attributes\":{\"name\":\"HSpacer00323\",\"stylesheets\":[\"\\n:host(.pn-loading):before, .pn-loading:before {\\n  background-color: #c3c3c3;\\n  mask-size: auto calc(min(50%, 400px));\\n  -webkit-mask-size: auto calc(min(50%, 400px));\\n}\",{\"id\":\"2f937fac-644e-46d6-8e1c-62860b19659f\"},{\"id\":\"9abfa858-81d5-4a87-8c61-9d9f2ce4e254\"},{\"id\":\"66e05221-0035-4b97-9329-6017eb4bfbd0\"},{\"id\":\"d98d9a52-e771-4708-b062-d8d8c48d0b5c\"}],\"margin\":0,\"sizing_mode\":\"stretch_width\",\"align\":\"start\"}}]}},{\"type\":\"object\",\"name\":\"panel.models.comm_manager.CommManager\",\"id\":\"102aed60-2b46-4812-8d73-9e27de21eda0\",\"attributes\":{\"plot_id\":\"d9f9a070-d059-43c3-a325-c2fbc0da2b28\",\"comm_id\":\"b43df963f81d490780b87ca46c831fef\",\"client_comm_id\":\"af86e8b7c73d4fa1b19f9f0269bd1e52\"}}],\"defs\":[{\"type\":\"model\",\"name\":\"ReactiveHTML1\"},{\"type\":\"model\",\"name\":\"FlexBox1\",\"properties\":[{\"name\":\"align_content\",\"kind\":\"Any\",\"default\":\"flex-start\"},{\"name\":\"align_items\",\"kind\":\"Any\",\"default\":\"flex-start\"},{\"name\":\"flex_direction\",\"kind\":\"Any\",\"default\":\"row\"},{\"name\":\"flex_wrap\",\"kind\":\"Any\",\"default\":\"wrap\"},{\"name\":\"gap\",\"kind\":\"Any\",\"default\":\"\"},{\"name\":\"justify_content\",\"kind\":\"Any\",\"default\":\"flex-start\"}]},{\"type\":\"model\",\"name\":\"FloatPanel1\",\"properties\":[{\"name\":\"config\",\"kind\":\"Any\",\"default\":{\"type\":\"map\"}},{\"name\":\"contained\",\"kind\":\"Any\",\"default\":true},{\"name\":\"position\",\"kind\":\"Any\",\"default\":\"right-top\"},{\"name\":\"offsetx\",\"kind\":\"Any\",\"default\":null},{\"name\":\"offsety\",\"kind\":\"Any\",\"default\":null},{\"name\":\"theme\",\"kind\":\"Any\",\"default\":\"primary\"},{\"name\":\"status\",\"kind\":\"Any\",\"default\":\"normalized\"}]},{\"type\":\"model\",\"name\":\"GridStack1\",\"properties\":[{\"name\":\"mode\",\"kind\":\"Any\",\"default\":\"warn\"},{\"name\":\"ncols\",\"kind\":\"Any\",\"default\":null},{\"name\":\"nrows\",\"kind\":\"Any\",\"default\":null},{\"name\":\"allow_resize\",\"kind\":\"Any\",\"default\":true},{\"name\":\"allow_drag\",\"kind\":\"Any\",\"default\":true},{\"name\":\"state\",\"kind\":\"Any\",\"default\":[]}]},{\"type\":\"model\",\"name\":\"drag1\",\"properties\":[{\"name\":\"slider_width\",\"kind\":\"Any\",\"default\":5},{\"name\":\"slider_color\",\"kind\":\"Any\",\"default\":\"black\"},{\"name\":\"value\",\"kind\":\"Any\",\"default\":50}]},{\"type\":\"model\",\"name\":\"click1\",\"properties\":[{\"name\":\"terminal_output\",\"kind\":\"Any\",\"default\":\"\"},{\"name\":\"debug_name\",\"kind\":\"Any\",\"default\":\"\"},{\"name\":\"clears\",\"kind\":\"Any\",\"default\":0}]},{\"type\":\"model\",\"name\":\"FastWrapper1\",\"properties\":[{\"name\":\"object\",\"kind\":\"Any\",\"default\":null},{\"name\":\"style\",\"kind\":\"Any\",\"default\":null}]},{\"type\":\"model\",\"name\":\"NotificationAreaBase1\",\"properties\":[{\"name\":\"js_events\",\"kind\":\"Any\",\"default\":{\"type\":\"map\"}},{\"name\":\"position\",\"kind\":\"Any\",\"default\":\"bottom-right\"},{\"name\":\"_clear\",\"kind\":\"Any\",\"default\":0}]},{\"type\":\"model\",\"name\":\"NotificationArea1\",\"properties\":[{\"name\":\"js_events\",\"kind\":\"Any\",\"default\":{\"type\":\"map\"}},{\"name\":\"notifications\",\"kind\":\"Any\",\"default\":[]},{\"name\":\"position\",\"kind\":\"Any\",\"default\":\"bottom-right\"},{\"name\":\"_clear\",\"kind\":\"Any\",\"default\":0},{\"name\":\"types\",\"kind\":\"Any\",\"default\":[{\"type\":\"map\",\"entries\":[[\"type\",\"warning\"],[\"background\",\"#ffc107\"],[\"icon\",{\"type\":\"map\",\"entries\":[[\"className\",\"fas fa-exclamation-triangle\"],[\"tagName\",\"i\"],[\"color\",\"white\"]]}]]},{\"type\":\"map\",\"entries\":[[\"type\",\"info\"],[\"background\",\"#007bff\"],[\"icon\",{\"type\":\"map\",\"entries\":[[\"className\",\"fas fa-info-circle\"],[\"tagName\",\"i\"],[\"color\",\"white\"]]}]]}]}]},{\"type\":\"model\",\"name\":\"Notification\",\"properties\":[{\"name\":\"background\",\"kind\":\"Any\",\"default\":null},{\"name\":\"duration\",\"kind\":\"Any\",\"default\":3000},{\"name\":\"icon\",\"kind\":\"Any\",\"default\":null},{\"name\":\"message\",\"kind\":\"Any\",\"default\":\"\"},{\"name\":\"notification_type\",\"kind\":\"Any\",\"default\":null},{\"name\":\"_destroyed\",\"kind\":\"Any\",\"default\":false}]},{\"type\":\"model\",\"name\":\"TemplateActions1\",\"properties\":[{\"name\":\"open_modal\",\"kind\":\"Any\",\"default\":0},{\"name\":\"close_modal\",\"kind\":\"Any\",\"default\":0}]},{\"type\":\"model\",\"name\":\"BootstrapTemplateActions1\",\"properties\":[{\"name\":\"open_modal\",\"kind\":\"Any\",\"default\":0},{\"name\":\"close_modal\",\"kind\":\"Any\",\"default\":0}]},{\"type\":\"model\",\"name\":\"TemplateEditor1\",\"properties\":[{\"name\":\"layout\",\"kind\":\"Any\",\"default\":[]}]},{\"type\":\"model\",\"name\":\"MaterialTemplateActions1\",\"properties\":[{\"name\":\"open_modal\",\"kind\":\"Any\",\"default\":0},{\"name\":\"close_modal\",\"kind\":\"Any\",\"default\":0}]},{\"type\":\"model\",\"name\":\"copy_to_clipboard1\",\"properties\":[{\"name\":\"fill\",\"kind\":\"Any\",\"default\":\"none\"},{\"name\":\"value\",\"kind\":\"Any\",\"default\":null}]}]}};\n",
       "  var render_items = [{\"docid\":\"689c6ad6-4fd1-496a-9be6-c6dee0751eae\",\"roots\":{\"d9f9a070-d059-43c3-a325-c2fbc0da2b28\":\"cafda12a-ac42-4244-b9c6-88bb5323d3d5\"},\"root_ids\":[\"d9f9a070-d059-43c3-a325-c2fbc0da2b28\"]}];\n",
       "  var docs = Object.values(docs_json)\n",
       "  if (!docs) {\n",
       "    return\n",
       "  }\n",
       "  const py_version = docs[0].version.replace('rc', '-rc.').replace('.dev', '-dev.')\n",
       "  function embed_document(root) {\n",
       "    var Bokeh = get_bokeh(root)\n",
       "    Bokeh.embed.embed_items_notebook(docs_json, render_items);\n",
       "    for (const render_item of render_items) {\n",
       "      for (const root_id of render_item.root_ids) {\n",
       "\tconst id_el = document.getElementById(root_id)\n",
       "\tif (id_el.children.length && (id_el.children[0].className === 'bk-root')) {\n",
       "\t  const root_el = id_el.children[0]\n",
       "\t  root_el.id = root_el.id + '-rendered'\n",
       "\t}\n",
       "      }\n",
       "    }\n",
       "  }\n",
       "  function get_bokeh(root) {\n",
       "    if (root.Bokeh === undefined) {\n",
       "      return null\n",
       "    } else if (root.Bokeh.version !== py_version) {\n",
       "      if (root.Bokeh.versions === undefined || !root.Bokeh.versions.has(py_version)) {\n",
       "\treturn null\n",
       "      }\n",
       "      return root.Bokeh.versions.get(py_version);\n",
       "    } else if (root.Bokeh.version === py_version) {\n",
       "      return root.Bokeh\n",
       "    }\n",
       "    return null\n",
       "  }\n",
       "  function is_loaded(root) {\n",
       "    var Bokeh = get_bokeh(root)\n",
       "    return (Bokeh != null && Bokeh.Panel !== undefined)\n",
       "  }\n",
       "  if (is_loaded(root)) {\n",
       "    embed_document(root);\n",
       "  } else {\n",
       "    var attempts = 0;\n",
       "    var timer = setInterval(function(root) {\n",
       "      if (is_loaded(root)) {\n",
       "        clearInterval(timer);\n",
       "        embed_document(root);\n",
       "      } else if (document.readyState == \"complete\") {\n",
       "        attempts++;\n",
       "        if (attempts > 200) {\n",
       "          clearInterval(timer);\n",
       "\t  var Bokeh = get_bokeh(root)\n",
       "\t  if (Bokeh == null || Bokeh.Panel == null) {\n",
       "            console.warn(\"Panel: ERROR: Unable to run Panel code because Bokeh or Panel library is missing\");\n",
       "\t  } else {\n",
       "\t    console.warn(\"Panel: WARNING: Attempting to render but not all required libraries could be resolved.\")\n",
       "\t    embed_document(root)\n",
       "\t  }\n",
       "        }\n",
       "      }\n",
       "    }, 25, root)\n",
       "  }\n",
       "})(window);</script>"
      ],
      "text/plain": [
       "Row\n",
       "    [0] HSpacer()\n",
       "    [1] Column\n",
       "        [0] Row\n",
       "            [0] Param(RegressionPolynomialSolver, name='Problem parameters', widgets={})\n",
       "            [1] ParamMethod(method, _pane=Bokeh, defer_load=False)\n",
       "        [1] CodeEditor(height=150, language='python', sizing_mode='fixed', theme='chaos', value='def polynomial(\\n        ..., width=640)\n",
       "    [2] HSpacer()"
      ]
     },
     "execution_count": 14,
     "metadata": {
      "application/vnd.holoviews_exec.v0+json": {
       "id": "d9f9a070-d059-43c3-a325-c2fbc0da2b28"
      }
     },
     "output_type": "execute_result"
    }
   ],
   "source": [
    "def solve(x, y, degree):\n",
    "    X = x[:, np.newaxis]\n",
    "    # Create our polynomial model for regression\n",
    "    model = make_pipeline(PolynomialFeatures(degree), LinearRegression())\n",
    "    # Fit the parameters of this model\n",
    "    model.fit(X, y)\n",
    "    # Predict the values\n",
    "    x_predict = np.linspace(np.min(x), np.max(x), 200)[:, np.newaxis]\n",
    "    y_model = model.predict(x_predict)\n",
    "    return x_predict[:, 0], y_model #np.array(jnp.zeros(y_model.shape))\n",
    "\n",
    "explorer.solve = solve\n",
    "explorer.render()"
   ]
  },
  {
   "cell_type": "markdown",
   "metadata": {},
   "source": [
    "<a id=\"linear\"></a>\n",
    "# Simple linear regression \n",
    "\n",
    "As discussed previously, regression allows to model the relationships that exist between inputs $\\mathbf{x}\\in\\mathbb{R}^{n}$ and a continuous output $y\\in\\mathbb{R}$. In the case of **linear** regression, we assume that the data that we observe comes from a linear relationship in the input, so that\n",
    "$$y = w_0 + w_1x_1 + w_2x_2 + ... + w_nx_n + \\epsilon$$\n",
    "with $\\epsilon$ exhibiting the *observation noise* (also called *residual error*) that is always present in measurements.\n",
    "\n",
    "To understand how we could learn a model approximating this relationship, we start with the case of *simple* linear regression, where $\\mathbf{x}\\in\\mathbb{R}$. This implies that our model will follow\n",
    "$$\\bar{y} = w_0 + w_1 x$$\n",
    "\n",
    "We will measure the errors made by our model by using the Mean Squared Error (MSE) loss, defined as \n",
    "$$\\mathcal{L}_{MSE}\\left( \\bar{\\mathbf{y}},\\theta \\right) = \\sum_{i=1}^{n} \\left| y_{i} - \\bar{y}_{i} \\right|^{2} = \\sum_{i=1}^{n} \\left| y_{i} - (w_{0} + w_{1} x_{i}) \\right|^{2}$$\n",
    "\n",
    "Then our goal is to find the most adequate set of parameters $\\theta = \\{w_{0}, w_{1}\\}$, which are those that minimize the MSE loss defined previously. Therefore, we aim to obtain\n",
    "$$\\theta^{*}= \\underset{\\theta}{\\text{argmin }} \\mathcal{L}\\left( \\bar{\\mathbf{y}}, \\mathbf{y} \\mid f_{\\theta}, \\theta \\right)$$\n",
    "\n",
    "To do so, we will implement the **gradient descent** algorithm discussed in the course.\n",
    "\n",
    "## Manual implementation - `NumPy`\n",
    "\n",
    "We start by performing a *full manual implementation*, in the sense that we need to manually derive the gradient in order to apply the gradient descent updates. To do so, we will rely on [NumPy](https://numpy.org/), which is a fundamental library for numerical computing offering support for N-dimensional arrays and scientific computing tasks, such as linear algebra, statistical analysis, and matrix manipulation. We strongly encourage you to learn NumPy through the set of [tutorials](https://numpy.org/learn/). For the sake of this introductory tutorial, we will provide the explanation for all of the functions that we will use in this first exercise. After that exercise, we will assume for the rest of the course that knowledge of Numpy should be found online. \n",
    "\n",
    "We start by import libraries (`NumPy`) and set a random seed to ensure that the random number generator produces always a reproducible series of random numbers.\n",
    "\n",
    "**Used functions**\n",
    "- `np.random.seed`: sets the seed for the NumPy random number generator. [Documentation](https://numpy.org/doc/stable/reference/random/generated/numpy.random.seed.html)"
   ]
  },
  {
   "cell_type": "code",
   "execution_count": 15,
   "metadata": {},
   "outputs": [],
   "source": [
    "import numpy as np\n",
    "np.random.seed(42)"
   ]
  },
  {
   "cell_type": "code",
   "execution_count": 16,
   "metadata": {},
   "outputs": [
    {
     "data": {
      "text/plain": [
       "\u001b[1;31mDocstring:\u001b[0m\n",
       "seed(seed=None)\n",
       "\n",
       "Reseed the singleton RandomState instance.\n",
       "\n",
       "Notes\n",
       "-----\n",
       "This is a convenience, legacy function that exists to support\n",
       "older code that uses the singleton RandomState. Best practice\n",
       "is to use a dedicated ``Generator`` instance rather than\n",
       "the random variate generation methods exposed directly in\n",
       "the random module.\n",
       "\n",
       "See Also\n",
       "--------\n",
       "numpy.random.Generator\n",
       "\u001b[1;31mType:\u001b[0m      builtin_function_or_method"
      ]
     },
     "metadata": {},
     "output_type": "display_data"
    }
   ],
   "source": [
    "?np.random.seed"
   ]
  },
  {
   "cell_type": "markdown",
   "metadata": {},
   "source": [
    "### Generate a synthetic dataset.\n",
    "\n",
    "For the sake of this exercise, we will generate the data ourselves, so that we know the true values that we are looking for in advance. Hence, we define a linear relationship following\n",
    "$$y = w^{t}_0 + w^{t}_1 x + \\epsilon$$\n",
    "\n",
    "**Used functions**\n",
    "- `np.random.rand`: generates an array of random numbers uniformly distributed over [0, 1). [Documentation](https://numpy.org/doc/stable/reference/random/generated/numpy.random.rand.html)\n",
    "- `np.random.randn`: generates an array of random numbers from the standard normal distribution (mean 0, variance 1). [Documentation](https://numpy.org/doc/stable/reference/random/generated/numpy.random.randn.html)\n",
    "- `np.ones`: generates an array of ones with a specified shape. [Documentation](https://numpy.org/doc/stable/reference/generated/numpy.ones.html)\n",
    "- `np.c_`: concatenates arrays along the second axis. [Documentation](https://numpy.org/doc/stable/reference/generated/numpy.c_.html)"
   ]
  },
  {
   "cell_type": "code",
   "execution_count": 17,
   "metadata": {},
   "outputs": [],
   "source": [
    "import numpy as np\n",
    "true_w0 = 2\n",
    "true_w1 = 3\n",
    "n_obs = 100\n",
    "x = [0, 1]\n",
    "# Input to model\n",
    "x = np.linspace(x[0], x[1], n_obs + 1)\n",
    "# Output (target)\n",
    "y = true_w1 * x + true_w0"
   ]
  },
  {
   "cell_type": "code",
   "execution_count": 18,
   "metadata": {},
   "outputs": [],
   "source": [
    "def mse_loss(y_bar, y_true):\n",
    "    return np.sum((y_true - y_bar) ** 2)"
   ]
  },
  {
   "cell_type": "code",
   "execution_count": 45,
   "metadata": {},
   "outputs": [
    {
     "name": "stdout",
     "output_type": "stream",
     "text": [
      "[ 0.22856456  0.15038661  0.15820639 -0.18187749  0.28055886 -0.28037021\n",
      "  0.11737142  0.43809113 -0.19810727 -0.11325955  0.01993027 -0.10069513\n",
      " -0.31013269  0.01371259 -0.21246074  0.09471849 -0.18388485  0.30998688\n",
      " -0.15665066 -0.0644123   0.16270344 -0.24617286  0.04549199  0.26142855\n",
      " -0.32149665  0.03692677  0.05197656  0.15636457 -0.24739014 -0.26409132\n",
      "  0.10438831  0.05939693  0.05009857  0.06928964 -0.13600494  0.04645074\n",
      "  0.05861449 -0.14287028  0.3731549   0.09476658 -0.2382607   0.13131072\n",
      " -0.19493633  0.15741692  0.23171912 -0.16413646  0.19267523  0.08255619\n",
      "  0.16441203  0.3793586  -0.04907762 -0.15074723 -0.17790289 -0.16316206\n",
      " -0.01542034  0.06823039  0.05533816  0.16543665  0.00260038  0.29070682\n",
      " -0.05293137  0.54403383  0.12513347 -0.17143151 -0.2141785   0.09649448\n",
      " -0.04469256  0.1428001   0.09464752 -0.01456578 -0.16935874 -0.30296944\n",
      " -0.08930299  0.17127976  0.04281875 -0.24914776  0.03463619  0.07706348\n",
      " -0.17677149  0.03074502  0.01164174 -0.22859406  0.07155747  0.11215691\n",
      "  0.21661025  0.21076041 -0.27553387 -0.18756501  0.10300705  0.10275719\n",
      "  0.10300954  0.7705463   0.1141781   0.22711313  0.19080035  0.13027825\n",
      " -0.06305385  0.15179384 -0.15456504 -0.04736372]\n"
     ]
    }
   ],
   "source": [
    "true_w0 = 2\n",
    "true_w1 = 3\n",
    "x_min = 0\n",
    "x_max = 1\n",
    "n_obs = 100\n",
    "# done by rudy\n",
    "# modified the eps to get the randomness\n",
    "eps=np.random.randn(x.shape[0])*0.2\n",
    "x = np.linspace(x_min, x_max, n_obs)\n",
    "y = true_w1 * x + true_w0 + eps\n",
    "print (eps)"
   ]
  },
  {
   "cell_type": "code",
   "execution_count": 46,
   "metadata": {},
   "outputs": [],
   "source": [
    "def mse_loss(y, y_bar):\n",
    "    return np.sum((y - y_bar) ** 2)"
   ]
  },
  {
   "cell_type": "markdown",
   "metadata": {},
   "source": [
    "### Computing the MSE loss\n",
    "\n",
    "We will measure the errors made by our model by using the Mean Squared Error (MSE) loss, defined as \n",
    "$$\\mathcal{L}_{MSE}\\left( \\bar{\\mathbf{y}},\\theta \\right) = \\sum_{i=1}^{n} \\left| y_{i} - \\bar{y}_{i} \\right|^{2} = \\sum_{i=1}^{n} \\left| y_{i} - (w_{0} + w_{1} x_{i}) \\right|^{2}$$\n",
    "\n",
    "This will allow us to evaluate the performances of our model, but is also the basis for the following gradient descent algorithm.\n",
    "\n",
    "**Used functions**\n",
    "- `np.sum`: computes the sum of the provided array (optionally across a provided `axis`). [Documentation](https://numpy.org/doc/stable/reference/generated/numpy.mean.html)"
   ]
  },
  {
   "cell_type": "code",
   "execution_count": 47,
   "metadata": {},
   "outputs": [],
   "source": [
    "def mse_loss(y, y_bar):\n",
    "    return np.sum((y - y_bar) ** 2)"
   ]
  },
  {
   "cell_type": "markdown",
   "metadata": {},
   "source": [
    "### Implement the gradient descent algorithm.\n",
    "\n",
    "As seen in the course Initialize the weight $w_1$ and bias $w_0$ to small random values\n",
    "1. Evaluate the predictions made by our model \n",
    "$$\\hat{y} = w_{1}x + w_0$$\n",
    "2. Compute the mean squared error (MSE) loss between the predicted values and the ground truth labels: \n",
    "$$\\mathcal{L}_{MSE} = \\frac{1}{n} \\sum_{i=1}^n (\\bar{y_i} - y_i)^2$$\n",
    "3. Compute the gradients of the loss with respect to the weight and bias (see derivation in the course)\n",
    "$$\\frac{\\partial \\mathcal{L}}{\\partial w_1} = \\sum_{i} 2 * (\\bar{y}_{i} - y_{i})*x_{i}$$\n",
    "$$\\frac{\\partial \\mathcal{L}}{\\partial w_0} = \\sum_{i} 2 * (\\bar{y}_{i} - y_{i})$$\n",
    "4. Update the weights and bias using the gradients and a learning rate $\\eta$: \n",
    "$$w_1 \\leftarrow w_1 - \\eta \\frac{\\partial \\mathcal{L}}{\\partial w_1}$$ \n",
    "$$w_0 \\leftarrow w_0 - \\eta \\frac{\\partial \\mathcal{L}}{\\partial w_0}$$"
   ]
  },
  {
   "cell_type": "code",
   "execution_count": 48,
   "metadata": {},
   "outputs": [
    {
     "name": "stdout",
     "output_type": "stream",
     "text": [
      "1.9932723378290707\n",
      "3.061948594319123\n"
     ]
    }
   ],
   "source": [
    "n_iter = 1000\n",
    "loss = np.zeros(n_iter)\n",
    "eta = 1e-3\n",
    "def model(x, w0, w1):\n",
    "    return x * w1 + w0\n",
    "w0 = np.random.randn()\n",
    "w1 = np.random.randn()\n",
    "for i in range(n_iter):\n",
    "    y_bar = model(x, w0, w1)\n",
    "    l_mse = mse_loss(y, y_bar)\n",
    "    #print(f'w0 = {w0}, w1 = {w1}, loss = {l_mse}')\n",
    "    dldw0 = np.sum(2 * (y_bar - y))\n",
    "    w0 = w0 - eta * dldw0\n",
    "    dldw1 = np.sum(2 * (y_bar - y) * x)\n",
    "    w1 = w1 - eta * dldw1\n",
    "    loss[i] = l_mse\n",
    "import matplotlib.pyplot as plt\n",
    "print(w0)\n",
    "print(w1)"
   ]
  },
  {
   "cell_type": "code",
   "execution_count": 49,
   "metadata": {},
   "outputs": [
    {
     "name": "stdout",
     "output_type": "stream",
     "text": [
      "3.0619517590140046\n",
      "1.9932706417607298\n"
     ]
    }
   ],
   "source": [
    "# Parameters\n",
    "n_iter = 1000\n",
    "lr = 0.001\n",
    "def gradient_descent(x, y, n_iter, lr):\n",
    "    # Initialize the parameters\n",
    "    w_1 = np.random.randn()\n",
    "    w_0 = np.random.randn()\n",
    "    # Perform gradient descent\n",
    "    for i in range(n_iter):\n",
    "        # 1. Calculate the predictions\n",
    "        y_bar = w_1 * x + w_0\n",
    "        # 2. Compute the loss\n",
    "        loss = mse_loss(y, y_bar)\n",
    "        # 3. Calculate the gradients\n",
    "        dw_1 = 2 * np.sum((y_bar - y) * x)\n",
    "        dw_0 = 2 * np.sum((y_bar - y))\n",
    "        # 4. Update the parameters\n",
    "        w_1 -= lr * dw_1\n",
    "        w_0 -= lr * dw_0\n",
    "    return w_1, w_0\n",
    "w_1, w_0 = gradient_descent(x, y, n_iter, lr)\n",
    "print(w_1)\n",
    "print(w_0)"
   ]
  },
  {
   "cell_type": "markdown",
   "metadata": {},
   "source": [
    "### Visualize the results.\n",
    "\n",
    "We can see how well our model fits to the observed data by plotting it against the observed samples."
   ]
  },
  {
   "cell_type": "code",
   "execution_count": 50,
   "metadata": {},
   "outputs": [
    {
     "name": "stderr",
     "output_type": "stream",
     "text": [
      "BokehDeprecationWarning: 'circle() method with size value' was deprecated in Bokeh 3.4.0 and will be removed, use 'scatter(size=...) instead' instead.\n"
     ]
    },
    {
     "data": {},
     "metadata": {},
     "output_type": "display_data"
    },
    {
     "data": {
      "application/vnd.holoviews_exec.v0+json": "",
      "text/html": [
       "<div id='dd7dc378-1d42-4cfe-be6e-a74ab8b3951b'>\n",
       "  <div id=\"c03a7416-fce1-4675-8620-2f1e63561377\" data-root-id=\"dd7dc378-1d42-4cfe-be6e-a74ab8b3951b\" style=\"display: contents;\"></div>\n",
       "</div>\n",
       "<script type=\"application/javascript\">(function(root) {\n",
       "  var docs_json = {\"9462c7ab-a9d2-4f97-ac44-b8df0d28ea83\":{\"version\":\"3.4.1\",\"title\":\"Bokeh Application\",\"roots\":[{\"type\":\"object\",\"name\":\"Row\",\"id\":\"dd7dc378-1d42-4cfe-be6e-a74ab8b3951b\",\"attributes\":{\"name\":\"Row00423\",\"stylesheets\":[\"\\n:host(.pn-loading):before, .pn-loading:before {\\n  background-color: #c3c3c3;\\n  mask-size: auto calc(min(50%, 400px));\\n  -webkit-mask-size: auto calc(min(50%, 400px));\\n}\",{\"type\":\"object\",\"name\":\"ImportedStyleSheet\",\"id\":\"c1840adc-a590-4a50-9c1a-aefb54e36817\",\"attributes\":{\"url\":\"https://cdn.holoviz.org/panel/1.4.1/dist/css/loading.css\"}},{\"type\":\"object\",\"name\":\"ImportedStyleSheet\",\"id\":\"b3beed82-133a-4edf-9814-1e81217180e7\",\"attributes\":{\"url\":\"cml/cml.css\"}},{\"type\":\"object\",\"name\":\"ImportedStyleSheet\",\"id\":\"9fb0c205-a291-49b2-ba50-c3de2d1a3433\",\"attributes\":{\"url\":\"https://cdn.holoviz.org/panel/1.4.1/dist/css/listpanel.css\"}},{\"type\":\"object\",\"name\":\"ImportedStyleSheet\",\"id\":\"8d0818f6-49ea-4061-a6fb-a6813e939744\",\"attributes\":{\"url\":\"https://cdn.holoviz.org/panel/1.4.1/dist/bundled/theme/default.css\"}},{\"type\":\"object\",\"name\":\"ImportedStyleSheet\",\"id\":\"2a77037a-3a1e-40e4-9943-8a4c7f188da6\",\"attributes\":{\"url\":\"https://cdn.holoviz.org/panel/1.4.1/dist/bundled/theme/native.css\"}}],\"min_width\":600,\"margin\":0,\"sizing_mode\":\"stretch_width\",\"align\":\"start\",\"children\":[{\"type\":\"object\",\"name\":\"Spacer\",\"id\":\"1a839598-99cf-4686-9455-dec991f70d3a\",\"attributes\":{\"name\":\"HSpacer00419\",\"stylesheets\":[\"\\n:host(.pn-loading):before, .pn-loading:before {\\n  background-color: #c3c3c3;\\n  mask-size: auto calc(min(50%, 400px));\\n  -webkit-mask-size: auto calc(min(50%, 400px));\\n}\",{\"id\":\"c1840adc-a590-4a50-9c1a-aefb54e36817\"},{\"id\":\"b3beed82-133a-4edf-9814-1e81217180e7\"},{\"id\":\"8d0818f6-49ea-4061-a6fb-a6813e939744\"},{\"id\":\"2a77037a-3a1e-40e4-9943-8a4c7f188da6\"}],\"margin\":0,\"sizing_mode\":\"stretch_width\",\"align\":\"start\"}},{\"type\":\"object\",\"name\":\"Figure\",\"id\":\"5f22e6da-4b73-4d54-b5b0-46d9ea1f97ac\",\"attributes\":{\"height\":450,\"x_range\":{\"type\":\"object\",\"name\":\"DataRange1d\",\"id\":\"f069893f-d2dd-4463-bad5-60bbf2a72a67\"},\"y_range\":{\"type\":\"object\",\"name\":\"DataRange1d\",\"id\":\"a1607a64-6ece-41c9-9019-894658b012a4\"},\"x_scale\":{\"type\":\"object\",\"name\":\"LinearScale\",\"id\":\"694c46bc-f174-4430-8555-539bd00e2a1b\"},\"y_scale\":{\"type\":\"object\",\"name\":\"LinearScale\",\"id\":\"eba3d785-ab23-48e1-afab-8e17c4f00f75\"},\"title\":{\"type\":\"object\",\"name\":\"Title\",\"id\":\"0e5d5f09-4c54-44d6-b927-6e85ae94464e\",\"attributes\":{\"text\":\"Simple linear regression\",\"text_color\":\"#E0E0E0\",\"text_font\":\"Josefin Sans\",\"text_font_size\":\"2.1em\"}},\"outline_line_color\":\"#E0E0E0\",\"outline_line_alpha\":0.25,\"outline_line_width\":3,\"renderers\":[{\"type\":\"object\",\"name\":\"GlyphRenderer\",\"id\":\"8bf61197-7dad-45f7-9fed-619a3005fa74\",\"attributes\":{\"data_source\":{\"type\":\"object\",\"name\":\"ColumnDataSource\",\"id\":\"1764d4de-e0dc-4ea1-b575-5650f3483ad7\",\"attributes\":{\"selected\":{\"type\":\"object\",\"name\":\"Selection\",\"id\":\"2c793d36-9694-4f1f-acc6-bcd8c4b74066\",\"attributes\":{\"indices\":[],\"line_indices\":[]}},\"selection_policy\":{\"type\":\"object\",\"name\":\"UnionRenderers\",\"id\":\"d7446063-e555-427d-a903-2ce0a0bd28bc\"},\"data\":{\"type\":\"map\",\"entries\":[[\"x\",{\"type\":\"ndarray\",\"array\":{\"type\":\"bytes\",\"data\":\"AAAAAAAAAABbv1Kg1q+EP1u/UqDWr5Q/CB988MEHnz9bv1Kg1q+kPzJvZ0jM26k/CB988MEHrz9wZ0jM2xmyP1u/UqDWr7Q/RhdddNFFtz8yb2dIzNu5Px3HcRzHcbw/CB988MEHvz96O0Ni3s7AP3BnSMzbGcI/ZZNNNtlkwz9bv1Kg1q/EP1HrVwrU+sU/RhdddNFFxz88Q2LezpDIPzJvZ0jM28k/J5tssskmyz8dx3Ecx3HMPxPzdobEvM0/CB988MEHzz9/pUCtXynQP3o7Q2LeztA/ddFFF1100T9wZ0jM2xnSP2r9SoFav9I/ZZNNNtlk0z9gKVDrVwrUP1u/UqDWr9Q/VlVVVVVV1T9R61cK1PrVP0yBWr9SoNY/RhdddNFF1z9BrV8pUOvXPzxDYt7OkNg/N9lkk0022T8yb2dIzNvZPy0Fav1Kgdo/J5tssskm2z8iMW9nSMzbPx3HcRzHcdw/GF100UUX3T8T83aGxLzdPw6JeTtDYt4/CB988MEH3z8DtX6lQK3fP3+lQK1fKeA/ffDBBx984D96O0Ni3s7gP3eGxLydIeE/ddFFF1104T9yHMdxHMfhP3BnSMzbGeI/bbLJJpts4j9q/UqBWr/iP2hIzNsZEuM/ZZNNNtlk4z9j3s6QmLfjP2ApUOtXCuQ/XnTRRRdd5D9bv1Kg1q/kP1gK1PqVAuU/VlVVVVVV5T9ToNavFKjlP1HrVwrU+uU/TjbZZJNN5j9MgVq/UqDmP0nM2xkS8+Y/RhdddNFF5z9EYt7OkJjnP0GtXylQ6+c/P/jggw8+6D88Q2LezpDoPzmO4ziO4+g/N9lkk0026T80JObtDInpPzJvZ0jM2+k/L7rooosu6j8tBWr9SoHqPypQ61cK1Oo/J5tssskm6z8l5u0MiXnrPyIxb2dIzOs/IHzwwQcf7D8dx3Ecx3HsPxsS83aGxOw/GF100UUX7T8VqPUrBWrtPxPzdobEvO0/ED744IMP7j8OiXk7Q2LuPwvU+pUCte4/CB988MEH7z8Gav1KgVrvPwO1fqVAre8/AAAAAAAA8D8=\"},\"shape\":[100],\"dtype\":\"float64\",\"order\":\"little\"}],[\"y\",{\"type\":\"ndarray\",\"array\":{\"type\":\"bytes\",\"data\":\"I4tVqBnUAUACpYdoDXIBQEYq5r0gwAFADhANuGSL/j+XdJG00zYDQJpR7qw18P0/a0tuhL1kAkBhsqCGojMFQNGoBNzCWgBA8jf7A5dGAUCbLsBabJUCQAym/Gpx3AFAIPwFVpNtAEDH0cML30IDQAdhH5i6sQFAxHswfuRkBEBNBbSfX2gCQBlH0SjimQZAUlhZNkUcA0DpYLMwPBcEQCO7GMRtJgZAL4cMVxwfA0D9xXU8gLIFQEOoV7PMqgdAwC2Vhwc/A0Du2V4kJFsGQGaOfBQGuAZAJw+j+t7LB0DOLMu9Cs8EQDu/LQfm6gRA5a+U/pobCEBZYdwRhv0HQNQ3X5CKKAhAkEZPuueNCEAkh0HBhScHQHjUd5hA2whAe/3vazkyCUC+o6bipNMHQAAskDaGMgxAYFrkEnI2CkB1omZhd8oHQNgzw8Fo/QpAEIIM21CfCECxTz30/q4LQEh47Dc6hQxAUUZPZ5OYCUCzxHoBY7EMQLsk8G3sDQxAL5SS+5/zDED69vtm5ekOQP+W2/KEugtAOEq4TlwoC0AhIItwzi4LQNiG/WQOiwtAjbkzHrH3DEDFBO21EeENQMQQTfu5BA5AcSBb0EQkD0Cd4tg51xQOQKidkL54UBBAvbX0oDsfDkDTpdVq8JERQG6FO/UDBBBADF5p+LnmDUB4VaPAPc0NQLlEM7HHQxBAbD6IOnikD0DGpVnyQbEQQAKYwcv6nhBAwACz8CxOEEDB+rpNZZ0PQB9P11TSyQ5A5t1lTbxeEEB1jp5DmogRQC1VG70WJBFA2jiZOiUYEEAfG28+xVkRQCryqA8/pBFA6ZGTgVm/EEAkZKh44LIRQCdxWGtYvhFA7a9vzV/nEEBRDbF7wjkSQAzteCNdghJA9DCgtloME0CTK5H4ZCUTQLiiiZl1UhFAnYkd3pHLEUAu0wFZJRQTQIcz6JrrMhNAA32SgzVSE0DvOTYHzBwWQHIGJ820mxNAcrhizGEuFEAQMzlhOigUQFgRn6FICRRA3WkCildiE0DolI9UYF0UQNjxnfGxQhNAhSx34n/PE0A=\"},\"shape\":[100],\"dtype\":\"float64\",\"order\":\"little\"}]]}}},\"view\":{\"type\":\"object\",\"name\":\"CDSView\",\"id\":\"72f5562e-0989-40e5-a4d6-3241cad31989\",\"attributes\":{\"filter\":{\"type\":\"object\",\"name\":\"AllIndices\",\"id\":\"90d879ca-616e-43dd-8fc7-dd471cd05259\"}}},\"glyph\":{\"type\":\"object\",\"name\":\"Scatter\",\"id\":\"c7c3641b-1d7e-40b8-a20e-cb586ed3915e\",\"attributes\":{\"x\":{\"type\":\"field\",\"field\":\"x\"},\"y\":{\"type\":\"field\",\"field\":\"y\"},\"size\":{\"type\":\"value\",\"value\":10},\"line_color\":{\"type\":\"value\",\"value\":\"white\"},\"line_alpha\":{\"type\":\"value\",\"value\":0.25},\"fill_color\":{\"type\":\"value\",\"value\":\"midnightblue\"},\"fill_alpha\":{\"type\":\"value\",\"value\":0.25},\"hatch_alpha\":{\"type\":\"value\",\"value\":0.25}}},\"selection_glyph\":{\"type\":\"object\",\"name\":\"Circle\",\"id\":\"f851db90-ea29-4e53-8507-b1e1ba18e190\",\"attributes\":{\"line_color\":{\"type\":\"value\",\"value\":\"white\"},\"fill_color\":{\"type\":\"value\",\"value\":\"red\"},\"fill_alpha\":{\"type\":\"value\",\"value\":0.8}}},\"nonselection_glyph\":{\"type\":\"object\",\"name\":\"Circle\",\"id\":\"ff9fd27c-3252-4b9e-963e-839fd78a3d19\",\"attributes\":{\"line_color\":{\"type\":\"value\",\"value\":\"white\"},\"fill_color\":{\"type\":\"value\",\"value\":\"midnightblue\"},\"fill_alpha\":{\"type\":\"value\",\"value\":0.5}}},\"hover_glyph\":{\"type\":\"object\",\"name\":\"Scatter\",\"id\":\"ae8566ed-4dc1-4326-8e18-299e1cbdc385\",\"attributes\":{\"x\":{\"type\":\"field\",\"field\":\"x\"},\"y\":{\"type\":\"field\",\"field\":\"y\"},\"size\":{\"type\":\"value\",\"value\":10},\"line_color\":{\"type\":\"value\",\"value\":\"white\"},\"line_alpha\":{\"type\":\"value\",\"value\":0.5},\"fill_color\":{\"type\":\"value\",\"value\":\"red\"},\"fill_alpha\":{\"type\":\"value\",\"value\":0.5},\"hatch_alpha\":{\"type\":\"value\",\"value\":0.5}}},\"muted_glyph\":{\"type\":\"object\",\"name\":\"Scatter\",\"id\":\"f1ad4f1c-cf41-4209-85d4-4e53304d6a70\",\"attributes\":{\"x\":{\"type\":\"field\",\"field\":\"x\"},\"y\":{\"type\":\"field\",\"field\":\"y\"},\"size\":{\"type\":\"value\",\"value\":10},\"line_color\":{\"type\":\"value\",\"value\":\"white\"},\"line_alpha\":{\"type\":\"value\",\"value\":0.2},\"fill_color\":{\"type\":\"value\",\"value\":\"midnightblue\"},\"fill_alpha\":{\"type\":\"value\",\"value\":0.2},\"hatch_alpha\":{\"type\":\"value\",\"value\":0.2}}}}},{\"type\":\"object\",\"name\":\"GlyphRenderer\",\"id\":\"2b6d1f45-def5-49b3-9042-3894070448f9\",\"attributes\":{\"data_source\":{\"type\":\"object\",\"name\":\"ColumnDataSource\",\"id\":\"029ac70e-0b03-4bf3-bf72-470bca4a25f5\",\"attributes\":{\"selected\":{\"type\":\"object\",\"name\":\"Selection\",\"id\":\"eae16bb2-95e2-4f53-9efa-0dd02f1e1b78\",\"attributes\":{\"indices\":[],\"line_indices\":[]}},\"selection_policy\":{\"type\":\"object\",\"name\":\"UnionRenderers\",\"id\":\"579bbc88-a602-41ca-bb7b-ad7904f2c1d5\"},\"data\":{\"type\":\"map\",\"entries\":[[\"x\",{\"type\":\"ndarray\",\"array\":{\"type\":\"bytes\",\"data\":\"AAAAAAAAAABbv1Kg1q+EP1u/UqDWr5Q/CB988MEHnz9bv1Kg1q+kPzJvZ0jM26k/CB988MEHrz9wZ0jM2xmyP1u/UqDWr7Q/RhdddNFFtz8yb2dIzNu5Px3HcRzHcbw/CB988MEHvz96O0Ni3s7AP3BnSMzbGcI/ZZNNNtlkwz9bv1Kg1q/EP1HrVwrU+sU/RhdddNFFxz88Q2LezpDIPzJvZ0jM28k/J5tssskmyz8dx3Ecx3HMPxPzdobEvM0/CB988MEHzz9/pUCtXynQP3o7Q2LeztA/ddFFF1100T9wZ0jM2xnSP2r9SoFav9I/ZZNNNtlk0z9gKVDrVwrUP1u/UqDWr9Q/VlVVVVVV1T9R61cK1PrVP0yBWr9SoNY/RhdddNFF1z9BrV8pUOvXPzxDYt7OkNg/N9lkk0022T8yb2dIzNvZPy0Fav1Kgdo/J5tssskm2z8iMW9nSMzbPx3HcRzHcdw/GF100UUX3T8T83aGxLzdPw6JeTtDYt4/CB988MEH3z8DtX6lQK3fP3+lQK1fKeA/ffDBBx984D96O0Ni3s7gP3eGxLydIeE/ddFFF1104T9yHMdxHMfhP3BnSMzbGeI/bbLJJpts4j9q/UqBWr/iP2hIzNsZEuM/ZZNNNtlk4z9j3s6QmLfjP2ApUOtXCuQ/XnTRRRdd5D9bv1Kg1q/kP1gK1PqVAuU/VlVVVVVV5T9ToNavFKjlP1HrVwrU+uU/TjbZZJNN5j9MgVq/UqDmP0nM2xkS8+Y/RhdddNFF5z9EYt7OkJjnP0GtXylQ6+c/P/jggw8+6D88Q2LezpDoPzmO4ziO4+g/N9lkk0026T80JObtDInpPzJvZ0jM2+k/L7rooosu6j8tBWr9SoHqPypQ61cK1Oo/J5tssskm6z8l5u0MiXnrPyIxb2dIzOs/IHzwwQcf7D8dx3Ecx3HsPxsS83aGxOw/GF100UUX7T8VqPUrBWrtPxPzdobEvO0/ED744IMP7j8OiXk7Q2LuPwvU+pUCte4/CB988MEH7z8Gav1KgVrvPwO1fqVAre8/AAAAAAAA8D8=\"},\"shape\":[100],\"dtype\":\"float64\",\"order\":\"little\"}],[\"y\",{\"type\":\"ndarray\",\"array\":{\"type\":\"bytes\",\"data\":\"PAenwW/k/z/1kNl6jzEAQEye3xTncABAo6vlrj6wAED6uOtIlu8AQFDG8eLtLgFAp9P3fEVuAUD+4P0Wna0BQFXuA7H07AFArPsJS0wsAkADCRDlo2sCQFoWFn/7qgJAsSMcGVPqAkAIMSKzqikDQF4+KE0CaQNAtUsu51moA0AMWTSBsecDQGNmOhsJJwRAunNAtWBmBEARgUZPuKUEQGiOTOkP5QRAvptSg2ckBUAWqVgdv2MFQGy2XrcWowVAw8NkUW7iBUAa0WrrxSEGQHHecIUdYQZAyOt2H3WgBkAf+Xy5zN8GQHYGg1MkHwdAzBOJ7XteB0AjIY+H050HQHoulSEr3QdA0jubu4IcCEAoSaFV2lsIQH9Wp+8xmwhA1mOtiYnaCEAscbMj4RkJQIR+ub04WQlA2ou/V5CYCUAymcXx59cJQIimy4s/FwpA37PRJZdWCkA2wde/7pUKQI3O3VlG1QpA5Nvj850UC0A76emN9VMLQJL27ydNkwtA6AP2waTSC0A/Efxb/BEMQJYeAvZTUQxA7isIkKuQDEBEOQ4qA9AMQJpGFMRaDw1A8lMaXrJODUBIYSD4CY4NQKBuJpJhzQ1A9nssLLkMDkBNiTLGEEwOQKSWOGBoiw5A+6M++r/KDkBSsUSUFwoPQKi+Si5vSQ9AAMxQyMaID0BW2VZiHsgPQFZzLv66AxBAAnoxy2YjEECugDSYEkMQQFmHN2W+YhBABI46MmqCEECwlD3/FaIQQFybQMzBwRBABqJDmW3hEECyqEZmGQERQF6vSTPFIBFACrZMAHFAEUC0vE/NHGARQGDDUprIfxFADMpVZ3SfEUC30Fg0IL8RQGLXWwHM3hFADt5eznf+EUC65GGbIx4SQGTrZGjPPRJAEPJnNXtdEkC8+GoCJ30SQGf/bc/SnBJAEgZxnH68EkC+DHRpKtwSQGoTdzbW+xJAFRp6A4IbE0DAIH3QLTsTQGwngJ3ZWhNAFy6DaoV6E0DCNIY3MZoTQG47iQTduRNAGkKM0YjZE0DFSI+eNPkTQHBPkmvgGBRAHFaVOIw4FEA=\"},\"shape\":[100],\"dtype\":\"float64\",\"order\":\"little\"}]]}}},\"view\":{\"type\":\"object\",\"name\":\"CDSView\",\"id\":\"5cc8f87f-25db-4971-9813-0cb66b49d171\",\"attributes\":{\"filter\":{\"type\":\"object\",\"name\":\"AllIndices\",\"id\":\"a4900767-5a65-4a46-ae07-0d43b2fca32e\"}}},\"glyph\":{\"type\":\"object\",\"name\":\"Line\",\"id\":\"f114a03a-a3d7-4f6b-b501-189bde5f8833\",\"attributes\":{\"x\":{\"type\":\"field\",\"field\":\"x\"},\"y\":{\"type\":\"field\",\"field\":\"y\"},\"line_color\":\"red\",\"line_alpha\":0.6,\"line_width\":6}},\"nonselection_glyph\":{\"type\":\"object\",\"name\":\"Line\",\"id\":\"6bdf2e23-7087-4684-9311-bdd21e0750c4\",\"attributes\":{\"x\":{\"type\":\"field\",\"field\":\"x\"},\"y\":{\"type\":\"field\",\"field\":\"y\"},\"line_color\":\"red\",\"line_alpha\":0.1,\"line_width\":6}},\"muted_glyph\":{\"type\":\"object\",\"name\":\"Line\",\"id\":\"8ac23082-f83d-4b27-9895-3b05c5b87f3c\",\"attributes\":{\"x\":{\"type\":\"field\",\"field\":\"x\"},\"y\":{\"type\":\"field\",\"field\":\"y\"},\"line_color\":\"red\",\"line_alpha\":0.2,\"line_width\":6}}}}],\"toolbar\":{\"type\":\"object\",\"name\":\"Toolbar\",\"id\":\"a3243129-3ddc-4267-96c5-9375eb2664ec\",\"attributes\":{\"tools\":[{\"type\":\"object\",\"name\":\"PanTool\",\"id\":\"554553db-0d26-4ca7-98ea-139a912a731f\"},{\"type\":\"object\",\"name\":\"WheelZoomTool\",\"id\":\"7a883c3a-ca5d-40e0-bbd0-e6ee22fba53e\",\"attributes\":{\"renderers\":\"auto\"}},{\"type\":\"object\",\"name\":\"BoxZoomTool\",\"id\":\"fed89090-f120-4561-b109-31c44d8dc296\",\"attributes\":{\"overlay\":{\"type\":\"object\",\"name\":\"BoxAnnotation\",\"id\":\"063ca341-ee8b-4adc-a61f-7fb879d43993\",\"attributes\":{\"syncable\":false,\"level\":\"overlay\",\"visible\":false,\"left\":{\"type\":\"number\",\"value\":\"nan\"},\"right\":{\"type\":\"number\",\"value\":\"nan\"},\"top\":{\"type\":\"number\",\"value\":\"nan\"},\"bottom\":{\"type\":\"number\",\"value\":\"nan\"},\"left_units\":\"canvas\",\"right_units\":\"canvas\",\"top_units\":\"canvas\",\"bottom_units\":\"canvas\",\"line_color\":\"black\",\"line_alpha\":1.0,\"line_width\":2,\"line_dash\":[4,4],\"fill_color\":\"lightgrey\",\"fill_alpha\":0.5}}}},{\"type\":\"object\",\"name\":\"SaveTool\",\"id\":\"18c6888c-3404-4a42-abf5-19c33a23b828\"},{\"type\":\"object\",\"name\":\"ResetTool\",\"id\":\"af8af780-62df-47dc-9987-4c6853cbb9df\"},{\"type\":\"object\",\"name\":\"HelpTool\",\"id\":\"e9a14e18-76af-41d5-b12d-101720c68c72\"},{\"type\":\"object\",\"name\":\"HoverTool\",\"id\":\"0fa0d981-2454-4f31-a809-18a8a44be31f\",\"attributes\":{\"renderers\":[{\"id\":\"8bf61197-7dad-45f7-9fed-619a3005fa74\"}],\"tooltips\":null,\"mode\":\"vline\"}},{\"type\":\"object\",\"name\":\"BoxSelectTool\",\"id\":\"d11a10cc-ef56-4439-904e-b2624c7c6495\",\"attributes\":{\"renderers\":[{\"id\":\"8bf61197-7dad-45f7-9fed-619a3005fa74\"}],\"mode\":\"append\",\"overlay\":{\"type\":\"object\",\"name\":\"BoxAnnotation\",\"id\":\"4195dae6-9655-4e3a-8bed-a2a90009318a\",\"attributes\":{\"syncable\":false,\"level\":\"overlay\",\"visible\":false,\"left\":{\"type\":\"number\",\"value\":\"nan\"},\"right\":{\"type\":\"number\",\"value\":\"nan\"},\"top\":{\"type\":\"number\",\"value\":\"nan\"},\"bottom\":{\"type\":\"number\",\"value\":\"nan\"},\"editable\":true,\"line_color\":\"black\",\"line_alpha\":1.0,\"line_width\":2,\"line_dash\":[4,4],\"fill_color\":\"lightgrey\",\"fill_alpha\":0.5}}}}]}},\"toolbar_location\":null,\"left\":[{\"type\":\"object\",\"name\":\"LinearAxis\",\"id\":\"3fa57080-dbec-4539-8025-b1b39770721a\",\"attributes\":{\"ticker\":{\"type\":\"object\",\"name\":\"BasicTicker\",\"id\":\"e48bbd91-104a-447d-a728-dbb956cada29\",\"attributes\":{\"mantissas\":[1,2,5]}},\"formatter\":{\"type\":\"object\",\"name\":\"BasicTickFormatter\",\"id\":\"ef6c300c-4821-46bc-b22d-69e7c623d73e\"},\"axis_label\":\"y\",\"axis_label_standoff\":10,\"axis_label_text_color\":\"#FFFFFF\",\"axis_label_text_font\":\"Josefin Sans\",\"axis_label_text_font_size\":\"1.9em\",\"axis_label_text_font_style\":\"bold\",\"major_label_policy\":{\"type\":\"object\",\"name\":\"AllLabels\",\"id\":\"313ec534-1814-447e-a714-e39f27b01595\"},\"major_label_text_color\":\"#E0E0E0\",\"major_label_text_font\":\"Josefin Sans\",\"major_label_text_font_size\":\"1.15em\",\"axis_line_color\":\"#E0E0E0\",\"axis_line_alpha\":0.4,\"major_tick_line_color\":\"#E0E0E0\",\"major_tick_line_alpha\":0.4,\"minor_tick_line_color\":\"#E0E0E0\",\"minor_tick_line_alpha\":0.4}}],\"below\":[{\"type\":\"object\",\"name\":\"LinearAxis\",\"id\":\"d286d4ac-8cca-4626-a349-d8fbed04b7d2\",\"attributes\":{\"ticker\":{\"type\":\"object\",\"name\":\"BasicTicker\",\"id\":\"5f37f4f6-12e2-43a4-8eef-68bcef27336d\",\"attributes\":{\"mantissas\":[1,2,5]}},\"formatter\":{\"type\":\"object\",\"name\":\"BasicTickFormatter\",\"id\":\"a8da4706-9810-49ed-85d0-09578d93aa9d\"},\"axis_label\":\"x\",\"axis_label_standoff\":10,\"axis_label_text_color\":\"#FFFFFF\",\"axis_label_text_font\":\"Josefin Sans\",\"axis_label_text_font_size\":\"1.9em\",\"axis_label_text_font_style\":\"bold\",\"major_label_policy\":{\"type\":\"object\",\"name\":\"AllLabels\",\"id\":\"91600b41-82a3-44ef-9684-c47b8fb557cd\"},\"major_label_text_color\":\"#E0E0E0\",\"major_label_text_font\":\"Josefin Sans\",\"major_label_text_font_size\":\"1.15em\",\"axis_line_color\":\"#E0E0E0\",\"axis_line_alpha\":0.4,\"major_tick_line_color\":\"#E0E0E0\",\"major_tick_line_alpha\":0.4,\"minor_tick_line_color\":\"#E0E0E0\",\"minor_tick_line_alpha\":0.4}}],\"center\":[{\"type\":\"object\",\"name\":\"Grid\",\"id\":\"262ce347-bcb7-40a6-9ee8-865dc35081b9\",\"attributes\":{\"axis\":{\"id\":\"d286d4ac-8cca-4626-a349-d8fbed04b7d2\"},\"grid_line_color\":\"#E0E0E0\",\"grid_line_alpha\":0.15}},{\"type\":\"object\",\"name\":\"Grid\",\"id\":\"7385a969-8bed-4277-a801-9cac0d2ee712\",\"attributes\":{\"dimension\":1,\"axis\":{\"id\":\"3fa57080-dbec-4539-8025-b1b39770721a\"},\"grid_line_color\":\"#E0E0E0\",\"grid_line_alpha\":0.15}},{\"type\":\"object\",\"name\":\"Legend\",\"id\":\"04feb9da-00a3-4fea-9f84-2295f23c7ebd\",\"attributes\":{\"border_line_alpha\":0.25,\"background_fill_color\":\"#505050\",\"background_fill_alpha\":0.25,\"label_text_color\":\"#E0E0E0\",\"label_text_font\":\"Josefin Sans\",\"label_text_font_size\":\"1.15em\",\"label_standoff\":8,\"spacing\":8,\"items\":[{\"type\":\"object\",\"name\":\"LegendItem\",\"id\":\"05a7b4c4-6344-4592-bcee-249ef6b055ce\",\"attributes\":{\"label\":{\"type\":\"value\",\"value\":\"Observations\"},\"renderers\":[{\"id\":\"8bf61197-7dad-45f7-9fed-619a3005fa74\"}]}},{\"type\":\"object\",\"name\":\"LegendItem\",\"id\":\"e4c9f27c-e8b4-4edc-b545-98b49b3ad088\",\"attributes\":{\"label\":{\"type\":\"value\",\"value\":\"Learned model\"},\"renderers\":[{\"id\":\"2b6d1f45-def5-49b3-9042-3894070448f9\"}]}}]}}],\"background_fill_color\":\"#0f0f0f\",\"background_fill_alpha\":0.9,\"border_fill_color\":\"#111111\",\"border_fill_alpha\":0.8}},{\"type\":\"object\",\"name\":\"Spacer\",\"id\":\"b148f59b-1f69-4852-8c8d-497b267bcd43\",\"attributes\":{\"name\":\"HSpacer00420\",\"stylesheets\":[\"\\n:host(.pn-loading):before, .pn-loading:before {\\n  background-color: #c3c3c3;\\n  mask-size: auto calc(min(50%, 400px));\\n  -webkit-mask-size: auto calc(min(50%, 400px));\\n}\",{\"id\":\"c1840adc-a590-4a50-9c1a-aefb54e36817\"},{\"id\":\"b3beed82-133a-4edf-9814-1e81217180e7\"},{\"id\":\"8d0818f6-49ea-4061-a6fb-a6813e939744\"},{\"id\":\"2a77037a-3a1e-40e4-9943-8a4c7f188da6\"}],\"margin\":0,\"sizing_mode\":\"stretch_width\",\"align\":\"start\"}}]}},{\"type\":\"object\",\"name\":\"panel.models.comm_manager.CommManager\",\"id\":\"1775bb14-4f7d-4dde-987a-987b05b7d0d1\",\"attributes\":{\"plot_id\":\"dd7dc378-1d42-4cfe-be6e-a74ab8b3951b\",\"comm_id\":\"efba80605abd407885fb0a1dedb19a38\",\"client_comm_id\":\"a970d1e9de024c018eda3b634a190223\"}}],\"defs\":[{\"type\":\"model\",\"name\":\"ReactiveHTML1\"},{\"type\":\"model\",\"name\":\"FlexBox1\",\"properties\":[{\"name\":\"align_content\",\"kind\":\"Any\",\"default\":\"flex-start\"},{\"name\":\"align_items\",\"kind\":\"Any\",\"default\":\"flex-start\"},{\"name\":\"flex_direction\",\"kind\":\"Any\",\"default\":\"row\"},{\"name\":\"flex_wrap\",\"kind\":\"Any\",\"default\":\"wrap\"},{\"name\":\"gap\",\"kind\":\"Any\",\"default\":\"\"},{\"name\":\"justify_content\",\"kind\":\"Any\",\"default\":\"flex-start\"}]},{\"type\":\"model\",\"name\":\"FloatPanel1\",\"properties\":[{\"name\":\"config\",\"kind\":\"Any\",\"default\":{\"type\":\"map\"}},{\"name\":\"contained\",\"kind\":\"Any\",\"default\":true},{\"name\":\"position\",\"kind\":\"Any\",\"default\":\"right-top\"},{\"name\":\"offsetx\",\"kind\":\"Any\",\"default\":null},{\"name\":\"offsety\",\"kind\":\"Any\",\"default\":null},{\"name\":\"theme\",\"kind\":\"Any\",\"default\":\"primary\"},{\"name\":\"status\",\"kind\":\"Any\",\"default\":\"normalized\"}]},{\"type\":\"model\",\"name\":\"GridStack1\",\"properties\":[{\"name\":\"mode\",\"kind\":\"Any\",\"default\":\"warn\"},{\"name\":\"ncols\",\"kind\":\"Any\",\"default\":null},{\"name\":\"nrows\",\"kind\":\"Any\",\"default\":null},{\"name\":\"allow_resize\",\"kind\":\"Any\",\"default\":true},{\"name\":\"allow_drag\",\"kind\":\"Any\",\"default\":true},{\"name\":\"state\",\"kind\":\"Any\",\"default\":[]}]},{\"type\":\"model\",\"name\":\"drag1\",\"properties\":[{\"name\":\"slider_width\",\"kind\":\"Any\",\"default\":5},{\"name\":\"slider_color\",\"kind\":\"Any\",\"default\":\"black\"},{\"name\":\"value\",\"kind\":\"Any\",\"default\":50}]},{\"type\":\"model\",\"name\":\"click1\",\"properties\":[{\"name\":\"terminal_output\",\"kind\":\"Any\",\"default\":\"\"},{\"name\":\"debug_name\",\"kind\":\"Any\",\"default\":\"\"},{\"name\":\"clears\",\"kind\":\"Any\",\"default\":0}]},{\"type\":\"model\",\"name\":\"FastWrapper1\",\"properties\":[{\"name\":\"object\",\"kind\":\"Any\",\"default\":null},{\"name\":\"style\",\"kind\":\"Any\",\"default\":null}]},{\"type\":\"model\",\"name\":\"NotificationAreaBase1\",\"properties\":[{\"name\":\"js_events\",\"kind\":\"Any\",\"default\":{\"type\":\"map\"}},{\"name\":\"position\",\"kind\":\"Any\",\"default\":\"bottom-right\"},{\"name\":\"_clear\",\"kind\":\"Any\",\"default\":0}]},{\"type\":\"model\",\"name\":\"NotificationArea1\",\"properties\":[{\"name\":\"js_events\",\"kind\":\"Any\",\"default\":{\"type\":\"map\"}},{\"name\":\"notifications\",\"kind\":\"Any\",\"default\":[]},{\"name\":\"position\",\"kind\":\"Any\",\"default\":\"bottom-right\"},{\"name\":\"_clear\",\"kind\":\"Any\",\"default\":0},{\"name\":\"types\",\"kind\":\"Any\",\"default\":[{\"type\":\"map\",\"entries\":[[\"type\",\"warning\"],[\"background\",\"#ffc107\"],[\"icon\",{\"type\":\"map\",\"entries\":[[\"className\",\"fas fa-exclamation-triangle\"],[\"tagName\",\"i\"],[\"color\",\"white\"]]}]]},{\"type\":\"map\",\"entries\":[[\"type\",\"info\"],[\"background\",\"#007bff\"],[\"icon\",{\"type\":\"map\",\"entries\":[[\"className\",\"fas fa-info-circle\"],[\"tagName\",\"i\"],[\"color\",\"white\"]]}]]}]}]},{\"type\":\"model\",\"name\":\"Notification\",\"properties\":[{\"name\":\"background\",\"kind\":\"Any\",\"default\":null},{\"name\":\"duration\",\"kind\":\"Any\",\"default\":3000},{\"name\":\"icon\",\"kind\":\"Any\",\"default\":null},{\"name\":\"message\",\"kind\":\"Any\",\"default\":\"\"},{\"name\":\"notification_type\",\"kind\":\"Any\",\"default\":null},{\"name\":\"_destroyed\",\"kind\":\"Any\",\"default\":false}]},{\"type\":\"model\",\"name\":\"TemplateActions1\",\"properties\":[{\"name\":\"open_modal\",\"kind\":\"Any\",\"default\":0},{\"name\":\"close_modal\",\"kind\":\"Any\",\"default\":0}]},{\"type\":\"model\",\"name\":\"BootstrapTemplateActions1\",\"properties\":[{\"name\":\"open_modal\",\"kind\":\"Any\",\"default\":0},{\"name\":\"close_modal\",\"kind\":\"Any\",\"default\":0}]},{\"type\":\"model\",\"name\":\"TemplateEditor1\",\"properties\":[{\"name\":\"layout\",\"kind\":\"Any\",\"default\":[]}]},{\"type\":\"model\",\"name\":\"MaterialTemplateActions1\",\"properties\":[{\"name\":\"open_modal\",\"kind\":\"Any\",\"default\":0},{\"name\":\"close_modal\",\"kind\":\"Any\",\"default\":0}]},{\"type\":\"model\",\"name\":\"copy_to_clipboard1\",\"properties\":[{\"name\":\"fill\",\"kind\":\"Any\",\"default\":\"none\"},{\"name\":\"value\",\"kind\":\"Any\",\"default\":null}]}]}};\n",
       "  var render_items = [{\"docid\":\"9462c7ab-a9d2-4f97-ac44-b8df0d28ea83\",\"roots\":{\"dd7dc378-1d42-4cfe-be6e-a74ab8b3951b\":\"c03a7416-fce1-4675-8620-2f1e63561377\"},\"root_ids\":[\"dd7dc378-1d42-4cfe-be6e-a74ab8b3951b\"]}];\n",
       "  var docs = Object.values(docs_json)\n",
       "  if (!docs) {\n",
       "    return\n",
       "  }\n",
       "  const py_version = docs[0].version.replace('rc', '-rc.').replace('.dev', '-dev.')\n",
       "  function embed_document(root) {\n",
       "    var Bokeh = get_bokeh(root)\n",
       "    Bokeh.embed.embed_items_notebook(docs_json, render_items);\n",
       "    for (const render_item of render_items) {\n",
       "      for (const root_id of render_item.root_ids) {\n",
       "\tconst id_el = document.getElementById(root_id)\n",
       "\tif (id_el.children.length && (id_el.children[0].className === 'bk-root')) {\n",
       "\t  const root_el = id_el.children[0]\n",
       "\t  root_el.id = root_el.id + '-rendered'\n",
       "\t}\n",
       "      }\n",
       "    }\n",
       "  }\n",
       "  function get_bokeh(root) {\n",
       "    if (root.Bokeh === undefined) {\n",
       "      return null\n",
       "    } else if (root.Bokeh.version !== py_version) {\n",
       "      if (root.Bokeh.versions === undefined || !root.Bokeh.versions.has(py_version)) {\n",
       "\treturn null\n",
       "      }\n",
       "      return root.Bokeh.versions.get(py_version);\n",
       "    } else if (root.Bokeh.version === py_version) {\n",
       "      return root.Bokeh\n",
       "    }\n",
       "    return null\n",
       "  }\n",
       "  function is_loaded(root) {\n",
       "    var Bokeh = get_bokeh(root)\n",
       "    return (Bokeh != null && Bokeh.Panel !== undefined)\n",
       "  }\n",
       "  if (is_loaded(root)) {\n",
       "    embed_document(root);\n",
       "  } else {\n",
       "    var attempts = 0;\n",
       "    var timer = setInterval(function(root) {\n",
       "      if (is_loaded(root)) {\n",
       "        clearInterval(timer);\n",
       "        embed_document(root);\n",
       "      } else if (document.readyState == \"complete\") {\n",
       "        attempts++;\n",
       "        if (attempts > 200) {\n",
       "          clearInterval(timer);\n",
       "\t  var Bokeh = get_bokeh(root)\n",
       "\t  if (Bokeh == null || Bokeh.Panel == null) {\n",
       "            console.warn(\"Panel: ERROR: Unable to run Panel code because Bokeh or Panel library is missing\");\n",
       "\t  } else {\n",
       "\t    console.warn(\"Panel: WARNING: Attempting to render but not all required libraries could be resolved.\")\n",
       "\t    embed_document(root)\n",
       "\t  }\n",
       "        }\n",
       "      }\n",
       "    }, 25, root)\n",
       "  }\n",
       "})(window);</script>"
      ],
      "text/plain": [
       "Row\n",
       "    [0] HSpacer()\n",
       "    [1] Bokeh(figure)\n",
       "    [2] HSpacer()"
      ]
     },
     "execution_count": 50,
     "metadata": {
      "application/vnd.holoviews_exec.v0+json": {
       "id": "dd7dc378-1d42-4cfe-be6e-a74ab8b3951b"
      }
     },
     "output_type": "execute_result"
    }
   ],
   "source": [
    "p = scatter(x, y, title=\"Simple linear regression\")\n",
    "p.line(x, w_1 * x + w_0, line_width=6, line_alpha=0.6, color=\"red\", legend_label=r\"Learned model\")\n",
    "plot = (center_plot(p))\n",
    "plot"
   ]
  },
  {
   "cell_type": "markdown",
   "metadata": {},
   "source": [
    "### Observing our solution interactively\n",
    "\n",
    "In the following code, you can observe the behavior of the model by playing interactively with the properties of the original problem. \n",
    "\n",
    "<div class=\"alert alert-success\" markdown=\"1\" style=\"color:white; background-color: #192841; border-color: #779ecb\">\n",
    "\n",
    "> Note that each change in the properties of the original problem requires to run the gradient descent algorithm entirely each time.\n",
    "\n",
    "</div>"
   ]
  },
  {
   "cell_type": "code",
   "execution_count": 25,
   "metadata": {},
   "outputs": [
    {
     "data": {
      "application/vnd.jupyter.widget-view+json": {
       "model_id": "3d363dc3c8a044838fbf8a2fd532c33f",
       "version_major": 2,
       "version_minor": 0
      },
      "text/plain": [
       "BokehModel(combine_events=True, render_bundle={'docs_json': {'3120a8dd-76d0-47f3-8b94-d3297aacd688': {'version…"
      ]
     },
     "execution_count": 25,
     "metadata": {},
     "output_type": "execute_result"
    }
   ],
   "source": [
    "from cml.tasks import RegressionLinearSolver\n",
    "explorer = RegressionLinearSolver()\n",
    "def solve(x, y):\n",
    "    w_1, w_0 = gradient_descent(x, y, n_iter, lr)\n",
    "    x_predict = np.linspace(np.min(x), np.max(x), 200)\n",
    "    y_model = w_1 * x_predict + w_0\n",
    "    return np.array(x_predict), np.array(y_model) #np.array(np.zeros(y_model.shape))\n",
    "\n",
    "explorer.solve = solve\n",
    "explorer.render()"
   ]
  },
  {
   "cell_type": "markdown",
   "metadata": {},
   "source": [
    "<div class=\"alert alert-success\" markdown=\"1\" style=\"color:white; background-color: #192841; border-color: #779ecb\">\n",
    "\n",
    "> ### Going further\n",
    "> **Exercise 1 \\[Learning rate\\]**: Experiment with different learning rates (e.g., 0.001, 0.01, 0.1, 1) and observe how they affect the convergence of the gradient descent algorithm. Plot the convergence history (cost function value vs. iteration) for each learning rate.\n",
    "\n",
    "> **Exercise 2 \\[Initialization\\]**: Experiment with different initializations of the coefficients (zeros, random values, etc.) and observe their impact on the convergence of the gradient descent algorithm.\n",
    "\n",
    "> **Exercise 3 \\[Variants\\]**: Implement and compare different variants of gradient descent, such as stochastic gradient descent (SGD) and mini-batch gradient descent. Analyze their convergence properties and computational efficiency.\n",
    "\n",
    "> **Exercise 4 \\[Regularization\\]**: Implement Lasso and Ridge regression with gradient descent by incorporating the regularization terms into the cost function and gradient calculations. Compare their performance with the standard linear regression implementation and analyze their impact on the learned coefficients.\n",
    "\n",
    "\n",
    "</div>"
   ]
  },
  {
   "cell_type": "code",
   "execution_count": null,
   "metadata": {},
   "outputs": [],
   "source": [
    "######################\n",
    "# YOUR CODE GOES HERE\n",
    "######################"
   ]
  },
  {
   "cell_type": "markdown",
   "metadata": {
    "tags": []
   },
   "source": [
    "## Discovering automatic differentiation - `JAX`\n",
    "\n",
    "The previous implementation required us to perform manual differentiation of our loss function to understand how to update the parameters. However, large developments have been made in the field of **automatic differentiation**. \n",
    "\n",
    "The recent library [JAX](https://github.com/google/jax) extends NumPy with this automatic differentiation feature (*autograd*), while providing a functional approach to numerical computing, allowing for easy gradient computation and just-in-time (JIT) compilation. Its ability to handle complex and custom gradients makes JAX particularly well-suited for advanced research projects. Similar to NumPy, we strongly encourage you to learn JAX through the set of [tutorials](https://jax.readthedocs.io/en/latest/), but we will also provide here the explanation for all of the functions that we will use in this first exercise. After that, we will assume that knowledge of JAX should be found online. \n",
    "\n",
    "Note that `JAX` has been thought as an extension of `NumPy`, therefore an extremely large portion of its API simply mirrors the `NumPy` functions by adding automatic differentiation features to it.\n",
    "\n",
    "**Used functions**\n",
    "- `random.PRNGKey`: function to generate a key for the pseudorandom number generator. [Documentation](https://jax.readthedocs.io/en/latest/_autosummary/jax.random.PRNGKey.html)"
   ]
  },
  {
   "cell_type": "code",
   "execution_count": 26,
   "metadata": {},
   "outputs": [],
   "source": [
    "import jax.numpy as jnp\n",
    "from jax import grad, jit, random\n",
    "key = random.PRNGKey(42)"
   ]
  },
  {
   "cell_type": "markdown",
   "metadata": {},
   "source": [
    "### Dataset.\n",
    "\n",
    "We can simply keep our previous approach to generating the dataset but we will rely on `jnp.ndarray` instead of `np.ndarray`. We also provide the code for splitting the dataset between a `training` and `validation` dataset, as discussed in the course\n",
    "\n",
    "**Used functions**\n",
    "- `random.split`: function to split a PRNGKey into a list of subkeys [Documentation](https://jax.readthedocs.io/en/latest/_autosummary/jax.random.split.html)\n",
    "- `random.uniform`: function to generate an array of uniformly distributed random numbers [Documentation](https://jax.readthedocs.io/en/latest/_autosummary/jax.random.uniform.html)\n",
    "- `random.normal`: function to generate an array of normally distributed random numbers [Documentation](https://jax.readthedocs.io/en/latest/_autosummary/jax.random.normal.html)"
   ]
  },
  {
   "cell_type": "code",
   "execution_count": 27,
   "metadata": {},
   "outputs": [],
   "source": [
    "true_w0 = 2\n",
    "true_w1 = 3\n",
    "key_0, key_1, key = random.split(key, 3)\n",
    "x = random.uniform(key_0, (100,))\n",
    "y = true_w0 + true_w1 * x + (random.normal(key_1, (100,)) * 0.2)"
   ]
  },
  {
   "cell_type": "code",
   "execution_count": 28,
   "metadata": {},
   "outputs": [],
   "source": [
    "# Splitting our dataset\n",
    "train_size = int(0.8 * len(x))\n",
    "x_train, x_valid = x[:train_size], x[train_size:]\n",
    "y_train, y_valid = y[:train_size], y[train_size:]"
   ]
  },
  {
   "cell_type": "markdown",
   "metadata": {},
   "source": [
    "### Loss function\n",
    "\n",
    "Similarly Define the cost function and its gradient.\n",
    "\n",
    "**Used functions**\n",
    "- `jnp.mean`: function to compute the mean of an array [Documentation](https://jax.readthedocs.io/en/latest/_autosummary/jax.numpy.mean.html)"
   ]
  },
  {
   "cell_type": "code",
   "execution_count": 29,
   "metadata": {},
   "outputs": [],
   "source": [
    "def model_loss(x, y, w_1, w_0):\n",
    "    y_bar = x * w_1 + w_0\n",
    "    return jnp.sum((y - y_bar) ** 2)"
   ]
  },
  {
   "cell_type": "code",
   "execution_count": 30,
   "metadata": {},
   "outputs": [
    {
     "data": {
      "text/plain": [
       "Array([ 0.07664532,  3.2133913 ,  0.41728562,  0.17407167,  2.0413198 ,\n",
       "       -1.318686  ,  0.7363295 ,  3.594091  , -0.69072914,  0.67042017,\n",
       "        1.7122381 ,  1.3086796 ,  1.9366794 ,  0.64892817,  1.0304654 ,\n",
       "        0.44981256,  0.9112194 ,  0.41049498,  0.37822983,  1.7054946 ,\n",
       "        2.2790163 ,  0.1979998 ,  2.499345  ,  0.02668474,  0.5007688 ,\n",
       "        0.17375124,  0.925546  ,  2.5196667 ,  0.18028723,  0.30225256,\n",
       "        0.25311166,  1.3472219 , -0.13031378,  0.7468738 ,  0.4357478 ,\n",
       "       -1.5069984 ,  2.2028286 ,  1.5836565 ,  0.30808046,  0.79100364,\n",
       "       -0.76923555,  1.1914178 , -1.4918951 ,  1.4690527 ,  0.46171728,\n",
       "        0.85715044, -0.73214096,  1.393333  ,  1.6693428 , -0.41422576,\n",
       "        0.25774938, -1.5529622 , -0.20669016,  2.1523733 ,  0.96379924,\n",
       "        2.0191884 , -1.8885113 , -1.5548476 ,  0.64798117,  1.3082905 ,\n",
       "        1.1080405 ,  0.41580933, -0.2702406 ,  0.11823455,  0.7001748 ,\n",
       "        1.1937996 ,  0.40484875, -1.6919734 ,  0.9679034 ,  1.6170447 ,\n",
       "       -1.2771225 , -0.22169049,  1.1338183 , -0.41759747,  0.84285104,\n",
       "        1.3229761 ,  0.79795873,  0.1615876 , -0.19462095,  1.669553  ,\n",
       "       -0.21906836,  0.36596748, -0.14214696, -0.95502454,  0.87026966,\n",
       "       -0.9085372 ,  0.6755271 , -1.2791867 ,  1.002476  ,  1.9326367 ,\n",
       "        0.91674834,  2.4583137 ,  0.1360587 , -1.2257587 , -2.017017  ,\n",
       "        1.0532806 ,  0.24964982,  0.2954276 , -0.11037389,  0.5171553 ],      dtype=float32)"
      ]
     },
     "execution_count": 30,
     "metadata": {},
     "output_type": "execute_result"
    }
   ],
   "source": [
    "grad(model_loss)(x, y, w_1, w_0)"
   ]
  },
  {
   "cell_type": "code",
   "execution_count": 31,
   "metadata": {},
   "outputs": [],
   "source": [
    "def loss_function(x, y, w_1, w_0):\n",
    "    y_pred = x * w_1 + w_0\n",
    "    residuals = y_pred - y\n",
    "    return jnp.mean(residuals**2)"
   ]
  },
  {
   "cell_type": "markdown",
   "metadata": {},
   "source": [
    "\n",
    "**Used functions**\n",
    "- `jit`: function to compile a function for faster execution [Documentation](https://jax.readthedocs.io/en/latest/jit.html)\n",
    "- `grad`: function to compute the gradient of a function [Documentation](https://jax.readthedocs.io/en/latest/jax.html#jax.grad)"
   ]
  },
  {
   "cell_type": "code",
   "execution_count": 32,
   "metadata": {},
   "outputs": [],
   "source": [
    "grad_loss_function = jit(grad(loss_function, argnums=[2, 3]))"
   ]
  },
  {
   "cell_type": "markdown",
   "metadata": {},
   "source": [
    "### Implement the gradient descent algorithm.\n",
    "\n",
    "Note that nowhere in the code do we need to explicitly define the gradients of the different variables. Yet, the optimization will be performed adequately."
   ]
  },
  {
   "cell_type": "code",
   "execution_count": 33,
   "metadata": {},
   "outputs": [
    {
     "name": "stdout",
     "output_type": "stream",
     "text": [
      "Gradient Descent coefficients: [3.0639799] [1.9661584]\n"
     ]
    }
   ],
   "source": [
    "def gradient_descent(key, x, y, lr=0.05, n_iter=1000):\n",
    "    m = x.shape\n",
    "    k_0, k_1 = random.split(key, 2)\n",
    "    w_0 = random.normal(k_0, (1,))\n",
    "    w_1 = random.normal(k_1, (1,))\n",
    "    loss_history = []\n",
    "    for _ in range(n_iter):\n",
    "        gradients = grad_loss_function(x, y, w_1, w_0)\n",
    "        #print(gradients[0])\n",
    "        w_1 -= lr * gradients[0]\n",
    "        w_0 -= lr * gradients[1]\n",
    "        loss_history.append(loss_function(x, y, w_1, w_0))\n",
    "    return w_1, w_0, loss_history\n",
    "\n",
    "key_gd, key = random.split(key, 2)\n",
    "w_1, w_0, loss_history = gradient_descent(key_gd, x_train, y_train)\n",
    "print(\"Gradient Descent coefficients:\", w_1, w_0)"
   ]
  },
  {
   "cell_type": "markdown",
   "metadata": {},
   "source": [
    "### Evaluate our performances\n",
    "\n",
    "Thanks to our previous split of the dataset, we are now able to evaluate the performances of our model on *unseen data*, which is the overarching goal of building such machine learning models."
   ]
  },
  {
   "cell_type": "code",
   "execution_count": 34,
   "metadata": {},
   "outputs": [
    {
     "name": "stdout",
     "output_type": "stream",
     "text": [
      "MSE for Gradient Descent: 0.03851323\n"
     ]
    }
   ],
   "source": [
    "def mean_squared_error(y_true, y_pred):\n",
    "    return np.mean((y_true - y_pred)**2)\n",
    "\n",
    "y_valid_gd = w_1 * x_valid + w_0\n",
    "mse_gd = mean_squared_error(y_valid, y_valid_gd)\n",
    "print(\"MSE for Gradient Descent:\", mse_gd)"
   ]
  },
  {
   "cell_type": "markdown",
   "metadata": {},
   "source": [
    "### Visualize the results.\n",
    "\n",
    "As previously we can witness our results, and also evaluate our solution with our interactive solver."
   ]
  },
  {
   "cell_type": "code",
   "execution_count": 35,
   "metadata": {},
   "outputs": [
    {
     "data": {
      "application/vnd.jupyter.widget-view+json": {
       "model_id": "c644a5682e724fcd831885b5db38a135",
       "version_major": 2,
       "version_minor": 0
      },
      "text/plain": [
       "BokehModel(combine_events=True, render_bundle={'docs_json': {'97cc0b10-fdb7-45ad-9355-9c3ee5c1a84f': {'version…"
      ]
     },
     "execution_count": 35,
     "metadata": {},
     "output_type": "execute_result"
    }
   ],
   "source": [
    "p = scatter(np.array(x), np.array(y), title=\"Linear regression\")\n",
    "p.line(np.array(x), np.array(w_1 * x + w_0), line_width=6, line_alpha=0.6, color=\"red\", legend_label=r\"Learned model\")\n",
    "plot = (center_plot(p))\n",
    "plot"
   ]
  },
  {
   "cell_type": "code",
   "execution_count": 36,
   "metadata": {},
   "outputs": [
    {
     "data": {
      "application/vnd.jupyter.widget-view+json": {
       "model_id": "7318431202f0477591d00690cfc58844",
       "version_major": 2,
       "version_minor": 0
      },
      "text/plain": [
       "BokehModel(combine_events=True, render_bundle={'docs_json': {'9bb03be5-cd1d-4676-9651-f7e591c3a31c': {'version…"
      ]
     },
     "execution_count": 36,
     "metadata": {},
     "output_type": "execute_result"
    }
   ],
   "source": [
    "from cml.tasks import RegressionLinearSolver\n",
    "explorer = RegressionLinearSolver()\n",
    "global key\n",
    "key = random.PRNGKey(23)\n",
    "def solve(x, y):\n",
    "    global key\n",
    "    key_gd, key = random.split(key, 2)\n",
    "    w_1, w_0, loss_history = gradient_descent(key_gd, x, y)\n",
    "    x_predict = np.linspace(np.min(x), np.max(x), 200)\n",
    "    y_model = w_1 * x_predict + w_0\n",
    "    return np.array(x_predict), np.array(y_model) #np.array(jnp.zeros(y_model.shape))\n",
    "\n",
    "explorer.solve = solve\n",
    "explorer.render()"
   ]
  },
  {
   "cell_type": "markdown",
   "metadata": {},
   "source": [
    "<div class=\"alert alert-success\" markdown=\"1\" style=\"color:white; background-color: #192841; border-color: #779ecb\">\n",
    "\n",
    "> ### Going further\n",
    "\n",
    "> You are encouraged to experiment in a similar way as outlined for NumPy with different learning rates, maximum number of iterations, and regularization techniques, as well as compare the performance (both accuracy and speed) of the implemented algorithms with `scikit-learn` built-in linear regression functions.\n",
    "\n",
    "</div>"
   ]
  },
  {
   "cell_type": "code",
   "execution_count": null,
   "metadata": {},
   "outputs": [],
   "source": [
    "######################\n",
    "# YOUR CODE GOES HERE\n",
    "######################"
   ]
  },
  {
   "cell_type": "markdown",
   "metadata": {},
   "source": [
    "<a id=\"capacity\"></a>\n",
    "## Understanding model capacity and selection\n",
    "\n",
    "\n",
    "In real-life problem, we are aiming to find the parameters of a model, but we do not really know what is the _real_ function underlying this process. So what we can decide to select _any_ function of _any_ **capacity** (complexity of the function). One of the problem with that, is that if we have a too simple function, it will _underfit_ (it is not complex enough for our observations). On the opposite end, if we have a function which is too complex, it might be able to _fit through all training points exactly_ ... even though there is noise in our observations ! This is examplified in the following\n",
    "\n",
    "<img src=\"images/01_soa_function_families.png\" align=\"center\"/>\n",
    "\n",
    "We can observe this idea and play with it directly by trying to find a function approximating our previous observations with a polynomial function chosen to have a degree inside \\([1,2,8]\\).\n"
   ]
  },
  {
   "cell_type": "markdown",
   "metadata": {},
   "source": [
    "\n",
    "Depending on the _capacity_ of the model, what we can observe is that\n",
    "\n",
    "- `capacity too low   -> underfitting   : prediction variance >  noise variance`\n",
    "- `adequate capacity  -> good fit       : prediction variance == noise variance`\n",
    "- `capacity too high  -> overfitting    : prediction variance <  noise variance`\n"
   ]
  },
  {
   "cell_type": "markdown",
   "metadata": {},
   "source": [
    "A similar example can be given for a classification problem in two dimensions as follows\n",
    "\n",
    "<img src=\"images/01_underfit.png\" align=\"center\"/>\n"
   ]
  },
  {
   "cell_type": "markdown",
   "metadata": {},
   "source": [
    "# Exercises\n",
    "\n",
    "In the following, we define the exercises that you should fill for this session. These go further than what we have seen together in the course, but they are based on the exact same principles, simply with slightly more complex definitions. We provide an overall guideline for successfully implementing each of the exercise."
   ]
  },
  {
   "cell_type": "markdown",
   "metadata": {},
   "source": [
    "## Exercise 1 - Linear classification"
   ]
  },
  {
   "cell_type": "markdown",
   "metadata": {},
   "source": [
    "<div class=\"alert alert-success\" markdown=\"1\" style=\"color:white; background-color: #013220; border-color: #03C03C\">\n",
    "\n",
    "> In this exercise, we will implement linear classification using NumPy and JAX. The goal of this exercise is to gain a better understanding of how linear classification works and how to implement it ourselves using our two first libraries of choice, namely NumPy and JAX. To complete this exercise, you will need to have a basic understanding of NumPy and JAX. You can use the resources provided in the previous exercises to learn more about these libraries.\n",
    "\n",
    "We help you out by first defining a simple linear classification problem to solve\n",
    "\n",
    "</div>"
   ]
  },
  {
   "cell_type": "code",
   "execution_count": 37,
   "metadata": {},
   "outputs": [],
   "source": [
    "import numpy as np\n",
    "from sklearn.datasets import make_blobs\n",
    "# Properties of the problem\n",
    "n_observations = 200\n",
    "noise = 0.2\n",
    "c1_center = [-2, -1]\n",
    "c2_center = [2, 1]\n",
    "# Create points\n",
    "x_coords, y_class = make_blobs(n_samples=n_observations, centers=[c1_center, c2_center], n_features=2, cluster_std=0.55)\n",
    "x_data = x_coords + (noise * np.random.randn(n_observations, 2))\n",
    "#x_data = x_coords\n",
    "y_classes = y_class\n",
    "y_classes[y_classes == 0] = -1"
   ]
  },
  {
   "cell_type": "markdown",
   "metadata": {},
   "source": [
    "<div class=\"alert alert-success\" markdown=\"1\" style=\"color:white; background-color: #013220; border-color: #03C03C\">\n",
    "\n",
    "> ### Question 1.1 - Implement linear classification with NumPy\n",
    "\n",
    "> 1. Check the training data with two classes that are linearly separable.\n",
    "> 2. Initialize weights and bias.\n",
    "> 3. Implement the forward pass of the linear classifier.\n",
    "> 4. Implement the hinge loss for classification.\n",
    "> 5. Derive the gradients (backward pass) of the linear classifier.\n",
    "> 6. Implement gradient descent to optimize the weights and bias.\n",
    "\n",
    "</div>"
   ]
  },
  {
   "cell_type": "code",
   "execution_count": null,
   "metadata": {},
   "outputs": [],
   "source": [
    "######################\n",
    "# YOUR CODE GOES HERE\n",
    "######################"
   ]
  },
  {
   "cell_type": "markdown",
   "metadata": {},
   "source": [
    "<div class=\"alert alert-success\" markdown=\"1\" style=\"color:white; background-color: #192841; border-color: #779ecb\">\n",
    "\n",
    "> ### Going further (optional)\n",
    "> Try to replace the Hinge loss by the cross-entropy loss in your implementation\n",
    "\n",
    "</div>"
   ]
  },
  {
   "cell_type": "code",
   "execution_count": null,
   "metadata": {},
   "outputs": [],
   "source": [
    "######################\n",
    "# YOUR CODE GOES HERE\n",
    "######################"
   ]
  },
  {
   "cell_type": "markdown",
   "metadata": {},
   "source": [
    "<div class=\"alert alert-success\" markdown=\"1\" style=\"color:white; background-color: #013220; border-color: #03C03C\">\n",
    "\n",
    "> ### Question 1.2 - Implement linear classification with JAX\n",
    "\n",
    "> 1. Initialize weights and bias.\n",
    "> 2. Define the loss function using the jax.nn.softmax_cross_entropy_with_logits function.\n",
    "> 3. Implement gradient descent to optimize the weights and bias.\n",
    "\n",
    "</div>"
   ]
  },
  {
   "cell_type": "code",
   "execution_count": null,
   "metadata": {},
   "outputs": [],
   "source": [
    "######################\n",
    "# YOUR CODE GOES HERE\n",
    "######################"
   ]
  },
  {
   "cell_type": "markdown",
   "metadata": {},
   "source": [
    "<div class=\"alert alert-success\" markdown=\"1\" style=\"color:white; background-color: #013220; border-color: #03C03C\">\n",
    "\n",
    "> ### Question 1.3 - Compare the results of the NumPy and JAX implementations.\n",
    "> 1. Plot the decision boundary for each implementation.\n",
    "> 2. Compare the training time and accuracy of each implementation.\n",
    "\n",
    "</div>"
   ]
  },
  {
   "cell_type": "code",
   "execution_count": null,
   "metadata": {},
   "outputs": [],
   "source": [
    "######################\n",
    "# YOUR CODE GOES HERE\n",
    "######################"
   ]
  },
  {
   "cell_type": "markdown",
   "metadata": {},
   "source": [
    "<div class=\"alert alert-success\" markdown=\"1\" style=\"color:white; background-color: #192841; border-color: #779ecb\">\n",
    "\n",
    "> ### Going further (optional)\n",
    "> Implement a more complex dataset and compare the results of the NumPy and JAX implementations.\n",
    "\n",
    "</div>"
   ]
  },
  {
   "cell_type": "code",
   "execution_count": null,
   "metadata": {},
   "outputs": [],
   "source": [
    "######################\n",
    "# YOUR CODE GOES HERE\n",
    "######################"
   ]
  },
  {
   "cell_type": "markdown",
   "metadata": {},
   "source": [
    "## Exercise 2 - Polynomial regression"
   ]
  },
  {
   "cell_type": "markdown",
   "metadata": {},
   "source": [
    "<div class=\"alert alert-success\" markdown=\"1\" style=\"color:white; background-color: #013220; border-color: #03C03C\">\n",
    "\n",
    "> In this exercise, you will implement polynomial regression using NumPy and JAX. This should be a quite straightforward extension of what we have seen until now. We deliberately removed details of the implementation (list of points to adress) so that you can start defining your first entire machine learning setup by yourself.\n",
    "\n",
    "</div>"
   ]
  },
  {
   "cell_type": "code",
   "execution_count": null,
   "metadata": {},
   "outputs": [],
   "source": [
    "######################\n",
    "# YOUR CODE GOES HERE\n",
    "######################"
   ]
  },
  {
   "cell_type": "markdown",
   "metadata": {},
   "source": [
    "<div class=\"alert alert-success\" markdown=\"1\" style=\"color:white; background-color: #013220; border-color: #03C03C\">\n",
    "\n",
    "> ### Question 2.1 - Implement polynomial regression using NumPy with gradient descent.\n",
    "\n",
    "</div>"
   ]
  },
  {
   "cell_type": "code",
   "execution_count": null,
   "metadata": {},
   "outputs": [],
   "source": [
    "######################\n",
    "# YOUR CODE GOES HERE\n",
    "######################"
   ]
  },
  {
   "cell_type": "markdown",
   "metadata": {},
   "source": [
    "<div class=\"alert alert-success\" markdown=\"1\" style=\"color:white; background-color: #013220; border-color: #03C03C\">\n",
    "\n",
    "> ### Question 2.2. Implement polynomial regression using JAX with gradient descent.\n",
    "\n",
    "</div>"
   ]
  },
  {
   "cell_type": "code",
   "execution_count": null,
   "metadata": {},
   "outputs": [],
   "source": [
    "######################\n",
    "# YOUR CODE GOES HERE\n",
    "######################"
   ]
  },
  {
   "cell_type": "markdown",
   "metadata": {},
   "source": [
    "<div class=\"alert alert-success\" markdown=\"1\" style=\"color:white; background-color: #013220; border-color: #03C03C\">\n",
    "\n",
    "> ### Question 2.3 - Compare the results of both implementations and the speed of the optimization algorithm.\n",
    "\n",
    "</div>"
   ]
  },
  {
   "cell_type": "code",
   "execution_count": null,
   "metadata": {},
   "outputs": [],
   "source": [
    "######################\n",
    "# YOUR CODE GOES HERE\n",
    "######################"
   ]
  },
  {
   "cell_type": "markdown",
   "metadata": {},
   "source": [
    "<a id=\"audio\"></a>\n",
    "# Audio applications\n",
    "\n",
    "In order to test our algorithms on audio and music data, we will work with several datasets. We will both be using well-known state-of-art datasets (through the TF dataset system). But first, we will rely on a simple dataset (`Musclefish`) that should be downloaded on your local computer first from this [link](https://nubo.ircam.fr/index.php/s/ByK4QL7nE4Mq5MA)\n",
    "\n",
    "**The following set of instructions will perform that automatically for you :)**"
   ]
  },
  {
   "cell_type": "code",
   "execution_count": null,
   "metadata": {},
   "outputs": [],
   "source": [
    "!curl https://nubo.ircam.fr/index.php/s/ByK4QL7nE4Mq5MA/download/musclefish.zip --output musclefish.zip\n",
    "!unzip musclefish.zip\n",
    "!mkdir data\n",
    "!mv musclefish data/"
   ]
  },
  {
   "cell_type": "markdown",
   "metadata": {},
   "source": [
    "## Dataset details\n",
    "\n",
    "  |**Type**|*Origin*|\n",
    "  |-------:|:---------|\n",
    "  |**Classification**|[*MuscleFish*](http://knight.cis.temple.edu/~vasilis/Courses/CIS750/Papers/muscle_fish.pdf) dataset|\n",
    "  |**Music-speech**|[*MIREX Recognition*](http://www.music-ir.org/mirex/wiki/2015:Music/Speech_Classification_and_Detection) set|\n",
    "  |**Source separation**|[*SMC Mirum*](http://smc.inesctec.pt/research/data-2/) dataset|\n",
    "  |**Speech recognition**|[*CMU Arctic*](http://festvox.org/cmu_arctic/) dataset|\n",
    "\n",
    "**Unzip the file and place the `musclefish` folder inside a `data` folder in the root of this notebook**\n",
    "For the first parts of the tutorial, we will mostly rely solely on the classification dataset. In order to facilitate the interactions, we provide a dataset class called `AudioSupervisedDataset` that will allow to import all audio datasets along the tutorials. This class also contains a set of holders and will allow us to perform batch-wise gradient descent.\n",
    "\n",
    "```Python\n",
    "class AudioSupervisedDataset():\n",
    "    \"\"\"\n",
    "    Helper class to import datasets\n",
    "    % class_path  : Path to the dataset (string)\n",
    "    % type       : Type of dataset (string: 'classify', 'plain', 'metadata')\n",
    "    \"\"\" \n",
    "    audio_files\n",
    "    labels\n",
    "    labels_names\n",
    "    num_examples \n",
    "    num_classes \n",
    "```\n",
    "\n",
    "We also provide a simplified function `import_dataset` that is demonstrated below.\n",
    "\n",
    "***\n",
    "<div class=\"alert alert-success\" markdown=\"1\" style=\"color:white; background-color: #192841; border-color: #779ecb\">\n",
    "\n",
    "**_Exercise_**  \n",
    "\n",
    "  1. Launch the import procedure and check the corresponding structure\n",
    "  2. Code a count function that prints the name and number of examples for each classes \n",
    "\n",
    "</div>\n",
    "\n",
    "***"
   ]
  },
  {
   "cell_type": "code",
   "execution_count": 1,
   "metadata": {},
   "outputs": [
    {
     "name": "stdout",
     "output_type": "stream",
     "text": [
      "Recursive search in /tmp/data//musclefish\n",
      "Metal device set to: Apple M1 Pro\n",
      "(16, 44100)\n",
      "(16,)\n"
     ]
    }
   ],
   "source": [
    "from cml.data import import_dataset, AudioSupervisedDataset\n",
    "data_path = \"data/\"\n",
    "batch_size = 16\n",
    "# Instantiate the dataset class\n",
    "train_dataset = import_dataset(data_path, \"musclefish\", 'train', batch_size=batch_size)\n",
    "# Generate a batch of data from the train dataset\n",
    "batch_x, batch_y = next(train_dataset)\n",
    "# Print the shape of the input and output batch tensors\n",
    "print(batch_x.shape)  # (16, 44100)\n",
    "print(batch_y.shape)  # (16,)"
   ]
  },
  {
   "cell_type": "code",
   "execution_count": 2,
   "metadata": {},
   "outputs": [
    {
     "name": "stdout",
     "output_type": "stream",
     "text": [
      "52\n"
     ]
    }
   ],
   "source": [
    "#%% Q-0.1.2 - Count function to print the number of examples in each class along with class label\n",
    "\n",
    "n_batch = 0\n",
    "train_dataset._reset_generator()\n",
    "for batch_x, batch_y in iter(train_dataset):\n",
    "    n_batch += 1\n",
    "    ######################\n",
    "    # YOUR CODE GOES HERE\n",
    "    ######################\n",
    "\n",
    "print(n_batch)"
   ]
  },
  {
   "cell_type": "markdown",
   "metadata": {},
   "source": [
    "### Preprocessing\n",
    "\n",
    "We will rely on a set of spectral transforms that allow to obtain a more descriptive view over the audio information. As most of these are out of the scope of the machine learning course, we redirect you to a [signal processing course](https://ccrma.stanford.edu/~jos/sasp/) proposed by [Julius O. Smith](https://ccrma.stanford.edu/~jos/).  \n",
    "\n",
    "The following functions to compute various types of transforms are given as part of the basic audio dataset class, in the `cml.data.audio` package\n",
    "\n",
    "  |**Name**|*Transform*|\n",
    "  |-------:|:----------|\n",
    "  |`stft`       |[Short-term Fourier transform](https://en.wikipedia.org/wiki/Short-time_Fourier_transform)|\n",
    "  |`mel`  |[Mel scale](https://en.wikipedia.org/wiki/Mel_scale) transform|\n",
    "  |`chroma` |[Chromas vector](https://en.wikipedia.org/wiki/Harmonic_pitch_class_profiles)|\n",
    "  |`cqt`        |[Constant-Q](https://en.wikipedia.org/wiki/Constant_Q_transform) transform|\n",
    "\n",
    "In order to perform the various computations, we provide the following function, in the `AudioSupervisedDataset` which performs the different transforms on a complete dataset.  \n",
    "\n",
    "``` Python\n",
    "dataset.transform(index, name)\n",
    "    \"\"\" index   : Specific index in our dataset \"\"\"\n",
    "    \"\"\" name    : Name of the transform to apply \"\"\"\n",
    "\n",
    "# The name can be selected in \n",
    "\"stft\"      # Power spectrum (STFT)\n",
    "\"mel\"       # Spectrum in Mel scale\n",
    "\"chroma\"    # Chroma vectors\n",
    "\"cqt\"       # Constant-Q transform\n",
    "```\n"
   ]
  },
  {
   "cell_type": "markdown",
   "metadata": {},
   "source": [
    "***\n",
    "<div class=\"alert alert-success\" markdown=\"1\" style=\"color:white; background-color: #192841; border-color: #779ecb\">\n",
    "\n",
    "**Exercise**  \n",
    "\n",
    "  1. Launch the transform computation procedure and check the corresponding structure\n",
    "  2. For each class, select a random element and plot its various transforms on a single plot. You should obtain plots similar to those shown afterwards.\n",
    "  3. For each transform, try to spot major pros and cons of their representation.\n",
    "  \n",
    "</div>\n",
    "\n",
    "***"
   ]
  },
  {
   "cell_type": "code",
   "execution_count": 3,
   "metadata": {},
   "outputs": [],
   "source": [
    "# 0.2 - Pre-process the audio to obtain spectral transforms \n",
    "power_spec = train_dataset.transform(0, \"stft\")"
   ]
  },
  {
   "cell_type": "code",
   "execution_count": 4,
   "metadata": {},
   "outputs": [],
   "source": [
    "#%% Q-0.2.2 - Plot the various transforms \n",
    "\n",
    "######################\n",
    "# YOUR CODE GOES HERE\n",
    "######################\n"
   ]
  },
  {
   "cell_type": "markdown",
   "metadata": {},
   "source": [
    "### Features\n",
    "\n",
    "<div markdown = \"1\">\n",
    "\n",
    "As you might have noted from the previous exercice, most spectral transforms have a very high dimensionality, and might not be suited to exhibit the relevant structure of different classes. To that end, we provide a set of functions for computing several spectral features in the `cml.data` package, we redirect interested readers to this [exhaustive article](http://recherche.ircam.fr/anasyn/peeters/ARTICLES/Peeters_2003_cuidadoaudiofeatures.pdf) on spectral features computation.\n",
    "\n",
    "  |**File**|*Transform*|\n",
    "  |-------:|:----------|\n",
    "  |`spectral_centroid`|Spectral centroid|\n",
    "  |`spectral_bandwidth`|Spectral bandwidth|\n",
    "  |`spectral_contrast`|Spectral contrast|\n",
    "  |`spectral_flatness`|Spectral flatness|\n",
    "  |`spectral_rolloff`|Spectral rolloff|\n",
    "\n",
    "Once again, we provide a function to perform the computation of different features on a complete set. Note that for each feature, we obtain the temporal evolution in a vector. Therefore, for further learning tasks, if you wish to obtain simplified spaces, you might need to compute the mean and standard deviation of each feature.\n",
    "\n",
    "``` Python\n",
    "dataset.feature(index, name)\n",
    "    \"\"\" index   : Specific index in our dataset \"\"\"\n",
    "    \"\"\" name    : Name of the feature to obtain \"\"\"\n",
    "\n",
    "# Name can be chosen inside the following\n",
    "\"loudness\"    # Loudness\n",
    "\"centroid\"    # Spectral centroid\n",
    "\"bandwidth\"   # Spectral bandwidth\n",
    "\"contrast\"    # Spectral contrast\n",
    "\"flatness\"    # Spectral flatness\n",
    "\"rolloff\"     # Spectral rolloff\n",
    "\n",
    "```"
   ]
  },
  {
   "cell_type": "markdown",
   "metadata": {},
   "source": [
    "***\n",
    "<div class=\"alert alert-success\" markdown=\"1\" style=\"color:white; background-color: #192841; border-color: #779ecb\">\n",
    "\n",
    "**Exercise**\n",
    "\n",
    "  1. Launch the feature computation procedure and check the corresponding structure\n",
    "  2. This time for each class, superimpose the plots of various features on a single plot, along with a boxplot of mean and standard deviations. You should obtain plots similar to those shown afterwards.\n",
    "  3. What conclusions can you make on the discriminative power of each feature ?\n",
    "  4. Perform scatter plots of the mean features for all the dataset, while coloring different classes.\n",
    "  5. What conclusions can you make on the discriminative power of mean features ?\n",
    "\n",
    "</div>\n",
    "\n",
    "***"
   ]
  },
  {
   "cell_type": "code",
   "execution_count": 5,
   "metadata": {},
   "outputs": [],
   "source": [
    "# 0.3 - Compute temporal spectral features\n",
    "power_spec = train_dataset.feature(0, \"centroid\")"
   ]
  },
  {
   "cell_type": "code",
   "execution_count": 14,
   "metadata": {},
   "outputs": [],
   "source": [
    "#%% Q-0.3.2 - Plot the various features \n",
    "\n",
    "# Use these styles for boxplot\n",
    "boxprops=dict(linewidth=3, color='white')\n",
    "whiskerprops=dict(linewidth=3, color='white')\n",
    "medianprops=dict(linewidth=2.5, color='firebrick')\n",
    "flierprops = dict(markeredgecolor='white', markerfacecolor='firebrick')\n",
    "\n",
    "######################\n",
    "# YOUR CODE GOES HERE\n",
    "######################\n"
   ]
  },
  {
   "cell_type": "code",
   "execution_count": null,
   "metadata": {},
   "outputs": [],
   "source": [
    "#%% Q-0.3.4 - Observe the distribution of classes for different features\n",
    "\n",
    "# This allows to use 3D rendering in matplotlib\n",
    "from mpl_toolkits.mplot3d import Axes3D\n",
    "plt.figure(figsize=(12,8))\n",
    "# Create a vector of random colors for each class\n",
    "colorVect = np.zeros((3, len(data_struct[\"class_names\"])));\n",
    "for c in range(len(data_struct[\"class_names\"])):\n",
    "    colorVect[:,c] = np.random.rand(3);\n",
    "\n",
    "######################\n",
    "# YOUR CODE GOES HERE\n",
    "######################\n"
   ]
  },
  {
   "cell_type": "markdown",
   "metadata": {},
   "source": [
    "That's it for this tutorial, now remember that we can use any form of description (features) as a basis for learning algorithms. We will see in the next tutorial what we an do with these features."
   ]
  }
 ],
 "metadata": {
  "kernelspec": {
   "display_name": "Python 3 (ipykernel)",
   "language": "python",
   "name": "python3"
  },
  "language_info": {
   "codemirror_mode": {
    "name": "ipython",
    "version": 3
   },
   "file_extension": ".py",
   "mimetype": "text/x-python",
   "name": "python",
   "nbconvert_exporter": "python",
   "pygments_lexer": "ipython3",
   "version": "3.11.9"
  },
  "latex_envs": {
   "LaTeX_envs_menu_present": true,
   "autoclose": false,
   "autocomplete": true,
   "bibliofile": "biblio.bib",
   "cite_by": "apalike",
   "current_citInitial": 1,
   "eqLabelWithNumbers": true,
   "eqNumInitial": 1,
   "hotkeys": {
    "equation": "Ctrl-E",
    "itemize": "Ctrl-I"
   },
   "labels_anchors": false,
   "latex_user_defs": false,
   "report_style_numbering": false,
   "user_envs_cfg": false
  }
 },
 "nbformat": 4,
 "nbformat_minor": 4
}
